{
 "cells": [
  {
   "cell_type": "markdown",
   "metadata": {},
   "source": [
    "# Creating a Sentiment Analysis Web App\n",
    "## Using PyTorch and SageMaker\n",
    "\n",
    "_Deep Learning Nanodegree Program | Deployment_\n",
    "\n",
    "---\n",
    "\n",
    "Now that we have a basic understanding of how SageMaker works we will try to use it to construct a complete project from end to end. Our goal will be to have a simple web page which a user can use to enter a movie review. The web page will then send the review off to our deployed model which will predict the sentiment of the entered review.\n",
    "\n",
    "## Instructions\n",
    "\n",
    "Some template code has already been provided for you, and you will need to implement additional functionality to successfully complete this notebook. You will not need to modify the included code beyond what is requested. Sections that begin with '**TODO**' in the header indicate that you need to complete or implement some portion within them. Instructions will be provided for each section and the specifics of the implementation are marked in the code block with a `# TODO: ...` comment. Please be sure to read the instructions carefully!\n",
    "\n",
    "In addition to implementing code, there will be questions for you to answer which relate to the task and your implementation. Each section where you will answer a question is preceded by a '**Question:**' header. Carefully read each question and provide your answer below the '**Answer:**' header by editing the Markdown cell.\n",
    "\n",
    "> **Note**: Code and Markdown cells can be executed using the **Shift+Enter** keyboard shortcut. In addition, a cell can be edited by typically clicking it (double-click for Markdown cells) or by pressing **Enter** while it is highlighted.\n",
    "\n",
    "## General Outline\n",
    "\n",
    "Recall the general outline for SageMaker projects using a notebook instance.\n",
    "\n",
    "1. Download or otherwise retrieve the data.\n",
    "2. Process / Prepare the data.\n",
    "3. Upload the processed data to S3.\n",
    "4. Train a chosen model.\n",
    "5. Test the trained model (typically using a batch transform job).\n",
    "6. Deploy the trained model.\n",
    "7. Use the deployed model.\n",
    "\n",
    "For this project, you will be following the steps in the general outline with some modifications. \n",
    "\n",
    "First, you will not be testing the model in its own step. You will still be testing the model, however, you will do it by deploying your model and then using the deployed model by sending the test data to it. One of the reasons for doing this is so that you can make sure that your deployed model is working correctly before moving forward.\n",
    "\n",
    "In addition, you will deploy and use your trained model a second time. In the second iteration you will customize the way that your trained model is deployed by including some of your own code. In addition, your newly deployed model will be used in the sentiment analysis web app."
   ]
  },
  {
   "cell_type": "code",
   "execution_count": 1,
   "metadata": {},
   "outputs": [
    {
     "name": "stdout",
     "output_type": "stream",
     "text": [
      "Collecting sagemaker==1.72.0\n",
      "  Downloading sagemaker-1.72.0.tar.gz (297 kB)\n",
      "\u001b[K     |████████████████████████████████| 297 kB 4.8 MB/s eta 0:00:01\n",
      "\u001b[?25hRequirement already satisfied: boto3>=1.14.12 in /home/ec2-user/anaconda3/envs/pytorch_p36/lib/python3.6/site-packages (from sagemaker==1.72.0) (1.17.100)\n",
      "Requirement already satisfied: numpy>=1.9.0 in /home/ec2-user/anaconda3/envs/pytorch_p36/lib/python3.6/site-packages (from sagemaker==1.72.0) (1.19.5)\n",
      "Requirement already satisfied: protobuf>=3.1 in /home/ec2-user/anaconda3/envs/pytorch_p36/lib/python3.6/site-packages (from sagemaker==1.72.0) (3.15.2)\n",
      "Requirement already satisfied: scipy>=0.19.0 in /home/ec2-user/anaconda3/envs/pytorch_p36/lib/python3.6/site-packages (from sagemaker==1.72.0) (1.5.3)\n",
      "Requirement already satisfied: protobuf3-to-dict>=0.1.5 in /home/ec2-user/anaconda3/envs/pytorch_p36/lib/python3.6/site-packages (from sagemaker==1.72.0) (0.1.5)\n",
      "Collecting smdebug-rulesconfig==0.1.4\n",
      "  Downloading smdebug_rulesconfig-0.1.4-py2.py3-none-any.whl (10 kB)\n",
      "Requirement already satisfied: importlib-metadata>=1.4.0 in /home/ec2-user/anaconda3/envs/pytorch_p36/lib/python3.6/site-packages (from sagemaker==1.72.0) (3.7.0)\n",
      "Requirement already satisfied: packaging>=20.0 in /home/ec2-user/anaconda3/envs/pytorch_p36/lib/python3.6/site-packages (from sagemaker==1.72.0) (20.9)\n",
      "Requirement already satisfied: s3transfer<0.5.0,>=0.4.0 in /home/ec2-user/anaconda3/envs/pytorch_p36/lib/python3.6/site-packages (from boto3>=1.14.12->sagemaker==1.72.0) (0.4.2)\n",
      "Requirement already satisfied: jmespath<1.0.0,>=0.7.1 in /home/ec2-user/anaconda3/envs/pytorch_p36/lib/python3.6/site-packages (from boto3>=1.14.12->sagemaker==1.72.0) (0.10.0)\n",
      "Requirement already satisfied: botocore<1.21.0,>=1.20.100 in /home/ec2-user/anaconda3/envs/pytorch_p36/lib/python3.6/site-packages (from boto3>=1.14.12->sagemaker==1.72.0) (1.20.100)\n",
      "Requirement already satisfied: python-dateutil<3.0.0,>=2.1 in /home/ec2-user/anaconda3/envs/pytorch_p36/lib/python3.6/site-packages (from botocore<1.21.0,>=1.20.100->boto3>=1.14.12->sagemaker==1.72.0) (2.8.1)\n",
      "Requirement already satisfied: urllib3<1.27,>=1.25.4 in /home/ec2-user/anaconda3/envs/pytorch_p36/lib/python3.6/site-packages (from botocore<1.21.0,>=1.20.100->boto3>=1.14.12->sagemaker==1.72.0) (1.26.5)\n",
      "Requirement already satisfied: typing-extensions>=3.6.4 in /home/ec2-user/anaconda3/envs/pytorch_p36/lib/python3.6/site-packages (from importlib-metadata>=1.4.0->sagemaker==1.72.0) (3.7.4.3)\n",
      "Requirement already satisfied: zipp>=0.5 in /home/ec2-user/anaconda3/envs/pytorch_p36/lib/python3.6/site-packages (from importlib-metadata>=1.4.0->sagemaker==1.72.0) (3.4.0)\n",
      "Requirement already satisfied: pyparsing>=2.0.2 in /home/ec2-user/anaconda3/envs/pytorch_p36/lib/python3.6/site-packages (from packaging>=20.0->sagemaker==1.72.0) (2.4.7)\n",
      "Requirement already satisfied: six>=1.9 in /home/ec2-user/anaconda3/envs/pytorch_p36/lib/python3.6/site-packages (from protobuf>=3.1->sagemaker==1.72.0) (1.15.0)\n",
      "Building wheels for collected packages: sagemaker\n",
      "  Building wheel for sagemaker (setup.py) ... \u001b[?25ldone\n",
      "\u001b[?25h  Created wheel for sagemaker: filename=sagemaker-1.72.0-py2.py3-none-any.whl size=386358 sha256=5f7cfc825999d889a3a1dc535c78c5b0d472e32414687be065c46261e0bdd936\n",
      "  Stored in directory: /home/ec2-user/.cache/pip/wheels/c3/58/70/85faf4437568bfaa4c419937569ba1fe54d44c5db42406bbd7\n",
      "Successfully built sagemaker\n",
      "Installing collected packages: smdebug-rulesconfig, sagemaker\n",
      "  Attempting uninstall: smdebug-rulesconfig\n",
      "    Found existing installation: smdebug-rulesconfig 1.0.1\n",
      "    Uninstalling smdebug-rulesconfig-1.0.1:\n",
      "      Successfully uninstalled smdebug-rulesconfig-1.0.1\n",
      "  Attempting uninstall: sagemaker\n",
      "    Found existing installation: sagemaker 2.45.0\n",
      "    Uninstalling sagemaker-2.45.0:\n",
      "      Successfully uninstalled sagemaker-2.45.0\n",
      "Successfully installed sagemaker-1.72.0 smdebug-rulesconfig-0.1.4\n",
      "\u001b[33mWARNING: You are using pip version 21.1.2; however, version 21.2.3 is available.\n",
      "You should consider upgrading via the '/home/ec2-user/anaconda3/envs/pytorch_p36/bin/python -m pip install --upgrade pip' command.\u001b[0m\n"
     ]
    }
   ],
   "source": [
    "# Make sure that we use SageMaker 1.x\n",
    "!pip install sagemaker==1.72.0"
   ]
  },
  {
   "cell_type": "markdown",
   "metadata": {},
   "source": [
    "## Step 1: Downloading the data\n",
    "\n",
    "As in the XGBoost in SageMaker notebook, we will be using the [IMDb dataset](http://ai.stanford.edu/~amaas/data/sentiment/)\n",
    "\n",
    "> Maas, Andrew L., et al. [Learning Word Vectors for Sentiment Analysis](http://ai.stanford.edu/~amaas/data/sentiment/). In _Proceedings of the 49th Annual Meeting of the Association for Computational Linguistics: Human Language Technologies_. Association for Computational Linguistics, 2011."
   ]
  },
  {
   "cell_type": "code",
   "execution_count": 2,
   "metadata": {},
   "outputs": [
    {
     "name": "stdout",
     "output_type": "stream",
     "text": [
      "mkdir: cannot create directory ‘../data’: File exists\n",
      "--2021-08-10 09:21:32--  http://ai.stanford.edu/~amaas/data/sentiment/aclImdb_v1.tar.gz\n",
      "Resolving ai.stanford.edu (ai.stanford.edu)... 171.64.68.10\n",
      "Connecting to ai.stanford.edu (ai.stanford.edu)|171.64.68.10|:80... connected.\n",
      "HTTP request sent, awaiting response... 200 OK\n",
      "Length: 84125825 (80M) [application/x-gzip]\n",
      "Saving to: ‘../data/aclImdb_v1.tar.gz’\n",
      "\n",
      "../data/aclImdb_v1. 100%[===================>]  80.23M  8.01MB/s    in 11s     \n",
      "\n",
      "2021-08-10 09:21:44 (7.03 MB/s) - ‘../data/aclImdb_v1.tar.gz’ saved [84125825/84125825]\n",
      "\n"
     ]
    }
   ],
   "source": [
    "%mkdir ../data\n",
    "!wget -O ../data/aclImdb_v1.tar.gz http://ai.stanford.edu/~amaas/data/sentiment/aclImdb_v1.tar.gz\n",
    "!tar -zxf ../data/aclImdb_v1.tar.gz -C ../data"
   ]
  },
  {
   "cell_type": "markdown",
   "metadata": {},
   "source": [
    "## Step 2: Preparing and Processing the data\n",
    "\n",
    "Also, as in the XGBoost notebook, we will be doing some initial data processing. The first few steps are the same as in the XGBoost example. To begin with, we will read in each of the reviews and combine them into a single input structure. Then, we will split the dataset into a training set and a testing set."
   ]
  },
  {
   "cell_type": "code",
   "execution_count": 3,
   "metadata": {},
   "outputs": [],
   "source": [
    "import os\n",
    "import glob\n",
    "\n",
    "def read_imdb_data(data_dir='../data/aclImdb'):\n",
    "    data = {}\n",
    "    labels = {}\n",
    "    \n",
    "    for data_type in ['train', 'test']:\n",
    "        data[data_type] = {}\n",
    "        labels[data_type] = {}\n",
    "        \n",
    "        for sentiment in ['pos', 'neg']:\n",
    "            data[data_type][sentiment] = []\n",
    "            labels[data_type][sentiment] = []\n",
    "            \n",
    "            path = os.path.join(data_dir, data_type, sentiment, '*.txt')\n",
    "            files = glob.glob(path)\n",
    "            \n",
    "            for f in files:\n",
    "                with open(f) as review:\n",
    "                    data[data_type][sentiment].append(review.read())\n",
    "                    # Here we represent a positive review by '1' and a negative review by '0'\n",
    "                    labels[data_type][sentiment].append(1 if sentiment == 'pos' else 0)\n",
    "                    \n",
    "            assert len(data[data_type][sentiment]) == len(labels[data_type][sentiment]), \\\n",
    "                    \"{}/{} data size does not match labels size\".format(data_type, sentiment)\n",
    "                \n",
    "    return data, labels"
   ]
  },
  {
   "cell_type": "code",
   "execution_count": 4,
   "metadata": {},
   "outputs": [
    {
     "name": "stdout",
     "output_type": "stream",
     "text": [
      "IMDB reviews: train = 12500 pos / 12500 neg, test = 12500 pos / 12500 neg\n"
     ]
    }
   ],
   "source": [
    "data, labels = read_imdb_data()\n",
    "print(\"IMDB reviews: train = {} pos / {} neg, test = {} pos / {} neg\".format(\n",
    "            len(data['train']['pos']), len(data['train']['neg']),\n",
    "            len(data['test']['pos']), len(data['test']['neg'])))"
   ]
  },
  {
   "cell_type": "markdown",
   "metadata": {},
   "source": [
    "Now that we've read the raw training and testing data from the downloaded dataset, we will combine the positive and negative reviews and shuffle the resulting records."
   ]
  },
  {
   "cell_type": "code",
   "execution_count": 5,
   "metadata": {},
   "outputs": [],
   "source": [
    "from sklearn.utils import shuffle\n",
    "\n",
    "def prepare_imdb_data(data, labels):\n",
    "    \"\"\"Prepare training and test sets from IMDb movie reviews.\"\"\"\n",
    "    \n",
    "    #Combine positive and negative reviews and labels\n",
    "    data_train = data['train']['pos'] + data['train']['neg']\n",
    "    data_test = data['test']['pos'] + data['test']['neg']\n",
    "    labels_train = labels['train']['pos'] + labels['train']['neg']\n",
    "    labels_test = labels['test']['pos'] + labels['test']['neg']\n",
    "    \n",
    "    #Shuffle reviews and corresponding labels within training and test sets\n",
    "    data_train, labels_train = shuffle(data_train, labels_train)\n",
    "    data_test, labels_test = shuffle(data_test, labels_test)\n",
    "    \n",
    "    # Return a unified training data, test data, training labels, test labets\n",
    "    return data_train, data_test, labels_train, labels_test"
   ]
  },
  {
   "cell_type": "code",
   "execution_count": 6,
   "metadata": {},
   "outputs": [
    {
     "name": "stdout",
     "output_type": "stream",
     "text": [
      "IMDb reviews (combined): train = 25000, test = 25000\n"
     ]
    }
   ],
   "source": [
    "train_X, test_X, train_y, test_y = prepare_imdb_data(data, labels)\n",
    "print(\"IMDb reviews (combined): train = {}, test = {}\".format(len(train_X), len(test_X)))"
   ]
  },
  {
   "cell_type": "markdown",
   "metadata": {},
   "source": [
    "Now that we have our training and testing sets unified and prepared, we should do a quick check and see an example of the data our model will be trained on. This is generally a good idea as it allows you to see how each of the further processing steps affects the reviews and it also ensures that the data has been loaded correctly."
   ]
  },
  {
   "cell_type": "code",
   "execution_count": 7,
   "metadata": {},
   "outputs": [
    {
     "name": "stdout",
     "output_type": "stream",
     "text": [
      "I think this has the potential of being the best Star Trek series yet, I say POTENTIAL.. we all know there is a chance they will drop the ball and run out of ideas... BUT I HOPE NOT! For those that have not seen it..SEE IT! Without that annoying \"PRIME DIRECTIVE\" floating over their heads every time they encounter races it could be cool.. and Scott Bakula was without a doubt a GREAT CHOICE for Captain, and the Vulcan Babe is hot too, (Check out the decontamination scene)I gave this a FULL 10... it blows away ALL the other series openers.. I hope this goes longer than 7 years...\n",
      "1\n"
     ]
    }
   ],
   "source": [
    "print(train_X[100])\n",
    "print(train_y[100])"
   ]
  },
  {
   "cell_type": "markdown",
   "metadata": {},
   "source": [
    "The first step in processing the reviews is to make sure that any html tags that appear should be removed. In addition we wish to tokenize our input, that way words such as *entertained* and *entertaining* are considered the same with regard to sentiment analysis."
   ]
  },
  {
   "cell_type": "code",
   "execution_count": 8,
   "metadata": {},
   "outputs": [],
   "source": [
    "import nltk\n",
    "from nltk.corpus import stopwords\n",
    "from nltk.stem.porter import *\n",
    "\n",
    "import re\n",
    "from bs4 import BeautifulSoup\n",
    "\n",
    "def review_to_words(review):\n",
    "    nltk.download(\"stopwords\", quiet=True)\n",
    "    stemmer = PorterStemmer()\n",
    "    \n",
    "    text = BeautifulSoup(review, \"html.parser\").get_text() # Remove HTML tags\n",
    "    text = re.sub(r\"[^a-zA-Z0-9]\", \" \", text.lower()) # Convert to lower case\n",
    "    words = text.split() # Split string into words\n",
    "    words = [w for w in words if w not in stopwords.words(\"english\")] # Remove stopwords\n",
    "    words = [PorterStemmer().stem(w) for w in words] # stem\n",
    "    \n",
    "    return words"
   ]
  },
  {
   "cell_type": "markdown",
   "metadata": {},
   "source": [
    "The `review_to_words` method defined above uses `BeautifulSoup` to remove any html tags that appear and uses the `nltk` package to tokenize the reviews. As a check to ensure we know how everything is working, try applying `review_to_words` to one of the reviews in the training set."
   ]
  },
  {
   "cell_type": "code",
   "execution_count": 9,
   "metadata": {},
   "outputs": [
    {
     "name": "stdout",
     "output_type": "stream",
     "text": [
      "['think', 'potenti', 'best', 'star', 'trek', 'seri', 'yet', 'say', 'potenti', 'know', 'chanc', 'drop', 'ball', 'run', 'idea', 'hope', 'seen', 'see', 'without', 'annoy', 'prime', 'direct', 'float', 'head', 'everi', 'time', 'encount', 'race', 'could', 'cool', 'scott', 'bakula', 'without', 'doubt', 'great', 'choic', 'captain', 'vulcan', 'babe', 'hot', 'check', 'decontamin', 'scene', 'gave', 'full', '10', 'blow', 'away', 'seri', 'open', 'hope', 'goe', 'longer', '7', 'year']\n"
     ]
    }
   ],
   "source": [
    "# TODO: Apply review_to_words to a review (train_X[100] or any other review)\n",
    "print(review_to_words(train_X[100]))"
   ]
  },
  {
   "cell_type": "markdown",
   "metadata": {},
   "source": [
    "**Question:** Above we mentioned that `review_to_words` method removes html formatting and allows us to tokenize the words found in a review, for example, converting *entertained* and *entertaining* into *entertain* so that they are treated as though they are the same word. What else, if anything, does this method do to the input?"
   ]
  },
  {
   "cell_type": "markdown",
   "metadata": {},
   "source": [
    "**Answer:**\n",
    "<br> The `review_to_words` function does the following:\n",
    "<li>Removes any unnecessary characters and stopwords.</li>\n",
    "<li>Removes HTML tags.</li>\n",
    "<li>Converts to lower case.</li>"
   ]
  },
  {
   "cell_type": "markdown",
   "metadata": {},
   "source": [
    "The method below applies the `review_to_words` method to each of the reviews in the training and testing datasets. In addition it caches the results. This is because performing this processing step can take a long time. This way if you are unable to complete the notebook in the current session, you can come back without needing to process the data a second time."
   ]
  },
  {
   "cell_type": "code",
   "execution_count": 10,
   "metadata": {},
   "outputs": [],
   "source": [
    "import pickle\n",
    "\n",
    "cache_dir = os.path.join(\"../cache\", \"sentiment_analysis\")  # where to store cache files\n",
    "os.makedirs(cache_dir, exist_ok=True)  # ensure cache directory exists\n",
    "\n",
    "def preprocess_data(data_train, data_test, labels_train, labels_test,\n",
    "                    cache_dir=cache_dir, cache_file=\"preprocessed_data.pkl\"):\n",
    "    \"\"\"Convert each review to words; read from cache if available.\"\"\"\n",
    "\n",
    "    # If cache_file is not None, try to read from it first\n",
    "    cache_data = None\n",
    "    if cache_file is not None:\n",
    "        try:\n",
    "            with open(os.path.join(cache_dir, cache_file), \"rb\") as f:\n",
    "                cache_data = pickle.load(f)\n",
    "            print(\"Read preprocessed data from cache file:\", cache_file)\n",
    "        except:\n",
    "            pass  # unable to read from cache, but that's okay\n",
    "    \n",
    "    # If cache is missing, then do the heavy lifting\n",
    "    if cache_data is None:\n",
    "        # Preprocess training and test data to obtain words for each review\n",
    "        #words_train = list(map(review_to_words, data_train))\n",
    "        #words_test = list(map(review_to_words, data_test))\n",
    "        words_train = [review_to_words(review) for review in data_train]\n",
    "        words_test = [review_to_words(review) for review in data_test]\n",
    "        \n",
    "        # Write to cache file for future runs\n",
    "        if cache_file is not None:\n",
    "            cache_data = dict(words_train=words_train, words_test=words_test,\n",
    "                              labels_train=labels_train, labels_test=labels_test)\n",
    "            with open(os.path.join(cache_dir, cache_file), \"wb\") as f:\n",
    "                pickle.dump(cache_data, f)\n",
    "            print(\"Wrote preprocessed data to cache file:\", cache_file)\n",
    "    else:\n",
    "        # Unpack data loaded from cache file\n",
    "        words_train, words_test, labels_train, labels_test = (cache_data['words_train'],\n",
    "                cache_data['words_test'], cache_data['labels_train'], cache_data['labels_test'])\n",
    "    \n",
    "    return words_train, words_test, labels_train, labels_test"
   ]
  },
  {
   "cell_type": "code",
   "execution_count": 11,
   "metadata": {},
   "outputs": [
    {
     "name": "stdout",
     "output_type": "stream",
     "text": [
      "Read preprocessed data from cache file: preprocessed_data.pkl\n"
     ]
    }
   ],
   "source": [
    "# Preprocess data\n",
    "train_X, test_X, train_y, test_y = preprocess_data(train_X, test_X, train_y, test_y)"
   ]
  },
  {
   "cell_type": "markdown",
   "metadata": {},
   "source": [
    "## Transform the data\n",
    "\n",
    "In the XGBoost notebook we transformed the data from its word representation to a bag-of-words feature representation. For the model we are going to construct in this notebook we will construct a feature representation which is very similar. To start, we will represent each word as an integer. Of course, some of the words that appear in the reviews occur very infrequently and so likely don't contain much information for the purposes of sentiment analysis. The way we will deal with this problem is that we will fix the size of our working vocabulary and we will only include the words that appear most frequently. We will then combine all of the infrequent words into a single category and, in our case, we will label it as `1`.\n",
    "\n",
    "Since we will be using a recurrent neural network, it will be convenient if the length of each review is the same. To do this, we will fix a size for our reviews and then pad short reviews with the category 'no word' (which we will label `0`) and truncate long reviews."
   ]
  },
  {
   "cell_type": "markdown",
   "metadata": {},
   "source": [
    "### (TODO) Create a word dictionary\n",
    "\n",
    "To begin with, we need to construct a way to map words that appear in the reviews to integers. Here we fix the size of our vocabulary (including the 'no word' and 'infrequent' categories) to be `5000` but you may wish to change this to see how it affects the model.\n",
    "\n",
    "> **TODO:** Complete the implementation for the `build_dict()` method below. Note that even though the vocab_size is set to `5000`, we only want to construct a mapping for the most frequently appearing `4998` words. This is because we want to reserve the special labels `0` for 'no word' and `1` for 'infrequent word'."
   ]
  },
  {
   "cell_type": "code",
   "execution_count": 12,
   "metadata": {},
   "outputs": [],
   "source": [
    "import numpy as np\n",
    "from collections import Counter\n",
    "\n",
    "def build_dict(data, vocab_size = 5000):\n",
    "    \"\"\"Construct and return a dictionary mapping each of the most frequently appearing words to a unique integer.\"\"\"\n",
    "    \n",
    "    # TODO: Determine how often each word appears in `data`. Note that `data` is a list of sentences and that a\n",
    "    #       sentence is a list of words.\n",
    "    \n",
    "    # A dict storing the words that appear in the reviews along with how often they occur\n",
    "    word_count = Counter(list(word for review_sentence in data for word in review_sentence)) \n",
    "    \n",
    "    \n",
    "    # TODO: Sort the words found in `data` so that sorted_words[0] is the most frequently appearing word and\n",
    "    #       sorted_words[-1] is the least frequently appearing word.\n",
    "    \n",
    "    sorted_words = sorted(word_count.items(), key=lambda item: item[1], reverse=True)\n",
    "    \n",
    "    sorted_words = list(sorted_word[0] for sorted_word in sorted_words)\n",
    "    \n",
    "    word_dict = {} # This is what we are building, a dictionary that translates words into integers\n",
    "    for idx, word in enumerate(sorted_words[:vocab_size - 2]): # The -2 is so that we save room for the 'no word'\n",
    "        word_dict[word] = idx + 2                              # 'infrequent' labels\n",
    "        \n",
    "    return word_dict"
   ]
  },
  {
   "cell_type": "code",
   "execution_count": 13,
   "metadata": {},
   "outputs": [],
   "source": [
    "word_dict = build_dict(train_X)"
   ]
  },
  {
   "cell_type": "code",
   "execution_count": 14,
   "metadata": {},
   "outputs": [
    {
     "name": "stdout",
     "output_type": "stream",
     "text": [
      "{'movi': 2, 'film': 3, 'one': 4, 'like': 5, 'time': 6, 'good': 7, 'make': 8, 'charact': 9, 'get': 10, 'see': 11, 'watch': 12, 'stori': 13, 'even': 14, 'would': 15, 'realli': 16, 'well': 17, 'scene': 18, 'look': 19, 'show': 20, 'much': 21, 'end': 22, 'peopl': 23, 'bad': 24, 'go': 25, 'great': 26, 'also': 27, 'first': 28, 'love': 29, 'think': 30, 'way': 31, 'act': 32, 'play': 33, 'made': 34, 'thing': 35, 'could': 36, 'know': 37, 'say': 38, 'seem': 39, 'work': 40, 'plot': 41, 'two': 42, 'actor': 43, 'year': 44, 'come': 45, 'mani': 46, 'seen': 47, 'take': 48, 'life': 49, 'want': 50, 'never': 51, 'littl': 52, 'best': 53, 'tri': 54, 'man': 55, 'ever': 56, 'give': 57, 'better': 58, 'still': 59, 'perform': 60, 'find': 61, 'feel': 62, 'part': 63, 'back': 64, 'use': 65, 'someth': 66, 'director': 67, 'actual': 68, 'interest': 69, 'lot': 70, 'real': 71, 'old': 72, 'cast': 73, 'though': 74, 'live': 75, 'star': 76, 'enjoy': 77, 'guy': 78, 'anoth': 79, 'new': 80, 'role': 81, 'noth': 82, '10': 83, 'funni': 84, 'music': 85, 'point': 86, 'start': 87, 'set': 88, 'girl': 89, 'origin': 90, 'day': 91, 'world': 92, 'everi': 93, 'believ': 94, 'turn': 95, 'quit': 96, 'us': 97, 'direct': 98, 'thought': 99, 'fact': 100, 'minut': 101, 'horror': 102, 'kill': 103, 'action': 104, 'comedi': 105, 'pretti': 106, 'young': 107, 'wonder': 108, 'happen': 109, 'around': 110, 'got': 111, 'effect': 112, 'right': 113, 'long': 114, 'howev': 115, 'big': 116, 'line': 117, 'famili': 118, 'enough': 119, 'seri': 120, 'may': 121, 'need': 122, 'fan': 123, 'bit': 124, 'script': 125, 'beauti': 126, 'person': 127, 'becom': 128, 'without': 129, 'must': 130, 'alway': 131, 'friend': 132, 'tell': 133, 'reason': 134, 'saw': 135, 'last': 136, 'final': 137, 'kid': 138, 'almost': 139, 'put': 140, 'least': 141, 'sure': 142, 'done': 143, 'whole': 144, 'place': 145, 'complet': 146, 'kind': 147, 'expect': 148, 'differ': 149, 'shot': 150, 'far': 151, 'mean': 152, 'anyth': 153, 'book': 154, 'laugh': 155, 'might': 156, 'name': 157, 'sinc': 158, 'begin': 159, '2': 160, 'probabl': 161, 'woman': 162, 'help': 163, 'entertain': 164, 'let': 165, 'screen': 166, 'call': 167, 'tv': 168, 'moment': 169, 'away': 170, 'read': 171, 'yet': 172, 'rather': 173, 'worst': 174, 'run': 175, 'fun': 176, 'lead': 177, 'hard': 178, 'audienc': 179, 'idea': 180, 'anyon': 181, 'episod': 182, 'american': 183, 'found': 184, 'appear': 185, 'bore': 186, 'especi': 187, 'although': 188, 'hope': 189, 'cours': 190, 'keep': 191, 'anim': 192, 'job': 193, 'goe': 194, 'move': 195, 'sens': 196, 'version': 197, 'dvd': 198, 'war': 199, 'money': 200, 'someon': 201, 'mind': 202, 'mayb': 203, 'problem': 204, 'true': 205, 'hous': 206, 'everyth': 207, 'nice': 208, 'second': 209, 'rate': 210, 'three': 211, 'night': 212, 'follow': 213, 'face': 214, 'recommend': 215, 'product': 216, 'main': 217, 'worth': 218, 'leav': 219, 'human': 220, 'special': 221, 'excel': 222, 'togeth': 223, 'wast': 224, 'everyon': 225, 'sound': 226, 'john': 227, 'hand': 228, '1': 229, 'father': 230, 'later': 231, 'eye': 232, 'said': 233, 'view': 234, 'instead': 235, 'review': 236, 'boy': 237, 'high': 238, 'hour': 239, 'miss': 240, 'talk': 241, 'classic': 242, 'wife': 243, 'understand': 244, 'left': 245, 'care': 246, 'black': 247, 'death': 248, 'open': 249, 'murder': 250, 'write': 251, 'half': 252, 'head': 253, 'rememb': 254, 'chang': 255, 'viewer': 256, 'fight': 257, 'gener': 258, 'surpris': 259, 'short': 260, 'includ': 261, 'die': 262, 'fall': 263, 'less': 264, 'els': 265, 'entir': 266, 'piec': 267, 'involv': 268, 'pictur': 269, 'simpli': 270, 'power': 271, 'top': 272, 'home': 273, 'total': 274, 'usual': 275, 'budget': 276, 'attempt': 277, 'suppos': 278, 'releas': 279, 'hollywood': 280, 'terribl': 281, 'song': 282, 'men': 283, 'possibl': 284, 'featur': 285, 'portray': 286, 'disappoint': 287, 'poor': 288, '3': 289, 'coupl': 290, 'stupid': 291, 'camera': 292, 'dead': 293, 'wrong': 294, 'low': 295, 'produc': 296, 'either': 297, 'video': 298, 'aw': 299, 'definit': 300, 'except': 301, 'rest': 302, 'given': 303, 'absolut': 304, 'women': 305, 'lack': 306, 'word': 307, 'writer': 308, 'titl': 309, 'talent': 310, 'decid': 311, 'full': 312, 'perfect': 313, 'along': 314, 'style': 315, 'close': 316, 'truli': 317, 'school': 318, 'emot': 319, 'save': 320, 'age': 321, 'sex': 322, 'next': 323, 'bring': 324, 'mr': 325, 'case': 326, 'killer': 327, 'heart': 328, 'comment': 329, 'sort': 330, 'creat': 331, 'perhap': 332, 'came': 333, 'brother': 334, 'sever': 335, 'joke': 336, 'art': 337, 'dialogu': 338, 'game': 339, 'small': 340, 'base': 341, 'flick': 342, 'written': 343, 'sequenc': 344, 'meet': 345, 'earli': 346, 'often': 347, 'other': 348, 'mother': 349, 'develop': 350, 'humor': 351, 'actress': 352, 'consid': 353, 'dark': 354, 'guess': 355, 'amaz': 356, 'unfortun': 357, 'lost': 358, 'light': 359, 'exampl': 360, 'cinema': 361, 'drama': 362, 'ye': 363, 'white': 364, 'experi': 365, 'imagin': 366, 'mention': 367, 'stop': 368, 'natur': 369, 'forc': 370, 'manag': 371, 'felt': 372, 'cut': 373, 'present': 374, 'children': 375, 'fail': 376, 'son': 377, 'car': 378, 'qualiti': 379, 'support': 380, 'ask': 381, 'hit': 382, 'side': 383, 'voic': 384, 'extrem': 385, 'impress': 386, 'evil': 387, 'wors': 388, 'went': 389, 'stand': 390, 'certainli': 391, 'basic': 392, 'oh': 393, 'overal': 394, 'favorit': 395, 'horribl': 396, 'mysteri': 397, 'number': 398, 'type': 399, 'danc': 400, 'wait': 401, 'hero': 402, '5': 403, 'alreadi': 404, 'learn': 405, 'matter': 406, '4': 407, 'michael': 408, 'genr': 409, 'fine': 410, 'despit': 411, 'throughout': 412, 'walk': 413, 'success': 414, 'histori': 415, 'question': 416, 'zombi': 417, 'town': 418, 'realiz': 419, 'relationship': 420, 'child': 421, 'past': 422, 'daughter': 423, 'late': 424, 'b': 425, 'wish': 426, 'hate': 427, 'credit': 428, 'event': 429, 'theme': 430, 'touch': 431, 'citi': 432, 'today': 433, 'sometim': 434, 'behind': 435, 'god': 436, 'twist': 437, 'sit': 438, 'stay': 439, 'annoy': 440, 'deal': 441, 'abl': 442, 'rent': 443, 'pleas': 444, 'edit': 445, 'blood': 446, 'deserv': 447, 'anyway': 448, 'comic': 449, 'appar': 450, 'soon': 451, 'gave': 452, 'etc': 453, 'level': 454, 'slow': 455, 'chanc': 456, 'score': 457, 'bodi': 458, 'brilliant': 459, 'incred': 460, 'figur': 461, 'situat': 462, 'major': 463, 'self': 464, 'stuff': 465, 'decent': 466, 'element': 467, 'dream': 468, 'return': 469, 'obvious': 470, 'order': 471, 'continu': 472, 'pace': 473, 'ridicul': 474, 'happi': 475, 'group': 476, 'highli': 477, 'add': 478, 'thank': 479, 'ladi': 480, 'novel': 481, 'pain': 482, 'speak': 483, 'career': 484, 'shoot': 485, 'strang': 486, 'heard': 487, 'sad': 488, 'polic': 489, 'husband': 490, 'import': 491, 'break': 492, 'took': 493, 'cannot': 494, 'strong': 495, 'robert': 496, 'predict': 497, 'violenc': 498, 'hilari': 499, 'recent': 500, 'countri': 501, 'known': 502, 'particularli': 503, 'pick': 504, 'documentari': 505, 'season': 506, 'critic': 507, 'jame': 508, 'compar': 509, 'alon': 510, 'obviou': 511, 'told': 512, 'state': 513, 'rock': 514, 'visual': 515, 'exist': 516, 'theater': 517, 'offer': 518, 'opinion': 519, 'gore': 520, 'crap': 521, 'hold': 522, 'result': 523, 'realiti': 524, 'hear': 525, 'room': 526, 'effort': 527, 'clich': 528, 'thriller': 529, 'caus': 530, 'sequel': 531, 'serious': 532, 'explain': 533, 'king': 534, 'local': 535, 'ago': 536, 'hell': 537, 'none': 538, 'note': 539, 'allow': 540, 'david': 541, 'sister': 542, 'simpl': 543, 'femal': 544, 'deliv': 545, 'ok': 546, 'convinc': 547, 'class': 548, 'check': 549, 'suspens': 550, 'win': 551, 'oscar': 552, 'buy': 553, 'huge': 554, 'valu': 555, 'sexual': 556, 'scari': 557, 'cool': 558, 'similar': 559, 'excit': 560, 'provid': 561, 'exactli': 562, 'apart': 563, 'shown': 564, 'avoid': 565, 'seriou': 566, 'english': 567, 'taken': 568, 'whose': 569, 'cinematographi': 570, 'shock': 571, 'polit': 572, 'spoiler': 573, 'offic': 574, 'across': 575, 'middl': 576, 'street': 577, 'pass': 578, 'messag': 579, 'somewhat': 580, 'silli': 581, 'charm': 582, 'modern': 583, 'confus': 584, 'filmmak': 585, 'form': 586, 'tale': 587, 'singl': 588, 'jack': 589, 'mostli': 590, 'carri': 591, 'attent': 592, 'william': 593, 'sing': 594, 'subject': 595, 'five': 596, 'richard': 597, 'prove': 598, 'stage': 599, 'team': 600, 'unlik': 601, 'cop': 602, 'georg': 603, 'monster': 604, 'televis': 605, 'earth': 606, 'cover': 607, 'villain': 608, 'pay': 609, 'marri': 610, 'toward': 611, 'build': 612, 'pull': 613, 'parent': 614, 'due': 615, 'fill': 616, 'respect': 617, 'four': 618, 'dialog': 619, 'remind': 620, 'futur': 621, 'weak': 622, 'typic': 623, '7': 624, 'cheap': 625, 'intellig': 626, 'atmospher': 627, 'british': 628, 'clearli': 629, '80': 630, 'non': 631, 'paul': 632, 'dog': 633, 'artist': 634, '8': 635, 'knew': 636, 'fast': 637, 'crime': 638, 'easili': 639, 'escap': 640, 'doubt': 641, 'adult': 642, 'detail': 643, 'date': 644, 'member': 645, 'fire': 646, 'romant': 647, 'drive': 648, 'gun': 649, 'straight': 650, 'beyond': 651, 'fit': 652, 'attack': 653, 'imag': 654, 'upon': 655, 'posit': 656, 'whether': 657, 'fantast': 658, 'peter': 659, 'captur': 660, 'appreci': 661, 'aspect': 662, 'ten': 663, 'plan': 664, 'discov': 665, 'remain': 666, 'period': 667, 'near': 668, 'realist': 669, 'air': 670, 'mark': 671, 'red': 672, 'dull': 673, 'adapt': 674, 'within': 675, 'spend': 676, 'lose': 677, 'materi': 678, 'color': 679, 'chase': 680, 'mari': 681, 'storylin': 682, 'forget': 683, 'bunch': 684, 'clear': 685, 'lee': 686, 'victim': 687, 'nearli': 688, 'box': 689, 'york': 690, 'inspir': 691, 'match': 692, 'finish': 693, 'mess': 694, 'standard': 695, 'easi': 696, 'truth': 697, 'suffer': 698, 'busi': 699, 'space': 700, 'dramat': 701, 'bill': 702, 'western': 703, 'e': 704, 'list': 705, 'battl': 706, 'notic': 707, 'de': 708, 'french': 709, 'ad': 710, '9': 711, 'tom': 712, 'larg': 713, 'among': 714, 'eventu': 715, 'accept': 716, 'train': 717, 'agre': 718, 'soundtrack': 719, 'spirit': 720, 'third': 721, 'teenag': 722, 'adventur': 723, 'soldier': 724, 'sorri': 725, 'famou': 726, 'drug': 727, 'suggest': 728, 'normal': 729, 'cri': 730, 'babi': 731, 'troubl': 732, 'ultim': 733, 'contain': 734, 'certain': 735, 'cultur': 736, 'romanc': 737, 'rare': 738, 'lame': 739, 'somehow': 740, 'mix': 741, 'disney': 742, 'gone': 743, 'cartoon': 744, 'student': 745, 'reveal': 746, 'fear': 747, 'kept': 748, 'suck': 749, 'attract': 750, 'appeal': 751, 'premis': 752, 'design': 753, 'greatest': 754, 'secret': 755, 'shame': 756, 'throw': 757, 'copi': 758, 'scare': 759, 'wit': 760, 'admit': 761, 'america': 762, 'relat': 763, 'brought': 764, 'particular': 765, 'screenplay': 766, 'whatev': 767, 'pure': 768, '70': 769, 'averag': 770, 'harri': 771, 'master': 772, 'describ': 773, 'male': 774, 'treat': 775, '20': 776, 'fantasi': 777, 'issu': 778, 'warn': 779, 'inde': 780, 'forward': 781, 'background': 782, 'project': 783, 'free': 784, 'japanes': 785, 'memor': 786, 'poorli': 787, 'award': 788, 'locat': 789, 'amus': 790, 'potenti': 791, 'struggl': 792, 'magic': 793, 'weird': 794, 'societi': 795, 'okay': 796, 'imdb': 797, 'doctor': 798, 'accent': 799, 'hot': 800, 'water': 801, 'express': 802, '30': 803, 'alien': 804, 'dr': 805, 'odd': 806, 'choic': 807, 'crazi': 808, 'fiction': 809, 'studio': 810, 'becam': 811, 'control': 812, 'masterpiec': 813, 'difficult': 814, 'fli': 815, 'joe': 816, 'scream': 817, 'costum': 818, 'lover': 819, 'uniqu': 820, 'refer': 821, 'remak': 822, 'girlfriend': 823, 'vampir': 824, 'prison': 825, 'execut': 826, 'wear': 827, 'jump': 828, 'unless': 829, 'wood': 830, 'creepi': 831, 'cheesi': 832, 'superb': 833, 'otherwis': 834, 'parti': 835, 'roll': 836, 'ghost': 837, 'public': 838, 'mad': 839, 'depict': 840, 'week': 841, 'earlier': 842, 'moral': 843, 'badli': 844, 'jane': 845, 'fi': 846, 'dumb': 847, 'grow': 848, 'flaw': 849, 'sci': 850, 'deep': 851, 'maker': 852, 'cat': 853, 'older': 854, 'connect': 855, 'footag': 856, 'plenti': 857, 'bother': 858, 'outsid': 859, 'stick': 860, 'gay': 861, 'catch': 862, 'co': 863, 'plu': 864, 'popular': 865, 'equal': 866, 'social': 867, 'quickli': 868, 'disturb': 869, 'perfectli': 870, 'dress': 871, 'era': 872, '90': 873, 'mistak': 874, 'lie': 875, 'previou': 876, 'ride': 877, 'combin': 878, 'concept': 879, 'band': 880, 'surviv': 881, 'answer': 882, 'rich': 883, 'front': 884, 'sweet': 885, 'christma': 886, 'insid': 887, 'concern': 888, 'eat': 889, 'bare': 890, 'listen': 891, 'beat': 892, 'ben': 893, 'c': 894, 'term': 895, 'serv': 896, 'german': 897, 'la': 898, 'meant': 899, 'stereotyp': 900, 'hardli': 901, 'law': 902, 'innoc': 903, 'desper': 904, 'memori': 905, 'promis': 906, 'intent': 907, 'cute': 908, 'steal': 909, 'variou': 910, 'inform': 911, 'brain': 912, 'post': 913, 'tone': 914, 'island': 915, 'amount': 916, 'track': 917, 'compani': 918, 'nuditi': 919, 'claim': 920, 'store': 921, '50': 922, 'hair': 923, 'flat': 924, 'land': 925, 'univers': 926, 'fairli': 927, 'kick': 928, 'scott': 929, 'danger': 930, 'player': 931, 'plain': 932, 'step': 933, 'crew': 934, 'toni': 935, 'share': 936, 'centuri': 937, 'tast': 938, 'engag': 939, 'achiev': 940, 'cold': 941, 'travel': 942, 'suit': 943, 'rip': 944, 'record': 945, 'sadli': 946, 'manner': 947, 'tension': 948, 'wrote': 949, 'spot': 950, 'fascin': 951, 'intens': 952, 'familiar': 953, 'burn': 954, 'remark': 955, 'depth': 956, 'destroy': 957, 'histor': 958, 'sleep': 959, 'purpos': 960, 'languag': 961, 'ignor': 962, 'ruin': 963, 'delight': 964, 'unbeliev': 965, 'italian': 966, 'abil': 967, 'collect': 968, 'soul': 969, 'detect': 970, 'clever': 971, 'violent': 972, 'rape': 973, 'reach': 974, 'door': 975, 'scienc': 976, 'liter': 977, 'trash': 978, 'commun': 979, 'caught': 980, 'reveng': 981, 'creatur': 982, 'trip': 983, 'approach': 984, 'fashion': 985, 'intrigu': 986, 'introduc': 987, 'paint': 988, 'skill': 989, 'complex': 990, 'channel': 991, 'camp': 992, 'christian': 993, 'extra': 994, 'hole': 995, 'limit': 996, 'mental': 997, 'ann': 998, 'immedi': 999, 'million': 1000, 'mere': 1001, 'slightli': 1002, '6': 1003, 'comput': 1004, 'slasher': 1005, 'conclus': 1006, 'imposs': 1007, 'suddenli': 1008, 'teen': 1009, 'neither': 1010, 'crimin': 1011, 'nation': 1012, 'spent': 1013, 'physic': 1014, 'respons': 1015, 'planet': 1016, 'fake': 1017, 'receiv': 1018, 'sick': 1019, 'blue': 1020, 'bizarr': 1021, 'embarrass': 1022, 'indian': 1023, '15': 1024, 'ring': 1025, 'drop': 1026, 'pop': 1027, 'drag': 1028, 'haunt': 1029, 'suspect': 1030, 'pointless': 1031, 'edg': 1032, 'search': 1033, 'handl': 1034, 'common': 1035, 'biggest': 1036, 'faith': 1037, 'arriv': 1038, 'hurt': 1039, 'technic': 1040, 'angel': 1041, 'genuin': 1042, 'dad': 1043, 'f': 1044, 'solid': 1045, 'awesom': 1046, 'colleg': 1047, 'van': 1048, 'former': 1049, 'focu': 1050, 'count': 1051, 'heavi': 1052, 'tear': 1053, 'rais': 1054, 'wall': 1055, 'laughabl': 1056, 'visit': 1057, 'younger': 1058, 'sign': 1059, 'fair': 1060, 'excus': 1061, 'cult': 1062, 'motion': 1063, 'tough': 1064, 'key': 1065, 'desir': 1066, 'super': 1067, 'addit': 1068, 'stun': 1069, 'cloth': 1070, 'exploit': 1071, 'tortur': 1072, 'smith': 1073, 'race': 1074, 'davi': 1075, 'author': 1076, 'cross': 1077, 'jim': 1078, 'compel': 1079, 'minor': 1080, 'focus': 1081, 'consist': 1082, 'pathet': 1083, 'commit': 1084, 'chemistri': 1085, 'park': 1086, 'obsess': 1087, 'frank': 1088, 'tradit': 1089, 'grade': 1090, 'asid': 1091, '60': 1092, 'brutal': 1093, 'steve': 1094, 'somewher': 1095, 'grant': 1096, 'opportun': 1097, 'depress': 1098, 'rule': 1099, 'explor': 1100, 'u': 1101, 'besid': 1102, 'honest': 1103, 'anti': 1104, 'dub': 1105, 'intend': 1106, 'trailer': 1107, 'bar': 1108, 'longer': 1109, 'west': 1110, 'regard': 1111, 'scientist': 1112, 'decad': 1113, 'judg': 1114, 'silent': 1115, 'armi': 1116, 'creativ': 1117, 'wild': 1118, 'south': 1119, 'g': 1120, 'stewart': 1121, 'draw': 1122, 'road': 1123, 'govern': 1124, 'ex': 1125, 'boss': 1126, 'practic': 1127, 'festiv': 1128, 'surprisingli': 1129, 'motiv': 1130, 'gang': 1131, 'club': 1132, 'page': 1133, 'london': 1134, 'green': 1135, 'redeem': 1136, 'militari': 1137, 'machin': 1138, 'aliv': 1139, 'idiot': 1140, 'display': 1141, 'repeat': 1142, 'thrill': 1143, '100': 1144, 'nobodi': 1145, 'folk': 1146, 'yeah': 1147, '40': 1148, 'garbag': 1149, 'journey': 1150, 'tire': 1151, 'smile': 1152, 'ground': 1153, 'bought': 1154, 'mood': 1155, 'stone': 1156, 'cost': 1157, 'sam': 1158, 'mouth': 1159, 'noir': 1160, 'agent': 1161, 'terrif': 1162, 'requir': 1163, 'utterli': 1164, 'sexi': 1165, 'honestli': 1166, 'area': 1167, 'report': 1168, 'geniu': 1169, 'investig': 1170, 'glad': 1171, 'humour': 1172, 'enter': 1173, 'serial': 1174, 'occasion': 1175, 'narr': 1176, 'passion': 1177, 'climax': 1178, 'marriag': 1179, 'studi': 1180, 'industri': 1181, 'charli': 1182, 'demon': 1183, 'center': 1184, 'ship': 1185, 'nowher': 1186, 'loos': 1187, 'bear': 1188, 'hors': 1189, 'wow': 1190, 'hang': 1191, 'graphic': 1192, 'admir': 1193, 'giant': 1194, 'send': 1195, 'loud': 1196, 'damn': 1197, 'subtl': 1198, 'rel': 1199, 'profession': 1200, 'nake': 1201, 'blow': 1202, 'bottom': 1203, 'insult': 1204, 'batman': 1205, 'boyfriend': 1206, 'kelli': 1207, 'doubl': 1208, 'r': 1209, 'initi': 1210, 'frame': 1211, 'opera': 1212, 'gem': 1213, 'church': 1214, 'challeng': 1215, 'cinemat': 1216, 'affect': 1217, 'drawn': 1218, 'nightmar': 1219, 'fulli': 1220, 'j': 1221, 'seek': 1222, 'l': 1223, 'evid': 1224, 'arm': 1225, 'conflict': 1226, 'essenti': 1227, 'grace': 1228, 'christoph': 1229, 'wind': 1230, 'henri': 1231, 'assum': 1232, 'narrat': 1233, 'witch': 1234, 'hunt': 1235, 'push': 1236, 'wise': 1237, 'chri': 1238, 'nomin': 1239, 'month': 1240, 'repres': 1241, 'avail': 1242, 'hide': 1243, 'affair': 1244, 'sceneri': 1245, 'smart': 1246, 'thu': 1247, 'bond': 1248, 'justic': 1249, 'interview': 1250, 'outstand': 1251, 'flashback': 1252, 'satisfi': 1253, 'presenc': 1254, 'constantli': 1255, 'bed': 1256, 'central': 1257, 'content': 1258, 'iron': 1259, 'sell': 1260, 'gag': 1261, 'everybodi': 1262, 'slowli': 1263, 'hotel': 1264, 'hire': 1265, 'system': 1266, 'thrown': 1267, 'adam': 1268, 'individu': 1269, 'hey': 1270, 'charl': 1271, 'mediocr': 1272, 'jone': 1273, 'allen': 1274, 'ray': 1275, 'billi': 1276, 'lesson': 1277, 'cameo': 1278, 'photographi': 1279, 'pari': 1280, 'fellow': 1281, 'strike': 1282, 'absurd': 1283, 'independ': 1284, 'brief': 1285, 'rise': 1286, 'neg': 1287, 'phone': 1288, 'impact': 1289, 'ill': 1290, 'born': 1291, 'model': 1292, 'angl': 1293, 'spoil': 1294, 'fresh': 1295, 'abus': 1296, 'likabl': 1297, 'discuss': 1298, 'hill': 1299, 'ahead': 1300, 'sight': 1301, 'sent': 1302, 'photograph': 1303, 'occur': 1304, 'blame': 1305, 'shine': 1306, 'logic': 1307, 'mainli': 1308, 'bruce': 1309, 'skip': 1310, 'forev': 1311, 'commerci': 1312, 'teacher': 1313, 'segment': 1314, 'held': 1315, 'surround': 1316, 'zero': 1317, 'blond': 1318, 'trap': 1319, 'summer': 1320, 'resembl': 1321, 'satir': 1322, 'queen': 1323, 'ball': 1324, 'fool': 1325, 'six': 1326, 'tragedi': 1327, 'sub': 1328, 'twice': 1329, 'reaction': 1330, 'pack': 1331, 'bomb': 1332, 'hospit': 1333, 'will': 1334, 'protagonist': 1335, 'mile': 1336, 'sport': 1337, 'jerri': 1338, 'drink': 1339, 'mom': 1340, 'vote': 1341, 'trust': 1342, 'encount': 1343, 'plane': 1344, 'current': 1345, 'station': 1346, 'al': 1347, 'program': 1348, 'celebr': 1349, 'choos': 1350, 'martin': 1351, 'join': 1352, 'tragic': 1353, 'favourit': 1354, 'field': 1355, 'lord': 1356, 'round': 1357, 'vision': 1358, 'robot': 1359, 'jean': 1360, 'tie': 1361, 'arthur': 1362, 'random': 1363, 'fortun': 1364, 'roger': 1365, 'intern': 1366, 'dread': 1367, 'psycholog': 1368, 'epic': 1369, 'prefer': 1370, 'nonsens': 1371, 'improv': 1372, 'highlight': 1373, 'legend': 1374, 'pleasur': 1375, 'formula': 1376, 'dollar': 1377, 'tape': 1378, '11': 1379, 'porn': 1380, 'fox': 1381, 'object': 1382, 'gorgeou': 1383, 'wide': 1384, 'thin': 1385, 'ugli': 1386, 'buddi': 1387, 'influenc': 1388, 'prepar': 1389, 'nasti': 1390, 'ii': 1391, 'reflect': 1392, 'supposedli': 1393, 'progress': 1394, 'warm': 1395, 'worthi': 1396, 'youth': 1397, 'unusu': 1398, 'latter': 1399, 'length': 1400, 'crash': 1401, 'childhood': 1402, 'shop': 1403, 'seven': 1404, 'superior': 1405, 'theatr': 1406, 'remot': 1407, 'funniest': 1408, 'paid': 1409, 'pilot': 1410, 'disgust': 1411, 'castl': 1412, 'convers': 1413, 'fell': 1414, 'trick': 1415, 'disast': 1416, 'establish': 1417, 'gangster': 1418, 'rob': 1419, 'heaven': 1420, 'suicid': 1421, 'mine': 1422, 'disappear': 1423, 'ident': 1424, 'mask': 1425, 'singer': 1426, 'forgotten': 1427, 'decis': 1428, 'tend': 1429, 'heroin': 1430, 'partner': 1431, 'brian': 1432, 'recogn': 1433, 'desert': 1434, 'alan': 1435, 'p': 1436, 'ms': 1437, 'stuck': 1438, 'sky': 1439, 'thoroughli': 1440, 'accur': 1441, 'replac': 1442, 'market': 1443, 'seemingli': 1444, 'andi': 1445, 'clue': 1446, 'commentari': 1447, 'eddi': 1448, 'danni': 1449, 'uncl': 1450, 'jackson': 1451, 'devil': 1452, 'therefor': 1453, 'pair': 1454, 'that': 1455, 'refus': 1456, 'fault': 1457, 'accid': 1458, 'ed': 1459, 'fate': 1460, 'unit': 1461, 'river': 1462, 'tune': 1463, 'afraid': 1464, 'hidden': 1465, 'clean': 1466, 'stephen': 1467, 'russian': 1468, 'quick': 1469, 'captain': 1470, 'instanc': 1471, 'test': 1472, 'irrit': 1473, 'readi': 1474, 'convey': 1475, 'european': 1476, 'insan': 1477, 'frustrat': 1478, 'daniel': 1479, 'wed': 1480, 'food': 1481, 'rescu': 1482, '1950': 1483, 'chines': 1484, 'angri': 1485, 'dirti': 1486, 'lock': 1487, 'joy': 1488, 'steven': 1489, 'price': 1490, 'cage': 1491, 'bland': 1492, 'rang': 1493, 'anymor': 1494, 'wooden': 1495, 'news': 1496, 'rush': 1497, 'jason': 1498, 'n': 1499, 'twenti': 1500, '12': 1501, 'worri': 1502, 'martial': 1503, 'led': 1504, 'board': 1505, 'transform': 1506, 'symbol': 1507, 'hunter': 1508, 'cgi': 1509, 'invent': 1510, 'johnni': 1511, 'x': 1512, 'onto': 1513, 'sentiment': 1514, 'piti': 1515, 'explan': 1516, 'attitud': 1517, 'process': 1518, 'awar': 1519, 'owner': 1520, 'aim': 1521, 'necessari': 1522, 'target': 1523, 'floor': 1524, 'favor': 1525, 'energi': 1526, 'religi': 1527, 'opposit': 1528, 'insight': 1529, 'chick': 1530, 'window': 1531, 'blind': 1532, 'movement': 1533, 'research': 1534, 'possess': 1535, 'comparison': 1536, 'mountain': 1537, 'deepli': 1538, 'grand': 1539, 'whatsoev': 1540, 'rain': 1541, 'comed': 1542, 'shadow': 1543, 'began': 1544, 'mid': 1545, 'bank': 1546, 'princ': 1547, 'parodi': 1548, 'weapon': 1549, 'pre': 1550, 'friendship': 1551, 'credibl': 1552, 'taylor': 1553, 'teach': 1554, 'flesh': 1555, 'dougla': 1556, 'hint': 1557, 'terror': 1558, 'bloodi': 1559, 'protect': 1560, 'marvel': 1561, 'anybodi': 1562, 'load': 1563, 'superman': 1564, 'drunk': 1565, 'watchabl': 1566, 'leader': 1567, 'accord': 1568, 'freddi': 1569, 'brown': 1570, 'seat': 1571, 'appropri': 1572, 'tim': 1573, 'jeff': 1574, 'hitler': 1575, 'unknown': 1576, 'villag': 1577, 'knock': 1578, 'charg': 1579, 'keaton': 1580, 'empti': 1581, 'unnecessari': 1582, 'media': 1583, 'enemi': 1584, 'england': 1585, 'craft': 1586, 'buck': 1587, 'utter': 1588, 'strength': 1589, 'dare': 1590, 'wave': 1591, 'perspect': 1592, 'nativ': 1593, 'ford': 1594, 'correct': 1595, 'kiss': 1596, 'contrast': 1597, 'soap': 1598, 'chill': 1599, 'knowledg': 1600, 'speed': 1601, 'anywher': 1602, 'distract': 1603, 'magnific': 1604, 'nazi': 1605, 'fred': 1606, 'breath': 1607, '1980': 1608, 'ice': 1609, 'mission': 1610, 'moon': 1611, 'crowd': 1612, 'joan': 1613, 'jr': 1614, 'kate': 1615, '000': 1616, 'frighten': 1617, 'soft': 1618, 'hundr': 1619, 'dan': 1620, 'dick': 1621, 'nick': 1622, 'dozen': 1623, 'simon': 1624, 'radio': 1625, 'somebodi': 1626, 'andrew': 1627, 'shakespear': 1628, 'loss': 1629, 'academi': 1630, 'thousand': 1631, 'root': 1632, 'account': 1633, 'sum': 1634, 'quot': 1635, 'vehicl': 1636, '1970': 1637, 'behavior': 1638, 'leg': 1639, 'convent': 1640, 'gold': 1641, 'regular': 1642, 'compet': 1643, 'worker': 1644, 'pretenti': 1645, 'demand': 1646, 'privat': 1647, 'japan': 1648, 'explos': 1649, 'notabl': 1650, 'interpret': 1651, 'lynch': 1652, 'candi': 1653, 'stretch': 1654, 'debut': 1655, 'constant': 1656, 'tarzan': 1657, 'translat': 1658, 'prais': 1659, 'revolv': 1660, 'spi': 1661, 'sea': 1662, 'jesu': 1663, 'failur': 1664, 'sat': 1665, 'ass': 1666, 'threaten': 1667, 'technolog': 1668, 'franc': 1669, 'quiet': 1670, 'punch': 1671, 'higher': 1672, 'aid': 1673, 'toy': 1674, 'kevin': 1675, 'met': 1676, 'mike': 1677, 'abandon': 1678, 'interact': 1679, 'vh': 1680, 'separ': 1681, 'command': 1682, 'bet': 1683, 'confront': 1684, 'recal': 1685, 'gotten': 1686, 'stunt': 1687, 'belong': 1688, 'servic': 1689, 'site': 1690, 'techniqu': 1691, 'foot': 1692, 'cabl': 1693, 'freak': 1694, 'bug': 1695, 'jimmi': 1696, 'african': 1697, 'capabl': 1698, 'bright': 1699, 'fu': 1700, 'boat': 1701, 'stock': 1702, 'succeed': 1703, 'fat': 1704, 'clark': 1705, 'presid': 1706, 'structur': 1707, 'gene': 1708, 'spanish': 1709, 'kidnap': 1710, 'paper': 1711, 'whilst': 1712, 'belief': 1713, 'factor': 1714, 'witti': 1715, 'educ': 1716, 'realism': 1717, 'realis': 1718, 'bob': 1719, 'attend': 1720, 'complic': 1721, 'tree': 1722, 'broken': 1723, 'finest': 1724, 'santa': 1725, 'assist': 1726, 'v': 1727, 'smoke': 1728, 'up': 1729, 'observ': 1730, 'depart': 1731, 'determin': 1732, 'lewi': 1733, 'hat': 1734, 'fame': 1735, 'domin': 1736, 'rubbish': 1737, 'routin': 1738, 'oper': 1739, 'hook': 1740, 'advanc': 1741, 'morgan': 1742, 'lone': 1743, 'foreign': 1744, 'safe': 1745, 'kinda': 1746, 'rank': 1747, 'numer': 1748, 'shape': 1749, 'shallow': 1750, 'washington': 1751, 'vs': 1752, 'werewolf': 1753, 'rose': 1754, 'civil': 1755, 'morn': 1756, 'gari': 1757, 'accomplish': 1758, 'kong': 1759, 'winner': 1760, 'ordinari': 1761, 'peac': 1762, 'virtual': 1763, 'whenev': 1764, 'grab': 1765, 'h': 1766, 'offens': 1767, 'luck': 1768, 'bigger': 1769, 'welcom': 1770, 'patient': 1771, 'unfunni': 1772, 'contriv': 1773, 'activ': 1774, 'complain': 1775, 'trek': 1776, 'con': 1777, 'pretend': 1778, 'dimension': 1779, 'lesbian': 1780, 'wake': 1781, 'eric': 1782, 'flash': 1783, 'cain': 1784, 'dri': 1785, 'code': 1786, 'dancer': 1787, 'albert': 1788, 'corrupt': 1789, 'statu': 1790, 'manipul': 1791, 'guard': 1792, 'signific': 1793, 'sourc': 1794, 'gain': 1795, 'awkward': 1796, 'speech': 1797, 'context': 1798, 'anthoni': 1799, 'clip': 1800, 'sean': 1801, 'corni': 1802, '13': 1803, 'psycho': 1804, 'religion': 1805, 'theatric': 1806, 'priest': 1807, 'w': 1808, 'reli': 1809, 'advic': 1810, 'curiou': 1811, 'flow': 1812, 'addict': 1813, 'asian': 1814, 'specif': 1815, 'skin': 1816, 'secur': 1817, 'jennif': 1818, 'howard': 1819, 'promot': 1820, 'comfort': 1821, 'golden': 1822, 'core': 1823, 'organ': 1824, 'luke': 1825, 'lucki': 1826, 'cheat': 1827, 'cash': 1828, 'dislik': 1829, 'lower': 1830, 'associ': 1831, 'frankli': 1832, 'regret': 1833, 'devic': 1834, 'contribut': 1835, 'frequent': 1836, 'degre': 1837, 'wing': 1838, 'spell': 1839, 'balanc': 1840, 'print': 1841, 'lake': 1842, 'sake': 1843, 'forgiv': 1844, 'thoma': 1845, 'mass': 1846, 'betti': 1847, 'crack': 1848, 'gordon': 1849, 'unexpect': 1850, 'categori': 1851, 'construct': 1852, 'amateur': 1853, 'grown': 1854, 'invit': 1855, 'depend': 1856, 'unfold': 1857, 'matur': 1858, 'intellectu': 1859, 'grew': 1860, 'condit': 1861, 'honor': 1862, 'anna': 1863, 'walter': 1864, 'sudden': 1865, 'veteran': 1866, 'sole': 1867, 'spectacular': 1868, 'mirror': 1869, 'demonstr': 1870, 'overli': 1871, 'robin': 1872, 'meanwhil': 1873, 'liner': 1874, 'grip': 1875, 'gift': 1876, 'card': 1877, 'freedom': 1878, 'experienc': 1879, 'colour': 1880, 'subtitl': 1881, 'sheriff': 1882, 'section': 1883, 'theori': 1884, 'circumst': 1885, 'brilliantli': 1886, 'unabl': 1887, 'drew': 1888, 'oliv': 1889, 'crappi': 1890, 'sheer': 1891, 'pile': 1892, 'altern': 1893, 'parker': 1894, 'matt': 1895, 'cook': 1896, 'laughter': 1897, 'path': 1898, 'wander': 1899, 'defin': 1900, 'lawyer': 1901, 'relief': 1902, 'accident': 1903, 'treatment': 1904, 'hall': 1905, 'sinatra': 1906, 'captiv': 1907, 'dragon': 1908, 'hank': 1909, 'gratuit': 1910, 'halloween': 1911, 'moor': 1912, 'broadway': 1913, 'jacki': 1914, 'k': 1915, 'wound': 1916, 'unintent': 1917, 'barbara': 1918, 'wayn': 1919, 'kung': 1920, 'cowboy': 1921, 'surreal': 1922, 'winter': 1923, 'statement': 1924, 'canadian': 1925, 'spoof': 1926, 'treasur': 1927, 'gonna': 1928, 'compos': 1929, 'fish': 1930, 'fare': 1931, 'cheer': 1932, 'woodi': 1933, 'emerg': 1934, 'victor': 1935, 'sensit': 1936, 'unrealist': 1937, 'ran': 1938, 'driven': 1939, 'sympathet': 1940, 'neighbor': 1941, 'authent': 1942, 'menac': 1943, 'glass': 1944, 'expos': 1945, 'topic': 1946, 'overlook': 1947, 'ancient': 1948, 'gross': 1949, 'chief': 1950, 'handsom': 1951, 'michel': 1952, 'built': 1953, 'feet': 1954, 'contemporari': 1955, 'nevertheless': 1956, 'pleasant': 1957, 'russel': 1958, 'comedian': 1959, 'cinderella': 1960, 'stranger': 1961, 'network': 1962, 'gori': 1963, 'earn': 1964, 'underr': 1965, 'consider': 1966, 'blockbust': 1967, 'letter': 1968, 'miser': 1969, 'endless': 1970, 'switch': 1971, 'brook': 1972, 'solv': 1973, 'joseph': 1974, 'bullet': 1975, 'victoria': 1976, 'edward': 1977, 'convict': 1978, 'virgin': 1979, '0': 1980, 'scale': 1981, 'alex': 1982, 'chosen': 1983, 'scenario': 1984, 'cynic': 1985, 'sword': 1986, 'outrag': 1987, 'gut': 1988, 'com': 1989, 'curs': 1990, 'wrap': 1991, 'monkey': 1992, 'driver': 1993, 'substanc': 1994, 'juli': 1995, 'uk': 1996, 'proper': 1997, 'screenwrit': 1998, 'remov': 1999, 'bird': 2000, 'court': 2001, 'indic': 2002, 'par': 2003, 'grave': 2004, 'naiv': 2005, 'consequ': 2006, 'advertis': 2007, 'rental': 2008, 'roy': 2009, 'loser': 2010, 'inevit': 2011, 'nanci': 2012, 'slap': 2013, 'brave': 2014, 'germani': 2015, 'le': 2016, 'bridg': 2017, 'fatal': 2018, 'invis': 2019, 'provok': 2020, 'footbal': 2021, 'loui': 2022, 'anger': 2023, 'ador': 2024, 'alcohol': 2025, 'chan': 2026, 'anderson': 2027, 'professor': 2028, 'ryan': 2029, 'stumbl': 2030, 'willi': 2031, 'australian': 2032, 'assassin': 2033, 'patrick': 2034, 'sharp': 2035, 'bat': 2036, '1930': 2037, 'heck': 2038, 'lousi': 2039, 'amateurish': 2040, 'eight': 2041, 'ape': 2042, 'cell': 2043, 'liber': 2044, 'trilog': 2045, 'refresh': 2046, 'deni': 2047, 'strongli': 2048, 'saturday': 2049, 'sin': 2050, 'san': 2051, 'justifi': 2052, 'resid': 2053, 'vagu': 2054, 'indi': 2055, 'creator': 2056, 'mini': 2057, 'terrifi': 2058, 'reput': 2059, 'sympathi': 2060, 'defeat': 2061, 'expert': 2062, 'task': 2063, 'tediou': 2064, 'prevent': 2065, 'tabl': 2066, 'endur': 2067, 'basebal': 2068, 'employ': 2069, 'imit': 2070, 'che': 2071, 'trial': 2072, 'rival': 2073, 'offend': 2074, 'weekend': 2075, 'beach': 2076, 'pitch': 2077, 'dig': 2078, 'max': 2079, 'fairi': 2080, 'complaint': 2081, 'europ': 2082, 'murphi': 2083, 'format': 2084, 'risk': 2085, 'purchas': 2086, 'harsh': 2087, 'glimps': 2088, 'hype': 2089, 'reminisc': 2090, 'titan': 2091, 'bite': 2092, 'tini': 2093, 'powel': 2094, 'nois': 2095, 'north': 2096, 'prime': 2097, 'asleep': 2098, '14': 2099, 'till': 2100, 'strip': 2101, 'fals': 2102, 'texa': 2103, 'destruct': 2104, 'revel': 2105, 'descript': 2106, 'africa': 2107, 'spin': 2108, 'uninterest': 2109, 'sitcom': 2110, 'surfac': 2111, 'excess': 2112, 'inner': 2113, 'semi': 2114, 'arrest': 2115, 'argu': 2116, 'hitchcock': 2117, 'makeup': 2118, 'maintain': 2119, 'massiv': 2120, 'controversi': 2121, 'dinosaur': 2122, 'twin': 2123, 'stare': 2124, 'ideal': 2125, 'kim': 2126, 'ludicr': 2127, 'melodrama': 2128, 'reject': 2129, 'insist': 2130, 'expens': 2131, 'press': 2132, 'atroci': 2133, 'ga': 2134, 'ala': 2135, 'subplot': 2136, 'nail': 2137, 'columbo': 2138, 'forest': 2139, 'supernatur': 2140, 'host': 2141, 'erot': 2142, 'presum': 2143, 'identifi': 2144, 'notch': 2145, 'dude': 2146, 'cant': 2147, 'character': 2148, 'closer': 2149, 'method': 2150, 'guest': 2151, 'crude': 2152, 'forgett': 2153, 'plagu': 2154, 'border': 2155, 'princess': 2156, 'ear': 2157, 'lion': 2158, 'landscap': 2159, 'beast': 2160, 'foster': 2161, 'previous': 2162, 'accus': 2163, 'birth': 2164, 'damag': 2165, 'storytel': 2166, 'bound': 2167, 'aunt': 2168, 'pacino': 2169, 'urban': 2170, 'jungl': 2171, 'thirti': 2172, 'doll': 2173, 'guid': 2174, 'propaganda': 2175, 'chose': 2176, 'nude': 2177, 'emma': 2178, 'jess': 2179, 'pet': 2180, 'whoever': 2181, '25': 2182, 'mate': 2183, 'mainstream': 2184, 'warrior': 2185, 'deadli': 2186, 'exact': 2187, 'size': 2188, 'cooper': 2189, 'poster': 2190, 'latest': 2191, 'merit': 2192, 'upset': 2193, 'gritti': 2194, 'friday': 2195, 'contact': 2196, 'contest': 2197, 'sun': 2198, 'warner': 2199, 'rough': 2200, 'wilson': 2201, '1990': 2202, 'blend': 2203, 'popul': 2204, 'citizen': 2205, 'corps': 2206, 'buff': 2207, 'ton': 2208, 'settl': 2209, 'select': 2210, 'alic': 2211, 'bu': 2212, 'pitt': 2213, 'metal': 2214, 'environ': 2215, 'widow': 2216, 'mgm': 2217, 'overcom': 2218, 'rat': 2219, 'link': 2220, 'ted': 2221, 'lift': 2222, 'revolut': 2223, 'particip': 2224, 'guilti': 2225, 'johnson': 2226, 'moron': 2227, 'afternoon': 2228, 'corner': 2229, 'accompani': 2230, 'prostitut': 2231, 'exagger': 2232, '1960': 2233, 'corpor': 2234, 'matrix': 2235, 'friendli': 2236, 'instal': 2237, 'hood': 2238, 'leagu': 2239, 'doom': 2240, 'clair': 2241, 'multipl': 2242, 'sincer': 2243, 'holm': 2244, 'campi': 2245, 'defend': 2246, 'string': 2247, 'hip': 2248, 'lugosi': 2249, 'blah': 2250, 'irish': 2251, 'advis': 2252, 'aka': 2253, 'examin': 2254, 'junk': 2255, 'sunday': 2256, 'grim': 2257, 'varieti': 2258, 'icon': 2259, 'pro': 2260, 'shake': 2261, 'confid': 2262, 'tight': 2263, 'rachel': 2264, 'shut': 2265, 'medic': 2266, 'goal': 2267, 'attach': 2268, 'mexican': 2269, 'denni': 2270, 'directli': 2271, 'sullivan': 2272, 'jaw': 2273, 'prior': 2274, 'legendari': 2275, 'breast': 2276, 'sentenc': 2277, 'truck': 2278, 'terrorist': 2279, 'courag': 2280, 'duke': 2281, 'sarah': 2282, 'dean': 2283, 'vietnam': 2284, 'bourn': 2285, 'nose': 2286, 'un': 2287, 'yell': 2288, 'proceed': 2289, 'behav': 2290, 'entri': 2291, 'donald': 2292, 'hong': 2293, 'split': 2294, 'borrow': 2295, 'jerk': 2296, 'forth': 2297, 'everywher': 2298, 'lifetim': 2299, 'crush': 2300, 'gather': 2301, 'buri': 2302, 'concentr': 2303, 'confess': 2304, 'swim': 2305, 'stolen': 2306, 'unconvinc': 2307, 'california': 2308, 'turkey': 2309, 'pan': 2310, 'julia': 2311, 'lip': 2312, 'spite': 2313, 'deliveri': 2314, 'proud': 2315, 'quest': 2316, 'offici': 2317, 'hoffman': 2318, 'flight': 2319, 'downright': 2320, 'china': 2321, 'reward': 2322, 'freeman': 2323, 'fade': 2324, 'lazi': 2325, 'fabul': 2326, 'inept': 2327, 'jon': 2328, 'worthwhil': 2329, 'sir': 2330, 'jail': 2331, 'notori': 2332, 'sink': 2333, 'betray': 2334, 'encourag': 2335, 'lisa': 2336, 'retard': 2337, 'teeth': 2338, 'imageri': 2339, 'bell': 2340, 'shower': 2341, 'bag': 2342, 'susan': 2343, 'survivor': 2344, 'storm': 2345, 'relev': 2346, 'cousin': 2347, 'branagh': 2348, 'facial': 2349, 'finger': 2350, 'quirki': 2351, 'hugh': 2352, 'alright': 2353, 'trade': 2354, 'mexico': 2355, 'tremend': 2356, 'summari': 2357, 'bride': 2358, 'toler': 2359, 'stab': 2360, 'shark': 2361, 'bitter': 2362, 'pose': 2363, 'hyster': 2364, 'blown': 2365, 'ha': 2366, 'von': 2367, 'cruel': 2368, 'ned': 2369, 'christ': 2370, 'scheme': 2371, 'larri': 2372, 'ron': 2373, 'afterward': 2374, 'address': 2375, 'bone': 2376, 'thumb': 2377, 'tour': 2378, 'feed': 2379, 'pursu': 2380, 'snake': 2381, 'beg': 2382, 'traci': 2383, 'swear': 2384, 'distinct': 2385, 'screw': 2386, 'obscur': 2387, 'chair': 2388, 'stomach': 2389, 'photo': 2390, 'occas': 2391, 'raw': 2392, 'mechan': 2393, 'heavili': 2394, 'cabin': 2395, 'gruesom': 2396, 'chain': 2397, 'necessarili': 2398, 'holiday': 2399, 'resist': 2400, 'argument': 2401, 'render': 2402, 'sidney': 2403, 'southern': 2404, 'hardi': 2405, 'racist': 2406, 'philip': 2407, 'satan': 2408, 'understood': 2409, 'india': 2410, 'indulg': 2411, 'fourth': 2412, 'belov': 2413, 'midnight': 2414, 'outfit': 2415, 'integr': 2416, 'forgot': 2417, 'lay': 2418, 'stalk': 2419, 'pregnant': 2420, 'obnoxi': 2421, 'tongu': 2422, 'carol': 2423, 'magazin': 2424, 'ticket': 2425, 'deeper': 2426, 'slapstick': 2427, 'inhabit': 2428, 'garden': 2429, '17': 2430, 'restor': 2431, 'incid': 2432, 'shoe': 2433, 'devot': 2434, 'brad': 2435, 'lincoln': 2436, 'lili': 2437, 'anticip': 2438, 'guarante': 2439, 'maria': 2440, 'underground': 2441, 'sandler': 2442, 'benefit': 2443, 'divorc': 2444, 'disbelief': 2445, 'elizabeth': 2446, 'creation': 2447, 'capit': 2448, 'mildli': 2449, 'cring': 2450, 'princip': 2451, 'amazingli': 2452, 'slave': 2453, 'explod': 2454, 'bbc': 2455, 'greater': 2456, 'halfway': 2457, 'extraordinari': 2458, 'introduct': 2459, 'lesli': 2460, 'funnier': 2461, 'text': 2462, 'transfer': 2463, 'enhanc': 2464, 'extent': 2465, 'overwhelm': 2466, 'tap': 2467, 'punish': 2468, 'advantag': 2469, 'wreck': 2470, 'deliber': 2471, 'plant': 2472, 'preview': 2473, 'jessica': 2474, 'dynam': 2475, 'east': 2476, 'lo': 2477, 'horrif': 2478, 'lane': 2479, 'error': 2480, '2000': 2481, 'vincent': 2482, 'miller': 2483, 'appli': 2484, 'sophist': 2485, 'vacat': 2486, 'basi': 2487, 'homosexu': 2488, 'ensu': 2489, 'miscast': 2490, 'measur': 2491, 'via': 2492, 'mansion': 2493, 'reed': 2494, 'elev': 2495, 'steel': 2496, 'bollywood': 2497, 'extend': 2498, 'sleazi': 2499, 'uncomfort': 2500, 'spoken': 2501, 'cathol': 2502, 'hippi': 2503, 'fix': 2504, 'goofi': 2505, 'blair': 2506, 'daili': 2507, 'conceiv': 2508, 'mous': 2509, 'beer': 2510, 'breathtak': 2511, 'melt': 2512, 'savag': 2513, 'assign': 2514, 'overact': 2515, 'alter': 2516, 'stanley': 2517, 'dentist': 2518, 'oppos': 2519, 'burt': 2520, 'properli': 2521, 'succe': 2522, 'sacrific': 2523, 'inspector': 2524, 'carpent': 2525, 'everyday': 2526, 'subsequ': 2527, 'nowaday': 2528, 'neck': 2529, 'massacr': 2530, 'circl': 2531, 'laura': 2532, 'block': 2533, 'concert': 2534, 'access': 2535, 'portrait': 2536, 'seagal': 2537, 'christi': 2538, 'fallen': 2539, 'lesser': 2540, 'mob': 2541, 'pool': 2542, 'grey': 2543, 'fay': 2544, 'competit': 2545, 'chees': 2546, 'isol': 2547, 'sinist': 2548, 'relax': 2549, 'usa': 2550, 'jewish': 2551, 'jake': 2552, 'react': 2553, 'spiritu': 2554, 'suitabl': 2555, 'nine': 2556, 'creep': 2557, 'ironi': 2558, 'immens': 2559, 'nonetheless': 2560, 'appal': 2561, 'lyric': 2562, 'chop': 2563, '2006': 2564, 'stink': 2565, 'adopt': 2566, 'nut': 2567, 'spring': 2568, 'retir': 2569, 'needless': 2570, 'navi': 2571, 'shirt': 2572, 'reduc': 2573, 'luci': 2574, 'sold': 2575, 'rage': 2576, 'user': 2577, 'franchis': 2578, 'showcas': 2579, 'zone': 2580, 'bulli': 2581, 'uninspir': 2582, 'per': 2583, 'asham': 2584, 'bath': 2585, 'digit': 2586, 'stanwyck': 2587, 'jay': 2588, 'nurs': 2589, 'laid': 2590, 'amongst': 2591, 'oddli': 2592, '1940': 2593, 'illustr': 2594, '2001': 2595, 'broadcast': 2596, 'sutherland': 2597, 'upper': 2598, 'aspir': 2599, 'brando': 2600, 'throat': 2601, 'fulfil': 2602, 'stylish': 2603, 'disguis': 2604, 'baker': 2605, 'em': 2606, 'pound': 2607, 'neighborhood': 2608, 'wwii': 2609, 'impli': 2610, 'thief': 2611, 'endear': 2612, 'wanna': 2613, '18': 2614, 'pride': 2615, 'nobl': 2616, 'cinematograph': 2617, 'dinner': 2618, 'shift': 2619, 'distribut': 2620, 'dawn': 2621, 'coher': 2622, '16': 2623, 'shoulder': 2624, 'tens': 2625, 'bo': 2626, 'bett': 2627, 'prop': 2628, 'diseas': 2629, 'albeit': 2630, 'rochest': 2631, 'forti': 2632, 'poignant': 2633, 'snow': 2634, 'silenc': 2635, 'shout': 2636, 'contract': 2637, 'wash': 2638, 'surf': 2639, 'knife': 2640, 'rebel': 2641, 'function': 2642, 'matthau': 2643, 'instinct': 2644, 'henc': 2645, 'mindless': 2646, 'chuck': 2647, 'cancel': 2648, 'elvira': 2649, 'cannib': 2650, 'internet': 2651, 'silver': 2652, 'reunion': 2653, 'derek': 2654, 'heat': 2655, 'widmark': 2656, 'height': 2657, 'duti': 2658, 'proof': 2659, 'horrend': 2660, 'eeri': 2661, 'spielberg': 2662, 'torn': 2663, 'absorb': 2664, 'alik': 2665, 'musician': 2666, 'greatli': 2667, 'innov': 2668, 'premier': 2669, 'glori': 2670, 'repetit': 2671, 'incoher': 2672, 'elvi': 2673, 'pie': 2674, 'etern': 2675, 'neat': 2676, 'mill': 2677, 'blank': 2678, 'fbi': 2679, 'burton': 2680, 'diamond': 2681, 'britain': 2682, 'horrifi': 2683, 'itali': 2684, 'lovabl': 2685, 'announc': 2686, 'precis': 2687, 'crisi': 2688, 'redempt': 2689, 'bang': 2690, 'infam': 2691, 'trite': 2692, 'homag': 2693, 'nelson': 2694, 'wealthi': 2695, 'racism': 2696, 'dedic': 2697, 'ensembl': 2698, 'pat': 2699, 'flop': 2700, 'wilder': 2701, 'happili': 2702, 'chaplin': 2703, 'hammer': 2704, 'resolut': 2705, 'parallel': 2706, 'helen': 2707, 'streisand': 2708, 'carter': 2709, 'broke': 2710, 'st': 2711, 'mar': 2712, 'plastic': 2713, 'cube': 2714, 'factori': 2715, 'disagre': 2716, 'oil': 2717, 'triumph': 2718, 'conclud': 2719, 'row': 2720, 'fighter': 2721, 'rocket': 2722, 'march': 2723, 'vega': 2724, 'chuckl': 2725, 'own': 2726, 'bush': 2727, 'climb': 2728, 'weight': 2729, 'enorm': 2730, 'thug': 2731, 'sensibl': 2732, 'wherea': 2733, 'boot': 2734, 'kurt': 2735, 'spare': 2736, 'luca': 2737, 'lust': 2738, 'dane': 2739, 'unforgett': 2740, 'meaning': 2741, 'dump': 2742, 'mst3k': 2743, 'brand': 2744, 'adequ': 2745, 'stress': 2746, 'threat': 2747, 'arnold': 2748, 'karloff': 2749, 'butt': 2750, 'dear': 2751, 'engin': 2752, 'caricatur': 2753, 'rap': 2754, 'fifti': 2755, 'difficulti': 2756, 'bobbi': 2757, 'polish': 2758, 'fest': 2759, 'arrog': 2760, 'ego': 2761, 'swing': 2762, 'ralph': 2763, 'hamlet': 2764, 'flynn': 2765, 'secretari': 2766, 'journalist': 2767, 'barri': 2768, 'homeless': 2769, 'elabor': 2770, 'fanci': 2771, 'grate': 2772, 'arrang': 2773, 'simpson': 2774, 'puppet': 2775, 'induc': 2776, 'float': 2777, 'spike': 2778, 'resort': 2779, 'conspiraci': 2780, 'tool': 2781, 'unbear': 2782, 'choreograph': 2783, 'tribut': 2784, 'cruis': 2785, 'boll': 2786, 'basement': 2787, 'muppet': 2788, 'phillip': 2789, 'guilt': 2790, 'exercis': 2791, 'pig': 2792, 'document': 2793, 'puzzl': 2794, 'toilet': 2795, '24': 2796, 'tower': 2797, 'medium': 2798, 'babe': 2799, 'scarecrow': 2800, 'slip': 2801, 'file': 2802, 'layer': 2803, 'ham': 2804, 'fianc': 2805, 'editor': 2806, 'item': 2807, 'ward': 2808, 'korean': 2809, 'stan': 2810, 'librari': 2811, 'orient': 2812, 'spark': 2813, 'denzel': 2814, 'inexplic': 2815, 'minim': 2816, 'portion': 2817, 'assur': 2818, 'superfici': 2819, 'transit': 2820, 'philosoph': 2821, 'catherin': 2822, 'persona': 2823, 'doc': 2824, 'larger': 2825, 'territori': 2826, 'slaughter': 2827, 'glover': 2828, 'dorothi': 2829, 'jet': 2830, 'boredom': 2831, 'owe': 2832, 'pg': 2833, 'ban': 2834, 'shi': 2835, 'financi': 2836, 'curti': 2837, 'sneak': 2838, 'walken': 2839, 'jeremi': 2840, 'wolf': 2841, 'ambigu': 2842, 'whale': 2843, 'multi': 2844, 'hudson': 2845, 'backdrop': 2846, 'profound': 2847, 'eleph': 2848, 'metaphor': 2849, 'cusack': 2850, 'elsewher': 2851, 'hack': 2852, 'birthday': 2853, 'rave': 2854, 'union': 2855, 'viru': 2856, 'ultra': 2857, 'implaus': 2858, '2005': 2859, 'stiff': 2860, 'notion': 2861, 'gadget': 2862, 'lloyd': 2863, 'distanc': 2864, 'poison': 2865, 'eva': 2866, 'afford': 2867, 'disc': 2868, 'bibl': 2869, 'canada': 2870, 'superhero': 2871, 'newspap': 2872, 'squar': 2873, 'urg': 2874, 'pad': 2875, '1st': 2876, 'slight': 2877, 'deriv': 2878, 'eastwood': 2879, 'hawk': 2880, 'reader': 2881, 'button': 2882, 'montag': 2883, 'heston': 2884, 'skit': 2885, 'cure': 2886, 'restaur': 2887, 'drown': 2888, 'huh': 2889, 'sadist': 2890, 'charisma': 2891, 'spread': 2892, 'health': 2893, 'essenc': 2894, 'scoobi': 2895, 'gradual': 2896, 'companion': 2897, 'estat': 2898, 'godfath': 2899, 'fetch': 2900, 'invest': 2901, 'peak': 2902, 'dealt': 2903, 'maniac': 2904, 'muslim': 2905, 'lab': 2906, 'countless': 2907, 'alli': 2908, 'subtleti': 2909, 'ritter': 2910, 'gothic': 2911, 'kane': 2912, 'servant': 2913, 'cup': 2914, 'tea': 2915, 'miik': 2916, 'briefli': 2917, 'electr': 2918, 'salli': 2919, 'heroic': 2920, 'charismat': 2921, 'elect': 2922, 'iii': 2923, 'cole': 2924, 'wannab': 2925, 'bud': 2926, 'resourc': 2927, 'ingredi': 2928, 'nuanc': 2929, 'neil': 2930, 'grandmoth': 2931, 'reel': 2932, 'tender': 2933, 'admittedli': 2934, 'toss': 2935, 'label': 2936, 'reev': 2937, 'dawson': 2938, 'stronger': 2939, 'shall': 2940, 'punk': 2941, 'carrey': 2942, 'poverti': 2943, 'pauli': 2944, 'mild': 2945, 'gate': 2946, 'mafia': 2947, 'pit': 2948, 'stood': 2949, 'kubrick': 2950, 'tag': 2951, 'smash': 2952, 'ian': 2953, 'terri': 2954, 'burst': 2955, 'useless': 2956, 'outcom': 2957, 'bakshi': 2958, 'fond': 2959, 'updat': 2960, 'smooth': 2961, 'easier': 2962, 'cardboard': 2963, 'cox': 2964, 'astair': 2965, 'assault': 2966, '2002': 2967, 'melodramat': 2968, 'vari': 2969, 'exchang': 2970, 'coincid': 2971, 'vulner': 2972, 'increasingli': 2973, 'resolv': 2974, 'sketch': 2975, 'qualifi': 2976, 'fist': 2977, 'divers': 2978, 'rex': 2979, 'samurai': 2980, 'conveni': 2981, 'insert': 2982, 'templ': 2983, 'reynold': 2984, 'scratch': 2985, 'be': 2986, 'blast': 2987, 'suspend': 2988, 'luckili': 2989, 'brillianc': 2990, 'tame': 2991, 'walker': 2992, 'meat': 2993, 'hamilton': 2994, 'coach': 2995, 'matthew': 2996, 'seventi': 2997, 'ambiti': 2998, 'strictli': 2999, 'gotta': 3000, 'fisher': 3001, 'nuclear': 3002, 'jami': 3003, 'pin': 3004, 'farm': 3005, 'soprano': 3006, 'cave': 3007, 'timeless': 3008, 'spooki': 3009, 'discoveri': 3010, 'struck': 3011, 'grasp': 3012, 'monk': 3013, 'instantli': 3014, 'recreat': 3015, 'kudo': 3016, 'butcher': 3017, 'worthless': 3018, 'closet': 3019, 'convolut': 3020, 'clock': 3021, 'empir': 3022, 'brosnan': 3023, 'eccentr': 3024, 'revers': 3025, 'joey': 3026, 'ninja': 3027, 'mitchel': 3028, 'sloppi': 3029, 'fifteen': 3030, 'miracl': 3031, 'communist': 3032, 'importantli': 3033, 'partli': 3034, 'selfish': 3035, 'cliff': 3036, 'sidekick': 3037, 'clown': 3038, 'gray': 3039, 'norman': 3040, 'inconsist': 3041, 'eighti': 3042, 'wipe': 3043, 'seller': 3044, 'bleak': 3045, 'pal': 3046, 'declar': 3047, 'evok': 3048, 'websit': 3049, 'seed': 3050, 'enthusiast': 3051, 'flawless': 3052, '45': 3053, 'debat': 3054, 'destin': 3055, 'cheek': 3056, 'piano': 3057, 'farc': 3058, 'aforement': 3059, 'stoog': 3060, 'psychiatrist': 3061, 'ho': 3062, 'superbl': 3063, 'australia': 3064, 'chew': 3065, 'lifestyl': 3066, 'kitchen': 3067, 'incompet': 3068, 'regardless': 3069, 'abc': 3070, 'emili': 3071, 'directori': 3072, 'bash': 3073, 'wick': 3074, 'drivel': 3075, 'dash': 3076, 'anni': 3077, 'soviet': 3078, 'splatter': 3079, 'akshay': 3080, 'pressur': 3081, 'wrestl': 3082, 'dire': 3083, 'slice': 3084, 'cagney': 3085, 'artifici': 3086, 'beaten': 3087, 'boil': 3088, 'cameron': 3089, 'blob': 3090, 'doo': 3091, 'increas': 3092, 'suppli': 3093, 'ken': 3094, 'curios': 3095, 'glow': 3096, 'flower': 3097, 'dave': 3098, 'seduc': 3099, 'lou': 3100, 'recov': 3101, 'judi': 3102, 'distant': 3103, 'prize': 3104, 'helicopt': 3105, 'mann': 3106, 'chapter': 3107, 'pleasantli': 3108, 'duo': 3109, 'jar': 3110, 'cia': 3111, 'francisco': 3112, 'turner': 3113, 'glenn': 3114, 'hop': 3115, 'craig': 3116, 'panic': 3117, 'eleg': 3118, 'splendid': 3119, 'favour': 3120, 'drunken': 3121, 'goldberg': 3122, 'perri': 3123, 'psychot': 3124, 'combat': 3125, 'ranger': 3126, 'web': 3127, 'ellen': 3128, 'laurel': 3129, 'craven': 3130, 'philosophi': 3131, 'hatr': 3132, 'slightest': 3133, 'alexand': 3134, 'gentl': 3135, 'greek': 3136, 'wizard': 3137, 'plausibl': 3138, '20th': 3139, 'min': 3140, 'falk': 3141, 'flip': 3142, 'graduat': 3143, 'rid': 3144, 'gandhi': 3145, 'modesti': 3146, 'shortli': 3147, 'ruth': 3148, 'fx': 3149, 'preciou': 3150, 'knight': 3151, 'lend': 3152, 'holi': 3153, 'jealou': 3154, 'unpleas': 3155, 'ocean': 3156, 'felix': 3157, 'legal': 3158, 'tall': 3159, 'manhattan': 3160, 'futurist': 3161, 'harm': 3162, 'dracula': 3163, 'fund': 3164, 'we': 3165, 'forbidden': 3166, 'childish': 3167, 'explicit': 3168, 'ami': 3169, 'digniti': 3170, 'scientif': 3171, 'overdon': 3172, 'reviv': 3173, 'thread': 3174, 'nod': 3175, 'tank': 3176, 'bless': 3177, 'mock': 3178, 'giallo': 3179, 'yesterday': 3180, 'unwatch': 3181, 'fever': 3182, 'margaret': 3183, 'repeatedli': 3184, '99': 3185, 'torment': 3186, 'broad': 3187, '2004': 3188, 'awe': 3189, 'thick': 3190, 'nerv': 3191, 'awaken': 3192, 'eve': 3193, 'elderli': 3194, 'pirat': 3195, 'mel': 3196, 'verhoeven': 3197, 'roman': 3198, 'launch': 3199, 'acclaim': 3200, 'eas': 3201, 'griffith': 3202, 'bin': 3203, 'uniform': 3204, 'custom': 3205, 'absenc': 3206, 'ambit': 3207, 'royal': 3208, 'rivet': 3209, 'automat': 3210, 'ah': 3211, 'romero': 3212, 'publish': 3213, 'timothi': 3214, 'stiller': 3215, 'kay': 3216, 'politician': 3217, 'lean': 3218, 'pulp': 3219, 'phrase': 3220, 'antic': 3221, 'gabriel': 3222, 'darker': 3223, 'stinker': 3224, 'wallac': 3225, 'purpl': 3226, 'foul': 3227, 'transport': 3228, 'homicid': 3229, 'pierc': 3230, 'sunshin': 3231, 'warren': 3232, 'bathroom': 3233, 'tomato': 3234, 'termin': 3235, 'crook': 3236, 'q': 3237, 'evolv': 3238, 'sixti': 3239, 'li': 3240, 'pray': 3241, 'packag': 3242, 'donna': 3243, 'kenneth': 3244, 'coloni': 3245, 'contrari': 3246, 'album': 3247, 'hollow': 3248, '2003': 3249, 'saint': 3250, 'marin': 3251, 'awak': 3252, 'choreographi': 3253, 'brazil': 3254, 'eyr': 3255, 'revolutionari': 3256, 'viciou': 3257, 'ought': 3258, 'karen': 3259, 'prom': 3260, 'horrid': 3261, 'rambo': 3262, 'juvenil': 3263, 'blade': 3264, 'boast': 3265, 'ramon': 3266, 'twelv': 3267, 'dose': 3268, 'kapoor': 3269, 'defi': 3270, 'overr': 3271, 'conserv': 3272, 'option': 3273, 'candid': 3274, 'stole': 3275, 'beatti': 3276, 'nerd': 3277, 'mummi': 3278, 'ireland': 3279, 'mildr': 3280, 'fulci': 3281, 'trio': 3282, 'flame': 3283, 'funer': 3284, 'collabor': 3285, 'altman': 3286, 'astonish': 3287, 'natali': 3288, 'detract': 3289, 'global': 3290, 'jazz': 3291, 'confirm': 3292, 'kirk': 3293, 'protest': 3294, 'spit': 3295, 'yellow': 3296, 'enterpris': 3297, 'tommi': 3298, 'whip': 3299, 'leap': 3300, 'delici': 3301, 'audio': 3302, 'destini': 3303, 'bottl': 3304, 'racial': 3305, 'mystic': 3306, 'blake': 3307, 'nicholson': 3308, 'bull': 3309, 'shade': 3310, 'bedroom': 3311, 'staff': 3312, 'enchant': 3313, 'adolesc': 3314, 'inherit': 3315, 'todd': 3316, 'visibl': 3317, 'meaningless': 3318, 'pseudo': 3319, 'merci': 3320, 'popcorn': 3321, 'reunit': 3322, 'altogeth': 3323, 'threw': 3324, 'neo': 3325, 'harder': 3326, 'swedish': 3327, 'fonda': 3328, 'vivid': 3329, 'wire': 3330, 'madonna': 3331, 'kennedi': 3332, 'decor': 3333, 'befriend': 3334, 'ruthless': 3335, 'lawrenc': 3336, 'respond': 3337, 'voight': 3338, 'synopsi': 3339, 'uneven': 3340, 'fanat': 3341, 'reserv': 3342, 'bust': 3343, 'tip': 3344, 'crocodil': 3345, 'exhibit': 3346, 'lemmon': 3347, 'leonard': 3348, 'suspici': 3349, 'await': 3350, 'moodi': 3351, 'jew': 3352, 'roommat': 3353, 'atlanti': 3354, 'edi': 3355, '2007': 3356, 'garner': 3357, 'bargain': 3358, 'chao': 3359, 'unsettl': 3360, 'abysm': 3361, 'rural': 3362, 'incident': 3363, 'audit': 3364, 'bradi': 3365, 'clumsi': 3366, 'bold': 3367, 'clint': 3368, 'ventur': 3369, 'dimens': 3370, 'centr': 3371, 'voyag': 3372, 'carl': 3373, 'palma': 3374, 'holli': 3375, 'versu': 3376, 'acknowledg': 3377, 'imperson': 3378, 'tiger': 3379, 'humili': 3380, 'poetic': 3381, 'immigr': 3382, 'lit': 3383, 'echo': 3384, 'characterist': 3385, 'nearbi': 3386, 'hart': 3387, 'cari': 3388, 'timon': 3389, 'mall': 3390, '2nd': 3391, 'elimin': 3392, 'wealth': 3393, 'neglect': 3394, 'troop': 3395, 'trail': 3396, 'ant': 3397, 'cd': 3398, 'cuba': 3399, 'daddi': 3400, 'collaps': 3401, 'prejudic': 3402, 'celluloid': 3403, 'homer': 3404, 'solo': 3405, 'jeffrey': 3406, 'saga': 3407, 'mistaken': 3408, 'domest': 3409, 'paus': 3410, 'infect': 3411, 'pun': 3412, 'repuls': 3413, 'mickey': 3414, 'marshal': 3415, 'gear': 3416, 'undoubtedli': 3417, 'sore': 3418, 'coat': 3419, 'coffe': 3420, 'apolog': 3421, 'assembl': 3422, 'interrupt': 3423, 'cake': 3424, 'equip': 3425, 'inan': 3426, 'leon': 3427, 'inappropri': 3428, '1996': 3429, 'hbo': 3430, 'tribe': 3431, 'harvey': 3432, 'chest': 3433, 'pant': 3434, 'promin': 3435, 'ginger': 3436, 'milk': 3437, 'olivi': 3438, 'maggi': 3439, 'airplan': 3440, 'institut': 3441, 'jenni': 3442, 'furthermor': 3443, 'highest': 3444, 'consum': 3445, 'devast': 3446, 'pen': 3447, 'brooklyn': 3448, 'retain': 3449, 'trace': 3450, 'solut': 3451, 'colleagu': 3452, 'vulgar': 3453, 'embrac': 3454, 'exot': 3455, 'pot': 3456, 'primari': 3457, 'florida': 3458, 'instant': 3459, 'colonel': 3460, 'humbl': 3461, 'aveng': 3462, 'polanski': 3463, 'outer': 3464, 'dutch': 3465, 'descend': 3466, 'smaller': 3467, 'godzilla': 3468, 'ya': 3469, 'linda': 3470, '3rd': 3471, 'gender': 3472, 'sale': 3473, 'bowl': 3474, 'wive': 3475, '1999': 3476, 'seduct': 3477, 'strain': 3478, 'poke': 3479, 'cope': 3480, 'illog': 3481, 'rick': 3482, 'dian': 3483, 'disabl': 3484, 'principl': 3485, 'inferior': 3486, 'devoid': 3487, 'secondli': 3488, 'lol': 3489, 'blatant': 3490, 'beneath': 3491, 'mixtur': 3492, 'dud': 3493, 'cue': 3494, 'vast': 3495, 'scope': 3496, 'rabbit': 3497, 'gloriou': 3498, 'dive': 3499, 'hal': 3500, 'glamor': 3501, 'primarili': 3502, 'predecessor': 3503, 'yard': 3504, 'bubbl': 3505, 'gundam': 3506, 'museum': 3507, 'invas': 3508, 'pearl': 3509, 'streep': 3510, 'disjoint': 3511, 'talki': 3512, 'shirley': 3513, 'arab': 3514, 'senseless': 3515, 'hideou': 3516, 'alfr': 3517, 'shelf': 3518, 'simplist': 3519, 'countrysid': 3520, 'alert': 3521, 'grinch': 3522, 'myer': 3523, 'april': 3524, 'et': 3525, 'aggress': 3526, 'breed': 3527, 'garbo': 3528, 'trademark': 3529, 'z': 3530, 'casual': 3531, 'domino': 3532, 'vanish': 3533, 'slide': 3534, 'uwe': 3535, 'defens': 3536, 'oz': 3537, 'obtain': 3538, 'illeg': 3539, 'disgrac': 3540, 'robberi': 3541, 'khan': 3542, 'rendit': 3543, 'boom': 3544, 'sh': 3545, 'maci': 3546, 'robinson': 3547, 'hopeless': 3548, 'stellar': 3549, 'experiment': 3550, 'loyal': 3551, 'mail': 3552, 'hardcor': 3553, 'stir': 3554, 'stack': 3555, 'acid': 3556, 'applaud': 3557, 'unhappi': 3558, 'mayor': 3559, 'diana': 3560, 'tempt': 3561, 'topless': 3562, 'span': 3563, 'spider': 3564, 'psychic': 3565, 'incomprehens': 3566, 'soccer': 3567, 'dismiss': 3568, 'amanda': 3569, 'rifl': 3570, 'fri': 3571, 'counter': 3572, 'recruit': 3573, 'hartley': 3574, 'emphasi': 3575, 'blew': 3576, 'grandfath': 3577, 'craze': 3578, 'dicken': 3579, 'scroog': 3580, 'tenant': 3581, 'wont': 3582, 'berlin': 3583, 'declin': 3584, 'niro': 3585, 'bitch': 3586, 'intim': 3587, 'goer': 3588, 'porno': 3589, 'resurrect': 3590, 'shed': 3591, 'woo': 3592, 'faster': 3593, 'sympath': 3594, 'lumet': 3595, 'ration': 3596, 'wet': 3597, 'ethnic': 3598, 'justin': 3599, 'riot': 3600, 'sibl': 3601, 'parad': 3602, 'trashi': 3603, 'revolt': 3604, 'shaw': 3605, 'partial': 3606, 'slick': 3607, 'weakest': 3608, 'farmer': 3609, 'wheel': 3610, 'steam': 3611, 'biographi': 3612, 'dealer': 3613, '00': 3614, 'nephew': 3615, 'mario': 3616, 'jonathan': 3617, 'immort': 3618, 'unreal': 3619, 'hopper': 3620, 'region': 3621, 'eager': 3622, 'andr': 3623, 'enlighten': 3624, 'worm': 3625, 'hesit': 3626, 'ensur': 3627, 'ballet': 3628, 'gap': 3629, 'patriot': 3630, 'choru': 3631, 'wendi': 3632, 'honesti': 3633, 'commend': 3634, 'rider': 3635, 'feminist': 3636, 'lena': 3637, 'owen': 3638, 'prequel': 3639, 'sandra': 3640, 'safeti': 3641, 'blunt': 3642, 'repress': 3643, 'snap': 3644, 'victori': 3645, 'kingdom': 3646, 'leo': 3647, 'properti': 3648, 'psychopath': 3649, 'util': 3650, 'morri': 3651, 'wore': 3652, 'nostalg': 3653, 'hung': 3654, 'franco': 3655, 'mutant': 3656, 'similarli': 3657, 'vice': 3658, 'sappi': 3659, 'composit': 3660, 'skull': 3661, 'confin': 3662, 'charlott': 3663, 'macarthur': 3664, 'valuabl': 3665, 'pattern': 3666, 'acquir': 3667, 'heartbreak': 3668, 'snl': 3669, 'hyde': 3670, 'deed': 3671, 'bow': 3672, 'thru': 3673, 'tad': 3674, 'recycl': 3675, 'emperor': 3676, 'rambl': 3677, 'bonu': 3678, 'del': 3679, 'whoopi': 3680, 'rope': 3681, 'farrel': 3682, 'repli': 3683, 'miseri': 3684, 'dust': 3685, 'despair': 3686, 'kyle': 3687, 'rocki': 3688, 'dalton': 3689, 'drain': 3690, 'campbel': 3691, 'bumbl': 3692, 'compass': 3693, 'cg': 3694, '1972': 3695, 'strand': 3696, 'tail': 3697, 'exit': 3698, 'speci': 3699, 'nervou': 3700, 'compens': 3701, 'bergman': 3702, 'drum': 3703, 'montana': 3704, 'latin': 3705, 'mistress': 3706, 'bleed': 3707, 'airport': 3708, 'downhil': 3709, 'wacki': 3710, 'chess': 3711, 'contempl': 3712, '35': 3713, 'orson': 3714, 'pour': 3715, 'oppress': 3716, 'gal': 3717, 'roth': 3718, 'romp': 3719, 'da': 3720, 'tonight': 3721, 'rotten': 3722, 'rapist': 3723, 'martian': 3724, 'radic': 3725, 'carradin': 3726, 'olli': 3727, 'gimmick': 3728, 'slug': 3729, 'percept': 3730, 'mislead': 3731, 'preach': 3732, 'melodi': 3733, 'dazzl': 3734, '1983': 3735, 'unpredict': 3736, 'pursuit': 3737, 'belt': 3738, 'arc': 3739, 'banal': 3740, 'pervert': 3741, 'pervers': 3742, 'taught': 3743, 'stilt': 3744, 'heal': 3745, 'slash': 3746, 'arguabl': 3747, 'tackl': 3748, 'attorney': 3749, 'champion': 3750, 'paltrow': 3751, 'shelley': 3752, 'tooth': 3753, 'programm': 3754, 'edgar': 3755, 'passeng': 3756, 'vocal': 3757, 'cleverli': 3758, 'rubi': 3759, 'uplift': 3760, 'gambl': 3761, 'tiresom': 3762, 'poem': 3763, 'orang': 3764, 'graham': 3765, 'conneri': 3766, 'vengeanc': 3767, 'chicken': 3768, 'virginia': 3769, 'franki': 3770, 'employe': 3771, 'closest': 3772, 'bela': 3773, 'duval': 3774, 'plight': 3775, 'marti': 3776, 'sensat': 3777, 'maid': 3778, 'mesmer': 3779, 'dixon': 3780, 'raymond': 3781, 'quarter': 3782, 'secretli': 3783, 'mute': 3784, 'engross': 3785, 'paranoia': 3786, 'tube': 3787, 'iran': 3788, 'outing': 3789, 'giggl': 3790, 'pokemon': 3791, 'profan': 3792, 'suffic': 3793, 'lundgren': 3794, 'swallow': 3795, 'inject': 3796, 'calm': 3797, 'whine': 3798, 'monologu': 3799, 'numb': 3800, 'gerard': 3801, 'habit': 3802, 'bay': 3803, 'convincingli': 3804, 'yawn': 3805, 'abraham': 3806, 'climact': 3807, 'sirk': 3808, 'crystal': 3809, 'extens': 3810, 'volum': 3811, 'clone': 3812, 'amitabh': 3813, '1968': 3814, 'scottish': 3815, 'junior': 3816, 'trend': 3817, 'taxi': 3818, 'im': 3819, 'abort': 3820, 'septemb': 3821, 'grotesqu': 3822, 'dispos': 3823, 'surpass': 3824, 'underst': 3825, 'ethan': 3826, 'nichola': 3827, 'profess': 3828, 'fed': 3829, 'expand': 3830, 'bend': 3831, 'poetri': 3832, 'meander': 3833, 'backward': 3834, 'plod': 3835, 'earl': 3836, 'austen': 3837, 'lowest': 3838, 'chicago': 3839, 'linger': 3840, 'frankenstein': 3841, 'franci': 3842, 'spock': 3843, 'richardson': 3844, 'rubber': 3845, 'spoke': 3846, 'catchi': 3847, 'myth': 3848, 'lure': 3849, 'econom': 3850, 'nostalgia': 3851, 'cannon': 3852, 'literatur': 3853, 'tourist': 3854, 'hum': 3855, 'dysfunct': 3856, 'mundan': 3857, 'sue': 3858, 'descent': 3859, 'household': 3860, 'instrument': 3861, 'rant': 3862, 'eugen': 3863, 'compliment': 3864, 'greedi': 3865, 'waitress': 3866, 'der': 3867, 'simplic': 3868, 'stallon': 3869, 'muddl': 3870, 'recognis': 3871, 'deaf': 3872, 'cent': 3873, 'irrelev': 3874, 'furi': 3875, 'mortal': 3876, 'dictat': 3877, 'flee': 3878, 'mankind': 3879, 'phantom': 3880, 'occupi': 3881, 'dement': 3882, 'insur': 3883, 'stale': 3884, 'molli': 3885, 'eaten': 3886, 'phoni': 3887, 'sissi': 3888, 'alongsid': 3889, 'lang': 3890, 'randi': 3891, 'crucial': 3892, 'recognit': 3893, 'hello': 3894, 'louis': 3895, 'firstli': 3896, 'coast': 3897, 'omen': 3898, 'june': 3899, 'equival': 3900, 'map': 3901, 'bacal': 3902, 'duck': 3903, 'carel': 3904, 'damon': 3905, 'twilight': 3906, 'lengthi': 3907, 'bump': 3908, 'heel': 3909, 'reign': 3910, 'drake': 3911, '1973': 3912, 'wisdom': 3913, 'distinguish': 3914, 'rude': 3915, 'labor': 3916, 'daisi': 3917, 'freez': 3918, 'newli': 3919, 'dreari': 3920, 'loyalti': 3921, 'onlin': 3922, 'likewis': 3923, 'bike': 3924, 'antwon': 3925, 'cyborg': 3926, 'blackmail': 3927, 'biko': 3928, 'ashley': 3929, 'buffalo': 3930, 'rooney': 3931, 'grayson': 3932, 'damm': 3933, 'worn': 3934, 'approv': 3935, 'unorigin': 3936, 'butler': 3937, 'pink': 3938, 'incorpor': 3939, 'nineti': 3940, 'provoc': 3941, 'vein': 3942, 'inher': 3943, 'baddi': 3944, 'chronicl': 3945, 'ridden': 3946, 'sailor': 3947, 'analysi': 3948, 'keith': 3949, 'boxer': 3950, 'interior': 3951, 'prey': 3952, 'tunnel': 3953, 'startl': 3954, 'proce': 3955, 'attribut': 3956, 'exposur': 3957, 'barrymor': 3958, 'basketbal': 3959, 'emphas': 3960, 'barrel': 3961, 'elm': 3962, 'meyer': 3963, 'undeni': 3964, 'hypnot': 3965, 'degrad': 3966, 'indiffer': 3967, 'belushi': 3968, 'meg': 3969, 'simmon': 3970, 'unrel': 3971, 'drift': 3972, 'er': 3973, 'substitut': 3974, 'mighti': 3975, 'stalker': 3976, 'walsh': 3977, 'condemn': 3978, 'julian': 3979, 'fleet': 3980, 'othello': 3981, 'predat': 3982, 'underli': 3983, 'robbin': 3984, 'improvis': 3985, 'mormon': 3986, 'nicol': 3987, 'bunni': 3988, 'carla': 3989, 'millionair': 3990, 'roof': 3991, 'exquisit': 3992, 'alarm': 3993, 'disord': 3994, 'marion': 3995, 'palac': 3996, 'unawar': 3997, 'mtv': 3998, 'edgi': 3999, 'warmth': 4000, 'lampoon': 4001, 'enthusiasm': 4002, 'shove': 4003, 'novak': 4004, 'dolph': 4005, 'errol': 4006, 'agenda': 4007, 'nyc': 4008, 'priceless': 4009, 'vital': 4010, 'reid': 4011, 'firm': 4012, 'alison': 4013, 'greed': 4014, 'watson': 4015, 'hay': 4016, '3d': 4017, 'rukh': 4018, 'iraq': 4019, 'distort': 4020, 'thompson': 4021, 'nun': 4022, 'ponder': 4023, 'eastern': 4024, 'unleash': 4025, 'peril': 4026, 'glanc': 4027, 'gestur': 4028, 'session': 4029, 'simultan': 4030, 'spain': 4031, 'drip': 4032, 'showdown': 4033, '13th': 4034, 'orlean': 4035, 'coup': 4036, 'peck': 4037, 'preserv': 4038, 'championship': 4039, 'profit': 4040, 'testament': 4041, 'minimum': 4042, 'beatl': 4043, 'crown': 4044, 'israel': 4045, 'valentin': 4046, 'petti': 4047, '1933': 4048, 'randomli': 4049, 'what': 4050, 'angela': 4051, 'campaign': 4052, 'sergeant': 4053, 'cassidi': 4054, 'pamela': 4055, 'zizek': 4056, 'calib': 4057, 'crawl': 4058, 'rout': 4059, 'mon': 4060, 'realm': 4061, 'bro': 4062, 'crow': 4063, 'wig': 4064, '1984': 4065, 'scotland': 4066, 'sabrina': 4067, 'din': 4068, 'stroke': 4069, 'perpetu': 4070, 'restrain': 4071, 'represent': 4072, 'stake': 4073, 'regist': 4074, 'unimagin': 4075, 'shootout': 4076, 'exposit': 4077, 'reson': 4078, 'han': 4079, 'cream': 4080, 'kurosawa': 4081, 'cooki': 4082, 'contradict': 4083, 'quinn': 4084, 'gentleman': 4085, 'travesti': 4086, 'buster': 4087, 'empathi': 4088, 'brenda': 4089, 'jan': 4090, 'valley': 4091, 'climat': 4092, 'fido': 4093, 'miyazaki': 4094, 'ross': 4095, 'fuller': 4096, 'meryl': 4097, 'dana': 4098, '1987': 4099, 'perceiv': 4100, 'sucker': 4101, 'delic': 4102, 'businessman': 4103, 'pretens': 4104, 'painter': 4105, 'tacki': 4106, 'geek': 4107, '1997': 4108, 'traumat': 4109, 'passabl': 4110, 'distress': 4111, 'mclaglen': 4112, 'spacey': 4113, 'unsatisfi': 4114, 'censor': 4115, 'soderbergh': 4116, 'greg': 4117, 'stargat': 4118, 'shaki': 4119, 'josh': 4120, 'wax': 4121, 'crawford': 4122, 'darren': 4123, 'warrant': 4124, 'femm': 4125, 'unseen': 4126, 'compromis': 4127, 'demis': 4128, 'pole': 4129, 'cloud': 4130, 'abomin': 4131, 'baldwin': 4132, 'sammi': 4133, 'absent': 4134, 'shoddi': 4135, 'derang': 4136, 'ustinov': 4137, 'monoton': 4138, 'reluct': 4139, 'norm': 4140, 'polici': 4141, 'jewel': 4142, 'valid': 4143, 'accuraci': 4144, 'uncov': 4145, 'nathan': 4146, '1993': 4147, 'primit': 4148, 'verbal': 4149, 'tech': 4150, 'deceas': 4151, 'fog': 4152, 'kumar': 4153, 'dee': 4154, 'exclus': 4155, 'correctli': 4156, 'clash': 4157, 'seal': 4158, 'unravel': 4159, 'expedit': 4160, 'anchor': 4161, 'austin': 4162, 'sid': 4163, 'wholli': 4164, 'tarantino': 4165, 'furiou': 4166, 'click': 4167, 'judgment': 4168, 'antonioni': 4169, 'fenc': 4170, 'deniro': 4171, 'sand': 4172, 'logan': 4173, 'seldom': 4174, '2008': 4175, 'temper': 4176, 'sheet': 4177, '3000': 4178, 'hallucin': 4179, 'ritual': 4180, 'roller': 4181, 'sustain': 4182, 'tax': 4183, 'dreck': 4184, 'conduct': 4185, 'behold': 4186, 'unfair': 4187, 'joel': 4188, 'darn': 4189, 'debt': 4190, '1995': 4191, 'bake': 4192, 'fought': 4193, 'wang': 4194, 'sunni': 4195, 'shanghai': 4196, 'crippl': 4197, 'enforc': 4198, 'clerk': 4199, 'murray': 4200, 'patienc': 4201, 'trait': 4202, 'mode': 4203, 'fart': 4204, 'fabric': 4205, 'alec': 4206, '1971': 4207, 'wretch': 4208, 'pocket': 4209, 'malon': 4210, 'slam': 4211, 'vanc': 4212, 'nicola': 4213, 'runner': 4214, 'grief': 4215, 'guitar': 4216, 'divid': 4217, 'helpless': 4218, 'critiqu': 4219, 'rita': 4220, 'scriptwrit': 4221, 'phil': 4222, 'shell': 4223, 'fundament': 4224, 'despis': 4225, 'sweep': 4226, 'conscious': 4227, 'soup': 4228, 'stuart': 4229, 'canyon': 4230, 'bias': 4231, 'tactic': 4232, 'squad': 4233, 'pete': 4234, 'outlin': 4235, 'bridget': 4236, 'preposter': 4237, 'exhaust': 4238, 'schedul': 4239, 'robber': 4240, 'preston': 4241, 'legaci': 4242, 'technicolor': 4243, 'stark': 4244, 'clau': 4245, 'penni': 4246, 'isabel': 4247, 'inabl': 4248, 'sugar': 4249, 'jacket': 4250, 'rehash': 4251, 'delv': 4252, 'culmin': 4253, 'cigarett': 4254, 'alley': 4255, 'alicia': 4256, 'restrict': 4257, 'bloom': 4258, 'boyl': 4259, 'drove': 4260, 'lacklust': 4261, 'kansa': 4262, 'unexpectedli': 4263, 'vomit': 4264, 'russia': 4265, 'liberti': 4266, 'gregori': 4267, 'newman': 4268, 'palanc': 4269, 'passag': 4270, 'rear': 4271, 'flair': 4272, 'implic': 4273, 'sentinel': 4274, 'propos': 4275, 'jodi': 4276, 'marc': 4277, 'consciou': 4278, 'agenc': 4279, 'invad': 4280, 'downey': 4281, 'connor': 4282, 'sniper': 4283, '1936': 4284, 'cap': 4285, 'behaviour': 4286, 'arrow': 4287, 'karl': 4288, 'ladder': 4289, 'improb': 4290, 'yeti': 4291, 'chainsaw': 4292, 'awhil': 4293, 'lush': 4294, 'tripe': 4295, 'rehears': 4296, 'vet': 4297, 'wrench': 4298, 'pale': 4299, 'aesthet': 4300, 'rod': 4301, 'horn': 4302, 'tendenc': 4303, 'asylum': 4304, 'feat': 4305, 'bacon': 4306, 'delet': 4307, 'rampag': 4308, 'foxx': 4309, '22': 4310, 'mccoy': 4311, 'sharon': 4312, 'kolchak': 4313, 'lurk': 4314, 'rhythm': 4315, 'fright': 4316, 'suspicion': 4317, 'filler': 4318, 'shortcom': 4319, 'hulk': 4320, 'aristocrat': 4321, 'prank': 4322, '1988': 4323, 'coaster': 4324, 'elit': 4325, 'tasteless': 4326, 'visitor': 4327, 'thunderbird': 4328, 'sung': 4329, 'loneli': 4330, 'underneath': 4331, '1920': 4332, 'wagner': 4333, 'hackney': 4334, 'weav': 4335, 'hungri': 4336, 'wildli': 4337, 'scoop': 4338, 'rumor': 4339, 'globe': 4340, 'newcom': 4341, '1978': 4342, 'paradis': 4343, 'minu': 4344, 'paramount': 4345, 'tomorrow': 4346, 'conscienc': 4347, 'suffici': 4348, 'financ': 4349, 'spice': 4350, 'basing': 4351, 'el': 4352, 'amazon': 4353, '19th': 4354, 'stream': 4355, 'en': 4356, 'tierney': 4357, 'chamberlain': 4358, 'recogniz': 4359, 'quietli': 4360, 'impos': 4361, 'brit': 4362, 'beverli': 4363, 'couch': 4364, 'penn': 4365, 'dirt': 4366, 'choppi': 4367, 'paxton': 4368, 'lectur': 4369, 'straightforward': 4370, 'curli': 4371, '1939': 4372, 'leigh': 4373, 'atroc': 4374, 'standout': 4375, 'springer': 4376, 'immers': 4377, '1989': 4378, 'literari': 4379, 'inmat': 4380, 'wwe': 4381, 'entranc': 4382, 'ram': 4383, 'counterpart': 4384, 'worship': 4385, 'teas': 4386, 'abrupt': 4387, 'rub': 4388, 'minist': 4389, 'heist': 4390, 'smell': 4391, 'hopkin': 4392, 'naughti': 4393, 'iv': 4394, 'posey': 4395, 'secondari': 4396, 'grudg': 4397, 'bread': 4398, 'ingeni': 4399, '75': 4400, 'cancer': 4401, 'chavez': 4402, 'ace': 4403, 'yearn': 4404, 'missil': 4405, 'nemesi': 4406, 'nolan': 4407, 'sublim': 4408, 'duel': 4409, 'heartfelt': 4410, 'transcend': 4411, 'sassi': 4412, 'moreov': 4413, 'skeptic': 4414, 'quaid': 4415, 'net': 4416, 'bernard': 4417, 'policeman': 4418, 'watcher': 4419, 'misguid': 4420, 'injuri': 4421, 'entitl': 4422, 'geni': 4423, 'variat': 4424, 'lindsay': 4425, 'ratso': 4426, '1986': 4427, 'attenborough': 4428, 'enthral': 4429, 'clan': 4430, 'morbid': 4431, 'cattl': 4432, 'esther': 4433, 'convert': 4434, 'laurenc': 4435, 'out': 4436, 'artsi': 4437, 'carlito': 4438, 'hk': 4439, 'egg': 4440, 'steadi': 4441, 'vader': 4442, 'moder': 4443, 'diari': 4444, 'enabl': 4445, 'cruelti': 4446, 'tyler': 4447, 'unexplain': 4448, 'reliabl': 4449, 'characteris': 4450, 'bean': 4451, 'grin': 4452, 'puppi': 4453, 'youngest': 4454, 'facil': 4455, 'uncut': 4456, 'buzz': 4457, 'graini': 4458, 'setup': 4459, '1979': 4460, 'mytholog': 4461, 'brood': 4462, 'obstacl': 4463, 'kitti': 4464, 'kidman': 4465, 'spiral': 4466, 'bye': 4467, 'rosemari': 4468, 'hopelessli': 4469, 'dont': 4470, 'poe': 4471, 'patricia': 4472, 'disastr': 4473, 'bounc': 4474, 'clueless': 4475, 'preming': 4476, 'underworld': 4477, 'decept': 4478, 'athlet': 4479, 'exterior': 4480, 'kline': 4481, 'sweat': 4482, 'brendan': 4483, 'christin': 4484, 'bewar': 4485, 'hammi': 4486, 'heap': 4487, 'oblig': 4488, 'niec': 4489, 'narrow': 4490, 'effici': 4491, 'baffl': 4492, 'martha': 4493, 'despic': 4494, '1969': 4495, 'fuel': 4496, 'gina': 4497, 'acquaint': 4498, 'hain': 4499, 'gillian': 4500, 'spontan': 4501, 'weather': 4502, 'bronson': 4503, '19': 4504, 'trigger': 4505, 'injur': 4506, 'viewpoint': 4507, 'virtu': 4508, 'scar': 4509, 'harmless': 4510, 'hepburn': 4511, 'fontain': 4512, 'enlist': 4513, 'mermaid': 4514, 'shatter': 4515, 'circu': 4516, 'housewif': 4517, 'astound': 4518, 'uh': 4519, 'dilemma': 4520, 'sleepwalk': 4521, 'outlaw': 4522, 'dandi': 4523, 'sooner': 4524, 'loath': 4525, 'candl': 4526, 'preachi': 4527, 'goof': 4528, 'headach': 4529, '73': 4530, 'renaiss': 4531, 'angst': 4532, 'insipid': 4533, 'analyz': 4534, 'loi': 4535, 'lester': 4536, 'rome': 4537, 'tick': 4538, 'taboo': 4539, 'suprem': 4540, 'mayhem': 4541, 'biker': 4542, 'bent': 4543, 'scorses': 4544, 'fluff': 4545, 'whore': 4546, 'slimi': 4547, 'camcord': 4548, 'stimul': 4549, 'macho': 4550, 'steer': 4551, 'tripl': 4552, 'dish': 4553, 'amor': 4554, 'foolish': 4555, 'salt': 4556, 'cassavet': 4557, 'surgeri': 4558, 'oldest': 4559, 'gere': 4560, 'ariel': 4561, 'contempt': 4562, 'zoom': 4563, 'stair': 4564, 'overlong': 4565, 'glorifi': 4566, 'dismal': 4567, 'ebert': 4568, 'hooker': 4569, 'hokey': 4570, 'filth': 4571, 'guin': 4572, 'redund': 4573, 'idol': 4574, 'spade': 4575, 'phenomenon': 4576, 'sox': 4577, 'boston': 4578, 'claustrophob': 4579, 'immatur': 4580, 'hostag': 4581, 'intric': 4582, 'corbett': 4583, 'down': 4584, 'shield': 4585, 'cow': 4586, 'flashi': 4587, 'cush': 4588, 'trivia': 4589, '1976': 4590, 'spinal': 4591, 'mutual': 4592, 'spree': 4593, 'dwarf': 4594, 'proport': 4595, 'mount': 4596, 'strongest': 4597, 'antagonist': 4598, 'transplant': 4599, 'keen': 4600, 'perman': 4601, 'zane': 4602, 'fascist': 4603, 'conquer': 4604, 'joker': 4605, 'beard': 4606, 'nolt': 4607, 'messi': 4608, 'margin': 4609, 'rhyme': 4610, 'widescreen': 4611, 'cohen': 4612, 'corman': 4613, 'schlock': 4614, '1981': 4615, 'muscl': 4616, 'preced': 4617, 'frantic': 4618, 'naschi': 4619, 'harold': 4620, 'assert': 4621, 'obligatori': 4622, 'shred': 4623, 'faint': 4624, 'flirt': 4625, 'remad': 4626, 'alvin': 4627, 'astronaut': 4628, 'gasp': 4629, 'gabl': 4630, 'radiat': 4631, 'flag': 4632, 'persuad': 4633, 'triangl': 4634, 'instruct': 4635, 'departur': 4636, 'aborigin': 4637, 'bitten': 4638, 'ritchi': 4639, 'archiv': 4640, 'strive': 4641, 'scandal': 4642, 'deer': 4643, 'boob': 4644, 'www': 4645, 'flock': 4646, '95': 4647, 'claud': 4648, 'danish': 4649, 'inflict': 4650, 'repris': 4651, 'resum': 4652, 'hara': 4653, 'divin': 4654, 'fishburn': 4655, 'bachelor': 4656, 'sensual': 4657, 'someday': 4658, 'info': 4659, 'interestingli': 4660, '1945': 4661, 'neurot': 4662, '28': 4663, 'off': 4664, 'discern': 4665, 'raj': 4666, 'wield': 4667, 'barn': 4668, 'brush': 4669, 'vaniti': 4670, 'mol': 4671, 'mobil': 4672, 'carey': 4673, 'pacif': 4674, 'biblic': 4675, 'jade': 4676, 'hilar': 4677, 'casino': 4678, 'artwork': 4679, 'rot': 4680, 'heartwarm': 4681, 'dim': 4682, 'cher': 4683, 'kathryn': 4684, 'miracul': 4685, 'anton': 4686, 'europa': 4687, 'carlo': 4688, 'hug': 4689, 'loretta': 4690, 'clad': 4691, 'hapless': 4692, 'axe': 4693, 'bate': 4694, 'cycl': 4695, 'helm': 4696, 'undermin': 4697, 'ish': 4698, 'dame': 4699, 'earnest': 4700, 'cb': 4701, 'prophet': 4702, 'cliffhang': 4703, 'colin': 4704, 'senior': 4705, 'pixar': 4706, 'mobster': 4707, 'recit': 4708, 'melissa': 4709, 'dylan': 4710, 'parson': 4711, 'traffic': 4712, 'frontier': 4713, 'harrison': 4714, 'banter': 4715, 'fragil': 4716, 'wendigo': 4717, 'submit': 4718, 'vibrant': 4719, 'neill': 4720, 'proclaim': 4721, 'luka': 4722, 'timberlak': 4723, 'pickford': 4724, 'bondag': 4725, 'marlon': 4726, 'rooki': 4727, 'estrang': 4728, 'jo': 4729, 'orphan': 4730, 'wardrob': 4731, 'antholog': 4732, 'venom': 4733, 'pc': 4734, 'legitim': 4735, 'akin': 4736, 'isra': 4737, 'token': 4738, 'lui': 4739, 'vanessa': 4740, 'choke': 4741, 'milo': 4742, 'flavor': 4743, 'sicken': 4744, 'lucil': 4745, 'static': 4746, 'seedi': 4747, 'http': 4748, 'vile': 4749, 'eli': 4750, 'cerebr': 4751, 'misfortun': 4752, 'foil': 4753, 'razor': 4754, 'northern': 4755, 'nope': 4756, 'illus': 4757, 'toronto': 4758, 'electron': 4759, 'redneck': 4760, 'trier': 4761, 'alexandr': 4762, 'blatantli': 4763, 'winchest': 4764, 'uma': 4765, 'aris': 4766, 'shepherd': 4767, 'holocaust': 4768, 'mason': 4769, 'bikini': 4770, 'breakfast': 4771, 'jordan': 4772, 'articl': 4773, 'mathieu': 4774, 'feast': 4775, 'outdat': 4776, 'deem': 4777, 'highway': 4778, 'charlton': 4779, 'turd': 4780, 'tack': 4781, 'howl': 4782, 'dudley': 4783, 'retriev': 4784, 'audrey': 4785, 'smack': 4786, 'gunga': 4787, 'ceremoni': 4788, 'swept': 4789, 'abund': 4790, 'fifth': 4791, 'oppon': 4792, 'styliz': 4793, 'clinic': 4794, 'psych': 4795, 'ideolog': 4796, 'boyer': 4797, 'nightclub': 4798, 'glare': 4799, 'comprehend': 4800, 'linear': 4801, 'leather': 4802, 'disregard': 4803, 'feminin': 4804, 'gilbert': 4805, 'frog': 4806, 'cartoonish': 4807, 'affleck': 4808, 'knightley': 4809, 'magician': 4810, 'shorter': 4811, 'wrestler': 4812, 'huston': 4813, 'peer': 4814, 'evolut': 4815, 'corn': 4816, 'plate': 4817, '1994': 4818, 'monument': 4819, 'btw': 4820, '4th': 4821, 'spine': 4822, 'snatch': 4823, 'sleaz': 4824, 'boo': 4825, 'cuban': 4826, 'potter': 4827, 'salman': 4828, 'breakdown': 4829, 'greet': 4830, 'phenomen': 4831, 'senat': 4832, 'mitch': 4833, 'chip': 4834, 'client': 4835, 'braveheart': 4836, '1991': 4837, 'durat': 4838, 'moe': 4839, 'tara': 4840, 'einstein': 4841, 'uniformli': 4842, 'spawn': 4843, 'summar': 4844, 'bastard': 4845, 'newer': 4846, 'lavish': 4847, 'conrad': 4848, 'lighter': 4849, 'lifeless': 4850, 'energet': 4851, 'whack': 4852, 'bogu': 4853, 'cemeteri': 4854, 'compris': 4855, 'deliver': 4856, 'collector': 4857, 'toe': 4858, 'goldsworthi': 4859, 'cecil': 4860, 'nina': 4861, 'healthi': 4862, 'appl': 4863, 'replay': 4864, 'creek': 4865, 'belli': 4866, 'mcqueen': 4867, 'undead': 4868, 'bori': 4869, 'randolph': 4870, 'firmli': 4871, '1974': 4872, 'neatli': 4873, 'occup': 4874, 'pronounc': 4875, 'signal': 4876, 'gilliam': 4877, 'constitut': 4878, 'eleven': 4879, 'outright': 4880, 'capot': 4881, 'sorrow': 4882, 'clara': 4883, 'fluid': 4884, 'jule': 4885, 'luxuri': 4886, 'lex': 4887, 'jam': 4888, 'undertak': 4889, 'ol': 4890, 'armstrong': 4891, 'trauma': 4892, 'kazan': 4893, 'judd': 4894, 'liu': 4895, 'inaccuraci': 4896, 'bulk': 4897, 'spectacl': 4898, 'jare': 4899, 'jedi': 4900, 'kent': 4901, 'wtf': 4902, 'historian': 4903, 'embark': 4904, 'ie': 4905, 'alleg': 4906, '1977': 4907, 'evelyn': 4908, 'lauren': 4909, 'propheci': 4910, 'porter': 4911, 'blur': 4912, 'id': 4913, 'galaxi': 4914, 'basket': 4915, 'inclus': 4916, 'spray': 4917, 'sacrif': 4918, 'forgiven': 4919, 'unsuspect': 4920, 'curtain': 4921, 'tokyo': 4922, 'poker': 4923, 'meal': 4924, 'abound': 4925, 'comprehens': 4926, 'kiddi': 4927, 'knee': 4928, 'carmen': 4929, 'aussi': 4930, 'miniseri': 4931, 'walt': 4932, 'rosario': 4933, 'relentless': 4934, 'roar': 4935, 'vignett': 4936, 'genet': 4937, 'congratul': 4938, 'cape': 4939, 'bsg': 4940, 'groan': 4941, 'fruit': 4942, 'antonio': 4943, 'vain': 4944, 'mum': 4945, 'subtli': 4946, 'pepper': 4947, '1985': 4948, 'ash': 4949, 'lanc': 4950, 'decapit': 4951, 'pioneer': 4952, 'sidewalk': 4953, 'truman': 4954, 'paula': 4955, 'bait': 4956, 'unattract': 4957, 'palm': 4958, 'miami': 4959, 'goldblum': 4960, 'inaccur': 4961, 'comb': 4962, 'conan': 4963, 'substanti': 4964, 'profil': 4965, 'macabr': 4966, 'omin': 4967, 'ingrid': 4968, 'handicap': 4969, 'orchestr': 4970, 'verg': 4971, 'asset': 4972, 'incorrect': 4973, 'bach': 4974, 'mice': 4975, 'masterson': 4976, 'modest': 4977, 'motorcycl': 4978, 'vastli': 4979, 'sophi': 4980, '21st': 4981, 'playboy': 4982, 'reincarn': 4983, 'frontal': 4984, 'hostil': 4985, 'growth': 4986, 'detach': 4987, 'victorian': 4988, 'drone': 4989, 'optimist': 4990, 'monti': 4991, 'evan': 4992, 'dubiou': 4993, 'bravo': 4994, 'sparkl': 4995, 'spill': 4996, 'jill': 4997, 'turtl': 4998, 'assort': 4999}\n"
     ]
    }
   ],
   "source": [
    "print(word_dict)"
   ]
  },
  {
   "cell_type": "markdown",
   "metadata": {},
   "source": [
    "**Question:** What are the five most frequently appearing (tokenized) words in the training set? Does it makes sense that these words appear frequently in the training set?"
   ]
  },
  {
   "cell_type": "markdown",
   "metadata": {},
   "source": [
    "**Answer:**\n",
    "<br > The most common words are :"
   ]
  },
  {
   "cell_type": "code",
   "execution_count": 15,
   "metadata": {},
   "outputs": [
    {
     "name": "stdout",
     "output_type": "stream",
     "text": [
      "['movi', 'film', 'one', 'like', 'time']\n"
     ]
    }
   ],
   "source": [
    "# TODO: Use this space to determine the five most frequently appearing words in the training set.\n",
    "print(list(word_dict.keys())[:5])"
   ]
  },
  {
   "cell_type": "markdown",
   "metadata": {},
   "source": [
    "### Save `word_dict`\n",
    "\n",
    "Later on when we construct an endpoint which processes a submitted review we will need to make use of the `word_dict` which we have created. As such, we will save it to a file now for future use."
   ]
  },
  {
   "cell_type": "code",
   "execution_count": 16,
   "metadata": {},
   "outputs": [],
   "source": [
    "data_dir = '../data/pytorch' # The folder we will use for storing data\n",
    "if not os.path.exists(data_dir): # Make sure that the folder exists\n",
    "    os.makedirs(data_dir)"
   ]
  },
  {
   "cell_type": "code",
   "execution_count": 17,
   "metadata": {},
   "outputs": [],
   "source": [
    "with open(os.path.join(data_dir, 'word_dict.pkl'), \"wb\") as f:\n",
    "    pickle.dump(word_dict, f)"
   ]
  },
  {
   "cell_type": "markdown",
   "metadata": {},
   "source": [
    "### Transform the reviews\n",
    "\n",
    "Now that we have our word dictionary which allows us to transform the words appearing in the reviews into integers, it is time to make use of it and convert our reviews to their integer sequence representation, making sure to pad or truncate to a fixed length, which in our case is `500`."
   ]
  },
  {
   "cell_type": "code",
   "execution_count": 18,
   "metadata": {},
   "outputs": [],
   "source": [
    "def convert_and_pad(word_dict, sentence, pad=500):\n",
    "    NOWORD = 0 # We will use 0 to represent the 'no word' category\n",
    "    INFREQ = 1 # and we use 1 to represent the infrequent words, i.e., words not appearing in word_dict\n",
    "    \n",
    "    working_sentence = [NOWORD] * pad\n",
    "    \n",
    "    for word_index, word in enumerate(sentence[:pad]):\n",
    "        if word in word_dict:\n",
    "            working_sentence[word_index] = word_dict[word]\n",
    "        else:\n",
    "            working_sentence[word_index] = INFREQ\n",
    "            \n",
    "    return working_sentence, min(len(sentence), pad)\n",
    "\n",
    "def convert_and_pad_data(word_dict, data, pad=500):\n",
    "    result = []\n",
    "    lengths = []\n",
    "    \n",
    "    for sentence in data:\n",
    "        converted, leng = convert_and_pad(word_dict, sentence, pad)\n",
    "        result.append(converted)\n",
    "        lengths.append(leng)\n",
    "        \n",
    "    return np.array(result), np.array(lengths)"
   ]
  },
  {
   "cell_type": "code",
   "execution_count": 19,
   "metadata": {},
   "outputs": [],
   "source": [
    "train_X, train_X_len = convert_and_pad_data(word_dict, train_X)\n",
    "test_X, test_X_len = convert_and_pad_data(word_dict, test_X)"
   ]
  },
  {
   "cell_type": "markdown",
   "metadata": {},
   "source": [
    "As a quick check to make sure that things are working as intended, check to see what one of the reviews in the training set looks like after having been processeed. Does this look reasonable? What is the length of a review in the training set?"
   ]
  },
  {
   "cell_type": "code",
   "execution_count": 20,
   "metadata": {},
   "outputs": [
    {
     "name": "stdout",
     "output_type": "stream",
     "text": [
      "[2158  534  229  229  160  908   13   25  314 2158  534  392  213   90\n",
      "   13 2158  534  290  437    2  704    1  533  149    9   86  234   13\n",
      "   59   90   41  151  531   25  742   26    8 2329    4    4  721   63\n",
      " 2158  534    1 2615  209   68   90  180   59  268  176   28 3389    1\n",
      "  942  314   19 2125  145   75 1033  151 1384   61  145    1    1  345\n",
      "  340 2158  157    1   25   46   35  614  433   25   30    7    2  475\n",
      "  478  968    0    0    0    0    0    0    0    0    0    0    0    0\n",
      "    0    0    0    0    0    0    0    0    0    0    0    0    0    0\n",
      "    0    0    0    0    0    0    0    0    0    0    0    0    0    0\n",
      "    0    0    0    0    0    0    0    0    0    0    0    0    0    0\n",
      "    0    0    0    0    0    0    0    0    0    0    0    0    0    0\n",
      "    0    0    0    0    0    0    0    0    0    0    0    0    0    0\n",
      "    0    0    0    0    0    0    0    0    0    0    0    0    0    0\n",
      "    0    0    0    0    0    0    0    0    0    0    0    0    0    0\n",
      "    0    0    0    0    0    0    0    0    0    0    0    0    0    0\n",
      "    0    0    0    0    0    0    0    0    0    0    0    0    0    0\n",
      "    0    0    0    0    0    0    0    0    0    0    0    0    0    0\n",
      "    0    0    0    0    0    0    0    0    0    0    0    0    0    0\n",
      "    0    0    0    0    0    0    0    0    0    0    0    0    0    0\n",
      "    0    0    0    0    0    0    0    0    0    0    0    0    0    0\n",
      "    0    0    0    0    0    0    0    0    0    0    0    0    0    0\n",
      "    0    0    0    0    0    0    0    0    0    0    0    0    0    0\n",
      "    0    0    0    0    0    0    0    0    0    0    0    0    0    0\n",
      "    0    0    0    0    0    0    0    0    0    0    0    0    0    0\n",
      "    0    0    0    0    0    0    0    0    0    0    0    0    0    0\n",
      "    0    0    0    0    0    0    0    0    0    0    0    0    0    0\n",
      "    0    0    0    0    0    0    0    0    0    0    0    0    0    0\n",
      "    0    0    0    0    0    0    0    0    0    0    0    0    0    0\n",
      "    0    0    0    0    0    0    0    0    0    0    0    0    0    0\n",
      "    0    0    0    0    0    0    0    0    0    0    0    0    0    0\n",
      "    0    0    0    0    0    0    0    0    0    0    0    0    0    0\n",
      "    0    0    0    0    0    0    0    0    0    0    0    0    0    0\n",
      "    0    0    0    0    0    0    0    0    0    0    0    0    0    0\n",
      "    0    0    0    0    0    0    0    0    0    0    0    0    0    0\n",
      "    0    0    0    0    0    0    0    0    0    0    0    0    0    0\n",
      "    0    0    0    0    0    0    0    0    0    0]\n"
     ]
    }
   ],
   "source": [
    "# Use this cell to examine one of the processed reviews to make sure everything is working as intended.\n",
    "print(train_X[200])"
   ]
  },
  {
   "cell_type": "markdown",
   "metadata": {},
   "source": [
    "**Question:** In the cells above we use the `preprocess_data` and `convert_and_pad_data` methods to process both the training and testing set. Why or why not might this be a problem?"
   ]
  },
  {
   "cell_type": "markdown",
   "metadata": {},
   "source": [
    "**Answer:**\n",
    "<br >\n",
    "The `preprocess_data` and `convert_and_pad_data` method is used to pad (with 0) or truncate the data to a fixed length (in this instance 500)"
   ]
  },
  {
   "cell_type": "markdown",
   "metadata": {},
   "source": [
    "## Step 3: Upload the data to S3\n",
    "\n",
    "As in the XGBoost notebook, we will need to upload the training dataset to S3 in order for our training code to access it. For now we will save it locally and we will upload to S3 later on.\n",
    "\n",
    "### Save the processed training dataset locally\n",
    "\n",
    "It is important to note the format of the data that we are saving as we will need to know it when we write the training code. In our case, each row of the dataset has the form `label`, `length`, `review[500]` where `review[500]` is a sequence of `500` integers representing the words in the review."
   ]
  },
  {
   "cell_type": "code",
   "execution_count": 21,
   "metadata": {},
   "outputs": [],
   "source": [
    "import pandas as pd\n",
    "    \n",
    "pd.concat([pd.DataFrame(train_y), pd.DataFrame(train_X_len), pd.DataFrame(train_X)], axis=1) \\\n",
    "        .to_csv(os.path.join(data_dir, 'train.csv'), header=False, index=False)"
   ]
  },
  {
   "cell_type": "markdown",
   "metadata": {},
   "source": [
    "### Uploading the training data\n",
    "\n",
    "\n",
    "Next, we need to upload the training data to the SageMaker default S3 bucket so that we can provide access to it while training our model."
   ]
  },
  {
   "cell_type": "code",
   "execution_count": 22,
   "metadata": {},
   "outputs": [],
   "source": [
    "import sagemaker\n",
    "\n",
    "sagemaker_session = sagemaker.Session()\n",
    "\n",
    "bucket = sagemaker_session.default_bucket()\n",
    "prefix = 'sagemaker/sentiment_rnn'\n",
    "\n",
    "role = sagemaker.get_execution_role()"
   ]
  },
  {
   "cell_type": "code",
   "execution_count": 23,
   "metadata": {},
   "outputs": [],
   "source": [
    "input_data = sagemaker_session.upload_data(path=data_dir, bucket=bucket, key_prefix=prefix)"
   ]
  },
  {
   "cell_type": "markdown",
   "metadata": {},
   "source": [
    "**NOTE:** The cell above uploads the entire contents of our data directory. This includes the `word_dict.pkl` file. This is fortunate as we will need this later on when we create an endpoint that accepts an arbitrary review. For now, we will just take note of the fact that it resides in the data directory (and so also in the S3 training bucket) and that we will need to make sure it gets saved in the model directory."
   ]
  },
  {
   "cell_type": "markdown",
   "metadata": {},
   "source": [
    "## Step 4: Build and Train the PyTorch Model\n",
    "\n",
    "In the XGBoost notebook we discussed what a model is in the SageMaker framework. In particular, a model comprises three objects\n",
    "\n",
    " - Model Artifacts,\n",
    " - Training Code, and\n",
    " - Inference Code,\n",
    " \n",
    "each of which interact with one another. In the XGBoost example we used training and inference code that was provided by Amazon. Here we will still be using containers provided by Amazon with the added benefit of being able to include our own custom code.\n",
    "\n",
    "We will start by implementing our own neural network in PyTorch along with a training script. For the purposes of this project we have provided the necessary model object in the `model.py` file, inside of the `train` folder. You can see the provided implementation by running the cell below."
   ]
  },
  {
   "cell_type": "code",
   "execution_count": 24,
   "metadata": {},
   "outputs": [
    {
     "name": "stdout",
     "output_type": "stream",
     "text": [
      "\u001b[34mimport\u001b[39;49;00m \u001b[04m\u001b[36mtorch\u001b[39;49;00m\u001b[04m\u001b[36m.\u001b[39;49;00m\u001b[04m\u001b[36mnn\u001b[39;49;00m \u001b[34mas\u001b[39;49;00m \u001b[04m\u001b[36mnn\u001b[39;49;00m\r\n",
      "\r\n",
      "\u001b[34mclass\u001b[39;49;00m \u001b[04m\u001b[32mLSTMClassifier\u001b[39;49;00m(nn.Module):\r\n",
      "    \u001b[33m\"\"\"\u001b[39;49;00m\r\n",
      "\u001b[33m    This is the simple RNN model we will be using to perform Sentiment Analysis.\u001b[39;49;00m\r\n",
      "\u001b[33m    \"\"\"\u001b[39;49;00m\r\n",
      "\r\n",
      "    \u001b[34mdef\u001b[39;49;00m \u001b[32m__init__\u001b[39;49;00m(\u001b[36mself\u001b[39;49;00m, embedding_dim, hidden_dim, vocab_size):\r\n",
      "        \u001b[33m\"\"\"\u001b[39;49;00m\r\n",
      "\u001b[33m        Initialize the model by settingg up the various layers.\u001b[39;49;00m\r\n",
      "\u001b[33m        \"\"\"\u001b[39;49;00m\r\n",
      "        \u001b[36msuper\u001b[39;49;00m(LSTMClassifier, \u001b[36mself\u001b[39;49;00m).\u001b[32m__init__\u001b[39;49;00m()\r\n",
      "\r\n",
      "        \u001b[36mself\u001b[39;49;00m.embedding = nn.Embedding(vocab_size, embedding_dim, padding_idx=\u001b[34m0\u001b[39;49;00m)\r\n",
      "        \u001b[36mself\u001b[39;49;00m.lstm = nn.LSTM(embedding_dim, hidden_dim)\r\n",
      "        \u001b[36mself\u001b[39;49;00m.dense = nn.Linear(in_features=hidden_dim, out_features=\u001b[34m1\u001b[39;49;00m)\r\n",
      "        \u001b[36mself\u001b[39;49;00m.sig = nn.Sigmoid()\r\n",
      "        \r\n",
      "        \u001b[36mself\u001b[39;49;00m.word_dict = \u001b[34mNone\u001b[39;49;00m\r\n",
      "\r\n",
      "    \u001b[34mdef\u001b[39;49;00m \u001b[32mforward\u001b[39;49;00m(\u001b[36mself\u001b[39;49;00m, x):\r\n",
      "        \u001b[33m\"\"\"\u001b[39;49;00m\r\n",
      "\u001b[33m        Perform a forward pass of our model on some input.\u001b[39;49;00m\r\n",
      "\u001b[33m        \"\"\"\u001b[39;49;00m\r\n",
      "        x = x.t()\r\n",
      "        lengths = x[\u001b[34m0\u001b[39;49;00m,:]\r\n",
      "        reviews = x[\u001b[34m1\u001b[39;49;00m:,:]\r\n",
      "        embeds = \u001b[36mself\u001b[39;49;00m.embedding(reviews)\r\n",
      "        lstm_out, _ = \u001b[36mself\u001b[39;49;00m.lstm(embeds)\r\n",
      "        out = \u001b[36mself\u001b[39;49;00m.dense(lstm_out)\r\n",
      "        out = out[lengths - \u001b[34m1\u001b[39;49;00m, \u001b[36mrange\u001b[39;49;00m(\u001b[36mlen\u001b[39;49;00m(lengths))]\r\n",
      "        \u001b[34mreturn\u001b[39;49;00m \u001b[36mself\u001b[39;49;00m.sig(out.squeeze())\r\n"
     ]
    }
   ],
   "source": [
    "!pygmentize train/model.py"
   ]
  },
  {
   "cell_type": "markdown",
   "metadata": {},
   "source": [
    "The important takeaway from the implementation provided is that there are three parameters that we may wish to tweak to improve the performance of our model. These are the embedding dimension, the hidden dimension and the size of the vocabulary. We will likely want to make these parameters configurable in the training script so that if we wish to modify them we do not need to modify the script itself. We will see how to do this later on. To start we will write some of the training code in the notebook so that we can more easily diagnose any issues that arise.\n",
    "\n",
    "First we will load a small portion of the training data set to use as a sample. It would be very time consuming to try and train the model completely in the notebook as we do not have access to a gpu and the compute instance that we are using is not particularly powerful. However, we can work on a small bit of the data to get a feel for how our training script is behaving."
   ]
  },
  {
   "cell_type": "code",
   "execution_count": 25,
   "metadata": {},
   "outputs": [],
   "source": [
    "import torch\n",
    "import torch.utils.data\n",
    "\n",
    "# Read in only the first 250 rows\n",
    "train_sample = pd.read_csv(os.path.join(data_dir, 'train.csv'), header=None, names=None, nrows=250)\n",
    "\n",
    "# Turn the input pandas dataframe into tensors\n",
    "train_sample_y = torch.from_numpy(train_sample[[0]].values).float().squeeze()\n",
    "train_sample_X = torch.from_numpy(train_sample.drop([0], axis=1).values).long()\n",
    "\n",
    "# Build the dataset\n",
    "train_sample_ds = torch.utils.data.TensorDataset(train_sample_X, train_sample_y)\n",
    "# Build the dataloader\n",
    "train_sample_dl = torch.utils.data.DataLoader(train_sample_ds, batch_size=50)"
   ]
  },
  {
   "cell_type": "markdown",
   "metadata": {},
   "source": [
    "### (TODO) Writing the training method\n",
    "\n",
    "Next we need to write the training code itself. This should be very similar to training methods that you have written before to train PyTorch models. We will leave any difficult aspects such as model saving / loading and parameter loading until a little later."
   ]
  },
  {
   "cell_type": "code",
   "execution_count": 26,
   "metadata": {},
   "outputs": [],
   "source": [
    "def train(model, train_loader, epochs, optimizer, loss_fn, device):\n",
    "    for epoch in range(1, epochs + 1):\n",
    "        model.train()\n",
    "        total_loss = 0\n",
    "        for batch in train_loader:         \n",
    "            batch_X, batch_y = batch\n",
    "            \n",
    "            batch_X = batch_X.to(device)\n",
    "            batch_y = batch_y.to(device)\n",
    "            \n",
    "            # TODO: Complete this train method to train the model provided.\n",
    "            \n",
    "            # ensure there is no previously accumulated gradient\n",
    "            optimizer.zero_grad()\n",
    "            \n",
    "            \n",
    "            # forward pass\n",
    "            output = model.forward(batch_X)\n",
    "            \n",
    "            # calculate loss\n",
    "            loss = loss_fn(output, batch_y)\n",
    "            \n",
    "            # perform backpropagation\n",
    "            loss.backward()\n",
    "            \n",
    "            # update weights\n",
    "            optimizer.step()\n",
    "            \n",
    "            \n",
    "            total_loss += loss.data.item()\n",
    "        print(\"Epoch: {}, BCELoss: {}\".format(epoch, total_loss / len(train_loader)))"
   ]
  },
  {
   "cell_type": "markdown",
   "metadata": {},
   "source": [
    "Supposing we have the training method above, we will test that it is working by writing a bit of code in the notebook that executes our training method on the small sample training set that we loaded earlier. The reason for doing this in the notebook is so that we have an opportunity to fix any errors that arise early when they are easier to diagnose."
   ]
  },
  {
   "cell_type": "code",
   "execution_count": 27,
   "metadata": {},
   "outputs": [
    {
     "name": "stdout",
     "output_type": "stream",
     "text": [
      "Epoch: 1, BCELoss: 0.6939910888671875\n",
      "Epoch: 2, BCELoss: 0.6841585159301757\n",
      "Epoch: 3, BCELoss: 0.6761208057403565\n",
      "Epoch: 4, BCELoss: 0.6676658868789673\n",
      "Epoch: 5, BCELoss: 0.6580141305923461\n"
     ]
    }
   ],
   "source": [
    "import torch.optim as optim\n",
    "from train.model import LSTMClassifier\n",
    "\n",
    "device = torch.device(\"cuda\" if torch.cuda.is_available() else \"cpu\")\n",
    "model = LSTMClassifier(32, 100, 5000).to(device)\n",
    "optimizer = optim.Adam(model.parameters())\n",
    "loss_fn = torch.nn.BCELoss()\n",
    "\n",
    "train(model, train_sample_dl, 5, optimizer, loss_fn, device)"
   ]
  },
  {
   "cell_type": "markdown",
   "metadata": {},
   "source": [
    "In order to construct a PyTorch model using SageMaker we must provide SageMaker with a training script. We may optionally include a directory which will be copied to the container and from which our training code will be run. When the training container is executed it will check the uploaded directory (if there is one) for a `requirements.txt` file and install any required Python libraries, after which the training script will be run."
   ]
  },
  {
   "cell_type": "markdown",
   "metadata": {},
   "source": [
    "### (TODO) Training the model\n",
    "\n",
    "When a PyTorch model is constructed in SageMaker, an entry point must be specified. This is the Python file which will be executed when the model is trained. Inside of the `train` directory is a file called `train.py` which has been provided and which contains most of the necessary code to train our model. The only thing that is missing is the implementation of the `train()` method which you wrote earlier in this notebook.\n",
    "\n",
    "**TODO**: Copy the `train()` method written above and paste it into the `train/train.py` file where required.\n",
    "\n",
    "The way that SageMaker passes hyperparameters to the training script is by way of arguments. These arguments can then be parsed and used in the training script. To see how this is done take a look at the provided `train/train.py` file."
   ]
  },
  {
   "cell_type": "code",
   "execution_count": 28,
   "metadata": {},
   "outputs": [],
   "source": [
    "from sagemaker.pytorch import PyTorch\n",
    "\n",
    "estimator = PyTorch(entry_point=\"train.py\",\n",
    "                    source_dir=\"train\",\n",
    "                    role=role,\n",
    "                    framework_version='0.4.0',\n",
    "                    train_instance_count=1,\n",
    "                    train_instance_type='ml.p2.xlarge',\n",
    "                    hyperparameters={\n",
    "                        'epochs': 10,\n",
    "                        'hidden_dim': 200,\n",
    "                    })"
   ]
  },
  {
   "cell_type": "code",
   "execution_count": 29,
   "metadata": {},
   "outputs": [
    {
     "name": "stderr",
     "output_type": "stream",
     "text": [
      "'create_image_uri' will be deprecated in favor of 'ImageURIProvider' class in SageMaker Python SDK v2.\n",
      "'s3_input' class will be renamed to 'TrainingInput' in SageMaker Python SDK v2.\n",
      "'create_image_uri' will be deprecated in favor of 'ImageURIProvider' class in SageMaker Python SDK v2.\n"
     ]
    },
    {
     "name": "stdout",
     "output_type": "stream",
     "text": [
      "2021-08-10 09:22:51 Starting - Starting the training job...\n",
      "2021-08-10 09:22:53 Starting - Launching requested ML instances......\n",
      "2021-08-10 09:23:56 Starting - Preparing the instances for training......\n",
      "2021-08-10 09:25:12 Downloading - Downloading input data...\n",
      "2021-08-10 09:25:37 Training - Downloading the training image...\n",
      "2021-08-10 09:26:19 Training - Training image download completed. Training in progress..\u001b[34mbash: cannot set terminal process group (-1): Inappropriate ioctl for device\u001b[0m\n",
      "\u001b[34mbash: no job control in this shell\u001b[0m\n",
      "\u001b[34m2021-08-10 09:26:20,687 sagemaker-containers INFO     Imported framework sagemaker_pytorch_container.training\u001b[0m\n",
      "\u001b[34m2021-08-10 09:26:20,713 sagemaker_pytorch_container.training INFO     Block until all host DNS lookups succeed.\u001b[0m\n",
      "\u001b[34m2021-08-10 09:26:20,716 sagemaker_pytorch_container.training INFO     Invoking user training script.\u001b[0m\n",
      "\u001b[34m2021-08-10 09:26:20,950 sagemaker-containers INFO     Module train does not provide a setup.py. \u001b[0m\n",
      "\u001b[34mGenerating setup.py\u001b[0m\n",
      "\u001b[34m2021-08-10 09:26:20,950 sagemaker-containers INFO     Generating setup.cfg\u001b[0m\n",
      "\u001b[34m2021-08-10 09:26:20,950 sagemaker-containers INFO     Generating MANIFEST.in\u001b[0m\n",
      "\u001b[34m2021-08-10 09:26:20,951 sagemaker-containers INFO     Installing module with the following command:\u001b[0m\n",
      "\u001b[34m/usr/bin/python -m pip install -U . -r requirements.txt\u001b[0m\n",
      "\u001b[34mProcessing /opt/ml/code\u001b[0m\n",
      "\u001b[34mCollecting pandas (from -r requirements.txt (line 1))\n",
      "  Downloading https://files.pythonhosted.org/packages/74/24/0cdbf8907e1e3bc5a8da03345c23cbed7044330bb8f73bb12e711a640a00/pandas-0.24.2-cp35-cp35m-manylinux1_x86_64.whl (10.0MB)\u001b[0m\n",
      "\u001b[34mCollecting numpy (from -r requirements.txt (line 2))\u001b[0m\n",
      "\u001b[34m  Downloading https://files.pythonhosted.org/packages/b5/36/88723426b4ff576809fec7d73594fe17a35c27f8d01f93637637a29ae25b/numpy-1.18.5-cp35-cp35m-manylinux1_x86_64.whl (19.9MB)\u001b[0m\n",
      "\u001b[34mCollecting nltk (from -r requirements.txt (line 3))\n",
      "  Downloading https://files.pythonhosted.org/packages/5e/37/9532ddd4b1bbb619333d5708aaad9bf1742f051a664c3c6fa6632a105fd8/nltk-3.6.2-py3-none-any.whl (1.5MB)\u001b[0m\n",
      "\u001b[34mCollecting beautifulsoup4 (from -r requirements.txt (line 4))\n",
      "  Downloading https://files.pythonhosted.org/packages/d1/41/e6495bd7d3781cee623ce23ea6ac73282a373088fcd0ddc809a047b18eae/beautifulsoup4-4.9.3-py3-none-any.whl (115kB)\u001b[0m\n",
      "\u001b[34mCollecting html5lib (from -r requirements.txt (line 5))\n",
      "  Downloading https://files.pythonhosted.org/packages/6c/dd/a834df6482147d48e225a49515aabc28974ad5a4ca3215c18a882565b028/html5lib-1.1-py2.py3-none-any.whl (112kB)\u001b[0m\n",
      "\u001b[34mCollecting pytz>=2011k (from pandas->-r requirements.txt (line 1))\n",
      "  Downloading https://files.pythonhosted.org/packages/70/94/784178ca5dd892a98f113cdd923372024dc04b8d40abe77ca76b5fb90ca6/pytz-2021.1-py2.py3-none-any.whl (510kB)\u001b[0m\n",
      "\u001b[34mRequirement already satisfied, skipping upgrade: python-dateutil>=2.5.0 in /usr/local/lib/python3.5/dist-packages (from pandas->-r requirements.txt (line 1)) (2.7.5)\u001b[0m\n",
      "\u001b[34mCollecting regex (from nltk->-r requirements.txt (line 3))\u001b[0m\n",
      "\u001b[34m  Downloading https://files.pythonhosted.org/packages/e7/76/825c82d90e02713827b8cd62ac7879a6b71eea6af6753e9babbdada05f00/regex-2021.8.3.tar.gz (693kB)\u001b[0m\n",
      "\u001b[34mCollecting tqdm (from nltk->-r requirements.txt (line 3))\n",
      "  Downloading https://files.pythonhosted.org/packages/0b/e8/d6f4db0886dbba2fc87b5314f2d5127acdc782e4b51e6f86972a2e45ffd6/tqdm-4.62.0-py2.py3-none-any.whl (76kB)\u001b[0m\n",
      "\u001b[34mCollecting joblib (from nltk->-r requirements.txt (line 3))\n",
      "  Downloading https://files.pythonhosted.org/packages/28/5c/cf6a2b65a321c4a209efcdf64c2689efae2cb62661f8f6f4bb28547cf1bf/joblib-0.14.1-py2.py3-none-any.whl (294kB)\u001b[0m\n",
      "\u001b[34mRequirement already satisfied, skipping upgrade: click in /usr/local/lib/python3.5/dist-packages (from nltk->-r requirements.txt (line 3)) (7.0)\u001b[0m\n",
      "\u001b[34mCollecting soupsieve>1.2; python_version >= \"3.0\" (from beautifulsoup4->-r requirements.txt (line 4))\n",
      "  Downloading https://files.pythonhosted.org/packages/02/fb/1c65691a9aeb7bd6ac2aa505b84cb8b49ac29c976411c6ab3659425e045f/soupsieve-2.1-py3-none-any.whl\u001b[0m\n",
      "\u001b[34mRequirement already satisfied, skipping upgrade: six>=1.9 in /usr/local/lib/python3.5/dist-packages (from html5lib->-r requirements.txt (line 5)) (1.11.0)\u001b[0m\n",
      "\u001b[34mCollecting webencodings (from html5lib->-r requirements.txt (line 5))\n",
      "  Downloading https://files.pythonhosted.org/packages/f4/24/2a3e3df732393fed8b3ebf2ec078f05546de641fe1b667ee316ec1dcf3b7/webencodings-0.5.1-py2.py3-none-any.whl\u001b[0m\n",
      "\u001b[34mBuilding wheels for collected packages: train, regex\n",
      "  Running setup.py bdist_wheel for train: started\n",
      "  Running setup.py bdist_wheel for train: finished with status 'done'\n",
      "  Stored in directory: /tmp/pip-ephem-wheel-cache-7nlurr1i/wheels/35/24/16/37574d11bf9bde50616c67372a334f94fa8356bc7164af8ca3\n",
      "  Running setup.py bdist_wheel for regex: started\u001b[0m\n",
      "\u001b[34m  Running setup.py bdist_wheel for regex: finished with status 'done'\n",
      "  Stored in directory: /root/.cache/pip/wheels/cc/4f/a3/3616cab496e56883cad1107a8f036678bbc39d7cb598f3652b\u001b[0m\n",
      "\u001b[34mSuccessfully built train regex\u001b[0m\n",
      "\u001b[34mInstalling collected packages: pytz, numpy, pandas, regex, tqdm, joblib, nltk, soupsieve, beautifulsoup4, webencodings, html5lib, train\n",
      "  Found existing installation: numpy 1.15.4\n",
      "    Uninstalling numpy-1.15.4:\u001b[0m\n",
      "\u001b[34m      Successfully uninstalled numpy-1.15.4\u001b[0m\n",
      "\u001b[34mSuccessfully installed beautifulsoup4-4.9.3 html5lib-1.1 joblib-0.14.1 nltk-3.6.2 numpy-1.18.5 pandas-0.24.2 pytz-2021.1 regex-2021.8.3 soupsieve-2.1 tqdm-4.62.0 train-1.0.0 webencodings-0.5.1\u001b[0m\n",
      "\u001b[34mYou are using pip version 18.1, however version 20.3.4 is available.\u001b[0m\n",
      "\u001b[34mYou should consider upgrading via the 'pip install --upgrade pip' command.\u001b[0m\n",
      "\u001b[34m2021-08-10 09:26:42,553 sagemaker-containers INFO     Invoking user script\n",
      "\u001b[0m\n",
      "\u001b[34mTraining Env:\n",
      "\u001b[0m\n",
      "\u001b[34m{\n",
      "    \"input_data_config\": {\n",
      "        \"training\": {\n",
      "            \"TrainingInputMode\": \"File\",\n",
      "            \"S3DistributionType\": \"FullyReplicated\",\n",
      "            \"RecordWrapperType\": \"None\"\n",
      "        }\n",
      "    },\n",
      "    \"network_interface_name\": \"eth0\",\n",
      "    \"output_data_dir\": \"/opt/ml/output/data\",\n",
      "    \"num_gpus\": 1,\n",
      "    \"input_config_dir\": \"/opt/ml/input/config\",\n",
      "    \"module_name\": \"train\",\n",
      "    \"log_level\": 20,\n",
      "    \"input_dir\": \"/opt/ml/input\",\n",
      "    \"module_dir\": \"s3://sagemaker-us-east-2-863125154910/sagemaker-pytorch-2021-08-10-09-22-51-404/source/sourcedir.tar.gz\",\n",
      "    \"num_cpus\": 4,\n",
      "    \"output_intermediate_dir\": \"/opt/ml/output/intermediate\",\n",
      "    \"user_entry_point\": \"train.py\",\n",
      "    \"hyperparameters\": {\n",
      "        \"hidden_dim\": 200,\n",
      "        \"epochs\": 10\n",
      "    },\n",
      "    \"channel_input_dirs\": {\n",
      "        \"training\": \"/opt/ml/input/data/training\"\n",
      "    },\n",
      "    \"additional_framework_parameters\": {},\n",
      "    \"hosts\": [\n",
      "        \"algo-1\"\n",
      "    ],\n",
      "    \"current_host\": \"algo-1\",\n",
      "    \"framework_module\": \"sagemaker_pytorch_container.training:main\",\n",
      "    \"job_name\": \"sagemaker-pytorch-2021-08-10-09-22-51-404\",\n",
      "    \"output_dir\": \"/opt/ml/output\",\n",
      "    \"resource_config\": {\n",
      "        \"current_host\": \"algo-1\",\n",
      "        \"network_interface_name\": \"eth0\",\n",
      "        \"hosts\": [\n",
      "            \"algo-1\"\n",
      "        ]\n",
      "    },\n",
      "    \"model_dir\": \"/opt/ml/model\"\u001b[0m\n",
      "\u001b[34m}\n",
      "\u001b[0m\n",
      "\u001b[34mEnvironment variables:\n",
      "\u001b[0m\n",
      "\u001b[34mSM_TRAINING_ENV={\"additional_framework_parameters\":{},\"channel_input_dirs\":{\"training\":\"/opt/ml/input/data/training\"},\"current_host\":\"algo-1\",\"framework_module\":\"sagemaker_pytorch_container.training:main\",\"hosts\":[\"algo-1\"],\"hyperparameters\":{\"epochs\":10,\"hidden_dim\":200},\"input_config_dir\":\"/opt/ml/input/config\",\"input_data_config\":{\"training\":{\"RecordWrapperType\":\"None\",\"S3DistributionType\":\"FullyReplicated\",\"TrainingInputMode\":\"File\"}},\"input_dir\":\"/opt/ml/input\",\"job_name\":\"sagemaker-pytorch-2021-08-10-09-22-51-404\",\"log_level\":20,\"model_dir\":\"/opt/ml/model\",\"module_dir\":\"s3://sagemaker-us-east-2-863125154910/sagemaker-pytorch-2021-08-10-09-22-51-404/source/sourcedir.tar.gz\",\"module_name\":\"train\",\"network_interface_name\":\"eth0\",\"num_cpus\":4,\"num_gpus\":1,\"output_data_dir\":\"/opt/ml/output/data\",\"output_dir\":\"/opt/ml/output\",\"output_intermediate_dir\":\"/opt/ml/output/intermediate\",\"resource_config\":{\"current_host\":\"algo-1\",\"hosts\":[\"algo-1\"],\"network_interface_name\":\"eth0\"},\"user_entry_point\":\"train.py\"}\u001b[0m\n",
      "\u001b[34mSM_LOG_LEVEL=20\u001b[0m\n",
      "\u001b[34mSM_HP_HIDDEN_DIM=200\u001b[0m\n",
      "\u001b[34mSM_CURRENT_HOST=algo-1\u001b[0m\n",
      "\u001b[34mSM_MODULE_NAME=train\u001b[0m\n",
      "\u001b[34mSM_INPUT_DIR=/opt/ml/input\u001b[0m\n",
      "\u001b[34mSM_MODULE_DIR=s3://sagemaker-us-east-2-863125154910/sagemaker-pytorch-2021-08-10-09-22-51-404/source/sourcedir.tar.gz\u001b[0m\n",
      "\u001b[34mSM_NETWORK_INTERFACE_NAME=eth0\u001b[0m\n",
      "\u001b[34mSM_FRAMEWORK_MODULE=sagemaker_pytorch_container.training:main\u001b[0m\n",
      "\u001b[34mSM_RESOURCE_CONFIG={\"current_host\":\"algo-1\",\"hosts\":[\"algo-1\"],\"network_interface_name\":\"eth0\"}\u001b[0m\n",
      "\u001b[34mSM_INPUT_CONFIG_DIR=/opt/ml/input/config\u001b[0m\n",
      "\u001b[34mSM_OUTPUT_INTERMEDIATE_DIR=/opt/ml/output/intermediate\u001b[0m\n",
      "\u001b[34mSM_MODEL_DIR=/opt/ml/model\u001b[0m\n",
      "\u001b[34mSM_CHANNEL_TRAINING=/opt/ml/input/data/training\u001b[0m\n",
      "\u001b[34mSM_HP_EPOCHS=10\u001b[0m\n",
      "\u001b[34mSM_NUM_GPUS=1\u001b[0m\n",
      "\u001b[34mSM_USER_ARGS=[\"--epochs\",\"10\",\"--hidden_dim\",\"200\"]\u001b[0m\n",
      "\u001b[34mSM_HPS={\"epochs\":10,\"hidden_dim\":200}\u001b[0m\n",
      "\u001b[34mSM_NUM_CPUS=4\u001b[0m\n",
      "\u001b[34mSM_INPUT_DATA_CONFIG={\"training\":{\"RecordWrapperType\":\"None\",\"S3DistributionType\":\"FullyReplicated\",\"TrainingInputMode\":\"File\"}}\u001b[0m\n",
      "\u001b[34mPYTHONPATH=/usr/local/bin:/usr/lib/python35.zip:/usr/lib/python3.5:/usr/lib/python3.5/plat-x86_64-linux-gnu:/usr/lib/python3.5/lib-dynload:/usr/local/lib/python3.5/dist-packages:/usr/lib/python3/dist-packages\u001b[0m\n",
      "\u001b[34mSM_OUTPUT_DATA_DIR=/opt/ml/output/data\u001b[0m\n",
      "\u001b[34mSM_OUTPUT_DIR=/opt/ml/output\u001b[0m\n",
      "\u001b[34mSM_FRAMEWORK_PARAMS={}\u001b[0m\n",
      "\u001b[34mSM_CHANNELS=[\"training\"]\u001b[0m\n",
      "\u001b[34mSM_HOSTS=[\"algo-1\"]\u001b[0m\n",
      "\u001b[34mSM_USER_ENTRY_POINT=train.py\n",
      "\u001b[0m\n",
      "\u001b[34mInvoking script with the following command:\n",
      "\u001b[0m\n",
      "\u001b[34m/usr/bin/python -m train --epochs 10 --hidden_dim 200\n",
      "\n",
      "\u001b[0m\n",
      "\u001b[34mUsing device cuda.\u001b[0m\n",
      "\u001b[34mGet train data loader.\u001b[0m\n",
      "\u001b[34mModel loaded with embedding_dim 32, hidden_dim 200, vocab_size 5000.\u001b[0m\n",
      "\u001b[34mEpoch: 1, BCELoss: 0.6736455644880023\u001b[0m\n",
      "\u001b[34mEpoch: 2, BCELoss: 0.6013341156803832\u001b[0m\n",
      "\u001b[34mEpoch: 3, BCELoss: 0.5053165713135077\u001b[0m\n",
      "\u001b[34mEpoch: 4, BCELoss: 0.42937098778024013\u001b[0m\n",
      "\u001b[34mEpoch: 5, BCELoss: 0.39399473825279546\u001b[0m\n",
      "\u001b[34mEpoch: 6, BCELoss: 0.36503018408405535\u001b[0m\n",
      "\u001b[34mEpoch: 7, BCELoss: 0.3284351047204465\u001b[0m\n",
      "\u001b[34mEpoch: 8, BCELoss: 0.3013855942658016\u001b[0m\n",
      "\u001b[34mEpoch: 9, BCELoss: 0.28285449469576074\u001b[0m\n",
      "\n",
      "2021-08-10 09:29:52 Uploading - Uploading generated training model\n",
      "2021-08-10 09:29:52 Completed - Training job completed\n",
      "\u001b[34mEpoch: 10, BCELoss: 0.26516036902155193\u001b[0m\n",
      "\u001b[34m2021-08-10 09:29:43,131 sagemaker-containers INFO     Reporting training SUCCESS\u001b[0m\n",
      "Training seconds: 280\n",
      "Billable seconds: 280\n"
     ]
    }
   ],
   "source": [
    "estimator.fit({'training': input_data})"
   ]
  },
  {
   "cell_type": "markdown",
   "metadata": {},
   "source": [
    "## Step 5: Testing the model\n",
    "\n",
    "As mentioned at the top of this notebook, we will be testing this model by first deploying it and then sending the testing data to the deployed endpoint. We will do this so that we can make sure that the deployed model is working correctly.\n",
    "\n",
    "## Step 6: Deploy the model for testing\n",
    "\n",
    "Now that we have trained our model, we would like to test it to see how it performs. Currently our model takes input of the form `review_length, review[500]` where `review[500]` is a sequence of `500` integers which describe the words present in the review, encoded using `word_dict`. Fortunately for us, SageMaker provides built-in inference code for models with simple inputs such as this.\n",
    "\n",
    "There is one thing that we need to provide, however, and that is a function which loads the saved model. This function must be called `model_fn()` and takes as its only parameter a path to the directory where the model artifacts are stored. This function must also be present in the python file which we specified as the entry point. In our case the model loading function has been provided and so no changes need to be made.\n",
    "\n",
    "**NOTE**: When the built-in inference code is run it must import the `model_fn()` method from the `train.py` file. This is why the training code is wrapped in a main guard ( ie, `if __name__ == '__main__':` )\n",
    "\n",
    "Since we don't need to change anything in the code that was uploaded during training, we can simply deploy the current model as-is.\n",
    "\n",
    "**NOTE:** When deploying a model you are asking SageMaker to launch an compute instance that will wait for data to be sent to it. As a result, this compute instance will continue to run until *you* shut it down. This is important to know since the cost of a deployed endpoint depends on how long it has been running for.\n",
    "\n",
    "In other words **If you are no longer using a deployed endpoint, shut it down!**\n",
    "\n",
    "**TODO:** Deploy the trained model."
   ]
  },
  {
   "cell_type": "code",
   "execution_count": 30,
   "metadata": {},
   "outputs": [
    {
     "name": "stderr",
     "output_type": "stream",
     "text": [
      "Parameter image will be renamed to image_uri in SageMaker Python SDK v2.\n",
      "'create_image_uri' will be deprecated in favor of 'ImageURIProvider' class in SageMaker Python SDK v2.\n"
     ]
    },
    {
     "name": "stdout",
     "output_type": "stream",
     "text": [
      "-------------!"
     ]
    },
    {
     "data": {
      "text/plain": [
       "'sagemaker-pytorch-2021-08-10-09-22-51-404'"
      ]
     },
     "execution_count": 30,
     "metadata": {},
     "output_type": "execute_result"
    }
   ],
   "source": [
    "# TODO: Deploy the trained model\n",
    "predictor = estimator.deploy(initial_instance_count=1, instance_type='ml.m4.xlarge')\n",
    "predictor.endpoint"
   ]
  },
  {
   "cell_type": "markdown",
   "metadata": {},
   "source": [
    "## Step 7 - Use the model for testing\n",
    "\n",
    "Once deployed, we can read in the test data and send it off to our deployed model to get some results. Once we collect all of the results we can determine how accurate our model is."
   ]
  },
  {
   "cell_type": "code",
   "execution_count": 31,
   "metadata": {},
   "outputs": [],
   "source": [
    "test_X = pd.concat([pd.DataFrame(test_X_len), pd.DataFrame(test_X)], axis=1)"
   ]
  },
  {
   "cell_type": "code",
   "execution_count": 32,
   "metadata": {},
   "outputs": [],
   "source": [
    "# We split the data into chunks and send each chunk seperately, accumulating the results.\n",
    "\n",
    "def predict(data, rows=512):\n",
    "    split_array = np.array_split(data, int(data.shape[0] / float(rows) + 1))\n",
    "    predictions = np.array([])\n",
    "    for array in split_array:\n",
    "        predictions = np.append(predictions, predictor.predict(array))\n",
    "    \n",
    "    return predictions"
   ]
  },
  {
   "cell_type": "code",
   "execution_count": 33,
   "metadata": {},
   "outputs": [],
   "source": [
    "predictions = predict(test_X.values)\n",
    "predictions = [round(num) for num in predictions]"
   ]
  },
  {
   "cell_type": "code",
   "execution_count": 34,
   "metadata": {},
   "outputs": [
    {
     "data": {
      "text/plain": [
       "0.85564"
      ]
     },
     "execution_count": 34,
     "metadata": {},
     "output_type": "execute_result"
    }
   ],
   "source": [
    "from sklearn.metrics import accuracy_score\n",
    "accuracy_score(test_y, predictions)"
   ]
  },
  {
   "cell_type": "markdown",
   "metadata": {},
   "source": [
    "**Question:** How does this model compare to the XGBoost model you created earlier? Why might these two models perform differently on this dataset? Which do *you* think is better for sentiment analysis?"
   ]
  },
  {
   "cell_type": "markdown",
   "metadata": {},
   "source": [
    "**Answer:**\n",
    "<br >\n",
    " I think both models performs good (above 80% accuracy) with the PyTorch model performing slightly better than the XGBoost model"
   ]
  },
  {
   "cell_type": "markdown",
   "metadata": {},
   "source": [
    "### (TODO) More testing\n",
    "\n",
    "We now have a trained model which has been deployed and which we can send processed reviews to and which returns the predicted sentiment. However, ultimately we would like to be able to send our model an unprocessed review. That is, we would like to send the review itself as a string. For example, suppose we wish to send the following review to our model."
   ]
  },
  {
   "cell_type": "code",
   "execution_count": 35,
   "metadata": {},
   "outputs": [],
   "source": [
    "test_review = 'The simplest pleasures in life are the best, and this film is one of them. Combining a rather basic storyline of love and adventure this movie transcends the usual weekend fair with wit and unmitigated charm.'"
   ]
  },
  {
   "cell_type": "markdown",
   "metadata": {},
   "source": [
    "The question we now need to answer is, how do we send this review to our model?\n",
    "\n",
    "Recall in the first section of this notebook we did a bunch of data processing to the IMDb dataset. In particular, we did two specific things to the provided reviews.\n",
    " - Removed any html tags and stemmed the input\n",
    " - Encoded the review as a sequence of integers using `word_dict`\n",
    " \n",
    "In order process the review we will need to repeat these two steps.\n",
    "\n",
    "**TODO**: Using the `review_to_words` and `convert_and_pad` methods from section one, convert `test_review` into a numpy array `test_data` suitable to send to our model. Remember that our model expects input of the form `review_length, review[500]`."
   ]
  },
  {
   "cell_type": "code",
   "execution_count": 36,
   "metadata": {},
   "outputs": [],
   "source": [
    "# TODO: Convert test_review into a form usable by the model and save the results in test_data\n",
    "test_data = review_to_words(test_review)\n",
    "\n",
    "test_data, len_test  = convert_and_pad(word_dict, test_data)\n",
    "test_data = np.array([np.array([len_test] + test_data)])"
   ]
  },
  {
   "cell_type": "markdown",
   "metadata": {},
   "source": [
    "Now that we have processed the review, we can send the resulting array to our model to predict the sentiment of the review."
   ]
  },
  {
   "cell_type": "code",
   "execution_count": 37,
   "metadata": {},
   "outputs": [
    {
     "data": {
      "text/plain": [
       "array(0.8770291, dtype=float32)"
      ]
     },
     "execution_count": 37,
     "metadata": {},
     "output_type": "execute_result"
    }
   ],
   "source": [
    "predictor.predict(test_data)"
   ]
  },
  {
   "cell_type": "markdown",
   "metadata": {},
   "source": [
    "Since the return value of our model is close to `1`, we can be certain that the review we submitted is positive."
   ]
  },
  {
   "cell_type": "markdown",
   "metadata": {},
   "source": [
    "### Delete the endpoint\n",
    "\n",
    "Of course, just like in the XGBoost notebook, once we've deployed an endpoint it continues to run until we tell it to shut down. Since we are done using our endpoint for now, we can delete it."
   ]
  },
  {
   "cell_type": "code",
   "execution_count": 38,
   "metadata": {},
   "outputs": [
    {
     "name": "stderr",
     "output_type": "stream",
     "text": [
      "estimator.delete_endpoint() will be deprecated in SageMaker Python SDK v2. Please use the delete_endpoint() function on your predictor instead.\n"
     ]
    }
   ],
   "source": [
    "estimator.delete_endpoint()"
   ]
  },
  {
   "cell_type": "markdown",
   "metadata": {},
   "source": [
    "## Step 6 (again) - Deploy the model for the web app\n",
    "\n",
    "Now that we know that our model is working, it's time to create some custom inference code so that we can send the model a review which has not been processed and have it determine the sentiment of the review.\n",
    "\n",
    "As we saw above, by default the estimator which we created, when deployed, will use the entry script and directory which we provided when creating the model. However, since we now wish to accept a string as input and our model expects a processed review, we need to write some custom inference code.\n",
    "\n",
    "We will store the code that we write in the `serve` directory. Provided in this directory is the `model.py` file that we used to construct our model, a `utils.py` file which contains the `review_to_words` and `convert_and_pad` pre-processing functions which we used during the initial data processing, and `predict.py`, the file which will contain our custom inference code. Note also that `requirements.txt` is present which will tell SageMaker what Python libraries are required by our custom inference code.\n",
    "\n",
    "When deploying a PyTorch model in SageMaker, you are expected to provide four functions which the SageMaker inference container will use.\n",
    " - `model_fn`: This function is the same function that we used in the training script and it tells SageMaker how to load our model.\n",
    " - `input_fn`: This function receives the raw serialized input that has been sent to the model's endpoint and its job is to de-serialize and make the input available for the inference code.\n",
    " - `output_fn`: This function takes the output of the inference code and its job is to serialize this output and return it to the caller of the model's endpoint.\n",
    " - `predict_fn`: The heart of the inference script, this is where the actual prediction is done and is the function which you will need to complete.\n",
    "\n",
    "For the simple website that we are constructing during this project, the `input_fn` and `output_fn` methods are relatively straightforward. We only require being able to accept a string as input and we expect to return a single value as output. You might imagine though that in a more complex application the input or output may be image data or some other binary data which would require some effort to serialize.\n",
    "\n",
    "### (TODO) Writing inference code\n",
    "\n",
    "Before writing our custom inference code, we will begin by taking a look at the code which has been provided."
   ]
  },
  {
   "cell_type": "code",
   "execution_count": 39,
   "metadata": {},
   "outputs": [
    {
     "name": "stdout",
     "output_type": "stream",
     "text": [
      "\u001b[34mimport\u001b[39;49;00m \u001b[04m\u001b[36margparse\u001b[39;49;00m\r\n",
      "\u001b[34mimport\u001b[39;49;00m \u001b[04m\u001b[36mjson\u001b[39;49;00m\r\n",
      "\u001b[34mimport\u001b[39;49;00m \u001b[04m\u001b[36mos\u001b[39;49;00m\r\n",
      "\u001b[34mimport\u001b[39;49;00m \u001b[04m\u001b[36mpickle\u001b[39;49;00m\r\n",
      "\u001b[34mimport\u001b[39;49;00m \u001b[04m\u001b[36msys\u001b[39;49;00m\r\n",
      "\u001b[34mimport\u001b[39;49;00m \u001b[04m\u001b[36msagemaker_containers\u001b[39;49;00m\r\n",
      "\u001b[34mimport\u001b[39;49;00m \u001b[04m\u001b[36mpandas\u001b[39;49;00m \u001b[34mas\u001b[39;49;00m \u001b[04m\u001b[36mpd\u001b[39;49;00m\r\n",
      "\u001b[34mimport\u001b[39;49;00m \u001b[04m\u001b[36mnumpy\u001b[39;49;00m \u001b[34mas\u001b[39;49;00m \u001b[04m\u001b[36mnp\u001b[39;49;00m\r\n",
      "\u001b[34mimport\u001b[39;49;00m \u001b[04m\u001b[36mtorch\u001b[39;49;00m\r\n",
      "\u001b[34mimport\u001b[39;49;00m \u001b[04m\u001b[36mtorch\u001b[39;49;00m\u001b[04m\u001b[36m.\u001b[39;49;00m\u001b[04m\u001b[36mnn\u001b[39;49;00m \u001b[34mas\u001b[39;49;00m \u001b[04m\u001b[36mnn\u001b[39;49;00m\r\n",
      "\u001b[34mimport\u001b[39;49;00m \u001b[04m\u001b[36mtorch\u001b[39;49;00m\u001b[04m\u001b[36m.\u001b[39;49;00m\u001b[04m\u001b[36moptim\u001b[39;49;00m \u001b[34mas\u001b[39;49;00m \u001b[04m\u001b[36moptim\u001b[39;49;00m\r\n",
      "\u001b[34mimport\u001b[39;49;00m \u001b[04m\u001b[36mtorch\u001b[39;49;00m\u001b[04m\u001b[36m.\u001b[39;49;00m\u001b[04m\u001b[36mutils\u001b[39;49;00m\u001b[04m\u001b[36m.\u001b[39;49;00m\u001b[04m\u001b[36mdata\u001b[39;49;00m\r\n",
      "\r\n",
      "\u001b[34mfrom\u001b[39;49;00m \u001b[04m\u001b[36mmodel\u001b[39;49;00m \u001b[34mimport\u001b[39;49;00m LSTMClassifier\r\n",
      "\r\n",
      "\u001b[34mfrom\u001b[39;49;00m \u001b[04m\u001b[36mutils\u001b[39;49;00m \u001b[34mimport\u001b[39;49;00m review_to_words, convert_and_pad\r\n",
      "\r\n",
      "\u001b[34mdef\u001b[39;49;00m \u001b[32mmodel_fn\u001b[39;49;00m(model_dir):\r\n",
      "    \u001b[33m\"\"\"Load the PyTorch model from the `model_dir` directory.\"\"\"\u001b[39;49;00m\r\n",
      "    \u001b[36mprint\u001b[39;49;00m(\u001b[33m\"\u001b[39;49;00m\u001b[33mLoading model.\u001b[39;49;00m\u001b[33m\"\u001b[39;49;00m)\r\n",
      "\r\n",
      "    \u001b[37m# First, load the parameters used to create the model.\u001b[39;49;00m\r\n",
      "    model_info = {}\r\n",
      "    model_info_path = os.path.join(model_dir, \u001b[33m'\u001b[39;49;00m\u001b[33mmodel_info.pth\u001b[39;49;00m\u001b[33m'\u001b[39;49;00m)\r\n",
      "    \u001b[34mwith\u001b[39;49;00m \u001b[36mopen\u001b[39;49;00m(model_info_path, \u001b[33m'\u001b[39;49;00m\u001b[33mrb\u001b[39;49;00m\u001b[33m'\u001b[39;49;00m) \u001b[34mas\u001b[39;49;00m f:\r\n",
      "        model_info = torch.load(f)\r\n",
      "\r\n",
      "    \u001b[36mprint\u001b[39;49;00m(\u001b[33m\"\u001b[39;49;00m\u001b[33mmodel_info: \u001b[39;49;00m\u001b[33m{}\u001b[39;49;00m\u001b[33m\"\u001b[39;49;00m.format(model_info))\r\n",
      "\r\n",
      "    \u001b[37m# Determine the device and construct the model.\u001b[39;49;00m\r\n",
      "    device = torch.device(\u001b[33m\"\u001b[39;49;00m\u001b[33mcuda\u001b[39;49;00m\u001b[33m\"\u001b[39;49;00m \u001b[34mif\u001b[39;49;00m torch.cuda.is_available() \u001b[34melse\u001b[39;49;00m \u001b[33m\"\u001b[39;49;00m\u001b[33mcpu\u001b[39;49;00m\u001b[33m\"\u001b[39;49;00m)\r\n",
      "    model = LSTMClassifier(model_info[\u001b[33m'\u001b[39;49;00m\u001b[33membedding_dim\u001b[39;49;00m\u001b[33m'\u001b[39;49;00m], model_info[\u001b[33m'\u001b[39;49;00m\u001b[33mhidden_dim\u001b[39;49;00m\u001b[33m'\u001b[39;49;00m], model_info[\u001b[33m'\u001b[39;49;00m\u001b[33mvocab_size\u001b[39;49;00m\u001b[33m'\u001b[39;49;00m])\r\n",
      "\r\n",
      "    \u001b[37m# Load the store model parameters.\u001b[39;49;00m\r\n",
      "    model_path = os.path.join(model_dir, \u001b[33m'\u001b[39;49;00m\u001b[33mmodel.pth\u001b[39;49;00m\u001b[33m'\u001b[39;49;00m)\r\n",
      "    \u001b[34mwith\u001b[39;49;00m \u001b[36mopen\u001b[39;49;00m(model_path, \u001b[33m'\u001b[39;49;00m\u001b[33mrb\u001b[39;49;00m\u001b[33m'\u001b[39;49;00m) \u001b[34mas\u001b[39;49;00m f:\r\n",
      "        model.load_state_dict(torch.load(f))\r\n",
      "\r\n",
      "    \u001b[37m# Load the saved word_dict.\u001b[39;49;00m\r\n",
      "    word_dict_path = os.path.join(model_dir, \u001b[33m'\u001b[39;49;00m\u001b[33mword_dict.pkl\u001b[39;49;00m\u001b[33m'\u001b[39;49;00m)\r\n",
      "    \u001b[34mwith\u001b[39;49;00m \u001b[36mopen\u001b[39;49;00m(word_dict_path, \u001b[33m'\u001b[39;49;00m\u001b[33mrb\u001b[39;49;00m\u001b[33m'\u001b[39;49;00m) \u001b[34mas\u001b[39;49;00m f:\r\n",
      "        model.word_dict = pickle.load(f)\r\n",
      "\r\n",
      "    model.to(device).eval()\r\n",
      "\r\n",
      "    \u001b[36mprint\u001b[39;49;00m(\u001b[33m\"\u001b[39;49;00m\u001b[33mDone loading model.\u001b[39;49;00m\u001b[33m\"\u001b[39;49;00m)\r\n",
      "    \u001b[34mreturn\u001b[39;49;00m model\r\n",
      "\r\n",
      "\u001b[34mdef\u001b[39;49;00m \u001b[32minput_fn\u001b[39;49;00m(serialized_input_data, content_type):\r\n",
      "    \u001b[36mprint\u001b[39;49;00m(\u001b[33m'\u001b[39;49;00m\u001b[33mDeserializing the input data.\u001b[39;49;00m\u001b[33m'\u001b[39;49;00m)\r\n",
      "    \u001b[34mif\u001b[39;49;00m content_type == \u001b[33m'\u001b[39;49;00m\u001b[33mtext/plain\u001b[39;49;00m\u001b[33m'\u001b[39;49;00m:\r\n",
      "        data = serialized_input_data.decode(\u001b[33m'\u001b[39;49;00m\u001b[33mutf-8\u001b[39;49;00m\u001b[33m'\u001b[39;49;00m)\r\n",
      "        \u001b[34mreturn\u001b[39;49;00m data\r\n",
      "    \u001b[34mraise\u001b[39;49;00m \u001b[36mException\u001b[39;49;00m(\u001b[33m'\u001b[39;49;00m\u001b[33mRequested unsupported ContentType in content_type: \u001b[39;49;00m\u001b[33m'\u001b[39;49;00m + content_type)\r\n",
      "\r\n",
      "\u001b[34mdef\u001b[39;49;00m \u001b[32moutput_fn\u001b[39;49;00m(prediction_output, accept):\r\n",
      "    \u001b[36mprint\u001b[39;49;00m(\u001b[33m'\u001b[39;49;00m\u001b[33mSerializing the generated output.\u001b[39;49;00m\u001b[33m'\u001b[39;49;00m)\r\n",
      "    \u001b[34mreturn\u001b[39;49;00m \u001b[36mstr\u001b[39;49;00m(prediction_output)\r\n",
      "\r\n",
      "\u001b[34mdef\u001b[39;49;00m \u001b[32mpredict_fn\u001b[39;49;00m(input_data, model):\r\n",
      "    \u001b[36mprint\u001b[39;49;00m(\u001b[33m'\u001b[39;49;00m\u001b[33mInferring sentiment of input data.\u001b[39;49;00m\u001b[33m'\u001b[39;49;00m)\r\n",
      "\r\n",
      "    device = torch.device(\u001b[33m\"\u001b[39;49;00m\u001b[33mcuda\u001b[39;49;00m\u001b[33m\"\u001b[39;49;00m \u001b[34mif\u001b[39;49;00m torch.cuda.is_available() \u001b[34melse\u001b[39;49;00m \u001b[33m\"\u001b[39;49;00m\u001b[33mcpu\u001b[39;49;00m\u001b[33m\"\u001b[39;49;00m)\r\n",
      "    \r\n",
      "    \u001b[34mif\u001b[39;49;00m model.word_dict \u001b[35mis\u001b[39;49;00m \u001b[34mNone\u001b[39;49;00m:\r\n",
      "        \u001b[34mraise\u001b[39;49;00m \u001b[36mException\u001b[39;49;00m(\u001b[33m'\u001b[39;49;00m\u001b[33mModel has not been loaded properly, no word_dict.\u001b[39;49;00m\u001b[33m'\u001b[39;49;00m)\r\n",
      "    \r\n",
      "    \u001b[37m# TODO: Process input_data so that it is ready to be sent to our model.\u001b[39;49;00m\r\n",
      "    \u001b[37m#       You should produce two variables:\u001b[39;49;00m\r\n",
      "    \u001b[37m#         data_X   - A sequence of length 500 which represents the converted review\u001b[39;49;00m\r\n",
      "    \u001b[37m#         data_len - The length of the review\u001b[39;49;00m\r\n",
      "\r\n",
      "    data_X, data_len = convert_and_pad(model.word_dict, review_to_words(input_data))\r\n",
      "\r\n",
      "    \u001b[37m# Using data_X and data_len we construct an appropriate input tensor. Remember\u001b[39;49;00m\r\n",
      "    \u001b[37m# that our model expects input data of the form 'len, review[500]'.\u001b[39;49;00m\r\n",
      "    data_pack = np.hstack((data_len, data_X))\r\n",
      "    data_pack = data_pack.reshape(\u001b[34m1\u001b[39;49;00m, -\u001b[34m1\u001b[39;49;00m)\r\n",
      "    \r\n",
      "    data = torch.from_numpy(data_pack)\r\n",
      "    data = data.to(device)\r\n",
      "\r\n",
      "    \u001b[37m# Make sure to put the model into evaluation mode\u001b[39;49;00m\r\n",
      "    model.eval()\r\n",
      "\r\n",
      "    \u001b[37m# TODO: Compute the result of applying the model to the input data. The variable `result` should\u001b[39;49;00m\r\n",
      "    \u001b[37m#       be a numpy array which contains a single integer which is either 1 or 0\u001b[39;49;00m\r\n",
      "\r\n",
      "    \u001b[37m# make sure it doesnt perform gradient descent\u001b[39;49;00m\r\n",
      "    \u001b[34mwith\u001b[39;49;00m torch.no_grad():\r\n",
      "        output = model.forward(data)\r\n",
      "        \r\n",
      "    result = np.round(output.numpy())\r\n",
      "\r\n",
      "    \u001b[34mreturn\u001b[39;49;00m result\r\n"
     ]
    }
   ],
   "source": [
    "!pygmentize serve/predict.py"
   ]
  },
  {
   "cell_type": "markdown",
   "metadata": {},
   "source": [
    "As mentioned earlier, the `model_fn` method is the same as the one provided in the training code and the `input_fn` and `output_fn` methods are very simple and your task will be to complete the `predict_fn` method. Make sure that you save the completed file as `predict.py` in the `serve` directory.\n",
    "\n",
    "**TODO**: Complete the `predict_fn()` method in the `serve/predict.py` file."
   ]
  },
  {
   "cell_type": "markdown",
   "metadata": {},
   "source": [
    "### Deploying the model\n",
    "\n",
    "Now that the custom inference code has been written, we will create and deploy our model. To begin with, we need to construct a new PyTorchModel object which points to the model artifacts created during training and also points to the inference code that we wish to use. Then we can call the deploy method to launch the deployment container.\n",
    "\n",
    "**NOTE**: The default behaviour for a deployed PyTorch model is to assume that any input passed to the predictor is a `numpy` array. In our case we want to send a string so we need to construct a simple wrapper around the `RealTimePredictor` class to accomodate simple strings. In a more complicated situation you may want to provide a serialization object, for example if you wanted to sent image data."
   ]
  },
  {
   "cell_type": "code",
   "execution_count": 40,
   "metadata": {},
   "outputs": [
    {
     "name": "stderr",
     "output_type": "stream",
     "text": [
      "Parameter image will be renamed to image_uri in SageMaker Python SDK v2.\n",
      "'create_image_uri' will be deprecated in favor of 'ImageURIProvider' class in SageMaker Python SDK v2.\n"
     ]
    },
    {
     "name": "stdout",
     "output_type": "stream",
     "text": [
      "-------------!"
     ]
    }
   ],
   "source": [
    "from sagemaker.predictor import RealTimePredictor\n",
    "from sagemaker.pytorch import PyTorchModel\n",
    "\n",
    "class StringPredictor(RealTimePredictor):\n",
    "    def __init__(self, endpoint_name, sagemaker_session):\n",
    "        super(StringPredictor, self).__init__(endpoint_name, sagemaker_session, content_type='text/plain')\n",
    "\n",
    "model = PyTorchModel(model_data=estimator.model_data,\n",
    "                     role = role,\n",
    "                     framework_version='0.4.0',\n",
    "                     entry_point='predict.py',\n",
    "                     source_dir='serve',\n",
    "                     predictor_cls=StringPredictor)\n",
    "predictor = model.deploy(initial_instance_count=1, instance_type='ml.m4.xlarge')"
   ]
  },
  {
   "cell_type": "markdown",
   "metadata": {},
   "source": [
    "### Testing the model\n",
    "\n",
    "Now that we have deployed our model with the custom inference code, we should test to see if everything is working. Here we test our model by loading the first `250` positive and negative reviews and send them to the endpoint, then collect the results. The reason for only sending some of the data is that the amount of time it takes for our model to process the input and then perform inference is quite long and so testing the entire data set would be prohibitive."
   ]
  },
  {
   "cell_type": "code",
   "execution_count": 41,
   "metadata": {},
   "outputs": [],
   "source": [
    "import glob\n",
    "\n",
    "def test_reviews(data_dir='../data/aclImdb', stop=250):\n",
    "    \n",
    "    results = []\n",
    "    ground = []\n",
    "    \n",
    "    # We make sure to test both positive and negative reviews    \n",
    "    for sentiment in ['pos', 'neg']:\n",
    "        \n",
    "        path = os.path.join(data_dir, 'test', sentiment, '*.txt')\n",
    "        files = glob.glob(path)\n",
    "        \n",
    "        files_read = 0\n",
    "        \n",
    "        print('Starting ', sentiment, ' files')\n",
    "        \n",
    "        # Iterate through the files and send them to the predictor\n",
    "        for f in files:\n",
    "            with open(f) as review:\n",
    "                # First, we store the ground truth (was the review positive or negative)\n",
    "                if sentiment == 'pos':\n",
    "                    ground.append(1)\n",
    "                else:\n",
    "                    ground.append(0)\n",
    "                # Read in the review and convert to 'utf-8' for transmission via HTTP\n",
    "                review_input = review.read().encode('utf-8')\n",
    "                # Send the review to the predictor and store the results\n",
    "                results.append(float(predictor.predict(review_input)))\n",
    "                \n",
    "            # Sending reviews to our endpoint one at a time takes a while so we\n",
    "            # only send a small number of reviews\n",
    "            files_read += 1\n",
    "            if files_read == stop:\n",
    "                break\n",
    "            \n",
    "    return ground, results"
   ]
  },
  {
   "cell_type": "code",
   "execution_count": 42,
   "metadata": {},
   "outputs": [
    {
     "name": "stdout",
     "output_type": "stream",
     "text": [
      "Starting  pos  files\n",
      "Starting  neg  files\n"
     ]
    }
   ],
   "source": [
    "ground, results = test_reviews()"
   ]
  },
  {
   "cell_type": "code",
   "execution_count": 43,
   "metadata": {},
   "outputs": [
    {
     "data": {
      "text/plain": [
       "0.836"
      ]
     },
     "execution_count": 43,
     "metadata": {},
     "output_type": "execute_result"
    }
   ],
   "source": [
    "from sklearn.metrics import accuracy_score\n",
    "accuracy_score(ground, results)"
   ]
  },
  {
   "cell_type": "markdown",
   "metadata": {},
   "source": [
    "As an additional test, we can try sending the `test_review` that we looked at earlier."
   ]
  },
  {
   "cell_type": "code",
   "execution_count": 44,
   "metadata": {},
   "outputs": [
    {
     "data": {
      "text/plain": [
       "b'1.0'"
      ]
     },
     "execution_count": 44,
     "metadata": {},
     "output_type": "execute_result"
    }
   ],
   "source": [
    "predictor.predict(test_review)"
   ]
  },
  {
   "cell_type": "markdown",
   "metadata": {},
   "source": [
    "Now that we know our endpoint is working as expected, we can set up the web page that will interact with it. If you don't have time to finish the project now, make sure to skip down to the end of this notebook and shut down your endpoint. You can deploy it again when you come back."
   ]
  },
  {
   "cell_type": "markdown",
   "metadata": {},
   "source": [
    "## Step 7 (again): Use the model for the web app\n",
    "\n",
    "> **TODO:** This entire section and the next contain tasks for you to complete, mostly using the AWS console.\n",
    "\n",
    "So far we have been accessing our model endpoint by constructing a predictor object which uses the endpoint and then just using the predictor object to perform inference. What if we wanted to create a web app which accessed our model? The way things are set up currently makes that not possible since in order to access a SageMaker endpoint the app would first have to authenticate with AWS using an IAM role which included access to SageMaker endpoints. However, there is an easier way! We just need to use some additional AWS services.\n",
    "\n",
    "<img src=\"Web App Diagram.svg\">\n",
    "\n",
    "The diagram above gives an overview of how the various services will work together. On the far right is the model which we trained above and which is deployed using SageMaker. On the far left is our web app that collects a user's movie review, sends it off and expects a positive or negative sentiment in return.\n",
    "\n",
    "In the middle is where some of the magic happens. We will construct a Lambda function, which you can think of as a straightforward Python function that can be executed whenever a specified event occurs. We will give this function permission to send and recieve data from a SageMaker endpoint.\n",
    "\n",
    "Lastly, the method we will use to execute the Lambda function is a new endpoint that we will create using API Gateway. This endpoint will be a url that listens for data to be sent to it. Once it gets some data it will pass that data on to the Lambda function and then return whatever the Lambda function returns. Essentially it will act as an interface that lets our web app communicate with the Lambda function.\n",
    "\n",
    "### Setting up a Lambda function\n",
    "\n",
    "The first thing we are going to do is set up a Lambda function. This Lambda function will be executed whenever our public API has data sent to it. When it is executed it will receive the data, perform any sort of processing that is required, send the data (the review) to the SageMaker endpoint we've created and then return the result.\n",
    "\n",
    "#### Part A: Create an IAM Role for the Lambda function\n",
    "\n",
    "Since we want the Lambda function to call a SageMaker endpoint, we need to make sure that it has permission to do so. To do this, we will construct a role that we can later give the Lambda function.\n",
    "\n",
    "Using the AWS Console, navigate to the **IAM** page and click on **Roles**. Then, click on **Create role**. Make sure that the **AWS service** is the type of trusted entity selected and choose **Lambda** as the service that will use this role, then click **Next: Permissions**.\n",
    "\n",
    "In the search box type `sagemaker` and select the check box next to the **AmazonSageMakerFullAccess** policy. Then, click on **Next: Review**.\n",
    "\n",
    "Lastly, give this role a name. Make sure you use a name that you will remember later on, for example `LambdaSageMakerRole`. Then, click on **Create role**.\n",
    "\n",
    "#### Part B: Create a Lambda function\n",
    "\n",
    "Now it is time to actually create the Lambda function.\n",
    "\n",
    "Using the AWS Console, navigate to the AWS Lambda page and click on **Create a function**. When you get to the next page, make sure that **Author from scratch** is selected. Now, name your Lambda function, using a name that you will remember later on, for example `sentiment_analysis_func`. Make sure that the **Python 3.6** runtime is selected and then choose the role that you created in the previous part. Then, click on **Create Function**.\n",
    "\n",
    "On the next page you will see some information about the Lambda function you've just created. If you scroll down you should see an editor in which you can write the code that will be executed when your Lambda function is triggered. In our example, we will use the code below. \n",
    "\n",
    "```python\n",
    "# We need to use the low-level library to interact with SageMaker since the SageMaker API\n",
    "# is not available natively through Lambda.\n",
    "import boto3\n",
    "\n",
    "def lambda_handler(event, context):\n",
    "\n",
    "    # The SageMaker runtime is what allows us to invoke the endpoint that we've created.\n",
    "    runtime = boto3.Session().client('sagemaker-runtime')\n",
    "\n",
    "    # Now we use the SageMaker runtime to invoke our endpoint, sending the review we were given\n",
    "    response = runtime.invoke_endpoint(EndpointName = '**ENDPOINT NAME HERE**',    # The name of the endpoint we created\n",
    "                                       ContentType = 'text/plain',                 # The data format that is expected\n",
    "                                       Body = event['body'])                       # The actual review\n",
    "\n",
    "    # The response is an HTTP response whose body contains the result of our inference\n",
    "    result = response['Body'].read().decode('utf-8')\n",
    "\n",
    "    return {\n",
    "        'statusCode' : 200,\n",
    "        'headers' : { 'Content-Type' : 'text/plain', 'Access-Control-Allow-Origin' : '*' },\n",
    "        'body' : result\n",
    "    }\n",
    "```\n",
    "\n",
    "Once you have copy and pasted the code above into the Lambda code editor, replace the `**ENDPOINT NAME HERE**` portion with the name of the endpoint that we deployed earlier. You can determine the name of the endpoint using the code cell below."
   ]
  },
  {
   "cell_type": "code",
   "execution_count": 45,
   "metadata": {},
   "outputs": [
    {
     "data": {
      "text/plain": [
       "'sagemaker-pytorch-2021-08-10-09-40-31-137'"
      ]
     },
     "execution_count": 45,
     "metadata": {},
     "output_type": "execute_result"
    }
   ],
   "source": [
    "predictor.endpoint"
   ]
  },
  {
   "cell_type": "markdown",
   "metadata": {},
   "source": [
    "Once you have added the endpoint name to the Lambda function, click on **Save**. Your Lambda function is now up and running. Next we need to create a way for our web app to execute the Lambda function.\n",
    "\n",
    "### Setting up API Gateway\n",
    "\n",
    "Now that our Lambda function is set up, it is time to create a new API using API Gateway that will trigger the Lambda function we have just created.\n",
    "\n",
    "Using AWS Console, navigate to **Amazon API Gateway** and then click on **Get started**.\n",
    "\n",
    "On the next page, make sure that **New API** is selected and give the new api a name, for example, `sentiment_analysis_api`. Then, click on **Create API**.\n",
    "\n",
    "Now we have created an API, however it doesn't currently do anything. What we want it to do is to trigger the Lambda function that we created earlier.\n",
    "\n",
    "Select the **Actions** dropdown menu and click **Create Method**. A new blank method will be created, select its dropdown menu and select **POST**, then click on the check mark beside it.\n",
    "\n",
    "For the integration point, make sure that **Lambda Function** is selected and click on the **Use Lambda Proxy integration**. This option makes sure that the data that is sent to the API is then sent directly to the Lambda function with no processing. It also means that the return value must be a proper response object as it will also not be processed by API Gateway.\n",
    "\n",
    "Type the name of the Lambda function you created earlier into the **Lambda Function** text entry box and then click on **Save**. Click on **OK** in the pop-up box that then appears, giving permission to API Gateway to invoke the Lambda function you created.\n",
    "\n",
    "The last step in creating the API Gateway is to select the **Actions** dropdown and click on **Deploy API**. You will need to create a new Deployment stage and name it anything you like, for example `prod`.\n",
    "\n",
    "You have now successfully set up a public API to access your SageMaker model. Make sure to copy or write down the URL provided to invoke your newly created public API as this will be needed in the next step. This URL can be found at the top of the page, highlighted in blue next to the text **Invoke URL**."
   ]
  },
  {
   "cell_type": "markdown",
   "metadata": {},
   "source": [
    "## Step 4: Deploying our web app\n",
    "\n",
    "Now that we have a publicly available API, we can start using it in a web app. For our purposes, we have provided a simple static html file which can make use of the public api you created earlier.\n",
    "\n",
    "In the `website` folder there should be a file called `index.html`. Download the file to your computer and open that file up in a text editor of your choice. There should be a line which contains **\\*\\*REPLACE WITH PUBLIC API URL\\*\\***. Replace this string with the url that you wrote down in the last step and then save the file.\n",
    "\n",
    "Now, if you open `index.html` on your local computer, your browser will behave as a local web server and you can use the provided site to interact with your SageMaker model.\n",
    "\n",
    "If you'd like to go further, you can host this html file anywhere you'd like, for example using github or hosting a static site on Amazon's S3. Once you have done this you can share the link with anyone you'd like and have them play with it too!\n",
    "\n",
    "> **Important Note** In order for the web app to communicate with the SageMaker endpoint, the endpoint has to actually be deployed and running. This means that you are paying for it. Make sure that the endpoint is running when you want to use the web app but that you shut it down when you don't need it, otherwise you will end up with a surprisingly large AWS bill.\n",
    "\n",
    "**TODO:** Make sure that you include the edited `index.html` file in your project submission."
   ]
  },
  {
   "cell_type": "markdown",
   "metadata": {},
   "source": [
    "Now that your web app is working, trying playing around with it and see how well it works.\n",
    "\n",
    "**Question**: Give an example of a review that you entered into your web app. What was the predicted sentiment of your example review?"
   ]
  },
  {
   "cell_type": "markdown",
   "metadata": {},
   "source": [
    "**Answer:**\n",
    "\n",
    "<br>\n",
    "Review: \"The producers of the movie can do much better\"\n",
    "<br>\n",
    "Response: \"Negative !\"\n",
    "\n",
    "\n",
    "<br>\n",
    "Review: \"I really enjoyed the movie. I would recommend to everyone\"\n",
    "<br>\n",
    "Response: \"Positive !\""
   ]
  },
  {
   "cell_type": "markdown",
   "metadata": {},
   "source": [
    "### Delete the endpoint\n",
    "\n",
    "Remember to always shut down your endpoint if you are no longer using it. You are charged for the length of time that the endpoint is running so if you forget and leave it on you could end up with an unexpectedly large bill."
   ]
  },
  {
   "cell_type": "code",
   "execution_count": 46,
   "metadata": {},
   "outputs": [],
   "source": [
    "predictor.delete_endpoint()"
   ]
  },
  {
   "cell_type": "code",
   "execution_count": null,
   "metadata": {},
   "outputs": [],
   "source": []
  }
 ],
 "metadata": {
  "kernelspec": {
   "display_name": "conda_pytorch_p36",
   "language": "python",
   "name": "conda_pytorch_p36"
  },
  "language_info": {
   "codemirror_mode": {
    "name": "ipython",
    "version": 3
   },
   "file_extension": ".py",
   "mimetype": "text/x-python",
   "name": "python",
   "nbconvert_exporter": "python",
   "pygments_lexer": "ipython3",
   "version": "3.6.13"
  }
 },
 "nbformat": 4,
 "nbformat_minor": 2
}
