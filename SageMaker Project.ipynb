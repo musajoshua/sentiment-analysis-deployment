{
 "cells": [
  {
   "cell_type": "markdown",
   "metadata": {},
   "source": [
    "# Creating a Sentiment Analysis Web App\n",
    "## Using PyTorch and SageMaker\n",
    "\n",
    "_Deep Learning Nanodegree Program | Deployment_\n",
    "\n",
    "---\n",
    "\n",
    "Now that we have a basic understanding of how SageMaker works we will try to use it to construct a complete project from end to end. Our goal will be to have a simple web page which a user can use to enter a movie review. The web page will then send the review off to our deployed model which will predict the sentiment of the entered review.\n",
    "\n",
    "## Instructions\n",
    "\n",
    "Some template code has already been provided for you, and you will need to implement additional functionality to successfully complete this notebook. You will not need to modify the included code beyond what is requested. Sections that begin with '**TODO**' in the header indicate that you need to complete or implement some portion within them. Instructions will be provided for each section and the specifics of the implementation are marked in the code block with a `# TODO: ...` comment. Please be sure to read the instructions carefully!\n",
    "\n",
    "In addition to implementing code, there will be questions for you to answer which relate to the task and your implementation. Each section where you will answer a question is preceded by a '**Question:**' header. Carefully read each question and provide your answer below the '**Answer:**' header by editing the Markdown cell.\n",
    "\n",
    "> **Note**: Code and Markdown cells can be executed using the **Shift+Enter** keyboard shortcut. In addition, a cell can be edited by typically clicking it (double-click for Markdown cells) or by pressing **Enter** while it is highlighted.\n",
    "\n",
    "## General Outline\n",
    "\n",
    "Recall the general outline for SageMaker projects using a notebook instance.\n",
    "\n",
    "1. Download or otherwise retrieve the data.\n",
    "2. Process / Prepare the data.\n",
    "3. Upload the processed data to S3.\n",
    "4. Train a chosen model.\n",
    "5. Test the trained model (typically using a batch transform job).\n",
    "6. Deploy the trained model.\n",
    "7. Use the deployed model.\n",
    "\n",
    "For this project, you will be following the steps in the general outline with some modifications. \n",
    "\n",
    "First, you will not be testing the model in its own step. You will still be testing the model, however, you will do it by deploying your model and then using the deployed model by sending the test data to it. One of the reasons for doing this is so that you can make sure that your deployed model is working correctly before moving forward.\n",
    "\n",
    "In addition, you will deploy and use your trained model a second time. In the second iteration you will customize the way that your trained model is deployed by including some of your own code. In addition, your newly deployed model will be used in the sentiment analysis web app."
   ]
  },
  {
   "cell_type": "code",
   "execution_count": 1,
   "metadata": {},
   "outputs": [
    {
     "name": "stdout",
     "output_type": "stream",
     "text": [
      "Collecting sagemaker==1.72.0\n",
      "  Downloading sagemaker-1.72.0.tar.gz (297 kB)\n",
      "\u001b[K     |████████████████████████████████| 297 kB 4.5 MB/s eta 0:00:01\n",
      "\u001b[?25hRequirement already satisfied: boto3>=1.14.12 in /home/ec2-user/anaconda3/envs/pytorch_p36/lib/python3.6/site-packages (from sagemaker==1.72.0) (1.18.8)\n",
      "Requirement already satisfied: numpy>=1.9.0 in /home/ec2-user/anaconda3/envs/pytorch_p36/lib/python3.6/site-packages (from sagemaker==1.72.0) (1.19.5)\n",
      "Requirement already satisfied: protobuf>=3.1 in /home/ec2-user/anaconda3/envs/pytorch_p36/lib/python3.6/site-packages (from sagemaker==1.72.0) (3.17.2)\n",
      "Requirement already satisfied: scipy>=0.19.0 in /home/ec2-user/anaconda3/envs/pytorch_p36/lib/python3.6/site-packages (from sagemaker==1.72.0) (1.5.3)\n",
      "Requirement already satisfied: protobuf3-to-dict>=0.1.5 in /home/ec2-user/anaconda3/envs/pytorch_p36/lib/python3.6/site-packages (from sagemaker==1.72.0) (0.1.5)\n",
      "Collecting smdebug-rulesconfig==0.1.4\n",
      "  Downloading smdebug_rulesconfig-0.1.4-py2.py3-none-any.whl (10 kB)\n",
      "Requirement already satisfied: importlib-metadata>=1.4.0 in /home/ec2-user/anaconda3/envs/pytorch_p36/lib/python3.6/site-packages (from sagemaker==1.72.0) (4.5.0)\n",
      "Requirement already satisfied: packaging>=20.0 in /home/ec2-user/anaconda3/envs/pytorch_p36/lib/python3.6/site-packages (from sagemaker==1.72.0) (20.9)\n",
      "Requirement already satisfied: jmespath<1.0.0,>=0.7.1 in /home/ec2-user/anaconda3/envs/pytorch_p36/lib/python3.6/site-packages (from boto3>=1.14.12->sagemaker==1.72.0) (0.10.0)\n",
      "Requirement already satisfied: s3transfer<0.6.0,>=0.5.0 in /home/ec2-user/anaconda3/envs/pytorch_p36/lib/python3.6/site-packages (from boto3>=1.14.12->sagemaker==1.72.0) (0.5.0)\n",
      "Requirement already satisfied: botocore<1.22.0,>=1.21.8 in /home/ec2-user/anaconda3/envs/pytorch_p36/lib/python3.6/site-packages (from boto3>=1.14.12->sagemaker==1.72.0) (1.21.8)\n",
      "Requirement already satisfied: python-dateutil<3.0.0,>=2.1 in /home/ec2-user/anaconda3/envs/pytorch_p36/lib/python3.6/site-packages (from botocore<1.22.0,>=1.21.8->boto3>=1.14.12->sagemaker==1.72.0) (2.8.1)\n",
      "Requirement already satisfied: urllib3<1.27,>=1.25.4 in /home/ec2-user/anaconda3/envs/pytorch_p36/lib/python3.6/site-packages (from botocore<1.22.0,>=1.21.8->boto3>=1.14.12->sagemaker==1.72.0) (1.26.5)\n",
      "Requirement already satisfied: typing-extensions>=3.6.4 in /home/ec2-user/anaconda3/envs/pytorch_p36/lib/python3.6/site-packages (from importlib-metadata>=1.4.0->sagemaker==1.72.0) (3.10.0.0)\n",
      "Requirement already satisfied: zipp>=0.5 in /home/ec2-user/anaconda3/envs/pytorch_p36/lib/python3.6/site-packages (from importlib-metadata>=1.4.0->sagemaker==1.72.0) (3.4.1)\n",
      "Requirement already satisfied: pyparsing>=2.0.2 in /home/ec2-user/anaconda3/envs/pytorch_p36/lib/python3.6/site-packages (from packaging>=20.0->sagemaker==1.72.0) (2.4.7)\n",
      "Requirement already satisfied: six>=1.9 in /home/ec2-user/anaconda3/envs/pytorch_p36/lib/python3.6/site-packages (from protobuf>=3.1->sagemaker==1.72.0) (1.16.0)\n",
      "Building wheels for collected packages: sagemaker\n",
      "  Building wheel for sagemaker (setup.py) ... \u001b[?25ldone\n",
      "\u001b[?25h  Created wheel for sagemaker: filename=sagemaker-1.72.0-py2.py3-none-any.whl size=388327 sha256=7ac1b34b4e4e0e2b7d10790327871738727f0edbc77e628da45aab3a3ad7c0f2\n",
      "  Stored in directory: /home/ec2-user/.cache/pip/wheels/c3/58/70/85faf4437568bfaa4c419937569ba1fe54d44c5db42406bbd7\n",
      "Successfully built sagemaker\n",
      "Installing collected packages: smdebug-rulesconfig, sagemaker\n",
      "  Attempting uninstall: smdebug-rulesconfig\n",
      "    Found existing installation: smdebug-rulesconfig 1.0.1\n",
      "    Uninstalling smdebug-rulesconfig-1.0.1:\n",
      "      Successfully uninstalled smdebug-rulesconfig-1.0.1\n",
      "  Attempting uninstall: sagemaker\n",
      "    Found existing installation: sagemaker 2.48.1\n",
      "    Uninstalling sagemaker-2.48.1:\n",
      "      Successfully uninstalled sagemaker-2.48.1\n",
      "Successfully installed sagemaker-1.72.0 smdebug-rulesconfig-0.1.4\n",
      "\u001b[33mWARNING: You are using pip version 21.1.3; however, version 21.2.1 is available.\n",
      "You should consider upgrading via the '/home/ec2-user/anaconda3/envs/pytorch_p36/bin/python -m pip install --upgrade pip' command.\u001b[0m\n"
     ]
    }
   ],
   "source": [
    "# Make sure that we use SageMaker 1.x\n",
    "!pip install sagemaker==1.72.0"
   ]
  },
  {
   "cell_type": "markdown",
   "metadata": {},
   "source": [
    "## Step 1: Downloading the data\n",
    "\n",
    "As in the XGBoost in SageMaker notebook, we will be using the [IMDb dataset](http://ai.stanford.edu/~amaas/data/sentiment/)\n",
    "\n",
    "> Maas, Andrew L., et al. [Learning Word Vectors for Sentiment Analysis](http://ai.stanford.edu/~amaas/data/sentiment/). In _Proceedings of the 49th Annual Meeting of the Association for Computational Linguistics: Human Language Technologies_. Association for Computational Linguistics, 2011."
   ]
  },
  {
   "cell_type": "code",
   "execution_count": 2,
   "metadata": {},
   "outputs": [
    {
     "name": "stdout",
     "output_type": "stream",
     "text": [
      "mkdir: cannot create directory ‘../data’: File exists\n",
      "--2021-08-02 11:39:01--  http://ai.stanford.edu/~amaas/data/sentiment/aclImdb_v1.tar.gz\n",
      "Resolving ai.stanford.edu (ai.stanford.edu)... 171.64.68.10\n",
      "Connecting to ai.stanford.edu (ai.stanford.edu)|171.64.68.10|:80... connected.\n",
      "HTTP request sent, awaiting response... 200 OK\n",
      "Length: 84125825 (80M) [application/x-gzip]\n",
      "Saving to: ‘../data/aclImdb_v1.tar.gz’\n",
      "\n",
      "../data/aclImdb_v1. 100%[===================>]  80.23M  30.1MB/s    in 2.7s    \n",
      "\n",
      "2021-08-02 11:39:03 (30.1 MB/s) - ‘../data/aclImdb_v1.tar.gz’ saved [84125825/84125825]\n",
      "\n"
     ]
    }
   ],
   "source": [
    "%mkdir ../data\n",
    "!wget -O ../data/aclImdb_v1.tar.gz http://ai.stanford.edu/~amaas/data/sentiment/aclImdb_v1.tar.gz\n",
    "!tar -zxf ../data/aclImdb_v1.tar.gz -C ../data"
   ]
  },
  {
   "cell_type": "markdown",
   "metadata": {},
   "source": [
    "## Step 2: Preparing and Processing the data\n",
    "\n",
    "Also, as in the XGBoost notebook, we will be doing some initial data processing. The first few steps are the same as in the XGBoost example. To begin with, we will read in each of the reviews and combine them into a single input structure. Then, we will split the dataset into a training set and a testing set."
   ]
  },
  {
   "cell_type": "code",
   "execution_count": 3,
   "metadata": {},
   "outputs": [],
   "source": [
    "import os\n",
    "import glob\n",
    "\n",
    "def read_imdb_data(data_dir='../data/aclImdb'):\n",
    "    data = {}\n",
    "    labels = {}\n",
    "    \n",
    "    for data_type in ['train', 'test']:\n",
    "        data[data_type] = {}\n",
    "        labels[data_type] = {}\n",
    "        \n",
    "        for sentiment in ['pos', 'neg']:\n",
    "            data[data_type][sentiment] = []\n",
    "            labels[data_type][sentiment] = []\n",
    "            \n",
    "            path = os.path.join(data_dir, data_type, sentiment, '*.txt')\n",
    "            files = glob.glob(path)\n",
    "            \n",
    "            for f in files:\n",
    "                with open(f) as review:\n",
    "                    data[data_type][sentiment].append(review.read())\n",
    "                    # Here we represent a positive review by '1' and a negative review by '0'\n",
    "                    labels[data_type][sentiment].append(1 if sentiment == 'pos' else 0)\n",
    "                    \n",
    "            assert len(data[data_type][sentiment]) == len(labels[data_type][sentiment]), \\\n",
    "                    \"{}/{} data size does not match labels size\".format(data_type, sentiment)\n",
    "                \n",
    "    return data, labels"
   ]
  },
  {
   "cell_type": "code",
   "execution_count": 4,
   "metadata": {},
   "outputs": [
    {
     "name": "stdout",
     "output_type": "stream",
     "text": [
      "IMDB reviews: train = 12500 pos / 12500 neg, test = 12500 pos / 12500 neg\n"
     ]
    }
   ],
   "source": [
    "data, labels = read_imdb_data()\n",
    "print(\"IMDB reviews: train = {} pos / {} neg, test = {} pos / {} neg\".format(\n",
    "            len(data['train']['pos']), len(data['train']['neg']),\n",
    "            len(data['test']['pos']), len(data['test']['neg'])))"
   ]
  },
  {
   "cell_type": "markdown",
   "metadata": {},
   "source": [
    "Now that we've read the raw training and testing data from the downloaded dataset, we will combine the positive and negative reviews and shuffle the resulting records."
   ]
  },
  {
   "cell_type": "code",
   "execution_count": 5,
   "metadata": {},
   "outputs": [],
   "source": [
    "from sklearn.utils import shuffle\n",
    "\n",
    "def prepare_imdb_data(data, labels):\n",
    "    \"\"\"Prepare training and test sets from IMDb movie reviews.\"\"\"\n",
    "    \n",
    "    #Combine positive and negative reviews and labels\n",
    "    data_train = data['train']['pos'] + data['train']['neg']\n",
    "    data_test = data['test']['pos'] + data['test']['neg']\n",
    "    labels_train = labels['train']['pos'] + labels['train']['neg']\n",
    "    labels_test = labels['test']['pos'] + labels['test']['neg']\n",
    "    \n",
    "    #Shuffle reviews and corresponding labels within training and test sets\n",
    "    data_train, labels_train = shuffle(data_train, labels_train)\n",
    "    data_test, labels_test = shuffle(data_test, labels_test)\n",
    "    \n",
    "    # Return a unified training data, test data, training labels, test labets\n",
    "    return data_train, data_test, labels_train, labels_test"
   ]
  },
  {
   "cell_type": "code",
   "execution_count": 6,
   "metadata": {},
   "outputs": [
    {
     "name": "stdout",
     "output_type": "stream",
     "text": [
      "IMDb reviews (combined): train = 25000, test = 25000\n"
     ]
    }
   ],
   "source": [
    "train_X, test_X, train_y, test_y = prepare_imdb_data(data, labels)\n",
    "print(\"IMDb reviews (combined): train = {}, test = {}\".format(len(train_X), len(test_X)))"
   ]
  },
  {
   "cell_type": "markdown",
   "metadata": {},
   "source": [
    "Now that we have our training and testing sets unified and prepared, we should do a quick check and see an example of the data our model will be trained on. This is generally a good idea as it allows you to see how each of the further processing steps affects the reviews and it also ensures that the data has been loaded correctly."
   ]
  },
  {
   "cell_type": "code",
   "execution_count": 7,
   "metadata": {},
   "outputs": [
    {
     "name": "stdout",
     "output_type": "stream",
     "text": [
      "I took a chance on \"Hardcastle and McCormick\" by purchasing the first season's worth (Canadian release) from Amazon. When I got it, I started with the pilot, and I was instantly hooked after that. I rated it 5 stars on Amazon, and I am rating it 10 stars here. It is just that good. What I liked about it were the opening and closing themes, and of course Stephen J. Cannell's logo at the end of each episode, but most of all, the relationship between the Judge and Mark as they worked together to crack each case. I was so hooked that I also purchased the second season as a companion, and I enjoyed it equally. If you do not have this excellent series on disc, I believe that you should purchase it and put it in your collection.\n",
      "1\n"
     ]
    }
   ],
   "source": [
    "print(train_X[100])\n",
    "print(train_y[100])"
   ]
  },
  {
   "cell_type": "markdown",
   "metadata": {},
   "source": [
    "The first step in processing the reviews is to make sure that any html tags that appear should be removed. In addition we wish to tokenize our input, that way words such as *entertained* and *entertaining* are considered the same with regard to sentiment analysis."
   ]
  },
  {
   "cell_type": "code",
   "execution_count": 8,
   "metadata": {},
   "outputs": [],
   "source": [
    "import nltk\n",
    "from nltk.corpus import stopwords\n",
    "from nltk.stem.porter import *\n",
    "\n",
    "import re\n",
    "from bs4 import BeautifulSoup\n",
    "\n",
    "def review_to_words(review):\n",
    "    nltk.download(\"stopwords\", quiet=True)\n",
    "    stemmer = PorterStemmer()\n",
    "    \n",
    "    text = BeautifulSoup(review, \"html.parser\").get_text() # Remove HTML tags\n",
    "    text = re.sub(r\"[^a-zA-Z0-9]\", \" \", text.lower()) # Convert to lower case\n",
    "    words = text.split() # Split string into words\n",
    "    words = [w for w in words if w not in stopwords.words(\"english\")] # Remove stopwords\n",
    "    words = [PorterStemmer().stem(w) for w in words] # stem\n",
    "    \n",
    "    return words"
   ]
  },
  {
   "cell_type": "markdown",
   "metadata": {},
   "source": [
    "The `review_to_words` method defined above uses `BeautifulSoup` to remove any html tags that appear and uses the `nltk` package to tokenize the reviews. As a check to ensure we know how everything is working, try applying `review_to_words` to one of the reviews in the training set."
   ]
  },
  {
   "cell_type": "code",
   "execution_count": 9,
   "metadata": {},
   "outputs": [
    {
     "data": {
      "text/plain": [
       "['took',\n",
       " 'chanc',\n",
       " 'hardcastl',\n",
       " 'mccormick',\n",
       " 'purchas',\n",
       " 'first',\n",
       " 'season',\n",
       " 'worth',\n",
       " 'canadian',\n",
       " 'releas',\n",
       " 'amazon',\n",
       " 'got',\n",
       " 'start',\n",
       " 'pilot',\n",
       " 'instantli',\n",
       " 'hook',\n",
       " 'rate',\n",
       " '5',\n",
       " 'star',\n",
       " 'amazon',\n",
       " 'rate',\n",
       " '10',\n",
       " 'star',\n",
       " 'good',\n",
       " 'like',\n",
       " 'open',\n",
       " 'close',\n",
       " 'theme',\n",
       " 'cours',\n",
       " 'stephen',\n",
       " 'j',\n",
       " 'cannel',\n",
       " 'logo',\n",
       " 'end',\n",
       " 'episod',\n",
       " 'relationship',\n",
       " 'judg',\n",
       " 'mark',\n",
       " 'work',\n",
       " 'togeth',\n",
       " 'crack',\n",
       " 'case',\n",
       " 'hook',\n",
       " 'also',\n",
       " 'purchas',\n",
       " 'second',\n",
       " 'season',\n",
       " 'companion',\n",
       " 'enjoy',\n",
       " 'equal',\n",
       " 'excel',\n",
       " 'seri',\n",
       " 'disc',\n",
       " 'believ',\n",
       " 'purchas',\n",
       " 'put',\n",
       " 'collect']"
      ]
     },
     "execution_count": 9,
     "metadata": {},
     "output_type": "execute_result"
    }
   ],
   "source": [
    "# TODO: Apply review_to_words to a review (train_X[100] or any other review)\n",
    "review_to_words(train_X[100])"
   ]
  },
  {
   "cell_type": "markdown",
   "metadata": {},
   "source": [
    "**Question:** Above we mentioned that `review_to_words` method removes html formatting and allows us to tokenize the words found in a review, for example, converting *entertained* and *entertaining* into *entertain* so that they are treated as though they are the same word. What else, if anything, does this method do to the input?"
   ]
  },
  {
   "cell_type": "markdown",
   "metadata": {},
   "source": [
    "**Answer:**\n",
    "the function does the following\n",
    "1. Removes any unnecessary characters and stopwords.\n",
    "2. Removes HTML tags.\n",
    "3. Converts to lower case."
   ]
  },
  {
   "cell_type": "markdown",
   "metadata": {},
   "source": [
    "The method below applies the `review_to_words` method to each of the reviews in the training and testing datasets. In addition it caches the results. This is because performing this processing step can take a long time. This way if you are unable to complete the notebook in the current session, you can come back without needing to process the data a second time."
   ]
  },
  {
   "cell_type": "code",
   "execution_count": 10,
   "metadata": {},
   "outputs": [],
   "source": [
    "import pickle\n",
    "\n",
    "cache_dir = os.path.join(\"../cache\", \"sentiment_analysis\")  # where to store cache files\n",
    "os.makedirs(cache_dir, exist_ok=True)  # ensure cache directory exists\n",
    "\n",
    "def preprocess_data(data_train, data_test, labels_train, labels_test,\n",
    "                    cache_dir=cache_dir, cache_file=\"preprocessed_data.pkl\"):\n",
    "    \"\"\"Convert each review to words; read from cache if available.\"\"\"\n",
    "\n",
    "    # If cache_file is not None, try to read from it first\n",
    "    cache_data = None\n",
    "    if cache_file is not None:\n",
    "        try:\n",
    "            with open(os.path.join(cache_dir, cache_file), \"rb\") as f:\n",
    "                cache_data = pickle.load(f)\n",
    "            print(\"Read preprocessed data from cache file:\", cache_file)\n",
    "        except:\n",
    "            pass  # unable to read from cache, but that's okay\n",
    "    \n",
    "    # If cache is missing, then do the heavy lifting\n",
    "    if cache_data is None:\n",
    "        # Preprocess training and test data to obtain words for each review\n",
    "        #words_train = list(map(review_to_words, data_train))\n",
    "        #words_test = list(map(review_to_words, data_test))\n",
    "        words_train = [review_to_words(review) for review in data_train]\n",
    "        words_test = [review_to_words(review) for review in data_test]\n",
    "        \n",
    "        # Write to cache file for future runs\n",
    "        if cache_file is not None:\n",
    "            cache_data = dict(words_train=words_train, words_test=words_test,\n",
    "                              labels_train=labels_train, labels_test=labels_test)\n",
    "            with open(os.path.join(cache_dir, cache_file), \"wb\") as f:\n",
    "                pickle.dump(cache_data, f)\n",
    "            print(\"Wrote preprocessed data to cache file:\", cache_file)\n",
    "    else:\n",
    "        # Unpack data loaded from cache file\n",
    "        words_train, words_test, labels_train, labels_test = (cache_data['words_train'],\n",
    "                cache_data['words_test'], cache_data['labels_train'], cache_data['labels_test'])\n",
    "    \n",
    "    return words_train, words_test, labels_train, labels_test"
   ]
  },
  {
   "cell_type": "code",
   "execution_count": 11,
   "metadata": {},
   "outputs": [
    {
     "name": "stdout",
     "output_type": "stream",
     "text": [
      "Read preprocessed data from cache file: preprocessed_data.pkl\n"
     ]
    }
   ],
   "source": [
    "# Preprocess data\n",
    "train_X, test_X, train_y, test_y = preprocess_data(train_X, test_X, train_y, test_y)"
   ]
  },
  {
   "cell_type": "markdown",
   "metadata": {},
   "source": [
    "## Transform the data\n",
    "\n",
    "In the XGBoost notebook we transformed the data from its word representation to a bag-of-words feature representation. For the model we are going to construct in this notebook we will construct a feature representation which is very similar. To start, we will represent each word as an integer. Of course, some of the words that appear in the reviews occur very infrequently and so likely don't contain much information for the purposes of sentiment analysis. The way we will deal with this problem is that we will fix the size of our working vocabulary and we will only include the words that appear most frequently. We will then combine all of the infrequent words into a single category and, in our case, we will label it as `1`.\n",
    "\n",
    "Since we will be using a recurrent neural network, it will be convenient if the length of each review is the same. To do this, we will fix a size for our reviews and then pad short reviews with the category 'no word' (which we will label `0`) and truncate long reviews."
   ]
  },
  {
   "cell_type": "markdown",
   "metadata": {},
   "source": [
    "### (TODO) Create a word dictionary\n",
    "\n",
    "To begin with, we need to construct a way to map words that appear in the reviews to integers. Here we fix the size of our vocabulary (including the 'no word' and 'infrequent' categories) to be `5000` but you may wish to change this to see how it affects the model.\n",
    "\n",
    "> **TODO:** Complete the implementation for the `build_dict()` method below. Note that even though the vocab_size is set to `5000`, we only want to construct a mapping for the most frequently appearing `4998` words. This is because we want to reserve the special labels `0` for 'no word' and `1` for 'infrequent word'."
   ]
  },
  {
   "cell_type": "code",
   "execution_count": 12,
   "metadata": {},
   "outputs": [],
   "source": [
    "import numpy as np\n",
    "from collections import Counter\n",
    "\n",
    "def get_word_count(data):\n",
    "    word_count = {} \n",
    "    for review in data:\n",
    "        for word in review:\n",
    "            if word in word_count:\n",
    "                word_count[word] += 1\n",
    "            else: \n",
    "                word_count[word] = 1\n",
    "    return word_count\n",
    "\n",
    "def build_dict(data, vocab_size = 5000):\n",
    "    \"\"\"Construct and return a dictionary mapping each of the most frequently appearing words to a unique integer.\"\"\"\n",
    "    \n",
    "    # TODO: Determine how often each word appears in `data`. Note that `data` is a list of sentences and that a\n",
    "    #       sentence is a list of words.\n",
    "    \n",
    "    word_count = get_word_count(data) # A dict storing the words that appear in the reviews along with how often they occur\n",
    "    \n",
    "    # TODO: Sort the words found in `data` so that sorted_words[0] is the most frequently appearing word and\n",
    "    #       sorted_words[-1] is the least frequently appearing word.\n",
    "    \n",
    "    sorted_words = [v[0] for v in sorted(word_count.items(), key=lambda u: u[1], reverse=True)]\n",
    "    \n",
    "    word_dict = {} # This is what we are building, a dictionary that translates words into integers\n",
    "    for idx, word in enumerate(sorted_words[:vocab_size - 2]): # The -2 is so that we save room for the 'no word'\n",
    "        word_dict[word] = idx + 2                              # 'infrequent' labels\n",
    "        \n",
    "    return word_dict"
   ]
  },
  {
   "cell_type": "code",
   "execution_count": 13,
   "metadata": {},
   "outputs": [],
   "source": [
    "word_dict = build_dict(train_X)"
   ]
  },
  {
   "cell_type": "code",
   "execution_count": 14,
   "metadata": {},
   "outputs": [
    {
     "name": "stdout",
     "output_type": "stream",
     "text": [
      "{'movi': 2, 'film': 3, 'one': 4, 'like': 5, 'time': 6, 'good': 7, 'make': 8, 'charact': 9, 'get': 10, 'see': 11, 'watch': 12, 'stori': 13, 'even': 14, 'would': 15, 'realli': 16, 'well': 17, 'scene': 18, 'look': 19, 'show': 20, 'much': 21, 'end': 22, 'peopl': 23, 'bad': 24, 'go': 25, 'great': 26, 'also': 27, 'first': 28, 'love': 29, 'think': 30, 'way': 31, 'act': 32, 'play': 33, 'made': 34, 'thing': 35, 'could': 36, 'know': 37, 'say': 38, 'seem': 39, 'work': 40, 'plot': 41, 'two': 42, 'actor': 43, 'year': 44, 'come': 45, 'mani': 46, 'seen': 47, 'take': 48, 'want': 49, 'life': 50, 'never': 51, 'littl': 52, 'best': 53, 'tri': 54, 'man': 55, 'ever': 56, 'give': 57, 'better': 58, 'still': 59, 'perform': 60, 'find': 61, 'feel': 62, 'part': 63, 'back': 64, 'use': 65, 'someth': 66, 'director': 67, 'actual': 68, 'interest': 69, 'lot': 70, 'real': 71, 'old': 72, 'cast': 73, 'though': 74, 'live': 75, 'star': 76, 'enjoy': 77, 'guy': 78, 'anoth': 79, 'new': 80, 'role': 81, 'noth': 82, '10': 83, 'funni': 84, 'music': 85, 'point': 86, 'start': 87, 'set': 88, 'girl': 89, 'origin': 90, 'day': 91, 'world': 92, 'everi': 93, 'believ': 94, 'turn': 95, 'quit': 96, 'us': 97, 'direct': 98, 'thought': 99, 'fact': 100, 'minut': 101, 'horror': 102, 'kill': 103, 'action': 104, 'comedi': 105, 'pretti': 106, 'young': 107, 'wonder': 108, 'happen': 109, 'around': 110, 'got': 111, 'effect': 112, 'right': 113, 'long': 114, 'howev': 115, 'big': 116, 'line': 117, 'famili': 118, 'enough': 119, 'seri': 120, 'may': 121, 'need': 122, 'fan': 123, 'bit': 124, 'script': 125, 'beauti': 126, 'person': 127, 'becom': 128, 'without': 129, 'must': 130, 'alway': 131, 'friend': 132, 'tell': 133, 'reason': 134, 'saw': 135, 'last': 136, 'final': 137, 'kid': 138, 'almost': 139, 'put': 140, 'least': 141, 'sure': 142, 'done': 143, 'whole': 144, 'place': 145, 'complet': 146, 'kind': 147, 'expect': 148, 'differ': 149, 'shot': 150, 'far': 151, 'mean': 152, 'anyth': 153, 'book': 154, 'laugh': 155, 'might': 156, 'name': 157, 'sinc': 158, 'begin': 159, '2': 160, 'probabl': 161, 'woman': 162, 'help': 163, 'entertain': 164, 'let': 165, 'screen': 166, 'call': 167, 'tv': 168, 'moment': 169, 'away': 170, 'read': 171, 'yet': 172, 'rather': 173, 'worst': 174, 'run': 175, 'fun': 176, 'lead': 177, 'hard': 178, 'audienc': 179, 'idea': 180, 'anyon': 181, 'episod': 182, 'american': 183, 'found': 184, 'appear': 185, 'bore': 186, 'especi': 187, 'although': 188, 'hope': 189, 'keep': 190, 'cours': 191, 'anim': 192, 'job': 193, 'goe': 194, 'move': 195, 'sens': 196, 'version': 197, 'dvd': 198, 'war': 199, 'money': 200, 'someon': 201, 'mind': 202, 'mayb': 203, 'problem': 204, 'true': 205, 'hous': 206, 'everyth': 207, 'nice': 208, 'second': 209, 'rate': 210, 'three': 211, 'night': 212, 'follow': 213, 'face': 214, 'recommend': 215, 'main': 216, 'product': 217, 'worth': 218, 'leav': 219, 'human': 220, 'special': 221, 'excel': 222, 'togeth': 223, 'wast': 224, 'sound': 225, 'everyon': 226, 'john': 227, 'hand': 228, '1': 229, 'father': 230, 'later': 231, 'eye': 232, 'said': 233, 'view': 234, 'instead': 235, 'review': 236, 'boy': 237, 'high': 238, 'hour': 239, 'miss': 240, 'talk': 241, 'classic': 242, 'wife': 243, 'understand': 244, 'left': 245, 'care': 246, 'black': 247, 'death': 248, 'open': 249, 'murder': 250, 'write': 251, 'half': 252, 'head': 253, 'rememb': 254, 'chang': 255, 'viewer': 256, 'fight': 257, 'gener': 258, 'surpris': 259, 'short': 260, 'includ': 261, 'die': 262, 'fall': 263, 'less': 264, 'els': 265, 'entir': 266, 'piec': 267, 'involv': 268, 'pictur': 269, 'simpli': 270, 'top': 271, 'power': 272, 'home': 273, 'total': 274, 'usual': 275, 'budget': 276, 'attempt': 277, 'suppos': 278, 'releas': 279, 'hollywood': 280, 'terribl': 281, 'song': 282, 'men': 283, 'possibl': 284, 'featur': 285, 'portray': 286, 'disappoint': 287, 'poor': 288, '3': 289, 'coupl': 290, 'stupid': 291, 'camera': 292, 'dead': 293, 'wrong': 294, 'produc': 295, 'low': 296, 'video': 297, 'either': 298, 'aw': 299, 'definit': 300, 'except': 301, 'rest': 302, 'given': 303, 'absolut': 304, 'women': 305, 'lack': 306, 'word': 307, 'writer': 308, 'titl': 309, 'talent': 310, 'decid': 311, 'full': 312, 'perfect': 313, 'along': 314, 'style': 315, 'close': 316, 'truli': 317, 'school': 318, 'save': 319, 'emot': 320, 'age': 321, 'sex': 322, 'next': 323, 'bring': 324, 'mr': 325, 'case': 326, 'killer': 327, 'heart': 328, 'comment': 329, 'sort': 330, 'creat': 331, 'perhap': 332, 'came': 333, 'brother': 334, 'sever': 335, 'joke': 336, 'art': 337, 'dialogu': 338, 'game': 339, 'small': 340, 'base': 341, 'flick': 342, 'written': 343, 'sequenc': 344, 'meet': 345, 'earli': 346, 'often': 347, 'other': 348, 'mother': 349, 'develop': 350, 'humor': 351, 'actress': 352, 'consid': 353, 'dark': 354, 'guess': 355, 'amaz': 356, 'unfortun': 357, 'light': 358, 'lost': 359, 'exampl': 360, 'cinema': 361, 'drama': 362, 'white': 363, 'ye': 364, 'experi': 365, 'imagin': 366, 'mention': 367, 'stop': 368, 'natur': 369, 'forc': 370, 'manag': 371, 'felt': 372, 'present': 373, 'cut': 374, 'children': 375, 'fail': 376, 'son': 377, 'qualiti': 378, 'support': 379, 'car': 380, 'ask': 381, 'hit': 382, 'side': 383, 'voic': 384, 'extrem': 385, 'impress': 386, 'wors': 387, 'evil': 388, 'went': 389, 'stand': 390, 'certainli': 391, 'basic': 392, 'oh': 393, 'overal': 394, 'favorit': 395, 'horribl': 396, 'mysteri': 397, 'number': 398, 'type': 399, 'danc': 400, 'wait': 401, 'hero': 402, '5': 403, 'alreadi': 404, 'learn': 405, 'matter': 406, '4': 407, 'michael': 408, 'genr': 409, 'fine': 410, 'despit': 411, 'throughout': 412, 'walk': 413, 'success': 414, 'histori': 415, 'question': 416, 'zombi': 417, 'town': 418, 'relationship': 419, 'realiz': 420, 'child': 421, 'past': 422, 'daughter': 423, 'late': 424, 'b': 425, 'wish': 426, 'credit': 427, 'hate': 428, 'event': 429, 'theme': 430, 'touch': 431, 'citi': 432, 'today': 433, 'sometim': 434, 'behind': 435, 'god': 436, 'twist': 437, 'sit': 438, 'annoy': 439, 'stay': 440, 'deal': 441, 'abl': 442, 'rent': 443, 'pleas': 444, 'edit': 445, 'blood': 446, 'deserv': 447, 'comic': 448, 'anyway': 449, 'appar': 450, 'soon': 451, 'gave': 452, 'etc': 453, 'level': 454, 'slow': 455, 'chanc': 456, 'score': 457, 'bodi': 458, 'brilliant': 459, 'incred': 460, 'figur': 461, 'situat': 462, 'major': 463, 'self': 464, 'stuff': 465, 'decent': 466, 'element': 467, 'return': 468, 'dream': 469, 'obvious': 470, 'continu': 471, 'order': 472, 'pace': 473, 'ridicul': 474, 'happi': 475, 'highli': 476, 'add': 477, 'group': 478, 'thank': 479, 'ladi': 480, 'novel': 481, 'speak': 482, 'pain': 483, 'career': 484, 'shoot': 485, 'strang': 486, 'heard': 487, 'sad': 488, 'polic': 489, 'husband': 490, 'import': 491, 'break': 492, 'took': 493, 'strong': 494, 'cannot': 495, 'predict': 496, 'robert': 497, 'violenc': 498, 'hilari': 499, 'recent': 500, 'countri': 501, 'known': 502, 'particularli': 503, 'pick': 504, 'documentari': 505, 'season': 506, 'critic': 507, 'jame': 508, 'compar': 509, 'alon': 510, 'obviou': 511, 'told': 512, 'state': 513, 'visual': 514, 'rock': 515, 'theater': 516, 'exist': 517, 'offer': 518, 'opinion': 519, 'gore': 520, 'hold': 521, 'crap': 522, 'result': 523, 'room': 524, 'hear': 525, 'realiti': 526, 'effort': 527, 'clich': 528, 'thriller': 529, 'caus': 530, 'serious': 531, 'explain': 532, 'sequel': 533, 'king': 534, 'local': 535, 'ago': 536, 'none': 537, 'hell': 538, 'note': 539, 'allow': 540, 'sister': 541, 'david': 542, 'simpl': 543, 'femal': 544, 'deliv': 545, 'ok': 546, 'class': 547, 'convinc': 548, 'check': 549, 'suspens': 550, 'win': 551, 'buy': 552, 'oscar': 553, 'huge': 554, 'valu': 555, 'sexual': 556, 'cool': 557, 'scari': 558, 'similar': 559, 'excit': 560, 'provid': 561, 'exactli': 562, 'apart': 563, 'avoid': 564, 'shown': 565, 'seriou': 566, 'english': 567, 'taken': 568, 'whose': 569, 'cinematographi': 570, 'shock': 571, 'polit': 572, 'spoiler': 573, 'offic': 574, 'across': 575, 'middl': 576, 'pass': 577, 'street': 578, 'messag': 579, 'silli': 580, 'somewhat': 581, 'charm': 582, 'modern': 583, 'filmmak': 584, 'confus': 585, 'form': 586, 'tale': 587, 'singl': 588, 'jack': 589, 'mostli': 590, 'attent': 591, 'carri': 592, 'william': 593, 'sing': 594, 'five': 595, 'subject': 596, 'prove': 597, 'richard': 598, 'team': 599, 'stage': 600, 'unlik': 601, 'cop': 602, 'georg': 603, 'monster': 604, 'televis': 605, 'earth': 606, 'villain': 607, 'cover': 608, 'pay': 609, 'marri': 610, 'toward': 611, 'build': 612, 'pull': 613, 'parent': 614, 'due': 615, 'respect': 616, 'fill': 617, 'dialog': 618, 'four': 619, 'remind': 620, 'futur': 621, 'weak': 622, 'typic': 623, '7': 624, 'cheap': 625, 'intellig': 626, 'british': 627, 'atmospher': 628, '80': 629, 'clearli': 630, 'dog': 631, 'non': 632, 'paul': 633, 'knew': 634, '8': 635, 'fast': 636, 'artist': 637, 'crime': 638, 'easili': 639, 'escap': 640, 'adult': 641, 'doubt': 642, 'detail': 643, 'date': 644, 'fire': 645, 'romant': 646, 'member': 647, 'gun': 648, 'drive': 649, 'straight': 650, 'fit': 651, 'beyond': 652, 'attack': 653, 'imag': 654, 'upon': 655, 'posit': 656, 'whether': 657, 'peter': 658, 'fantast': 659, 'appreci': 660, 'captur': 661, 'aspect': 662, 'ten': 663, 'plan': 664, 'discov': 665, 'remain': 666, 'period': 667, 'near': 668, 'air': 669, 'realist': 670, 'mark': 671, 'red': 672, 'dull': 673, 'adapt': 674, 'within': 675, 'spend': 676, 'lose': 677, 'color': 678, 'materi': 679, 'chase': 680, 'mari': 681, 'storylin': 682, 'forget': 683, 'bunch': 684, 'clear': 685, 'lee': 686, 'victim': 687, 'nearli': 688, 'box': 689, 'york': 690, 'inspir': 691, 'match': 692, 'finish': 693, 'mess': 694, 'standard': 695, 'easi': 696, 'truth': 697, 'suffer': 698, 'busi': 699, 'dramat': 700, 'bill': 701, 'space': 702, 'western': 703, 'e': 704, 'list': 705, 'battl': 706, 'notic': 707, 'de': 708, 'french': 709, 'ad': 710, '9': 711, 'tom': 712, 'larg': 713, 'among': 714, 'eventu': 715, 'train': 716, 'accept': 717, 'agre': 718, 'soundtrack': 719, 'spirit': 720, 'third': 721, 'teenag': 722, 'soldier': 723, 'adventur': 724, 'sorri': 725, 'famou': 726, 'suggest': 727, 'drug': 728, 'cri': 729, 'babi': 730, 'normal': 731, 'ultim': 732, 'troubl': 733, 'contain': 734, 'certain': 735, 'cultur': 736, 'romanc': 737, 'rare': 738, 'lame': 739, 'somehow': 740, 'mix': 741, 'disney': 742, 'gone': 743, 'cartoon': 744, 'student': 745, 'reveal': 746, 'fear': 747, 'suck': 748, 'kept': 749, 'attract': 750, 'appeal': 751, 'premis': 752, 'secret': 753, 'greatest': 754, 'design': 755, 'shame': 756, 'throw': 757, 'copi': 758, 'scare': 759, 'wit': 760, 'admit': 761, 'america': 762, 'brought': 763, 'relat': 764, 'particular': 765, 'screenplay': 766, 'whatev': 767, 'pure': 768, '70': 769, 'averag': 770, 'harri': 771, 'master': 772, 'describ': 773, 'treat': 774, 'male': 775, '20': 776, 'fantasi': 777, 'issu': 778, 'warn': 779, 'inde': 780, 'background': 781, 'forward': 782, 'free': 783, 'project': 784, 'memor': 785, 'japanes': 786, 'poorli': 787, 'award': 788, 'locat': 789, 'amus': 790, 'potenti': 791, 'struggl': 792, 'magic': 793, 'weird': 794, 'societi': 795, 'okay': 796, 'imdb': 797, 'doctor': 798, 'accent': 799, 'water': 800, 'hot': 801, '30': 802, 'dr': 803, 'express': 804, 'alien': 805, 'odd': 806, 'choic': 807, 'crazi': 808, 'fiction': 809, 'studio': 810, 'control': 811, 'becam': 812, 'masterpiec': 813, 'fli': 814, 'difficult': 815, 'joe': 816, 'scream': 817, 'costum': 818, 'lover': 819, 'uniqu': 820, 'refer': 821, 'remak': 822, 'vampir': 823, 'girlfriend': 824, 'prison': 825, 'execut': 826, 'wear': 827, 'jump': 828, 'unless': 829, 'wood': 830, 'creepi': 831, 'cheesi': 832, 'superb': 833, 'otherwis': 834, 'parti': 835, 'roll': 836, 'ghost': 837, 'public': 838, 'mad': 839, 'depict': 840, 'jane': 841, 'moral': 842, 'week': 843, 'earlier': 844, 'badli': 845, 'fi': 846, 'dumb': 847, 'grow': 848, 'flaw': 849, 'deep': 850, 'sci': 851, 'cat': 852, 'maker': 853, 'footag': 854, 'connect': 855, 'older': 856, 'bother': 857, 'plenti': 858, 'outsid': 859, 'stick': 860, 'gay': 861, 'catch': 862, 'co': 863, 'plu': 864, 'popular': 865, 'equal': 866, 'social': 867, 'quickli': 868, 'disturb': 869, 'perfectli': 870, 'dress': 871, 'era': 872, '90': 873, 'mistak': 874, 'lie': 875, 'previou': 876, 'ride': 877, 'combin': 878, 'concept': 879, 'band': 880, 'answer': 881, 'rich': 882, 'surviv': 883, 'front': 884, 'christma': 885, 'sweet': 886, 'insid': 887, 'bare': 888, 'eat': 889, 'concern': 890, 'listen': 891, 'beat': 892, 'ben': 893, 'c': 894, 'serv': 895, 'term': 896, 'la': 897, 'german': 898, 'meant': 899, 'stereotyp': 900, 'hardli': 901, 'innoc': 902, 'law': 903, 'desper': 904, 'promis': 905, 'memori': 906, 'cute': 907, 'intent': 908, 'inform': 909, 'steal': 910, 'variou': 911, 'brain': 912, 'post': 913, 'tone': 914, 'island': 915, 'amount': 916, 'compani': 917, 'track': 918, 'nuditi': 919, 'claim': 920, 'store': 921, 'hair': 922, '50': 923, 'flat': 924, 'land': 925, 'univers': 926, 'scott': 927, 'danger': 928, 'fairli': 929, 'kick': 930, 'player': 931, 'plain': 932, 'step': 933, 'crew': 934, 'toni': 935, 'share': 936, 'centuri': 937, 'tast': 938, 'engag': 939, 'achiev': 940, 'cold': 941, 'travel': 942, 'suit': 943, 'record': 944, 'rip': 945, 'manner': 946, 'sadli': 947, 'wrote': 948, 'tension': 949, 'spot': 950, 'intens': 951, 'fascin': 952, 'familiar': 953, 'depth': 954, 'burn': 955, 'remark': 956, 'histor': 957, 'destroy': 958, 'sleep': 959, 'purpos': 960, 'languag': 961, 'ignor': 962, 'ruin': 963, 'delight': 964, 'unbeliev': 965, 'italian': 966, 'soul': 967, 'abil': 968, 'collect': 969, 'clever': 970, 'detect': 971, 'violent': 972, 'rape': 973, 'reach': 974, 'door': 975, 'scienc': 976, 'liter': 977, 'trash': 978, 'reveng': 979, 'commun': 980, 'caught': 981, 'creatur': 982, 'approach': 983, 'trip': 984, 'intrigu': 985, 'fashion': 986, 'skill': 987, 'introduc': 988, 'paint': 989, 'channel': 990, 'complex': 991, 'camp': 992, 'christian': 993, 'extra': 994, 'hole': 995, 'limit': 996, 'immedi': 997, 'mental': 998, 'ann': 999, 'million': 1000, '6': 1001, 'comput': 1002, 'mere': 1003, 'slightli': 1004, 'slasher': 1005, 'conclus': 1006, 'suddenli': 1007, 'imposs': 1008, 'teen': 1009, 'neither': 1010, 'crimin': 1011, 'physic': 1012, 'spent': 1013, 'nation': 1014, 'respons': 1015, 'planet': 1016, 'fake': 1017, 'receiv': 1018, 'sick': 1019, 'blue': 1020, 'bizarr': 1021, 'embarrass': 1022, 'indian': 1023, '15': 1024, 'ring': 1025, 'drop': 1026, 'pop': 1027, 'drag': 1028, 'haunt': 1029, 'pointless': 1030, 'suspect': 1031, 'edg': 1032, 'search': 1033, 'handl': 1034, 'common': 1035, 'biggest': 1036, 'faith': 1037, 'arriv': 1038, 'hurt': 1039, 'technic': 1040, 'angel': 1041, 'genuin': 1042, 'dad': 1043, 'solid': 1044, 'f': 1045, 'awesom': 1046, 'former': 1047, 'colleg': 1048, 'van': 1049, 'focu': 1050, 'count': 1051, 'heavi': 1052, 'tear': 1053, 'wall': 1054, 'rais': 1055, 'laughabl': 1056, 'younger': 1057, 'visit': 1058, 'sign': 1059, 'excus': 1060, 'fair': 1061, 'cult': 1062, 'tough': 1063, 'motion': 1064, 'key': 1065, 'desir': 1066, 'super': 1067, 'stun': 1068, 'addit': 1069, 'exploit': 1070, 'cloth': 1071, 'smith': 1072, 'tortur': 1073, 'davi': 1074, 'race': 1075, 'author': 1076, 'cross': 1077, 'jim': 1078, 'compel': 1079, 'focus': 1080, 'minor': 1081, 'consist': 1082, 'pathet': 1083, 'chemistri': 1084, 'commit': 1085, 'park': 1086, 'obsess': 1087, 'frank': 1088, 'tradit': 1089, 'grade': 1090, 'asid': 1091, '60': 1092, 'brutal': 1093, 'steve': 1094, 'somewher': 1095, 'u': 1096, 'explor': 1097, 'depress': 1098, 'grant': 1099, 'rule': 1100, 'opportun': 1101, 'honest': 1102, 'besid': 1103, 'anti': 1104, 'dub': 1105, 'trailer': 1106, 'intend': 1107, 'bar': 1108, 'west': 1109, 'regard': 1110, 'scientist': 1111, 'longer': 1112, 'decad': 1113, 'judg': 1114, 'silent': 1115, 'creativ': 1116, 'armi': 1117, 'wild': 1118, 'g': 1119, 'stewart': 1120, 'south': 1121, 'draw': 1122, 'road': 1123, 'govern': 1124, 'ex': 1125, 'boss': 1126, 'practic': 1127, 'club': 1128, 'motiv': 1129, 'gang': 1130, 'festiv': 1131, 'surprisingli': 1132, 'london': 1133, 'green': 1134, 'redeem': 1135, 'page': 1136, 'aliv': 1137, 'display': 1138, 'militari': 1139, 'idiot': 1140, 'machin': 1141, 'repeat': 1142, 'thrill': 1143, 'yeah': 1144, 'nobodi': 1145, '100': 1146, 'folk': 1147, '40': 1148, 'journey': 1149, 'garbag': 1150, 'smile': 1151, 'ground': 1152, 'tire': 1153, 'mood': 1154, 'bought': 1155, 'cost': 1156, 'stone': 1157, 'sam': 1158, 'noir': 1159, 'mouth': 1160, 'agent': 1161, 'terrif': 1162, 'utterli': 1163, 'requir': 1164, 'honestli': 1165, 'area': 1166, 'sexi': 1167, 'geniu': 1168, 'report': 1169, 'enter': 1170, 'glad': 1171, 'investig': 1172, 'humour': 1173, 'serial': 1174, 'narr': 1175, 'passion': 1176, 'occasion': 1177, 'marriag': 1178, 'climax': 1179, 'studi': 1180, 'industri': 1181, 'center': 1182, 'charli': 1183, 'ship': 1184, 'demon': 1185, 'nowher': 1186, 'bear': 1187, 'hors': 1188, 'loos': 1189, 'wow': 1190, 'hang': 1191, 'graphic': 1192, 'giant': 1193, 'admir': 1194, 'send': 1195, 'loud': 1196, 'damn': 1197, 'subtl': 1198, 'rel': 1199, 'nake': 1200, 'profession': 1201, 'blow': 1202, 'bottom': 1203, 'insult': 1204, 'batman': 1205, 'r': 1206, 'doubl': 1207, 'boyfriend': 1208, 'kelli': 1209, 'initi': 1210, 'frame': 1211, 'gem': 1212, 'opera': 1213, 'affect': 1214, 'challeng': 1215, 'cinemat': 1216, 'drawn': 1217, 'church': 1218, 'j': 1219, 'l': 1220, 'fulli': 1221, 'nightmar': 1222, 'seek': 1223, 'evid': 1224, 'essenti': 1225, 'arm': 1226, 'conflict': 1227, 'christoph': 1228, 'henri': 1229, 'wind': 1230, 'grace': 1231, 'narrat': 1232, 'assum': 1233, 'witch': 1234, 'push': 1235, 'hunt': 1236, 'wise': 1237, 'chri': 1238, 'month': 1239, 'repres': 1240, 'nomin': 1241, 'avail': 1242, 'sceneri': 1243, 'hide': 1244, 'affair': 1245, 'smart': 1246, 'bond': 1247, 'thu': 1248, 'justic': 1249, 'flashback': 1250, 'outstand': 1251, 'interview': 1252, 'satisfi': 1253, 'presenc': 1254, 'constantli': 1255, 'central': 1256, 'bed': 1257, 'iron': 1258, 'content': 1259, 'sell': 1260, 'gag': 1261, 'everybodi': 1262, 'slowli': 1263, 'hotel': 1264, 'hire': 1265, 'system': 1266, 'individu': 1267, 'adam': 1268, 'charl': 1269, 'thrown': 1270, 'hey': 1271, 'allen': 1272, 'jone': 1273, 'mediocr': 1274, 'billi': 1275, 'lesson': 1276, 'ray': 1277, 'cameo': 1278, 'photographi': 1279, 'fellow': 1280, 'pari': 1281, 'strike': 1282, 'brief': 1283, 'independ': 1284, 'rise': 1285, 'absurd': 1286, 'neg': 1287, 'impact': 1288, 'phone': 1289, 'ill': 1290, 'model': 1291, 'born': 1292, 'angl': 1293, 'spoil': 1294, 'fresh': 1295, 'abus': 1296, 'likabl': 1297, 'hill': 1298, 'discuss': 1299, 'ahead': 1300, 'sight': 1301, 'sent': 1302, 'photograph': 1303, 'occur': 1304, 'shine': 1305, 'blame': 1306, 'logic': 1307, 'mainli': 1308, 'bruce': 1309, 'forev': 1310, 'commerci': 1311, 'skip': 1312, 'segment': 1313, 'surround': 1314, 'teacher': 1315, 'held': 1316, 'blond': 1317, 'zero': 1318, 'trap': 1319, 'summer': 1320, 'satir': 1321, 'resembl': 1322, 'ball': 1323, 'fool': 1324, 'queen': 1325, 'six': 1326, 'twice': 1327, 'tragedi': 1328, 'sub': 1329, 'pack': 1330, 'reaction': 1331, 'bomb': 1332, 'protagonist': 1333, 'hospit': 1334, 'will': 1335, 'sport': 1336, 'mile': 1337, 'vote': 1338, 'trust': 1339, 'mom': 1340, 'drink': 1341, 'jerri': 1342, 'encount': 1343, 'plane': 1344, 'current': 1345, 'station': 1346, 'program': 1347, 'al': 1348, 'martin': 1349, 'choos': 1350, 'celebr': 1351, 'join': 1352, 'field': 1353, 'favourit': 1354, 'lord': 1355, 'round': 1356, 'tragic': 1357, 'robot': 1358, 'jean': 1359, 'vision': 1360, 'tie': 1361, 'arthur': 1362, 'roger': 1363, 'fortun': 1364, 'random': 1365, 'dread': 1366, 'psycholog': 1367, 'intern': 1368, 'improv': 1369, 'nonsens': 1370, 'prefer': 1371, 'epic': 1372, 'formula': 1373, 'pleasur': 1374, 'highlight': 1375, 'legend': 1376, 'tape': 1377, 'dollar': 1378, '11': 1379, 'object': 1380, 'wide': 1381, 'fox': 1382, 'thin': 1383, 'porn': 1384, 'gorgeou': 1385, 'influenc': 1386, 'ugli': 1387, 'buddi': 1388, 'nasti': 1389, 'prepar': 1390, 'ii': 1391, 'progress': 1392, 'warm': 1393, 'supposedli': 1394, 'reflect': 1395, 'worthi': 1396, 'youth': 1397, 'latter': 1398, 'unusu': 1399, 'length': 1400, 'crash': 1401, 'seven': 1402, 'superior': 1403, 'childhood': 1404, 'shop': 1405, 'theatr': 1406, 'remot': 1407, 'pilot': 1408, 'funniest': 1409, 'disgust': 1410, 'paid': 1411, 'fell': 1412, 'trick': 1413, 'convers': 1414, 'castl': 1415, 'disast': 1416, 'rob': 1417, 'establish': 1418, 'gangster': 1419, 'ident': 1420, 'mine': 1421, 'suicid': 1422, 'heaven': 1423, 'disappear': 1424, 'forgotten': 1425, 'singer': 1426, 'heroin': 1427, 'tend': 1428, 'mask': 1429, 'decis': 1430, 'partner': 1431, 'brian': 1432, 'recogn': 1433, 'alan': 1434, 'desert': 1435, 'p': 1436, 'ms': 1437, 'thoroughli': 1438, 'sky': 1439, 'stuck': 1440, 'accur': 1441, 'replac': 1442, 'market': 1443, 'clue': 1444, 'commentari': 1445, 'andi': 1446, 'uncl': 1447, 'eddi': 1448, 'danni': 1449, 'seemingli': 1450, 'jackson': 1451, 'devil': 1452, 'pair': 1453, 'therefor': 1454, 'refus': 1455, 'that': 1456, 'accid': 1457, 'fault': 1458, 'fate': 1459, 'river': 1460, 'unit': 1461, 'ed': 1462, 'tune': 1463, 'afraid': 1464, 'stephen': 1465, 'hidden': 1466, 'russian': 1467, 'clean': 1468, 'convey': 1469, 'irrit': 1470, 'quick': 1471, 'readi': 1472, 'captain': 1473, 'instanc': 1474, 'test': 1475, 'european': 1476, 'frustrat': 1477, 'insan': 1478, 'daniel': 1479, 'food': 1480, 'rescu': 1481, '1950': 1482, 'wed': 1483, 'chines': 1484, 'angri': 1485, 'lock': 1486, 'dirti': 1487, 'joy': 1488, 'price': 1489, 'steven': 1490, 'bland': 1491, 'cage': 1492, 'rang': 1493, 'anymor': 1494, 'wooden': 1495, 'rush': 1496, 'n': 1497, 'jason': 1498, 'news': 1499, 'martial': 1500, 'led': 1501, 'worri': 1502, '12': 1503, 'board': 1504, 'twenti': 1505, 'symbol': 1506, 'cgi': 1507, 'transform': 1508, 'hunter': 1509, 'piti': 1510, 'invent': 1511, 'johnni': 1512, 'onto': 1513, 'x': 1514, 'sentiment': 1515, 'explan': 1516, 'process': 1517, 'attitud': 1518, 'owner': 1519, 'awar': 1520, 'aim': 1521, 'energi': 1522, 'favor': 1523, 'floor': 1524, 'target': 1525, 'necessari': 1526, 'opposit': 1527, 'religi': 1528, 'chick': 1529, 'blind': 1530, 'window': 1531, 'insight': 1532, 'movement': 1533, 'comparison': 1534, 'deepli': 1535, 'possess': 1536, 'mountain': 1537, 'research': 1538, 'grand': 1539, 'comed': 1540, 'whatsoev': 1541, 'rain': 1542, 'began': 1543, 'shadow': 1544, 'bank': 1545, 'mid': 1546, 'princ': 1547, 'parodi': 1548, 'friendship': 1549, 'taylor': 1550, 'credibl': 1551, 'pre': 1552, 'weapon': 1553, 'teach': 1554, 'flesh': 1555, 'dougla': 1556, 'terror': 1557, 'hint': 1558, 'protect': 1559, 'bloodi': 1560, 'marvel': 1561, 'load': 1562, 'accord': 1563, 'watchabl': 1564, 'superman': 1565, 'drunk': 1566, 'anybodi': 1567, 'leader': 1568, 'brown': 1569, 'freddi': 1570, 'appropri': 1571, 'tim': 1572, 'hitler': 1573, 'seat': 1574, 'jeff': 1575, 'knock': 1576, 'keaton': 1577, 'unknown': 1578, 'charg': 1579, 'villag': 1580, 'england': 1581, 'unnecessari': 1582, 'enemi': 1583, 'media': 1584, 'empti': 1585, 'utter': 1586, 'dare': 1587, 'perspect': 1588, 'buck': 1589, 'craft': 1590, 'strength': 1591, 'wave': 1592, 'correct': 1593, 'ford': 1594, 'contrast': 1595, 'kiss': 1596, 'nativ': 1597, 'distract': 1598, 'chill': 1599, 'knowledg': 1600, 'soap': 1601, 'magnific': 1602, 'speed': 1603, 'nazi': 1604, 'anywher': 1605, 'fred': 1606, 'ice': 1607, 'breath': 1608, '1980': 1609, 'mission': 1610, 'joan': 1611, 'crowd': 1612, 'moon': 1613, 'jr': 1614, 'soft': 1615, 'frighten': 1616, 'kate': 1617, '000': 1618, 'dan': 1619, 'nick': 1620, 'hundr': 1621, 'dick': 1622, 'dozen': 1623, 'somebodi': 1624, 'radio': 1625, 'simon': 1626, 'shakespear': 1627, 'thousand': 1628, 'academi': 1629, 'andrew': 1630, 'loss': 1631, 'quot': 1632, 'vehicl': 1633, 'account': 1634, 'root': 1635, 'sum': 1636, '1970': 1637, 'convent': 1638, 'leg': 1639, 'behavior': 1640, 'gold': 1641, 'regular': 1642, 'worker': 1643, 'compet': 1644, 'pretenti': 1645, 'demand': 1646, 'explos': 1647, 'notabl': 1648, 'candi': 1649, 'privat': 1650, 'interpret': 1651, 'stretch': 1652, 'lynch': 1653, 'japan': 1654, 'constant': 1655, 'debut': 1656, 'tarzan': 1657, 'prais': 1658, 'revolv': 1659, 'translat': 1660, 'sea': 1661, 'spi': 1662, 'failur': 1663, 'quiet': 1664, 'jesu': 1665, 'ass': 1666, 'franc': 1667, 'sat': 1668, 'threaten': 1669, 'technolog': 1670, 'higher': 1671, 'punch': 1672, 'toy': 1673, 'kevin': 1674, 'aid': 1675, 'met': 1676, 'vh': 1677, 'abandon': 1678, 'interact': 1679, 'mike': 1680, 'command': 1681, 'separ': 1682, 'confront': 1683, 'bet': 1684, 'techniqu': 1685, 'recal': 1686, 'gotten': 1687, 'servic': 1688, 'site': 1689, 'stunt': 1690, 'belong': 1691, 'foot': 1692, 'freak': 1693, 'bug': 1694, 'cabl': 1695, 'jimmi': 1696, 'bright': 1697, 'african': 1698, 'capabl': 1699, 'fu': 1700, 'clark': 1701, 'fat': 1702, 'succeed': 1703, 'boat': 1704, 'stock': 1705, 'presid': 1706, 'structur': 1707, 'gene': 1708, 'spanish': 1709, 'kidnap': 1710, 'paper': 1711, 'whilst': 1712, 'factor': 1713, 'belief': 1714, 'attend': 1715, 'realism': 1716, 'witti': 1717, 'bob': 1718, 'educ': 1719, 'complic': 1720, 'realis': 1721, 'tree': 1722, 'finest': 1723, 'assist': 1724, 'broken': 1725, 'santa': 1726, 'v': 1727, 'depart': 1728, 'determin': 1729, 'smoke': 1730, 'up': 1731, 'observ': 1732, 'hat': 1733, 'routin': 1734, 'rubbish': 1735, 'fame': 1736, 'domin': 1737, 'oper': 1738, 'lewi': 1739, 'hook': 1740, 'safe': 1741, 'foreign': 1742, 'lone': 1743, 'morgan': 1744, 'kinda': 1745, 'advanc': 1746, 'numer': 1747, 'rank': 1748, 'shallow': 1749, 'civil': 1750, 'rose': 1751, 'vs': 1752, 'washington': 1753, 'werewolf': 1754, 'shape': 1755, 'morn': 1756, 'gari': 1757, 'accomplish': 1758, 'ordinari': 1759, 'kong': 1760, 'winner': 1761, 'grab': 1762, 'whenev': 1763, 'virtual': 1764, 'peac': 1765, 'offens': 1766, 'h': 1767, 'luck': 1768, 'welcom': 1769, 'contriv': 1770, 'patient': 1771, 'activ': 1772, 'unfunni': 1773, 'complain': 1774, 'bigger': 1775, 'pretend': 1776, 'dimension': 1777, 'con': 1778, 'trek': 1779, 'wake': 1780, 'eric': 1781, 'cain': 1782, 'code': 1783, 'dri': 1784, 'lesbian': 1785, 'flash': 1786, 'guard': 1787, 'statu': 1788, 'albert': 1789, 'dancer': 1790, 'corrupt': 1791, 'manipul': 1792, 'signific': 1793, 'context': 1794, 'speech': 1795, 'sourc': 1796, 'awkward': 1797, 'gain': 1798, 'psycho': 1799, '13': 1800, 'corni': 1801, 'sean': 1802, 'anthoni': 1803, 'clip': 1804, 'theatric': 1805, 'curiou': 1806, 'priest': 1807, 'w': 1808, 'religion': 1809, 'advic': 1810, 'reli': 1811, 'flow': 1812, 'addict': 1813, 'howard': 1814, 'asian': 1815, 'secur': 1816, 'skin': 1817, 'jennif': 1818, 'specif': 1819, 'comfort': 1820, 'core': 1821, 'promot': 1822, 'golden': 1823, 'luke': 1824, 'organ': 1825, 'cheat': 1826, 'lucki': 1827, 'cash': 1828, 'associ': 1829, 'dislik': 1830, 'lower': 1831, 'degre': 1832, 'contribut': 1833, 'regret': 1834, 'devic': 1835, 'frankli': 1836, 'frequent': 1837, 'wing': 1838, 'balanc': 1839, 'spell': 1840, 'print': 1841, 'sake': 1842, 'lake': 1843, 'forgiv': 1844, 'betti': 1845, 'thoma': 1846, 'mass': 1847, 'gordon': 1848, 'unexpect': 1849, 'crack': 1850, 'grown': 1851, 'amateur': 1852, 'invit': 1853, 'construct': 1854, 'unfold': 1855, 'depend': 1856, 'categori': 1857, 'matur': 1858, 'intellectu': 1859, 'honor': 1860, 'anna': 1861, 'walter': 1862, 'condit': 1863, 'grew': 1864, 'mirror': 1865, 'spectacular': 1866, 'veteran': 1867, 'sudden': 1868, 'sole': 1869, 'overli': 1870, 'gift': 1871, 'demonstr': 1872, 'card': 1873, 'grip': 1874, 'experienc': 1875, 'robin': 1876, 'freedom': 1877, 'meanwhil': 1878, 'liner': 1879, 'brilliantli': 1880, 'theori': 1881, 'subtitl': 1882, 'unabl': 1883, 'circumst': 1884, 'section': 1885, 'sheriff': 1886, 'drew': 1887, 'colour': 1888, 'crappi': 1889, 'oliv': 1890, 'sheer': 1891, 'pile': 1892, 'laughter': 1893, 'path': 1894, 'cook': 1895, 'altern': 1896, 'matt': 1897, 'parker': 1898, 'hall': 1899, 'treatment': 1900, 'relief': 1901, 'accident': 1902, 'wander': 1903, 'lawyer': 1904, 'sinatra': 1905, 'defin': 1906, 'dragon': 1907, 'captiv': 1908, 'hank': 1909, 'halloween': 1910, 'gratuit': 1911, 'moor': 1912, 'unintent': 1913, 'wayn': 1914, 'kung': 1915, 'k': 1916, 'broadway': 1917, 'barbara': 1918, 'cowboy': 1919, 'wound': 1920, 'jacki': 1921, 'surreal': 1922, 'spoof': 1923, 'winter': 1924, 'statement': 1925, 'canadian': 1926, 'compos': 1927, 'treasur': 1928, 'cheer': 1929, 'fish': 1930, 'gonna': 1931, 'fare': 1932, 'woodi': 1933, 'unrealist': 1934, 'sensit': 1935, 'victor': 1936, 'emerg': 1937, 'driven': 1938, 'sympathet': 1939, 'ran': 1940, 'neighbor': 1941, 'overlook': 1942, 'authent': 1943, 'glass': 1944, 'expos': 1945, 'topic': 1946, 'menac': 1947, 'ancient': 1948, 'michel': 1949, 'gross': 1950, 'handsom': 1951, 'chief': 1952, 'stranger': 1953, 'feet': 1954, 'pleasant': 1955, 'contemporari': 1956, 'network': 1957, 'nevertheless': 1958, 'russel': 1959, 'cinderella': 1960, 'built': 1961, 'comedian': 1962, 'blockbust': 1963, 'consider': 1964, 'letter': 1965, 'underr': 1966, 'endless': 1967, 'miser': 1968, 'earn': 1969, 'gori': 1970, 'switch': 1971, 'solv': 1972, 'brook': 1973, 'convict': 1974, 'victoria': 1975, 'edward': 1976, 'virgin': 1977, 'bullet': 1978, 'joseph': 1979, '0': 1980, 'chosen': 1981, 'cynic': 1982, 'scenario': 1983, 'alex': 1984, 'scale': 1985, 'gut': 1986, 'curs': 1987, 'sword': 1988, 'com': 1989, 'outrag': 1990, 'screenwrit': 1991, 'substanc': 1992, 'proper': 1993, 'driver': 1994, 'juli': 1995, 'monkey': 1996, 'wrap': 1997, 'uk': 1998, 'bird': 1999, 'indic': 2000, 'par': 2001, 'remov': 2002, 'court': 2003, 'consequ': 2004, 'advertis': 2005, 'grave': 2006, 'inevit': 2007, 'naiv': 2008, 'rental': 2009, 'loser': 2010, 'nanci': 2011, 'roy': 2012, 'bridg': 2013, 'le': 2014, 'germani': 2015, 'slap': 2016, 'brave': 2017, 'fatal': 2018, 'invis': 2019, 'ador': 2020, 'footbal': 2021, 'anger': 2022, 'provok': 2023, 'loui': 2024, 'alcohol': 2025, 'anderson': 2026, 'chan': 2027, 'willi': 2028, 'stumbl': 2029, 'ryan': 2030, 'professor': 2031, '1930': 2032, 'bat': 2033, 'australian': 2034, 'patrick': 2035, 'assassin': 2036, 'sharp': 2037, 'deni': 2038, 'strongli': 2039, 'refresh': 2040, 'lousi': 2041, 'amateurish': 2042, 'eight': 2043, 'cell': 2044, 'heck': 2045, 'liber': 2046, 'trilog': 2047, 'ape': 2048, 'saturday': 2049, 'sin': 2050, 'san': 2051, 'resid': 2052, 'justifi': 2053, 'vagu': 2054, 'sympathi': 2055, 'mini': 2056, 'reput': 2057, 'creator': 2058, 'terrifi': 2059, 'indi': 2060, 'defeat': 2061, 'endur': 2062, 'prevent': 2063, 'tediou': 2064, 'expert': 2065, 'task': 2066, 'tabl': 2067, 'imit': 2068, 'rival': 2069, 'basebal': 2070, 'offend': 2071, 'che': 2072, 'employ': 2073, 'trial': 2074, 'dig': 2075, 'max': 2076, 'weekend': 2077, 'complaint': 2078, 'fairi': 2079, 'pitch': 2080, 'beach': 2081, 'europ': 2082, 'purchas': 2083, 'format': 2084, 'murphi': 2085, 'risk': 2086, 'bite': 2087, 'glimps': 2088, 'titan': 2089, 'reminisc': 2090, 'nois': 2091, 'harsh': 2092, 'tini': 2093, 'powel': 2094, 'hype': 2095, 'prime': 2096, 'asleep': 2097, 'strip': 2098, 'north': 2099, 'till': 2100, 'fals': 2101, '14': 2102, 'texa': 2103, 'descript': 2104, 'revel': 2105, 'africa': 2106, 'destruct': 2107, 'sitcom': 2108, 'uninterest': 2109, 'excess': 2110, 'semi': 2111, 'spin': 2112, 'inner': 2113, 'arrest': 2114, 'surfac': 2115, 'hitchcock': 2116, 'twin': 2117, 'argu': 2118, 'makeup': 2119, 'controversi': 2120, 'massiv': 2121, 'dinosaur': 2122, 'maintain': 2123, 'stare': 2124, 'ideal': 2125, 'insist': 2126, 'kim': 2127, 'ludicr': 2128, 'reject': 2129, 'melodrama': 2130, 'expens': 2131, 'supernatur': 2132, 'ala': 2133, 'forest': 2134, 'erot': 2135, 'host': 2136, 'nail': 2137, 'columbo': 2138, 'ga': 2139, 'atroci': 2140, 'press': 2141, 'subplot': 2142, 'cant': 2143, 'dude': 2144, 'presum': 2145, 'notch': 2146, 'identifi': 2147, 'method': 2148, 'closer': 2149, 'character': 2150, 'forgett': 2151, 'guest': 2152, 'crude': 2153, 'plagu': 2154, 'princess': 2155, 'beast': 2156, 'foster': 2157, 'lion': 2158, 'landscap': 2159, 'ear': 2160, 'border': 2161, 'storytel': 2162, 'birth': 2163, 'damag': 2164, 'previous': 2165, 'bound': 2166, 'urban': 2167, 'jungl': 2168, 'aunt': 2169, 'accus': 2170, 'pacino': 2171, 'guid': 2172, 'doll': 2173, 'jess': 2174, 'chose': 2175, 'thirti': 2176, 'nude': 2177, 'propaganda': 2178, 'emma': 2179, 'mainstream': 2180, 'whoever': 2181, 'pet': 2182, 'mate': 2183, 'warrior': 2184, '25': 2185, 'size': 2186, 'poster': 2187, 'friday': 2188, 'merit': 2189, 'deadli': 2190, 'latest': 2191, 'gritti': 2192, 'cooper': 2193, 'upset': 2194, 'exact': 2195, 'contest': 2196, 'blend': 2197, 'warner': 2198, 'contact': 2199, '1990': 2200, 'sun': 2201, 'buff': 2202, 'wilson': 2203, 'settl': 2204, 'citizen': 2205, 'ton': 2206, 'popul': 2207, 'rough': 2208, 'corps': 2209, 'rat': 2210, 'pitt': 2211, 'environ': 2212, 'widow': 2213, 'alic': 2214, 'select': 2215, 'overcom': 2216, 'metal': 2217, 'mgm': 2218, 'bu': 2219, 'link': 2220, 'ted': 2221, 'particip': 2222, 'revolut': 2223, 'lift': 2224, 'guilti': 2225, 'corner': 2226, 'exagger': 2227, 'afternoon': 2228, 'prostitut': 2229, '1960': 2230, 'matrix': 2231, 'accompani': 2232, 'moron': 2233, 'johnson': 2234, 'corpor': 2235, 'leagu': 2236, 'multipl': 2237, 'clair': 2238, 'friendli': 2239, 'sincer': 2240, 'holm': 2241, 'doom': 2242, 'instal': 2243, 'hood': 2244, 'irish': 2245, 'campi': 2246, 'sunday': 2247, 'advis': 2248, 'junk': 2249, 'string': 2250, 'grim': 2251, 'aka': 2252, 'lugosi': 2253, 'hip': 2254, 'blah': 2255, 'examin': 2256, 'defend': 2257, 'shake': 2258, 'rachel': 2259, 'shut': 2260, 'pro': 2261, 'icon': 2262, 'varieti': 2263, 'confid': 2264, 'tight': 2265, 'attach': 2266, 'directli': 2267, 'goal': 2268, 'jaw': 2269, 'denni': 2270, 'medic': 2271, 'sullivan': 2272, 'mexican': 2273, 'legendari': 2274, 'dean': 2275, 'breast': 2276, 'terrorist': 2277, 'truck': 2278, 'sentenc': 2279, 'courag': 2280, 'vietnam': 2281, 'bourn': 2282, 'prior': 2283, 'duke': 2284, 'sarah': 2285, 'nose': 2286, 'proceed': 2287, 'hong': 2288, 'un': 2289, 'split': 2290, 'donald': 2291, 'behav': 2292, 'yell': 2293, 'entri': 2294, 'lifetim': 2295, 'buri': 2296, 'gather': 2297, 'stolen': 2298, 'unconvinc': 2299, 'everywher': 2300, 'swim': 2301, 'borrow': 2302, 'forth': 2303, 'crush': 2304, 'confess': 2305, 'jerk': 2306, 'concentr': 2307, 'lip': 2308, 'deliveri': 2309, 'pan': 2310, 'spite': 2311, 'california': 2312, 'turkey': 2313, 'julia': 2314, 'flight': 2315, 'proud': 2316, 'offici': 2317, 'freeman': 2318, 'quest': 2319, 'china': 2320, 'downright': 2321, 'reward': 2322, 'hoffman': 2323, 'jon': 2324, 'worthwhil': 2325, 'sir': 2326, 'betray': 2327, 'encourag': 2328, 'jail': 2329, 'sink': 2330, 'fade': 2331, 'fabul': 2332, 'lazi': 2333, 'inept': 2334, 'notori': 2335, 'relev': 2336, 'teeth': 2337, 'bag': 2338, 'shower': 2339, 'susan': 2340, 'storm': 2341, 'retard': 2342, 'bell': 2343, 'survivor': 2344, 'cousin': 2345, 'imageri': 2346, 'lisa': 2347, 'branagh': 2348, 'bride': 2349, 'finger': 2350, 'quirki': 2351, 'summari': 2352, 'facial': 2353, 'alright': 2354, 'tremend': 2355, 'hugh': 2356, 'trade': 2357, 'stab': 2358, 'toler': 2359, 'mexico': 2360, 'shark': 2361, 'pose': 2362, 'von': 2363, 'ha': 2364, 'blown': 2365, 'bitter': 2366, 'hyster': 2367, 'scheme': 2368, 'address': 2369, 'cruel': 2370, 'christ': 2371, 'bone': 2372, 'afterward': 2373, 'ron': 2374, 'larri': 2375, 'ned': 2376, 'snake': 2377, 'swear': 2378, 'distinct': 2379, 'thumb': 2380, 'feed': 2381, 'beg': 2382, 'pursu': 2383, 'traci': 2384, 'screw': 2385, 'tour': 2386, 'raw': 2387, 'stomach': 2388, 'obscur': 2389, 'chair': 2390, 'mechan': 2391, 'occas': 2392, 'photo': 2393, 'holiday': 2394, 'chain': 2395, 'necessarili': 2396, 'render': 2397, 'gruesom': 2398, 'southern': 2399, 'cabin': 2400, 'resist': 2401, 'argument': 2402, 'heavili': 2403, 'hardi': 2404, 'sidney': 2405, 'understood': 2406, 'satan': 2407, 'india': 2408, 'philip': 2409, 'racist': 2410, 'indulg': 2411, 'outfit': 2412, 'forgot': 2413, 'tongu': 2414, 'obnoxi': 2415, 'belov': 2416, 'fourth': 2417, 'pregnant': 2418, 'stalk': 2419, 'lay': 2420, 'integr': 2421, 'midnight': 2422, 'garden': 2423, 'deeper': 2424, 'carol': 2425, 'ticket': 2426, 'slapstick': 2427, '17': 2428, 'magazin': 2429, 'inhabit': 2430, 'restor': 2431, 'devot': 2432, 'incid': 2433, 'brad': 2434, 'shoe': 2435, 'lincoln': 2436, 'guarante': 2437, 'benefit': 2438, 'disbelief': 2439, 'anticip': 2440, 'elizabeth': 2441, 'divorc': 2442, 'sandler': 2443, 'underground': 2444, 'lili': 2445, 'maria': 2446, 'capit': 2447, 'greater': 2448, 'explod': 2449, 'princip': 2450, 'cring': 2451, 'bbc': 2452, 'mildli': 2453, 'slave': 2454, 'amazingli': 2455, 'creation': 2456, 'introduct': 2457, 'lesli': 2458, 'extraordinari': 2459, 'funnier': 2460, 'halfway': 2461, 'tap': 2462, 'text': 2463, 'transfer': 2464, 'overwhelm': 2465, 'extent': 2466, 'advantag': 2467, 'wreck': 2468, 'punish': 2469, 'enhanc': 2470, 'lane': 2471, 'dynam': 2472, 'jessica': 2473, 'east': 2474, 'deliber': 2475, 'plant': 2476, 'lo': 2477, 'preview': 2478, 'error': 2479, 'horrif': 2480, 'basi': 2481, 'miller': 2482, 'miscast': 2483, 'vincent': 2484, 'sophist': 2485, 'appli': 2486, 'homosexu': 2487, 'ensu': 2488, '2000': 2489, 'vacat': 2490, 'bollywood': 2491, 'via': 2492, 'measur': 2493, 'mansion': 2494, 'sleazi': 2495, 'elev': 2496, 'steel': 2497, 'spoken': 2498, 'extend': 2499, 'uncomfort': 2500, 'reed': 2501, 'conceiv': 2502, 'overact': 2503, 'goofi': 2504, 'dentist': 2505, 'alter': 2506, 'assign': 2507, 'melt': 2508, 'stanley': 2509, 'fix': 2510, 'savag': 2511, 'hippi': 2512, 'beer': 2513, 'blair': 2514, 'mous': 2515, 'daili': 2516, 'breathtak': 2517, 'cathol': 2518, 'nowaday': 2519, 'sacrific': 2520, 'everyday': 2521, 'oppos': 2522, 'properli': 2523, 'subsequ': 2524, 'carpent': 2525, 'inspector': 2526, 'burt': 2527, 'succe': 2528, 'massacr': 2529, 'block': 2530, 'circl': 2531, 'neck': 2532, 'laura': 2533, 'christi': 2534, 'access': 2535, 'portrait': 2536, 'lesser': 2537, 'mob': 2538, 'grey': 2539, 'fay': 2540, 'pool': 2541, 'fallen': 2542, 'seagal': 2543, 'concert': 2544, 'sinist': 2545, 'isol': 2546, 'chees': 2547, 'react': 2548, 'competit': 2549, 'jewish': 2550, 'jake': 2551, 'relax': 2552, 'usa': 2553, 'nine': 2554, '2006': 2555, 'nonetheless': 2556, 'chop': 2557, 'suitabl': 2558, 'appal': 2559, 'ironi': 2560, 'stink': 2561, 'lyric': 2562, 'creep': 2563, 'immens': 2564, 'spiritu': 2565, 'user': 2566, 'needless': 2567, 'spring': 2568, 'reduc': 2569, 'navi': 2570, 'nut': 2571, 'rage': 2572, 'franchis': 2573, 'adopt': 2574, 'showcas': 2575, 'sold': 2576, 'retir': 2577, 'shirt': 2578, 'luci': 2579, 'digit': 2580, 'bulli': 2581, 'asham': 2582, 'jay': 2583, 'uninspir': 2584, 'nurs': 2585, 'bath': 2586, 'zone': 2587, 'per': 2588, 'stanwyck': 2589, 'upper': 2590, 'oddli': 2591, 'laid': 2592, 'broadcast': 2593, 'sutherland': 2594, 'illustr': 2595, 'amongst': 2596, '1940': 2597, '2001': 2598, 'baker': 2599, 'throat': 2600, 'fulfil': 2601, 'stylish': 2602, 'brando': 2603, 'disguis': 2604, 'aspir': 2605, 'pound': 2606, 'impli': 2607, '18': 2608, 'nobl': 2609, 'endear': 2610, 'pride': 2611, 'wanna': 2612, 'neighborhood': 2613, 'wwii': 2614, 'em': 2615, 'thief': 2616, 'rochest': 2617, 'dawn': 2618, 'coher': 2619, 'distribut': 2620, 'prop': 2621, 'dinner': 2622, 'shift': 2623, 'albeit': 2624, 'bo': 2625, '16': 2626, 'cinematograph': 2627, 'shoulder': 2628, 'tens': 2629, 'bett': 2630, 'diseas': 2631, 'silenc': 2632, 'surf': 2633, 'contract': 2634, 'poignant': 2635, 'shout': 2636, 'forti': 2637, 'matthau': 2638, 'knife': 2639, 'snow': 2640, 'rebel': 2641, 'function': 2642, 'wash': 2643, 'silver': 2644, 'duti': 2645, 'reunion': 2646, 'chuck': 2647, 'heat': 2648, 'proof': 2649, 'eeri': 2650, 'derek': 2651, 'henc': 2652, 'mindless': 2653, 'cannib': 2654, 'height': 2655, 'instinct': 2656, 'internet': 2657, 'elvira': 2658, 'horrend': 2659, 'widmark': 2660, 'cancel': 2661, 'greatli': 2662, 'premier': 2663, 'incoher': 2664, 'neat': 2665, 'alik': 2666, 'musician': 2667, 'torn': 2668, 'pie': 2669, 'etern': 2670, 'innov': 2671, 'mill': 2672, 'glori': 2673, 'absorb': 2674, 'repetit': 2675, 'spielberg': 2676, 'elvi': 2677, 'nelson': 2678, 'bang': 2679, 'blank': 2680, 'britain': 2681, 'burton': 2682, 'wealthi': 2683, 'lovabl': 2684, 'announc': 2685, 'redempt': 2686, 'precis': 2687, 'homag': 2688, 'trite': 2689, 'crisi': 2690, 'racism': 2691, 'diamond': 2692, 'infam': 2693, 'itali': 2694, 'fbi': 2695, 'horrifi': 2696, 'dedic': 2697, 'resolut': 2698, 'ensembl': 2699, 'happili': 2700, 'hammer': 2701, 'helen': 2702, 'wilder': 2703, 'pat': 2704, 'flop': 2705, 'parallel': 2706, 'streisand': 2707, 'chaplin': 2708, 'mar': 2709, 'plastic': 2710, 'carter': 2711, 'st': 2712, 'conclud': 2713, 'broke': 2714, 'disagre': 2715, 'oil': 2716, 'triumph': 2717, 'cube': 2718, 'factori': 2719, 'march': 2720, 'climb': 2721, 'vega': 2722, 'own': 2723, 'fighter': 2724, 'weight': 2725, 'chuckl': 2726, 'row': 2727, 'rocket': 2728, 'bush': 2729, 'wherea': 2730, 'dump': 2731, 'meaning': 2732, 'mst3k': 2733, 'boot': 2734, 'enorm': 2735, 'unforgett': 2736, 'sensibl': 2737, 'dane': 2738, 'kurt': 2739, 'lust': 2740, 'luca': 2741, 'thug': 2742, 'spare': 2743, 'karloff': 2744, 'butt': 2745, 'arnold': 2746, 'stress': 2747, 'rap': 2748, 'brand': 2749, 'bobbi': 2750, 'caricatur': 2751, 'engin': 2752, 'adequ': 2753, 'dear': 2754, 'fifti': 2755, 'difficulti': 2756, 'threat': 2757, 'elabor': 2758, 'secretari': 2759, 'swing': 2760, 'arrog': 2761, 'ralph': 2762, 'fest': 2763, 'polish': 2764, 'barri': 2765, 'journalist': 2766, 'hamlet': 2767, 'homeless': 2768, 'ego': 2769, 'flynn': 2770, 'arrang': 2771, 'fanci': 2772, 'tool': 2773, 'induc': 2774, 'puppet': 2775, 'unbear': 2776, 'conspiraci': 2777, 'simpson': 2778, 'grate': 2779, 'float': 2780, 'resort': 2781, 'spike': 2782, 'basement': 2783, 'phillip': 2784, 'choreograph': 2785, 'exercis': 2786, 'boll': 2787, 'cruis': 2788, 'tribut': 2789, 'pig': 2790, 'guilt': 2791, 'muppet': 2792, 'scarecrow': 2793, 'medium': 2794, 'slip': 2795, 'babe': 2796, 'item': 2797, 'tower': 2798, 'editor': 2799, 'toilet': 2800, 'layer': 2801, 'file': 2802, 'ham': 2803, 'document': 2804, '24': 2805, 'puzzl': 2806, 'korean': 2807, 'stan': 2808, 'fianc': 2809, 'ward': 2810, 'librari': 2811, 'inexplic': 2812, 'minim': 2813, 'persona': 2814, 'catherin': 2815, 'larger': 2816, 'spark': 2817, 'doc': 2818, 'portion': 2819, 'philosoph': 2820, 'orient': 2821, 'slaughter': 2822, 'denzel': 2823, 'assur': 2824, 'glover': 2825, 'superfici': 2826, 'territori': 2827, 'transit': 2828, 'pg': 2829, 'financi': 2830, 'curti': 2831, 'owe': 2832, 'shi': 2833, 'walken': 2834, 'ban': 2835, 'boredom': 2836, 'wolf': 2837, 'dorothi': 2838, 'sneak': 2839, 'jet': 2840, 'jeremi': 2841, 'backdrop': 2842, 'ambigu': 2843, 'metaphor': 2844, 'eleph': 2845, 'hudson': 2846, 'whale': 2847, 'profound': 2848, 'cusack': 2849, 'multi': 2850, 'viru': 2851, 'stiff': 2852, '2005': 2853, 'hack': 2854, 'notion': 2855, 'elsewher': 2856, 'union': 2857, 'ultra': 2858, 'rave': 2859, 'gadget': 2860, 'implaus': 2861, 'birthday': 2862, 'distanc': 2863, 'disc': 2864, 'afford': 2865, 'pad': 2866, 'slight': 2867, 'deriv': 2868, 'urg': 2869, 'eastwood': 2870, 'hawk': 2871, 'poison': 2872, 'bibl': 2873, 'squar': 2874, '1st': 2875, 'reader': 2876, 'eva': 2877, 'newspap': 2878, 'superhero': 2879, 'canada': 2880, 'lloyd': 2881, 'cure': 2882, 'essenc': 2883, 'spread': 2884, 'montag': 2885, 'skit': 2886, 'restaur': 2887, 'sadist': 2888, 'button': 2889, 'heston': 2890, 'health': 2891, 'huh': 2892, 'charisma': 2893, 'drown': 2894, 'godfath': 2895, 'maniac': 2896, 'fetch': 2897, 'peak': 2898, 'lab': 2899, 'companion': 2900, 'dealt': 2901, 'estat': 2902, 'invest': 2903, 'gradual': 2904, 'scoobi': 2905, 'muslim': 2906, 'gothic': 2907, 'alli': 2908, 'countless': 2909, 'subtleti': 2910, 'servant': 2911, 'tea': 2912, 'kane': 2913, 'cup': 2914, 'ritter': 2915, 'miik': 2916, 'electr': 2917, 'charismat': 2918, 'briefli': 2919, 'salli': 2920, 'heroic': 2921, 'iii': 2922, 'elect': 2923, 'neil': 2924, 'tender': 2925, 'resourc': 2926, 'admittedli': 2927, 'bud': 2928, 'wannab': 2929, 'grandmoth': 2930, 'reel': 2931, 'nuanc': 2932, 'cole': 2933, 'ingredi': 2934, 'toss': 2935, 'pauli': 2936, 'gate': 2937, 'stood': 2938, 'mafia': 2939, 'stronger': 2940, 'punk': 2941, 'reev': 2942, 'mild': 2943, 'dawson': 2944, 'pit': 2945, 'poverti': 2946, 'label': 2947, 'shall': 2948, 'kubrick': 2949, 'carrey': 2950, 'astair': 2951, 'cox': 2952, 'updat': 2953, 'burst': 2954, 'ian': 2955, 'smooth': 2956, 'smash': 2957, 'outcom': 2958, 'fond': 2959, 'bakshi': 2960, 'tag': 2961, 'assault': 2962, 'useless': 2963, 'easier': 2964, 'cardboard': 2965, 'terri': 2966, 'melodramat': 2967, '2002': 2968, 'increasingli': 2969, 'exchang': 2970, 'samurai': 2971, 'sketch': 2972, 'rex': 2973, 'divers': 2974, 'vari': 2975, 'qualifi': 2976, 'fist': 2977, 'coincid': 2978, 'resolv': 2979, 'vulner': 2980, 'insert': 2981, 'blast': 2982, 'luckili': 2983, 'conveni': 2984, 'reynold': 2985, 'brillianc': 2986, 'be': 2987, 'suspend': 2988, 'scratch': 2989, 'templ': 2990, 'tame': 2991, 'matthew': 2992, 'meat': 2993, 'strictli': 2994, 'jami': 2995, 'soprano': 2996, 'walker': 2997, 'farm': 2998, 'fisher': 2999, 'coach': 3000, 'ambiti': 3001, 'seventi': 3002, 'nuclear': 3003, 'gotta': 3004, 'pin': 3005, 'hamilton': 3006, 'butcher': 3007, 'closet': 3008, 'cave': 3009, 'brosnan': 3010, 'monk': 3011, 'clock': 3012, 'instantli': 3013, 'eccentr': 3014, 'spooki': 3015, 'discoveri': 3016, 'ninja': 3017, 'recreat': 3018, 'struck': 3019, 'convolut': 3020, 'kudo': 3021, 'grasp': 3022, 'worthless': 3023, 'timeless': 3024, 'empir': 3025, 'revers': 3026, 'joey': 3027, 'wipe': 3028, 'cliff': 3029, 'pal': 3030, 'evok': 3031, 'bleak': 3032, 'fifteen': 3033, 'clown': 3034, 'mitchel': 3035, 'selfish': 3036, 'gray': 3037, 'partli': 3038, 'communist': 3039, 'inconsist': 3040, 'sloppi': 3041, 'declar': 3042, 'eighti': 3043, 'importantli': 3044, 'sidekick': 3045, 'norman': 3046, 'miracl': 3047, 'seller': 3048, 'chew': 3049, 'psychiatrist': 3050, 'enthusiast': 3051, 'superbl': 3052, 'flawless': 3053, 'cheek': 3054, 'aforement': 3055, 'australia': 3056, 'seed': 3057, '45': 3058, 'piano': 3059, 'destin': 3060, 'lifestyl': 3061, 'debat': 3062, 'websit': 3063, 'farc': 3064, 'stoog': 3065, 'ho': 3066, 'regardless': 3067, 'abc': 3068, 'emili': 3069, 'soviet': 3070, 'drivel': 3071, 'kitchen': 3072, 'directori': 3073, 'pressur': 3074, 'anni': 3075, 'bash': 3076, 'dash': 3077, 'slice': 3078, 'akshay': 3079, 'incompet': 3080, 'wrestl': 3081, 'dire': 3082, 'splatter': 3083, 'wick': 3084, 'cameron': 3085, 'increas': 3086, 'beaten': 3087, 'suppli': 3088, 'pleasantli': 3089, 'judi': 3090, 'helicopt': 3091, 'flower': 3092, 'mann': 3093, 'recov': 3094, 'jar': 3095, 'curios': 3096, 'duo': 3097, 'distant': 3098, 'glow': 3099, 'artifici': 3100, 'seduc': 3101, 'prize': 3102, 'lou': 3103, 'cagney': 3104, 'cia': 3105, 'chapter': 3106, 'dave': 3107, 'boil': 3108, 'ken': 3109, 'doo': 3110, 'blob': 3111, 'eleg': 3112, 'francisco': 3113, 'turner': 3114, 'perri': 3115, 'craig': 3116, 'splendid': 3117, 'craven': 3118, 'panic': 3119, 'glenn': 3120, 'hop': 3121, 'favour': 3122, 'psychot': 3123, 'ellen': 3124, 'goldberg': 3125, 'web': 3126, 'drunken': 3127, 'laurel': 3128, 'combat': 3129, 'ranger': 3130, 'min': 3131, 'fx': 3132, 'slightest': 3133, 'hatr': 3134, 'gentl': 3135, '20th': 3136, 'shortli': 3137, 'graduat': 3138, 'alexand': 3139, 'wizard': 3140, 'ruth': 3141, 'falk': 3142, 'gandhi': 3143, 'flip': 3144, 'philosophi': 3145, 'greek': 3146, 'rid': 3147, 'plausibl': 3148, 'modesti': 3149, 'jealou': 3150, 'fund': 3151, 'unpleas': 3152, 'we': 3153, 'holi': 3154, 'ocean': 3155, 'preciou': 3156, 'legal': 3157, 'felix': 3158, 'tall': 3159, 'dracula': 3160, 'harm': 3161, 'knight': 3162, 'futurist': 3163, 'manhattan': 3164, 'lend': 3165, 'scientif': 3166, 'tank': 3167, 'bless': 3168, 'digniti': 3169, 'thread': 3170, 'nod': 3171, 'childish': 3172, 'giallo': 3173, 'reviv': 3174, 'forbidden': 3175, 'overdon': 3176, 'mock': 3177, 'explicit': 3178, 'ami': 3179, 'pirat': 3180, 'margaret': 3181, 'nerv': 3182, 'unwatch': 3183, 'awe': 3184, 'eve': 3185, 'elderli': 3186, 'fever': 3187, 'repeatedli': 3188, 'thick': 3189, '2004': 3190, 'mel': 3191, 'broad': 3192, 'verhoeven': 3193, '99': 3194, 'awaken': 3195, 'yesterday': 3196, 'torment': 3197, 'timothi': 3198, 'royal': 3199, 'politician': 3200, 'automat': 3201, 'bin': 3202, 'uniform': 3203, 'acclaim': 3204, 'publish': 3205, 'kay': 3206, 'griffith': 3207, 'stiller': 3208, 'ambit': 3209, 'roman': 3210, 'launch': 3211, 'absenc': 3212, 'lean': 3213, 'rivet': 3214, 'romero': 3215, 'ah': 3216, 'custom': 3217, 'eas': 3218, 'crook': 3219, 'pulp': 3220, 'foul': 3221, 'bathroom': 3222, 'phrase': 3223, 'pierc': 3224, 'homicid': 3225, 'termin': 3226, 'sunshin': 3227, 'transport': 3228, 'stinker': 3229, 'gabriel': 3230, 'wallac': 3231, 'darker': 3232, 'warren': 3233, 'antic': 3234, 'purpl': 3235, 'tomato': 3236, 'packag': 3237, 'eyr': 3238, 'contrari': 3239, 'ought': 3240, 'hollow': 3241, 'saint': 3242, 'juvenil': 3243, 'pray': 3244, 'kenneth': 3245, 'q': 3246, 'donna': 3247, '2003': 3248, 'evolv': 3249, 'coloni': 3250, 'brazil': 3251, 'sixti': 3252, 'marin': 3253, 'choreographi': 3254, 'horrid': 3255, 'viciou': 3256, 'awak': 3257, 'revolutionari': 3258, 'album': 3259, 'li': 3260, 'karen': 3261, 'rambo': 3262, 'prom': 3263, 'stole': 3264, 'twelv': 3265, 'nerd': 3266, 'ireland': 3267, 'blade': 3268, 'conserv': 3269, 'option': 3270, 'ramon': 3271, 'boast': 3272, 'kapoor': 3273, 'beatti': 3274, 'dose': 3275, 'mummi': 3276, 'overr': 3277, 'defi': 3278, 'mildr': 3279, 'candid': 3280, 'trio': 3281, 'confirm': 3282, 'detract': 3283, 'global': 3284, 'funer': 3285, 'jazz': 3286, 'protest': 3287, 'kirk': 3288, 'collabor': 3289, 'astonish': 3290, 'altman': 3291, 'flame': 3292, 'natali': 3293, 'fulci': 3294, 'delici': 3295, 'audio': 3296, 'bull': 3297, 'spit': 3298, 'racial': 3299, 'tommi': 3300, 'yellow': 3301, 'mystic': 3302, 'blake': 3303, 'destini': 3304, 'shade': 3305, 'bottl': 3306, 'leap': 3307, 'enterpris': 3308, 'nicholson': 3309, 'whip': 3310, 'neo': 3311, 'inherit': 3312, 'enchant': 3313, 'meaningless': 3314, 'visibl': 3315, 'adolesc': 3316, 'fonda': 3317, 'reunit': 3318, 'merci': 3319, 'popcorn': 3320, 'vivid': 3321, 'harder': 3322, 'pseudo': 3323, 'altogeth': 3324, 'swedish': 3325, 'bedroom': 3326, 'todd': 3327, 'threw': 3328, 'staff': 3329, 'await': 3330, 'uneven': 3331, 'ruthless': 3332, 'tip': 3333, 'bust': 3334, 'moodi': 3335, 'decor': 3336, 'befriend': 3337, 'exhibit': 3338, 'synopsi': 3339, 'lemmon': 3340, 'madonna': 3341, 'reserv': 3342, 'crocodil': 3343, 'kennedi': 3344, 'atlanti': 3345, 'roommat': 3346, 'suspici': 3347, 'wire': 3348, 'voight': 3349, 'respond': 3350, 'leonard': 3351, 'fanat': 3352, 'jew': 3353, 'edi': 3354, 'lawrenc': 3355, 'unsettl': 3356, 'incident': 3357, 'bargain': 3358, 'chao': 3359, 'audit': 3360, 'carl': 3361, 'palma': 3362, 'holli': 3363, 'bradi': 3364, 'clint': 3365, 'ventur': 3366, 'rural': 3367, 'bold': 3368, 'clumsi': 3369, '2007': 3370, 'abysm': 3371, 'centr': 3372, 'garner': 3373, 'voyag': 3374, 'dimens': 3375, 'characterist': 3376, 'elimin': 3377, 'versu': 3378, 'humili': 3379, 'mall': 3380, 'lit': 3381, 'neglect': 3382, 'troop': 3383, 'timon': 3384, '2nd': 3385, 'cd': 3386, 'poetic': 3387, 'cari': 3388, 'nearbi': 3389, 'wealth': 3390, 'ant': 3391, 'immigr': 3392, 'acknowledg': 3393, 'daddi': 3394, 'tiger': 3395, 'imperson': 3396, 'echo': 3397, 'hart': 3398, 'trail': 3399, 'cuba': 3400, 'mistaken': 3401, 'solo': 3402, 'paus': 3403, 'jeffrey': 3404, 'saga': 3405, 'celluloid': 3406, 'prejudic': 3407, 'domest': 3408, 'infect': 3409, 'repuls': 3410, 'marshal': 3411, 'homer': 3412, 'pun': 3413, 'mickey': 3414, 'collaps': 3415, 'ginger': 3416, 'chest': 3417, 'assembl': 3418, 'promin': 3419, 'gear': 3420, 'hbo': 3421, 'apolog': 3422, 'coffe': 3423, 'pant': 3424, 'tribe': 3425, 'sore': 3426, 'harvey': 3427, 'coat': 3428, 'undoubtedli': 3429, 'olivi': 3430, 'equip': 3431, 'cake': 3432, 'inan': 3433, 'leon': 3434, '1996': 3435, 'interrupt': 3436, 'inappropri': 3437, 'milk': 3438, 'embrac': 3439, 'solut': 3440, 'brooklyn': 3441, 'colonel': 3442, 'institut': 3443, 'highest': 3444, 'aveng': 3445, 'airplan': 3446, 'humbl': 3447, 'trace': 3448, 'instant': 3449, 'furthermor': 3450, 'retain': 3451, 'primari': 3452, 'consum': 3453, 'devast': 3454, 'polanski': 3455, 'colleagu': 3456, 'pot': 3457, 'jenni': 3458, 'vulgar': 3459, 'exot': 3460, 'maggi': 3461, 'pen': 3462, 'florida': 3463, 'dutch': 3464, 'wive': 3465, 'illog': 3466, 'bowl': 3467, 'strain': 3468, 'rick': 3469, 'descend': 3470, '1999': 3471, 'ya': 3472, 'godzilla': 3473, 'poke': 3474, 'principl': 3475, '3rd': 3476, 'smaller': 3477, 'outer': 3478, 'seduct': 3479, 'linda': 3480, 'sale': 3481, 'disabl': 3482, 'cope': 3483, 'dian': 3484, 'gender': 3485, 'mixtur': 3486, 'vast': 3487, 'yard': 3488, 'beneath': 3489, 'hal': 3490, 'secondli': 3491, 'rabbit': 3492, 'lol': 3493, 'dud': 3494, 'gloriou': 3495, 'dive': 3496, 'cue': 3497, 'blatant': 3498, 'primarili': 3499, 'inferior': 3500, 'scope': 3501, 'predecessor': 3502, 'bubbl': 3503, 'devoid': 3504, 'glamor': 3505, 'gundam': 3506, 'countrysid': 3507, 'grinch': 3508, 'casual': 3509, 'trademark': 3510, 'pearl': 3511, 'senseless': 3512, 'aggress': 3513, 'alert': 3514, 'talki': 3515, 'streep': 3516, 'hideou': 3517, 'disjoint': 3518, 'shelf': 3519, 'arab': 3520, 'april': 3521, 'museum': 3522, 'domino': 3523, 'garbo': 3524, 'alfr': 3525, 'invas': 3526, 'breed': 3527, 'z': 3528, 'et': 3529, 'simplist': 3530, 'shirley': 3531, 'myer': 3532, 'khan': 3533, 'hardcor': 3534, 'stir': 3535, 'vanish': 3536, 'sh': 3537, 'rendit': 3538, 'uwe': 3539, 'stellar': 3540, 'boom': 3541, 'maci': 3542, 'defens': 3543, 'oz': 3544, 'hopeless': 3545, 'mayor': 3546, 'mail': 3547, 'loyal': 3548, 'disgrac': 3549, 'acid': 3550, 'robinson': 3551, 'robberi': 3552, 'illeg': 3553, 'obtain': 3554, 'experiment': 3555, 'slide': 3556, 'stack': 3557, 'unhappi': 3558, 'applaud': 3559, 'berlin': 3560, 'blew': 3561, 'spider': 3562, 'span': 3563, 'scroog': 3564, 'dismiss': 3565, 'counter': 3566, 'fri': 3567, 'dicken': 3568, 'declin': 3569, 'emphasi': 3570, 'wont': 3571, 'topless': 3572, 'tenant': 3573, 'craze': 3574, 'recruit': 3575, 'amanda': 3576, 'grandfath': 3577, 'hartley': 3578, 'psychic': 3579, 'tempt': 3580, 'rifl': 3581, 'diana': 3582, 'soccer': 3583, 'incomprehens': 3584, 'ration': 3585, 'shed': 3586, 'trashi': 3587, 'woo': 3588, 'shaw': 3589, 'revolt': 3590, 'sibl': 3591, 'resurrect': 3592, 'bitch': 3593, 'ethnic': 3594, 'intim': 3595, 'parad': 3596, 'riot': 3597, 'wet': 3598, 'niro': 3599, 'goer': 3600, 'faster': 3601, 'sympath': 3602, 'lumet': 3603, 'porno': 3604, 'justin': 3605, 'farmer': 3606, 'unreal': 3607, 'hesit': 3608, 'nephew': 3609, 'jonathan': 3610, 'partial': 3611, 'steam': 3612, 'slick': 3613, 'honesti': 3614, 'andr': 3615, 'region': 3616, 'feminist': 3617, 'gap': 3618, 'ballet': 3619, 'dealer': 3620, 'eager': 3621, 'commend': 3622, 'weakest': 3623, 'choru': 3624, 'biographi': 3625, 'ensur': 3626, 'rider': 3627, 'mario': 3628, 'enlighten': 3629, 'worm': 3630, 'wheel': 3631, 'patriot': 3632, '00': 3633, 'wendi': 3634, 'immort': 3635, 'hopper': 3636, 'lena': 3637, 'charlott': 3638, 'similarli': 3639, 'wore': 3640, 'franco': 3641, 'blunt': 3642, 'mutant': 3643, 'sappi': 3644, 'prequel': 3645, 'owen': 3646, 'properti': 3647, 'vice': 3648, 'morri': 3649, 'safeti': 3650, 'util': 3651, 'composit': 3652, 'snap': 3653, 'victori': 3654, 'psychopath': 3655, 'kingdom': 3656, 'sandra': 3657, 'leo': 3658, 'nostalg': 3659, 'hung': 3660, 'repress': 3661, 'skull': 3662, 'confin': 3663, 'macarthur': 3664, 'rocki': 3665, 'emperor': 3666, 'tail': 3667, 'dalton': 3668, 'exit': 3669, 'valuabl': 3670, 'repli': 3671, 'pattern': 3672, 'miseri': 3673, 'del': 3674, 'nervou': 3675, 'recycl': 3676, 'drum': 3677, 'rope': 3678, 'montana': 3679, '1972': 3680, 'drain': 3681, 'compens': 3682, 'bumbl': 3683, 'cg': 3684, 'kyle': 3685, 'bonu': 3686, 'thru': 3687, 'whoopi': 3688, 'strand': 3689, 'compass': 3690, 'despair': 3691, 'bergman': 3692, 'acquir': 3693, 'heartbreak': 3694, 'dust': 3695, 'snl': 3696, 'tad': 3697, 'bow': 3698, 'campbel': 3699, 'rambl': 3700, 'deed': 3701, 'speci': 3702, 'hyde': 3703, 'farrel': 3704, 'latin': 3705, 'da': 3706, 'martian': 3707, 'wacki': 3708, 'romp': 3709, 'pour': 3710, 'rapist': 3711, 'oppress': 3712, 'percept': 3713, 'tonight': 3714, 'chess': 3715, 'downhil': 3716, 'gal': 3717, 'bleed': 3718, 'slug': 3719, 'radic': 3720, 'rotten': 3721, 'roth': 3722, 'carradin': 3723, '35': 3724, 'orson': 3725, 'contempl': 3726, 'airport': 3727, 'olli': 3728, 'gimmick': 3729, 'mistress': 3730, 'melodi': 3731, 'stilt': 3732, '1983': 3733, 'mislead': 3734, 'taught': 3735, 'pervert': 3736, 'dazzl': 3737, 'slash': 3738, 'banal': 3739, 'arguabl': 3740, 'unpredict': 3741, 'tooth': 3742, 'programm': 3743, 'paltrow': 3744, 'shelley': 3745, 'arc': 3746, 'heal': 3747, 'preach': 3748, 'belt': 3749, 'pervers': 3750, 'pursuit': 3751, 'attorney': 3752, 'edgar': 3753, 'champion': 3754, 'tackl': 3755, 'virginia': 3756, 'tiresom': 3757, 'graham': 3758, 'uplift': 3759, 'employe': 3760, 'bela': 3761, 'marti': 3762, 'plight': 3763, 'gambl': 3764, 'vengeanc': 3765, 'poem': 3766, 'raymond': 3767, 'mesmer': 3768, 'passeng': 3769, 'franki': 3770, 'orang': 3771, 'vocal': 3772, 'chicken': 3773, 'duval': 3774, 'cleverli': 3775, 'sensat': 3776, 'rubi': 3777, 'dixon': 3778, 'closest': 3779, 'maid': 3780, 'conneri': 3781, 'lundgren': 3782, 'outing': 3783, 'quarter': 3784, 'yawn': 3785, 'whine': 3786, 'bay': 3787, 'tube': 3788, 'volum': 3789, 'monologu': 3790, 'secretli': 3791, '1968': 3792, 'engross': 3793, 'crystal': 3794, 'giggl': 3795, 'climact': 3796, 'inject': 3797, 'clone': 3798, 'amitabh': 3799, 'numb': 3800, 'calm': 3801, 'scottish': 3802, 'sirk': 3803, 'iran': 3804, 'pokemon': 3805, 'habit': 3806, 'swallow': 3807, 'convincingli': 3808, 'extens': 3809, 'suffic': 3810, 'abraham': 3811, 'mute': 3812, 'paranoia': 3813, 'gerard': 3814, 'profan': 3815, 'surpass': 3816, 'trend': 3817, 'bend': 3818, 'im': 3819, 'franci': 3820, 'underst': 3821, 'richardson': 3822, 'earl': 3823, 'linger': 3824, 'grotesqu': 3825, 'taxi': 3826, 'plod': 3827, 'abort': 3828, 'junior': 3829, 'expand': 3830, 'nichola': 3831, 'fed': 3832, 'dispos': 3833, 'austen': 3834, 'meander': 3835, 'ethan': 3836, 'profess': 3837, 'poetri': 3838, 'lowest': 3839, 'backward': 3840, 'chicago': 3841, 'spock': 3842, 'septemb': 3843, 'frankenstein': 3844, 'tourist': 3845, 'myth': 3846, 'spoke': 3847, 'lure': 3848, 'mundan': 3849, 'stallon': 3850, 'simplic': 3851, 'household': 3852, 'hum': 3853, 'descent': 3854, 'compliment': 3855, 'dysfunct': 3856, 'catchi': 3857, 'sue': 3858, 'rubber': 3859, 'waitress': 3860, 'nostalgia': 3861, 'instrument': 3862, 'rant': 3863, 'cannon': 3864, 'greedi': 3865, 'muddl': 3866, 'econom': 3867, 'literatur': 3868, 'der': 3869, 'eugen': 3870, 'map': 3871, 'cent': 3872, 'firstli': 3873, 'eaten': 3874, 'louis': 3875, 'deaf': 3876, 'randi': 3877, 'omen': 3878, 'lang': 3879, 'furi': 3880, 'carel': 3881, 'occupi': 3882, 'irrelev': 3883, 'alongsid': 3884, 'recognit': 3885, 'equival': 3886, 'bacal': 3887, 'damon': 3888, 'coast': 3889, 'dement': 3890, 'insur': 3891, 'mankind': 3892, 'mortal': 3893, 'crucial': 3894, 'stale': 3895, 'hello': 3896, 'phoni': 3897, 'sissi': 3898, 'phantom': 3899, 'recognis': 3900, 'molli': 3901, 'june': 3902, 'duck': 3903, 'dictat': 3904, 'flee': 3905, '1973': 3906, 'reign': 3907, 'newli': 3908, 'daisi': 3909, 'rude': 3910, 'lengthi': 3911, 'onlin': 3912, 'bump': 3913, 'dreari': 3914, 'antwon': 3915, 'twilight': 3916, 'loyalti': 3917, 'wisdom': 3918, 'heel': 3919, 'likewis': 3920, 'distinguish': 3921, 'blackmail': 3922, 'drake': 3923, 'ashley': 3924, 'freez': 3925, 'bike': 3926, 'grayson': 3927, 'damm': 3928, 'labor': 3929, 'rooney': 3930, 'cyborg': 3931, 'buffalo': 3932, 'biko': 3933, 'sailor': 3934, 'pink': 3935, 'nineti': 3936, 'vein': 3937, 'incorpor': 3938, 'unorigin': 3939, 'butler': 3940, 'chronicl': 3941, 'baddi': 3942, 'startl': 3943, 'worn': 3944, 'analysi': 3945, 'barrymor': 3946, 'emphas': 3947, 'provoc': 3948, 'basketbal': 3949, 'exposur': 3950, 'prey': 3951, 'proce': 3952, 'ridden': 3953, 'approv': 3954, 'inher': 3955, 'interior': 3956, 'attribut': 3957, 'keith': 3958, 'boxer': 3959, 'tunnel': 3960, 'mighti': 3961, 'degrad': 3962, 'fleet': 3963, 'millionair': 3964, 'undeni': 3965, 'hypnot': 3966, 'bunni': 3967, 'belushi': 3968, 'barrel': 3969, 'indiffer': 3970, 'substitut': 3971, 'unrel': 3972, 'underli': 3973, 'improvis': 3974, 'stalker': 3975, 'meg': 3976, 'robbin': 3977, 'er': 3978, 'meyer': 3979, 'predat': 3980, 'elm': 3981, 'condemn': 3982, 'nicol': 3983, 'simmon': 3984, 'walsh': 3985, 'drift': 3986, 'mormon': 3987, 'julian': 3988, 'carla': 3989, 'othello': 3990, 'dolph': 3991, 'firm': 3992, 'reid': 3993, 'vital': 3994, 'greed': 3995, 'warmth': 3996, 'priceless': 3997, 'disord': 3998, 'watson': 3999, 'alarm': 4000, 'enthusiasm': 4001, 'palac': 4002, 'shove': 4003, 'novak': 4004, 'roof': 4005, 'mtv': 4006, 'nyc': 4007, 'edgi': 4008, 'agenda': 4009, 'alison': 4010, '3d': 4011, 'rukh': 4012, 'exquisit': 4013, 'errol': 4014, 'hay': 4015, 'marion': 4016, 'lampoon': 4017, 'unawar': 4018, 'nun': 4019, 'minimum': 4020, 'showdown': 4021, 'glanc': 4022, 'peck': 4023, 'randomli': 4024, 'israel': 4025, 'what': 4026, 'ponder': 4027, 'simultan': 4028, '13th': 4029, 'coup': 4030, 'crown': 4031, 'preserv': 4032, 'peril': 4033, 'sergeant': 4034, 'testament': 4035, 'petti': 4036, 'iraq': 4037, 'valentin': 4038, 'profit': 4039, 'unleash': 4040, 'gestur': 4041, 'drip': 4042, 'spain': 4043, 'pamela': 4044, '1933': 4045, 'championship': 4046, 'orlean': 4047, 'campaign': 4048, 'eastern': 4049, 'session': 4050, 'thompson': 4051, 'cassidi': 4052, 'angela': 4053, 'distort': 4054, 'beatl': 4055, 'zizek': 4056, 'valley': 4057, 'crawl': 4058, 'climat': 4059, 'exposit': 4060, 'realm': 4061, 'contradict': 4062, 'mon': 4063, 'reson': 4064, 'scotland': 4065, 'quinn': 4066, 'jan': 4067, 'cooki': 4068, '1984': 4069, 'gentleman': 4070, 'travesti': 4071, 'rout': 4072, 'crow': 4073, 'shootout': 4074, 'empathi': 4075, 'din': 4076, 'stake': 4077, 'buster': 4078, 'bro': 4079, 'wig': 4080, 'calib': 4081, 'stroke': 4082, 'cream': 4083, 'represent': 4084, 'brenda': 4085, 'sabrina': 4086, 'restrain': 4087, 'regist': 4088, 'perpetu': 4089, 'han': 4090, 'unimagin': 4091, 'fido': 4092, 'miyazaki': 4093, 'kurosawa': 4094, 'distress': 4095, 'abomin': 4096, 'sammi': 4097, 'delic': 4098, 'monoton': 4099, 'demis': 4100, 'pretens': 4101, 'shoddi': 4102, 'meryl': 4103, 'sucker': 4104, 'traumat': 4105, 'ross': 4106, 'ustinov': 4107, 'unsatisfi': 4108, 'darren': 4109, 'unseen': 4110, 'derang': 4111, 'josh': 4112, 'compromis': 4113, 'censor': 4114, 'mclaglen': 4115, 'businessman': 4116, 'stargat': 4117, 'tacki': 4118, 'greg': 4119, 'absent': 4120, 'soderbergh': 4121, 'passabl': 4122, 'femm': 4123, '1987': 4124, 'baldwin': 4125, 'warrant': 4126, 'geek': 4127, 'spacey': 4128, 'cloud': 4129, 'perceiv': 4130, 'painter': 4131, 'crawford': 4132, 'dana': 4133, 'wax': 4134, 'fuller': 4135, 'shaki': 4136, '1997': 4137, 'pole': 4138, 'sid': 4139, 'valid': 4140, 'tarantino': 4141, 'deceas': 4142, 'polici': 4143, 'exclus': 4144, 'dee': 4145, 'accuraci': 4146, 'seal': 4147, 'furiou': 4148, 'nathan': 4149, 'reluct': 4150, 'judgment': 4151, 'expedit': 4152, 'primit': 4153, 'wholli': 4154, 'unravel': 4155, 'fenc': 4156, 'anchor': 4157, 'correctli': 4158, 'fog': 4159, 'jewel': 4160, 'uncov': 4161, 'clash': 4162, 'norm': 4163, 'kumar': 4164, 'click': 4165, 'tech': 4166, 'austin': 4167, '1993': 4168, 'deniro': 4169, 'verbal': 4170, 'antonioni': 4171, 'bake': 4172, 'hallucin': 4173, 'sustain': 4174, 'ritual': 4175, 'clerk': 4176, '1971': 4177, 'enforc': 4178, 'murray': 4179, 'roller': 4180, 'crippl': 4181, 'fought': 4182, 'behold': 4183, 'fabric': 4184, 'conduct': 4185, '3000': 4186, 'debt': 4187, 'patienc': 4188, 'wretch': 4189, 'alec': 4190, 'slam': 4191, 'seldom': 4192, 'joel': 4193, 'sunni': 4194, 'darn': 4195, 'logan': 4196, 'unfair': 4197, 'sheet': 4198, 'pocket': 4199, 'mode': 4200, '1995': 4201, 'tax': 4202, 'trait': 4203, 'shanghai': 4204, 'nicola': 4205, 'fart': 4206, 'dreck': 4207, 'malon': 4208, '2008': 4209, 'vanc': 4210, 'temper': 4211, 'sand': 4212, 'wang': 4213, 'outlin': 4214, 'preposter': 4215, 'grief': 4216, 'shell': 4217, 'guitar': 4218, 'stuart': 4219, 'conscious': 4220, 'scriptwrit': 4221, 'penni': 4222, 'exhaust': 4223, 'sweep': 4224, 'runner': 4225, 'schedul': 4226, 'squad': 4227, 'clau': 4228, 'bias': 4229, 'fundament': 4230, 'pete': 4231, 'robber': 4232, 'isabel': 4233, 'tactic': 4234, 'phil': 4235, 'technicolor': 4236, 'critiqu': 4237, 'stark': 4238, 'helpless': 4239, 'preston': 4240, 'rita': 4241, 'legaci': 4242, 'soup': 4243, 'despis': 4244, 'canyon': 4245, 'bridget': 4246, 'divid': 4247, 'bloom': 4248, 'inabl': 4249, 'culmin': 4250, 'russia': 4251, 'agenc': 4252, 'unexpectedli': 4253, 'lacklust': 4254, 'gregori': 4255, 'jacket': 4256, 'liberti': 4257, 'marc': 4258, 'passag': 4259, 'rehash': 4260, 'jodi': 4261, 'sniper': 4262, 'propos': 4263, 'delv': 4264, 'newman': 4265, 'invad': 4266, 'restrict': 4267, 'sugar': 4268, 'rear': 4269, 'sentinel': 4270, 'consciou': 4271, 'implic': 4272, 'alley': 4273, 'drove': 4274, 'palanc': 4275, 'flair': 4276, 'downey': 4277, 'kansa': 4278, 'boyl': 4279, 'connor': 4280, 'alicia': 4281, 'vomit': 4282, 'cigarett': 4283, 'vet': 4284, 'wrench': 4285, 'lush': 4286, '1936': 4287, 'pale': 4288, 'behaviour': 4289, 'awhil': 4290, 'aesthet': 4291, 'rampag': 4292, 'karl': 4293, 'rod': 4294, 'kolchak': 4295, 'tripe': 4296, 'improb': 4297, 'tendenc': 4298, 'delet': 4299, 'chainsaw': 4300, 'cap': 4301, 'horn': 4302, 'yeti': 4303, 'bacon': 4304, 'foxx': 4305, 'mccoy': 4306, 'feat': 4307, '22': 4308, 'ladder': 4309, 'asylum': 4310, 'sharon': 4311, 'rehears': 4312, 'arrow': 4313, 'aristocrat': 4314, 'conscienc': 4315, 'rumor': 4316, 'paramount': 4317, 'wildli': 4318, 'prank': 4319, 'spice': 4320, 'financ': 4321, 'newcom': 4322, 'basing': 4323, 'tomorrow': 4324, 'scoop': 4325, 'globe': 4326, 'wagner': 4327, '1978': 4328, 'suspicion': 4329, 'hungri': 4330, 'hulk': 4331, 'filler': 4332, 'el': 4333, 'lurk': 4334, 'shortcom': 4335, '1920': 4336, 'paradis': 4337, 'rhythm': 4338, 'tasteless': 4339, 'weav': 4340, 'visitor': 4341, 'amazon': 4342, 'stream': 4343, 'suffici': 4344, 'loneli': 4345, 'underneath': 4346, 'coaster': 4347, 'fright': 4348, 'hackney': 4349, '1988': 4350, '19th': 4351, 'thunderbird': 4352, 'sung': 4353, 'minu': 4354, 'elit': 4355, 'iv': 4356, 'quietli': 4357, 'worship': 4358, 'bread': 4359, 'paxton': 4360, 'ingeni': 4361, 'brit': 4362, 'standout': 4363, 'teas': 4364, 'naughti': 4365, 'literari': 4366, 'abrupt': 4367, 'smell': 4368, 'heist': 4369, 'hopkin': 4370, 'ram': 4371, 'couch': 4372, 'straightforward': 4373, 'en': 4374, 'recogniz': 4375, '1939': 4376, 'secondari': 4377, 'atroc': 4378, 'beverli': 4379, 'immers': 4380, 'dirt': 4381, 'leigh': 4382, 'choppi': 4383, 'impos': 4384, '1989': 4385, 'entranc': 4386, 'chamberlain': 4387, 'counterpart': 4388, 'chavez': 4389, 'grudg': 4390, 'penn': 4391, 'rub': 4392, 'cancer': 4393, '75': 4394, 'curli': 4395, 'minist': 4396, 'posey': 4397, 'lectur': 4398, 'inmat': 4399, 'tierney': 4400, 'wwe': 4401, 'springer': 4402, 'variat': 4403, 'clan': 4404, 'sublim': 4405, 'morbid': 4406, 'bernard': 4407, 'missil': 4408, 'net': 4409, 'nemesi': 4410, '1986': 4411, 'injuri': 4412, 'quaid': 4413, 'watcher': 4414, 'moreov': 4415, 'esther': 4416, 'laurenc': 4417, 'transcend': 4418, 'skeptic': 4419, 'ace': 4420, 'heartfelt': 4421, 'attenborough': 4422, 'lindsay': 4423, 'yearn': 4424, 'misguid': 4425, 'enthral': 4426, 'policeman': 4427, 'convert': 4428, 'entitl': 4429, 'sassi': 4430, 'geni': 4431, 'ratso': 4432, 'cattl': 4433, 'duel': 4434, 'nolan': 4435, 'egg': 4436, 'moder': 4437, 'grin': 4438, 'enabl': 4439, 'facil': 4440, 'obstacl': 4441, 'reliabl': 4442, 'artsi': 4443, 'cruelti': 4444, '1979': 4445, 'buzz': 4446, 'poe': 4447, 'setup': 4448, 'puppi': 4449, 'graini': 4450, 'youngest': 4451, 'tyler': 4452, 'rosemari': 4453, 'kitti': 4454, 'hopelessli': 4455, 'out': 4456, 'bean': 4457, 'unexplain': 4458, 'hk': 4459, 'characteris': 4460, 'uncut': 4461, 'kidman': 4462, 'dont': 4463, 'mytholog': 4464, 'spiral': 4465, 'steadi': 4466, 'carlito': 4467, 'diari': 4468, 'brood': 4469, 'bye': 4470, 'vader': 4471, 'decept': 4472, 'weather': 4473, 'acquaint': 4474, '1969': 4475, 'gillian': 4476, 'martha': 4477, 'narrow': 4478, 'gina': 4479, 'hain': 4480, 'spontan': 4481, 'kline': 4482, 'heap': 4483, 'bounc': 4484, 'baffl': 4485, 'clueless': 4486, 'exterior': 4487, 'bewar': 4488, 'fuel': 4489, 'christin': 4490, 'brendan': 4491, 'despic': 4492, 'hammi': 4493, 'oblig': 4494, 'underworld': 4495, 'patricia': 4496, 'disastr': 4497, 'sweat': 4498, 'athlet': 4499, 'effici': 4500, 'niec': 4501, 'bronson': 4502, 'preming': 4503, 'scar': 4504, 'circu': 4505, 'fontain': 4506, 'enlist': 4507, 'virtu': 4508, 'analyz': 4509, 'headach': 4510, 'loath': 4511, 'loi': 4512, 'shatter': 4513, 'sooner': 4514, 'tick': 4515, 'insipid': 4516, 'uh': 4517, 'sleepwalk': 4518, 'preachi': 4519, 'goof': 4520, 'hepburn': 4521, 'viewpoint': 4522, 'mermaid': 4523, '73': 4524, 'candl': 4525, 'rome': 4526, 'dilemma': 4527, 'injur': 4528, 'taboo': 4529, 'mayhem': 4530, 'housewif': 4531, 'suprem': 4532, 'biker': 4533, 'harmless': 4534, 'outlaw': 4535, 'trigger': 4536, 'renaiss': 4537, 'angst': 4538, 'astound': 4539, '19': 4540, 'dandi': 4541, 'lester': 4542, 'hokey': 4543, 'surgeri': 4544, 'hooker': 4545, 'zoom': 4546, 'overlong': 4547, 'hostag': 4548, 'bent': 4549, 'fluff': 4550, 'steer': 4551, 'slimi': 4552, 'glorifi': 4553, 'foolish': 4554, 'phenomenon': 4555, 'tripl': 4556, 'redund': 4557, 'oldest': 4558, 'idol': 4559, 'spade': 4560, 'stimul': 4561, 'sox': 4562, 'whore': 4563, 'cassavet': 4564, 'dismal': 4565, 'stair': 4566, 'contempt': 4567, 'camcord': 4568, 'ariel': 4569, 'salt': 4570, 'immatur': 4571, 'dish': 4572, 'ebert': 4573, 'boston': 4574, 'intric': 4575, 'corbett': 4576, 'filth': 4577, 'macho': 4578, 'amor': 4579, 'claustrophob': 4580, 'guin': 4581, 'scorses': 4582, 'gere': 4583, 'astronaut': 4584, 'cush': 4585, 'trivia': 4586, 'widescreen': 4587, 'proport': 4588, 'shred': 4589, 'gasp': 4590, 'perman': 4591, 'frantic': 4592, 'joker': 4593, 'spinal': 4594, 'schlock': 4595, '1976': 4596, 'conquer': 4597, 'fascist': 4598, 'keen': 4599, 'strongest': 4600, 'preced': 4601, 'antagonist': 4602, 'shield': 4603, 'obligatori': 4604, '1981': 4605, 'flag': 4606, 'spree': 4607, 'alvin': 4608, 'assert': 4609, 'mutual': 4610, 'cow': 4611, 'flashi': 4612, 'zane': 4613, 'muscl': 4614, 'margin': 4615, 'mount': 4616, 'radiat': 4617, 'rhyme': 4618, 'messi': 4619, 'dwarf': 4620, 'flirt': 4621, 'faint': 4622, 'beard': 4623, 'cohen': 4624, 'transplant': 4625, 'corman': 4626, 'down': 4627, 'gabl': 4628, 'harold': 4629, 'remad': 4630, 'naschi': 4631, 'nolt': 4632, 'bachelor': 4633, 'raj': 4634, 'flock': 4635, 'someday': 4636, 'persuad': 4637, 'claud': 4638, 'deer': 4639, 'triangl': 4640, 'barn': 4641, 'discern': 4642, 'sensual': 4643, 'www': 4644, 'off': 4645, 'departur': 4646, '95': 4647, '28': 4648, 'neurot': 4649, 'vaniti': 4650, 'aborigin': 4651, 'repris': 4652, 'bitten': 4653, 'boob': 4654, 'wield': 4655, 'divin': 4656, 'inflict': 4657, 'archiv': 4658, 'carey': 4659, 'hara': 4660, 'interestingli': 4661, 'strive': 4662, 'danish': 4663, 'mol': 4664, 'info': 4665, 'mobil': 4666, 'resum': 4667, 'instruct': 4668, 'brush': 4669, 'ritchi': 4670, '1945': 4671, 'fishburn': 4672, 'scandal': 4673, 'ish': 4674, 'vibrant': 4675, 'jade': 4676, 'earnest': 4677, 'fragil': 4678, 'cher': 4679, 'cliffhang': 4680, 'hapless': 4681, 'harrison': 4682, 'hilar': 4683, 'cycl': 4684, 'mobster': 4685, 'heartwarm': 4686, 'casino': 4687, 'traffic': 4688, 'luka': 4689, 'senior': 4690, 'recit': 4691, 'rot': 4692, 'cb': 4693, 'europa': 4694, 'carlo': 4695, 'biblic': 4696, 'prophet': 4697, 'dim': 4698, 'neill': 4699, 'pacif': 4700, 'proclaim': 4701, 'submit': 4702, 'clad': 4703, 'dame': 4704, 'frontier': 4705, 'undermin': 4706, 'melissa': 4707, 'parson': 4708, 'kathryn': 4709, 'miracul': 4710, 'pixar': 4711, 'timberlak': 4712, 'dylan': 4713, 'banter': 4714, 'hug': 4715, 'pickford': 4716, 'axe': 4717, 'artwork': 4718, 'colin': 4719, 'anton': 4720, 'bate': 4721, 'wendigo': 4722, 'helm': 4723, 'loretta': 4724, 'lucil': 4725, 'orphan': 4726, 'electron': 4727, 'razor': 4728, 'antholog': 4729, 'breakfast': 4730, 'static': 4731, 'illus': 4732, 'mason': 4733, 'northern': 4734, 'mathieu': 4735, 'akin': 4736, 'pc': 4737, 'toronto': 4738, 'blatantli': 4739, 'redneck': 4740, 'articl': 4741, 'uma': 4742, 'vanessa': 4743, 'venom': 4744, 'trier': 4745, 'rooki': 4746, 'jo': 4747, 'http': 4748, 'marlon': 4749, 'estrang': 4750, 'choke': 4751, 'shepherd': 4752, 'sicken': 4753, 'wardrob': 4754, 'legitim': 4755, 'misfortun': 4756, 'winchest': 4757, 'bondag': 4758, 'foil': 4759, 'seedi': 4760, 'feast': 4761, 'bikini': 4762, 'vile': 4763, 'nope': 4764, 'token': 4765, 'milo': 4766, 'isra': 4767, 'eli': 4768, 'holocaust': 4769, 'cerebr': 4770, 'lui': 4771, 'flavor': 4772, 'aris': 4773, 'jordan': 4774, 'alexandr': 4775, 'styliz': 4776, 'fifth': 4777, 'abund': 4778, 'outdat': 4779, 'ideolog': 4780, 'leather': 4781, 'linear': 4782, 'psych': 4783, 'retriev': 4784, 'turd': 4785, 'nightclub': 4786, 'clinic': 4787, 'glare': 4788, 'feminin': 4789, 'shorter': 4790, 'highway': 4791, 'peer': 4792, 'swept': 4793, 'knightley': 4794, 'gunga': 4795, 'comprehend': 4796, 'wrestler': 4797, 'smack': 4798, 'boyer': 4799, 'gilbert': 4800, 'disregard': 4801, 'howl': 4802, 'tack': 4803, 'dudley': 4804, 'huston': 4805, 'magician': 4806, 'deem': 4807, 'charlton': 4808, 'cartoonish': 4809, 'audrey': 4810, 'ceremoni': 4811, 'frog': 4812, 'oppon': 4813, 'affleck': 4814, 'salman': 4815, 'toe': 4816, 'energet': 4817, 'tara': 4818, 'sleaz': 4819, 'uniformli': 4820, 'cemeteri': 4821, 'boo': 4822, 'deliver': 4823, 'senat': 4824, '4th': 4825, 'mitch': 4826, 'compris': 4827, 'bastard': 4828, 'summar': 4829, 'breakdown': 4830, 'lighter': 4831, 'corn': 4832, 'goldsworthi': 4833, '1991': 4834, 'bogu': 4835, '1994': 4836, 'plate': 4837, 'whack': 4838, 'newer': 4839, 'lavish': 4840, 'braveheart': 4841, 'einstein': 4842, 'monument': 4843, 'greet': 4844, 'client': 4845, 'evolut': 4846, 'cuban': 4847, 'durat': 4848, 'snatch': 4849, 'phenomen': 4850, 'spawn': 4851, 'spine': 4852, 'lifeless': 4853, 'chip': 4854, 'btw': 4855, 'conrad': 4856, 'collector': 4857, 'moe': 4858, 'potter': 4859, 'randolph': 4860, 'bori': 4861, 'nina': 4862, 'kent': 4863, 'spectacl': 4864, 'outright': 4865, 'belli': 4866, 'pronounc': 4867, 'inaccuraci': 4868, '1977': 4869, 'armstrong': 4870, 'neatli': 4871, '1974': 4872, 'undead': 4873, 'ol': 4874, 'historian': 4875, 'embark': 4876, 'evelyn': 4877, 'healthi': 4878, 'eleven': 4879, 'occup': 4880, 'clara': 4881, 'replay': 4882, 'signal': 4883, 'capot': 4884, 'undertak': 4885, 'bulk': 4886, 'alleg': 4887, 'cecil': 4888, 'creek': 4889, 'sorrow': 4890, 'ie': 4891, 'trauma': 4892, 'jam': 4893, 'luxuri': 4894, 'constitut': 4895, 'jare': 4896, 'fluid': 4897, 'wtf': 4898, 'jedi': 4899, 'kazan': 4900, 'firmli': 4901, 'gilliam': 4902, 'judd': 4903, 'liu': 4904, 'appl': 4905, 'jule': 4906, 'mcqueen': 4907, 'lex': 4908, 'unsuspect': 4909, 'basket': 4910, 'porter': 4911, 'curtain': 4912, 'vain': 4913, 'comprehens': 4914, 'cape': 4915, 'congratul': 4916, 'forgiven': 4917, 'relentless': 4918, 'blur': 4919, 'subtli': 4920, 'pioneer': 4921, 'walt': 4922, 'meal': 4923, 'genet': 4924, '1985': 4925, 'id': 4926, 'sidewalk': 4927, 'rosario': 4928, 'sacrif': 4929, 'miami': 4930, 'poker': 4931, 'galaxi': 4932, 'aussi': 4933, 'kiddi': 4934, 'goldblum': 4935, 'carmen': 4936, 'palm': 4937, 'lauren': 4938, 'fruit': 4939, 'unattract': 4940, 'decapit': 4941, 'truman': 4942, 'inaccur': 4943, 'conan': 4944, 'spray': 4945, 'roar': 4946, 'pepper': 4947, 'groan': 4948, 'mum': 4949, 'vignett': 4950, 'abound': 4951, 'comb': 4952, 'bait': 4953, 'paula': 4954, 'bsg': 4955, 'antonio': 4956, 'lanc': 4957, 'inclus': 4958, 'ash': 4959, 'miniseri': 4960, 'knee': 4961, 'tokyo': 4962, 'propheci': 4963, 'victorian': 4964, 'omin': 4965, 'ingrid': 4966, 'rapidli': 4967, 'profil': 4968, 'dubiou': 4969, 'handicap': 4970, 'optimist': 4971, 'casper': 4972, 'evan': 4973, 'playboy': 4974, 'weaker': 4975, 'orchestr': 4976, 'sparkl': 4977, 'substanti': 4978, 'bach': 4979, 'hackman': 4980, 'jill': 4981, 'assort': 4982, 'monti': 4983, 'mice': 4984, 'verg': 4985, 'modest': 4986, 'drone': 4987, 'macabr': 4988, 'motorcycl': 4989, 'asset': 4990, 'hostil': 4991, 'growth': 4992, 'weari': 4993, 'detach': 4994, 'scariest': 4995, 'epitom': 4996, 'bravo': 4997, 'incorrect': 4998, 'masterson': 4999}\n"
     ]
    }
   ],
   "source": [
    "print(word_dict)"
   ]
  },
  {
   "cell_type": "markdown",
   "metadata": {},
   "source": [
    "**Question:** What are the five most frequently appearing (tokenized) words in the training set? Does it makes sense that these words appear frequently in the training set?"
   ]
  },
  {
   "cell_type": "markdown",
   "metadata": {},
   "source": [
    "**Answer:**\n",
    "The most appearing are 'movi', 'film', 'one', 'like', and 'time'"
   ]
  },
  {
   "cell_type": "code",
   "execution_count": 15,
   "metadata": {},
   "outputs": [
    {
     "name": "stdout",
     "output_type": "stream",
     "text": [
      "['movi', 'film', 'one', 'like', 'time']\n"
     ]
    }
   ],
   "source": [
    "# TODO: Use this space to determine the five most frequently appearing words in the training set.\n",
    "print(list(word_dict.keys())[:5])"
   ]
  },
  {
   "cell_type": "markdown",
   "metadata": {},
   "source": [
    "### Save `word_dict`\n",
    "\n",
    "Later on when we construct an endpoint which processes a submitted review we will need to make use of the `word_dict` which we have created. As such, we will save it to a file now for future use."
   ]
  },
  {
   "cell_type": "code",
   "execution_count": 16,
   "metadata": {},
   "outputs": [],
   "source": [
    "data_dir = '../data/pytorch' # The folder we will use for storing data\n",
    "if not os.path.exists(data_dir): # Make sure that the folder exists\n",
    "    os.makedirs(data_dir)"
   ]
  },
  {
   "cell_type": "code",
   "execution_count": 17,
   "metadata": {},
   "outputs": [],
   "source": [
    "with open(os.path.join(data_dir, 'word_dict.pkl'), \"wb\") as f:\n",
    "    pickle.dump(word_dict, f)"
   ]
  },
  {
   "cell_type": "markdown",
   "metadata": {},
   "source": [
    "### Transform the reviews\n",
    "\n",
    "Now that we have our word dictionary which allows us to transform the words appearing in the reviews into integers, it is time to make use of it and convert our reviews to their integer sequence representation, making sure to pad or truncate to a fixed length, which in our case is `500`."
   ]
  },
  {
   "cell_type": "code",
   "execution_count": 18,
   "metadata": {},
   "outputs": [],
   "source": [
    "def convert_and_pad(word_dict, sentence, pad=500):\n",
    "    NOWORD = 0 # We will use 0 to represent the 'no word' category\n",
    "    INFREQ = 1 # and we use 1 to represent the infrequent words, i.e., words not appearing in word_dict\n",
    "    \n",
    "    working_sentence = [NOWORD] * pad\n",
    "    \n",
    "    for word_index, word in enumerate(sentence[:pad]):\n",
    "        if word in word_dict:\n",
    "            working_sentence[word_index] = word_dict[word]\n",
    "        else:\n",
    "            working_sentence[word_index] = INFREQ\n",
    "            \n",
    "    return working_sentence, min(len(sentence), pad)\n",
    "\n",
    "def convert_and_pad_data(word_dict, data, pad=500):\n",
    "    result = []\n",
    "    lengths = []\n",
    "    \n",
    "    for sentence in data:\n",
    "        converted, leng = convert_and_pad(word_dict, sentence, pad)\n",
    "        result.append(converted)\n",
    "        lengths.append(leng)\n",
    "        \n",
    "    return np.array(result), np.array(lengths)"
   ]
  },
  {
   "cell_type": "code",
   "execution_count": 19,
   "metadata": {},
   "outputs": [],
   "source": [
    "train_X, train_X_len = convert_and_pad_data(word_dict, train_X)\n",
    "test_X, test_X_len = convert_and_pad_data(word_dict, test_X)"
   ]
  },
  {
   "cell_type": "markdown",
   "metadata": {},
   "source": [
    "As a quick check to make sure that things are working as intended, check to see what one of the reviews in the training set looks like after having been processeed. Does this look reasonable? What is the length of a review in the training set?"
   ]
  },
  {
   "cell_type": "code",
   "execution_count": 20,
   "metadata": {},
   "outputs": [
    {
     "data": {
      "text/plain": [
       "array([4516, 2056,    1,  285, 1448,    1,    1,    1, 1983,   24,  128,\n",
       "       2062, 2786,  595,  101,  580,   10,   25,    1,  249,   42, 1139,\n",
       "        283, 1299,  306,    1,  377,    4,  574,  101, 1330,    1,   75,\n",
       "       1207,   50,  672, 1544, 1568, 3520, 3425,   15,  173,  594,  257,\n",
       "       3139, 3037,    1,    1, 1536,  410,  358, 1213,  384,   52,   32,\n",
       "        968,  466,    1,   17,   32,    1,   18, 1290, 1390,   10,   62,\n",
       "          8,   35,   25,  314,   42,    1,   63, 2816,  600,  217,  705,\n",
       "       1326,  308,  524, 1923,    1,   20,  121,  164,  555, 1496,    1,\n",
       "         52, 1204,  179,  401,  285,  373,    0,    0,    0,    0,    0,\n",
       "          0,    0,    0,    0,    0,    0,    0,    0,    0,    0,    0,\n",
       "          0,    0,    0,    0,    0,    0,    0,    0,    0,    0,    0,\n",
       "          0,    0,    0,    0,    0,    0,    0,    0,    0,    0,    0,\n",
       "          0,    0,    0,    0,    0,    0,    0,    0,    0,    0,    0,\n",
       "          0,    0,    0,    0,    0,    0,    0,    0,    0,    0,    0,\n",
       "          0,    0,    0,    0,    0,    0,    0,    0,    0,    0,    0,\n",
       "          0,    0,    0,    0,    0,    0,    0,    0,    0,    0,    0,\n",
       "          0,    0,    0,    0,    0,    0,    0,    0,    0,    0,    0,\n",
       "          0,    0,    0,    0,    0,    0,    0,    0,    0,    0,    0,\n",
       "          0,    0,    0,    0,    0,    0,    0,    0,    0,    0,    0,\n",
       "          0,    0,    0,    0,    0,    0,    0,    0,    0,    0,    0,\n",
       "          0,    0,    0,    0,    0,    0,    0,    0,    0,    0,    0,\n",
       "          0,    0,    0,    0,    0,    0,    0,    0,    0,    0,    0,\n",
       "          0,    0,    0,    0,    0,    0,    0,    0,    0,    0,    0,\n",
       "          0,    0,    0,    0,    0,    0,    0,    0,    0,    0,    0,\n",
       "          0,    0,    0,    0,    0,    0,    0,    0,    0,    0,    0,\n",
       "          0,    0,    0,    0,    0,    0,    0,    0,    0,    0,    0,\n",
       "          0,    0,    0,    0,    0,    0,    0,    0,    0,    0,    0,\n",
       "          0,    0,    0,    0,    0,    0,    0,    0,    0,    0,    0,\n",
       "          0,    0,    0,    0,    0,    0,    0,    0,    0,    0,    0,\n",
       "          0,    0,    0,    0,    0,    0,    0,    0,    0,    0,    0,\n",
       "          0,    0,    0,    0,    0,    0,    0,    0,    0,    0,    0,\n",
       "          0,    0,    0,    0,    0,    0,    0,    0,    0,    0,    0,\n",
       "          0,    0,    0,    0,    0,    0,    0,    0,    0,    0,    0,\n",
       "          0,    0,    0,    0,    0,    0,    0,    0,    0,    0,    0,\n",
       "          0,    0,    0,    0,    0,    0,    0,    0,    0,    0,    0,\n",
       "          0,    0,    0,    0,    0,    0,    0,    0,    0,    0,    0,\n",
       "          0,    0,    0,    0,    0,    0,    0,    0,    0,    0,    0,\n",
       "          0,    0,    0,    0,    0,    0,    0,    0,    0,    0,    0,\n",
       "          0,    0,    0,    0,    0,    0,    0,    0,    0,    0,    0,\n",
       "          0,    0,    0,    0,    0,    0,    0,    0,    0,    0,    0,\n",
       "          0,    0,    0,    0,    0,    0,    0,    0,    0,    0,    0,\n",
       "          0,    0,    0,    0,    0,    0,    0,    0,    0,    0,    0,\n",
       "          0,    0,    0,    0,    0,    0,    0,    0,    0,    0,    0,\n",
       "          0,    0,    0,    0,    0,    0,    0,    0,    0,    0,    0,\n",
       "          0,    0,    0,    0,    0,    0,    0,    0,    0,    0,    0,\n",
       "          0,    0,    0,    0,    0])"
      ]
     },
     "execution_count": 20,
     "metadata": {},
     "output_type": "execute_result"
    }
   ],
   "source": [
    "# Use this cell to examine one of the processed reviews to make sure everything is working as intended.\n",
    "train_X[100]"
   ]
  },
  {
   "cell_type": "markdown",
   "metadata": {},
   "source": [
    "**Question:** In the cells above we use the `preprocess_data` and `convert_and_pad_data` methods to process both the training and testing set. Why or why not might this be a problem?"
   ]
  },
  {
   "cell_type": "markdown",
   "metadata": {},
   "source": [
    "**Answer:**\n",
    "we use the method to pad or truncate reviews to a fixed lenght (500)"
   ]
  },
  {
   "cell_type": "markdown",
   "metadata": {},
   "source": [
    "## Step 3: Upload the data to S3\n",
    "\n",
    "As in the XGBoost notebook, we will need to upload the training dataset to S3 in order for our training code to access it. For now we will save it locally and we will upload to S3 later on.\n",
    "\n",
    "### Save the processed training dataset locally\n",
    "\n",
    "It is important to note the format of the data that we are saving as we will need to know it when we write the training code. In our case, each row of the dataset has the form `label`, `length`, `review[500]` where `review[500]` is a sequence of `500` integers representing the words in the review."
   ]
  },
  {
   "cell_type": "code",
   "execution_count": 21,
   "metadata": {},
   "outputs": [],
   "source": [
    "import pandas as pd\n",
    "    \n",
    "pd.concat([pd.DataFrame(train_y), pd.DataFrame(train_X_len), pd.DataFrame(train_X)], axis=1) \\\n",
    "        .to_csv(os.path.join(data_dir, 'train.csv'), header=False, index=False)"
   ]
  },
  {
   "cell_type": "markdown",
   "metadata": {},
   "source": [
    "### Uploading the training data\n",
    "\n",
    "\n",
    "Next, we need to upload the training data to the SageMaker default S3 bucket so that we can provide access to it while training our model."
   ]
  },
  {
   "cell_type": "code",
   "execution_count": 22,
   "metadata": {},
   "outputs": [],
   "source": [
    "import sagemaker\n",
    "\n",
    "sagemaker_session = sagemaker.Session()\n",
    "\n",
    "bucket = sagemaker_session.default_bucket()\n",
    "prefix = 'sagemaker/sentiment_rnn'\n",
    "\n",
    "role = sagemaker.get_execution_role()"
   ]
  },
  {
   "cell_type": "code",
   "execution_count": 23,
   "metadata": {},
   "outputs": [],
   "source": [
    "input_data = sagemaker_session.upload_data(path=data_dir, bucket=bucket, key_prefix=prefix)"
   ]
  },
  {
   "cell_type": "markdown",
   "metadata": {},
   "source": [
    "**NOTE:** The cell above uploads the entire contents of our data directory. This includes the `word_dict.pkl` file. This is fortunate as we will need this later on when we create an endpoint that accepts an arbitrary review. For now, we will just take note of the fact that it resides in the data directory (and so also in the S3 training bucket) and that we will need to make sure it gets saved in the model directory."
   ]
  },
  {
   "cell_type": "markdown",
   "metadata": {},
   "source": [
    "## Step 4: Build and Train the PyTorch Model\n",
    "\n",
    "In the XGBoost notebook we discussed what a model is in the SageMaker framework. In particular, a model comprises three objects\n",
    "\n",
    " - Model Artifacts,\n",
    " - Training Code, and\n",
    " - Inference Code,\n",
    " \n",
    "each of which interact with one another. In the XGBoost example we used training and inference code that was provided by Amazon. Here we will still be using containers provided by Amazon with the added benefit of being able to include our own custom code.\n",
    "\n",
    "We will start by implementing our own neural network in PyTorch along with a training script. For the purposes of this project we have provided the necessary model object in the `model.py` file, inside of the `train` folder. You can see the provided implementation by running the cell below."
   ]
  },
  {
   "cell_type": "code",
   "execution_count": 24,
   "metadata": {},
   "outputs": [
    {
     "name": "stdout",
     "output_type": "stream",
     "text": [
      "\u001b[34mimport\u001b[39;49;00m \u001b[04m\u001b[36mtorch\u001b[39;49;00m\u001b[04m\u001b[36m.\u001b[39;49;00m\u001b[04m\u001b[36mnn\u001b[39;49;00m \u001b[34mas\u001b[39;49;00m \u001b[04m\u001b[36mnn\u001b[39;49;00m\r\n",
      "\r\n",
      "\u001b[34mclass\u001b[39;49;00m \u001b[04m\u001b[32mLSTMClassifier\u001b[39;49;00m(nn.Module):\r\n",
      "    \u001b[33m\"\"\"\u001b[39;49;00m\r\n",
      "\u001b[33m    This is the simple RNN model we will be using to perform Sentiment Analysis.\u001b[39;49;00m\r\n",
      "\u001b[33m    \"\"\"\u001b[39;49;00m\r\n",
      "\r\n",
      "    \u001b[34mdef\u001b[39;49;00m \u001b[32m__init__\u001b[39;49;00m(\u001b[36mself\u001b[39;49;00m, embedding_dim, hidden_dim, vocab_size):\r\n",
      "        \u001b[33m\"\"\"\u001b[39;49;00m\r\n",
      "\u001b[33m        Initialize the model by settingg up the various layers.\u001b[39;49;00m\r\n",
      "\u001b[33m        \"\"\"\u001b[39;49;00m\r\n",
      "        \u001b[36msuper\u001b[39;49;00m(LSTMClassifier, \u001b[36mself\u001b[39;49;00m).\u001b[32m__init__\u001b[39;49;00m()\r\n",
      "\r\n",
      "        \u001b[36mself\u001b[39;49;00m.embedding = nn.Embedding(vocab_size, embedding_dim, padding_idx=\u001b[34m0\u001b[39;49;00m)\r\n",
      "        \u001b[36mself\u001b[39;49;00m.lstm = nn.LSTM(embedding_dim, hidden_dim)\r\n",
      "        \u001b[36mself\u001b[39;49;00m.dense = nn.Linear(in_features=hidden_dim, out_features=\u001b[34m1\u001b[39;49;00m)\r\n",
      "        \u001b[36mself\u001b[39;49;00m.sig = nn.Sigmoid()\r\n",
      "        \r\n",
      "        \u001b[36mself\u001b[39;49;00m.word_dict = \u001b[34mNone\u001b[39;49;00m\r\n",
      "\r\n",
      "    \u001b[34mdef\u001b[39;49;00m \u001b[32mforward\u001b[39;49;00m(\u001b[36mself\u001b[39;49;00m, x):\r\n",
      "        \u001b[33m\"\"\"\u001b[39;49;00m\r\n",
      "\u001b[33m        Perform a forward pass of our model on some input.\u001b[39;49;00m\r\n",
      "\u001b[33m        \"\"\"\u001b[39;49;00m\r\n",
      "        x = x.t()\r\n",
      "        lengths = x[\u001b[34m0\u001b[39;49;00m,:]\r\n",
      "        reviews = x[\u001b[34m1\u001b[39;49;00m:,:]\r\n",
      "        embeds = \u001b[36mself\u001b[39;49;00m.embedding(reviews)\r\n",
      "        lstm_out, _ = \u001b[36mself\u001b[39;49;00m.lstm(embeds)\r\n",
      "        out = \u001b[36mself\u001b[39;49;00m.dense(lstm_out)\r\n",
      "        out = out[lengths - \u001b[34m1\u001b[39;49;00m, \u001b[36mrange\u001b[39;49;00m(\u001b[36mlen\u001b[39;49;00m(lengths))]\r\n",
      "        \u001b[34mreturn\u001b[39;49;00m \u001b[36mself\u001b[39;49;00m.sig(out.squeeze())\r\n"
     ]
    }
   ],
   "source": [
    "!pygmentize train/model.py"
   ]
  },
  {
   "cell_type": "markdown",
   "metadata": {},
   "source": [
    "The important takeaway from the implementation provided is that there are three parameters that we may wish to tweak to improve the performance of our model. These are the embedding dimension, the hidden dimension and the size of the vocabulary. We will likely want to make these parameters configurable in the training script so that if we wish to modify them we do not need to modify the script itself. We will see how to do this later on. To start we will write some of the training code in the notebook so that we can more easily diagnose any issues that arise.\n",
    "\n",
    "First we will load a small portion of the training data set to use as a sample. It would be very time consuming to try and train the model completely in the notebook as we do not have access to a gpu and the compute instance that we are using is not particularly powerful. However, we can work on a small bit of the data to get a feel for how our training script is behaving."
   ]
  },
  {
   "cell_type": "code",
   "execution_count": 25,
   "metadata": {},
   "outputs": [],
   "source": [
    "import torch\n",
    "import torch.utils.data\n",
    "\n",
    "# Read in only the first 250 rows\n",
    "train_sample = pd.read_csv(os.path.join(data_dir, 'train.csv'), header=None, names=None, nrows=250)\n",
    "\n",
    "# Turn the input pandas dataframe into tensors\n",
    "train_sample_y = torch.from_numpy(train_sample[[0]].values).float().squeeze()\n",
    "train_sample_X = torch.from_numpy(train_sample.drop([0], axis=1).values).long()\n",
    "\n",
    "# Build the dataset\n",
    "train_sample_ds = torch.utils.data.TensorDataset(train_sample_X, train_sample_y)\n",
    "# Build the dataloader\n",
    "train_sample_dl = torch.utils.data.DataLoader(train_sample_ds, batch_size=50)"
   ]
  },
  {
   "cell_type": "markdown",
   "metadata": {},
   "source": [
    "### (TODO) Writing the training method\n",
    "\n",
    "Next we need to write the training code itself. This should be very similar to training methods that you have written before to train PyTorch models. We will leave any difficult aspects such as model saving / loading and parameter loading until a little later."
   ]
  },
  {
   "cell_type": "code",
   "execution_count": 26,
   "metadata": {},
   "outputs": [],
   "source": [
    "def train(model, train_loader, epochs, optimizer, loss_fn, device):\n",
    "    for epoch in range(1, epochs + 1):\n",
    "        model.train()\n",
    "        total_loss = 0\n",
    "        for batch in train_loader:         \n",
    "            batch_X, batch_y = batch\n",
    "            \n",
    "            batch_X = batch_X.to(device)\n",
    "            batch_y = batch_y.to(device)\n",
    "            \n",
    "            # TODO: Complete this train method to train the model provided.\n",
    "            optimizer.zero_grad()\n",
    "            \n",
    "            output = model.forward(batch_X)\n",
    "            \n",
    "            loss = loss_fn(output, batch_y)\n",
    "            \n",
    "            loss.backward()\n",
    "            \n",
    "            optimizer.step()\n",
    "            \n",
    "            total_loss += loss.data.item()\n",
    "        print(\"Epoch: {}, BCELoss: {}\".format(epoch, total_loss / len(train_loader)))"
   ]
  },
  {
   "cell_type": "markdown",
   "metadata": {},
   "source": [
    "Supposing we have the training method above, we will test that it is working by writing a bit of code in the notebook that executes our training method on the small sample training set that we loaded earlier. The reason for doing this in the notebook is so that we have an opportunity to fix any errors that arise early when they are easier to diagnose."
   ]
  },
  {
   "cell_type": "code",
   "execution_count": 27,
   "metadata": {},
   "outputs": [
    {
     "name": "stdout",
     "output_type": "stream",
     "text": [
      "Epoch: 1, BCELoss: 0.6935193657875061\n",
      "Epoch: 2, BCELoss: 0.6831690549850464\n",
      "Epoch: 3, BCELoss: 0.6744790196418762\n",
      "Epoch: 4, BCELoss: 0.6649656772613526\n",
      "Epoch: 5, BCELoss: 0.6534069657325745\n"
     ]
    }
   ],
   "source": [
    "import torch.optim as optim\n",
    "from train.model import LSTMClassifier\n",
    "\n",
    "device = torch.device(\"cuda\" if torch.cuda.is_available() else \"cpu\")\n",
    "model = LSTMClassifier(32, 100, 5000).to(device)\n",
    "optimizer = optim.Adam(model.parameters())\n",
    "loss_fn = torch.nn.BCELoss()\n",
    "\n",
    "train(model, train_sample_dl, 5, optimizer, loss_fn, device)"
   ]
  },
  {
   "cell_type": "markdown",
   "metadata": {},
   "source": [
    "In order to construct a PyTorch model using SageMaker we must provide SageMaker with a training script. We may optionally include a directory which will be copied to the container and from which our training code will be run. When the training container is executed it will check the uploaded directory (if there is one) for a `requirements.txt` file and install any required Python libraries, after which the training script will be run."
   ]
  },
  {
   "cell_type": "markdown",
   "metadata": {},
   "source": [
    "### (TODO) Training the model\n",
    "\n",
    "When a PyTorch model is constructed in SageMaker, an entry point must be specified. This is the Python file which will be executed when the model is trained. Inside of the `train` directory is a file called `train.py` which has been provided and which contains most of the necessary code to train our model. The only thing that is missing is the implementation of the `train()` method which you wrote earlier in this notebook.\n",
    "\n",
    "**TODO**: Copy the `train()` method written above and paste it into the `train/train.py` file where required.\n",
    "\n",
    "The way that SageMaker passes hyperparameters to the training script is by way of arguments. These arguments can then be parsed and used in the training script. To see how this is done take a look at the provided `train/train.py` file."
   ]
  },
  {
   "cell_type": "code",
   "execution_count": 28,
   "metadata": {},
   "outputs": [],
   "source": [
    "from sagemaker.pytorch import PyTorch\n",
    "\n",
    "estimator = PyTorch(entry_point=\"train.py\",\n",
    "                    source_dir=\"train\",\n",
    "                    role=role,\n",
    "                    framework_version='0.4.0',\n",
    "                    train_instance_count=1,\n",
    "                    train_instance_type='ml.p2.xlarge',\n",
    "                    hyperparameters={\n",
    "                        'epochs': 10,\n",
    "                        'hidden_dim': 200,\n",
    "                    })"
   ]
  },
  {
   "cell_type": "code",
   "execution_count": 29,
   "metadata": {},
   "outputs": [
    {
     "name": "stderr",
     "output_type": "stream",
     "text": [
      "'create_image_uri' will be deprecated in favor of 'ImageURIProvider' class in SageMaker Python SDK v2.\n",
      "'s3_input' class will be renamed to 'TrainingInput' in SageMaker Python SDK v2.\n",
      "'create_image_uri' will be deprecated in favor of 'ImageURIProvider' class in SageMaker Python SDK v2.\n"
     ]
    },
    {
     "name": "stdout",
     "output_type": "stream",
     "text": [
      "2021-08-02 11:41:19 Starting - Starting the training job...\n",
      "2021-08-02 11:41:20 Starting - Launching requested ML instances...\n",
      "2021-08-02 11:42:10 Starting - Preparing the instances for training............\n",
      "2021-08-02 11:43:57 Downloading - Downloading input data...\n",
      "2021-08-02 11:44:23 Training - Downloading the training image...\n",
      "2021-08-02 11:45:02 Training - Training image download completed. Training in progress.\u001b[34mbash: cannot set terminal process group (-1): Inappropriate ioctl for device\u001b[0m\n",
      "\u001b[34mbash: no job control in this shell\u001b[0m\n",
      "\u001b[34m2021-08-02 11:45:03,438 sagemaker-containers INFO     Imported framework sagemaker_pytorch_container.training\u001b[0m\n",
      "\u001b[34m2021-08-02 11:45:03,467 sagemaker_pytorch_container.training INFO     Block until all host DNS lookups succeed.\u001b[0m\n",
      "\u001b[34m2021-08-02 11:45:06,497 sagemaker_pytorch_container.training INFO     Invoking user training script.\u001b[0m\n",
      "\u001b[34m2021-08-02 11:45:06,763 sagemaker-containers INFO     Module train does not provide a setup.py. \u001b[0m\n",
      "\u001b[34mGenerating setup.py\u001b[0m\n",
      "\u001b[34m2021-08-02 11:45:06,763 sagemaker-containers INFO     Generating setup.cfg\u001b[0m\n",
      "\u001b[34m2021-08-02 11:45:06,763 sagemaker-containers INFO     Generating MANIFEST.in\u001b[0m\n",
      "\u001b[34m2021-08-02 11:45:06,764 sagemaker-containers INFO     Installing module with the following command:\u001b[0m\n",
      "\u001b[34m/usr/bin/python -m pip install -U . -r requirements.txt\u001b[0m\n",
      "\u001b[34mProcessing /opt/ml/code\u001b[0m\n",
      "\u001b[34mCollecting pandas (from -r requirements.txt (line 1))\n",
      "  Downloading https://files.pythonhosted.org/packages/74/24/0cdbf8907e1e3bc5a8da03345c23cbed7044330bb8f73bb12e711a640a00/pandas-0.24.2-cp35-cp35m-manylinux1_x86_64.whl (10.0MB)\u001b[0m\n",
      "\u001b[34mCollecting numpy (from -r requirements.txt (line 2))\u001b[0m\n",
      "\u001b[34m  Downloading https://files.pythonhosted.org/packages/b5/36/88723426b4ff576809fec7d73594fe17a35c27f8d01f93637637a29ae25b/numpy-1.18.5-cp35-cp35m-manylinux1_x86_64.whl (19.9MB)\u001b[0m\n",
      "\u001b[34mCollecting nltk (from -r requirements.txt (line 3))\n",
      "  Downloading https://files.pythonhosted.org/packages/5e/37/9532ddd4b1bbb619333d5708aaad9bf1742f051a664c3c6fa6632a105fd8/nltk-3.6.2-py3-none-any.whl (1.5MB)\u001b[0m\n",
      "\u001b[34mCollecting beautifulsoup4 (from -r requirements.txt (line 4))\n",
      "  Downloading https://files.pythonhosted.org/packages/d1/41/e6495bd7d3781cee623ce23ea6ac73282a373088fcd0ddc809a047b18eae/beautifulsoup4-4.9.3-py3-none-any.whl (115kB)\u001b[0m\n",
      "\u001b[34mCollecting html5lib (from -r requirements.txt (line 5))\n",
      "  Downloading https://files.pythonhosted.org/packages/6c/dd/a834df6482147d48e225a49515aabc28974ad5a4ca3215c18a882565b028/html5lib-1.1-py2.py3-none-any.whl (112kB)\u001b[0m\n",
      "\u001b[34mCollecting pytz>=2011k (from pandas->-r requirements.txt (line 1))\n",
      "  Downloading https://files.pythonhosted.org/packages/70/94/784178ca5dd892a98f113cdd923372024dc04b8d40abe77ca76b5fb90ca6/pytz-2021.1-py2.py3-none-any.whl (510kB)\u001b[0m\n",
      "\u001b[34mRequirement already satisfied, skipping upgrade: python-dateutil>=2.5.0 in /usr/local/lib/python3.5/dist-packages (from pandas->-r requirements.txt (line 1)) (2.7.5)\u001b[0m\n",
      "\u001b[34mCollecting joblib (from nltk->-r requirements.txt (line 3))\n",
      "  Downloading https://files.pythonhosted.org/packages/28/5c/cf6a2b65a321c4a209efcdf64c2689efae2cb62661f8f6f4bb28547cf1bf/joblib-0.14.1-py2.py3-none-any.whl (294kB)\u001b[0m\n",
      "\u001b[34mCollecting tqdm (from nltk->-r requirements.txt (line 3))\n",
      "  Downloading https://files.pythonhosted.org/packages/0b/e8/d6f4db0886dbba2fc87b5314f2d5127acdc782e4b51e6f86972a2e45ffd6/tqdm-4.62.0-py2.py3-none-any.whl (76kB)\u001b[0m\n",
      "\u001b[34mRequirement already satisfied, skipping upgrade: click in /usr/local/lib/python3.5/dist-packages (from nltk->-r requirements.txt (line 3)) (7.0)\u001b[0m\n",
      "\u001b[34mCollecting regex (from nltk->-r requirements.txt (line 3))\u001b[0m\n",
      "\u001b[34m  Downloading https://files.pythonhosted.org/packages/c0/d1/ad6afa6000ab869f6af2c85985d40558ffb298d9fcb2ab04c0648436008f/regex-2021.7.6.tar.gz (693kB)\u001b[0m\n",
      "\u001b[34mCollecting soupsieve>1.2; python_version >= \"3.0\" (from beautifulsoup4->-r requirements.txt (line 4))\n",
      "  Downloading https://files.pythonhosted.org/packages/02/fb/1c65691a9aeb7bd6ac2aa505b84cb8b49ac29c976411c6ab3659425e045f/soupsieve-2.1-py3-none-any.whl\u001b[0m\n",
      "\u001b[34mCollecting webencodings (from html5lib->-r requirements.txt (line 5))\n",
      "  Downloading https://files.pythonhosted.org/packages/f4/24/2a3e3df732393fed8b3ebf2ec078f05546de641fe1b667ee316ec1dcf3b7/webencodings-0.5.1-py2.py3-none-any.whl\u001b[0m\n",
      "\u001b[34mRequirement already satisfied, skipping upgrade: six>=1.9 in /usr/local/lib/python3.5/dist-packages (from html5lib->-r requirements.txt (line 5)) (1.11.0)\u001b[0m\n",
      "\u001b[34mBuilding wheels for collected packages: train, regex\n",
      "  Running setup.py bdist_wheel for train: started\u001b[0m\n",
      "\u001b[34m  Running setup.py bdist_wheel for train: finished with status 'done'\n",
      "  Stored in directory: /tmp/pip-ephem-wheel-cache-hnllsw92/wheels/35/24/16/37574d11bf9bde50616c67372a334f94fa8356bc7164af8ca3\n",
      "  Running setup.py bdist_wheel for regex: started\u001b[0m\n",
      "\u001b[34m  Running setup.py bdist_wheel for regex: finished with status 'done'\n",
      "  Stored in directory: /root/.cache/pip/wheels/4d/21/94/ffc1c84ddb509f51dab71898a63df9fbff5f1e04552ee8ea8e\u001b[0m\n",
      "\u001b[34mSuccessfully built train regex\u001b[0m\n",
      "\u001b[34mInstalling collected packages: pytz, numpy, pandas, joblib, tqdm, regex, nltk, soupsieve, beautifulsoup4, webencodings, html5lib, train\n",
      "  Found existing installation: numpy 1.15.4\n",
      "    Uninstalling numpy-1.15.4:\u001b[0m\n",
      "\u001b[34m      Successfully uninstalled numpy-1.15.4\u001b[0m\n",
      "\u001b[34mSuccessfully installed beautifulsoup4-4.9.3 html5lib-1.1 joblib-0.14.1 nltk-3.6.2 numpy-1.18.5 pandas-0.24.2 pytz-2021.1 regex-2021.7.6 soupsieve-2.1 tqdm-4.62.0 train-1.0.0 webencodings-0.5.1\u001b[0m\n",
      "\u001b[34mYou are using pip version 18.1, however version 20.3.4 is available.\u001b[0m\n",
      "\u001b[34mYou should consider upgrading via the 'pip install --upgrade pip' command.\u001b[0m\n",
      "\u001b[34m2021-08-02 11:45:30,413 sagemaker-containers INFO     Invoking user script\n",
      "\u001b[0m\n",
      "\u001b[34mTraining Env:\n",
      "\u001b[0m\n",
      "\u001b[34m{\n",
      "    \"module_dir\": \"s3://sagemaker-us-east-2-863125154910/sagemaker-pytorch-2021-08-02-11-41-18-995/source/sourcedir.tar.gz\",\n",
      "    \"output_data_dir\": \"/opt/ml/output/data\",\n",
      "    \"input_dir\": \"/opt/ml/input\",\n",
      "    \"job_name\": \"sagemaker-pytorch-2021-08-02-11-41-18-995\",\n",
      "    \"num_gpus\": 1,\n",
      "    \"hosts\": [\n",
      "        \"algo-1\"\n",
      "    ],\n",
      "    \"module_name\": \"train\",\n",
      "    \"additional_framework_parameters\": {},\n",
      "    \"log_level\": 20,\n",
      "    \"framework_module\": \"sagemaker_pytorch_container.training:main\",\n",
      "    \"hyperparameters\": {\n",
      "        \"epochs\": 10,\n",
      "        \"hidden_dim\": 200\n",
      "    },\n",
      "    \"resource_config\": {\n",
      "        \"current_host\": \"algo-1\",\n",
      "        \"network_interface_name\": \"eth0\",\n",
      "        \"hosts\": [\n",
      "            \"algo-1\"\n",
      "        ]\n",
      "    },\n",
      "    \"network_interface_name\": \"eth0\",\n",
      "    \"num_cpus\": 4,\n",
      "    \"input_config_dir\": \"/opt/ml/input/config\",\n",
      "    \"channel_input_dirs\": {\n",
      "        \"training\": \"/opt/ml/input/data/training\"\n",
      "    },\n",
      "    \"output_intermediate_dir\": \"/opt/ml/output/intermediate\",\n",
      "    \"user_entry_point\": \"train.py\",\n",
      "    \"model_dir\": \"/opt/ml/model\",\n",
      "    \"output_dir\": \"/opt/ml/output\",\n",
      "    \"current_host\": \"algo-1\",\n",
      "    \"input_data_config\": {\n",
      "        \"training\": {\n",
      "            \"S3DistributionType\": \"FullyReplicated\",\n",
      "            \"RecordWrapperType\": \"None\",\n",
      "            \"TrainingInputMode\": \"File\"\n",
      "        }\n",
      "    }\u001b[0m\n",
      "\u001b[34m}\n",
      "\u001b[0m\n",
      "\u001b[34mEnvironment variables:\n",
      "\u001b[0m\n",
      "\u001b[34mSM_FRAMEWORK_MODULE=sagemaker_pytorch_container.training:main\u001b[0m\n",
      "\u001b[34mPYTHONPATH=/usr/local/bin:/usr/lib/python35.zip:/usr/lib/python3.5:/usr/lib/python3.5/plat-x86_64-linux-gnu:/usr/lib/python3.5/lib-dynload:/usr/local/lib/python3.5/dist-packages:/usr/lib/python3/dist-packages\u001b[0m\n",
      "\u001b[34mSM_HOSTS=[\"algo-1\"]\u001b[0m\n",
      "\u001b[34mSM_CHANNELS=[\"training\"]\u001b[0m\n",
      "\u001b[34mSM_MODEL_DIR=/opt/ml/model\u001b[0m\n",
      "\u001b[34mSM_USER_ENTRY_POINT=train.py\u001b[0m\n",
      "\u001b[34mSM_MODULE_NAME=train\u001b[0m\n",
      "\u001b[34mSM_RESOURCE_CONFIG={\"current_host\":\"algo-1\",\"hosts\":[\"algo-1\"],\"network_interface_name\":\"eth0\"}\u001b[0m\n",
      "\u001b[34mSM_INPUT_DIR=/opt/ml/input\u001b[0m\n",
      "\u001b[34mSM_HPS={\"epochs\":10,\"hidden_dim\":200}\u001b[0m\n",
      "\u001b[34mSM_HP_HIDDEN_DIM=200\u001b[0m\n",
      "\u001b[34mSM_TRAINING_ENV={\"additional_framework_parameters\":{},\"channel_input_dirs\":{\"training\":\"/opt/ml/input/data/training\"},\"current_host\":\"algo-1\",\"framework_module\":\"sagemaker_pytorch_container.training:main\",\"hosts\":[\"algo-1\"],\"hyperparameters\":{\"epochs\":10,\"hidden_dim\":200},\"input_config_dir\":\"/opt/ml/input/config\",\"input_data_config\":{\"training\":{\"RecordWrapperType\":\"None\",\"S3DistributionType\":\"FullyReplicated\",\"TrainingInputMode\":\"File\"}},\"input_dir\":\"/opt/ml/input\",\"job_name\":\"sagemaker-pytorch-2021-08-02-11-41-18-995\",\"log_level\":20,\"model_dir\":\"/opt/ml/model\",\"module_dir\":\"s3://sagemaker-us-east-2-863125154910/sagemaker-pytorch-2021-08-02-11-41-18-995/source/sourcedir.tar.gz\",\"module_name\":\"train\",\"network_interface_name\":\"eth0\",\"num_cpus\":4,\"num_gpus\":1,\"output_data_dir\":\"/opt/ml/output/data\",\"output_dir\":\"/opt/ml/output\",\"output_intermediate_dir\":\"/opt/ml/output/intermediate\",\"resource_config\":{\"current_host\":\"algo-1\",\"hosts\":[\"algo-1\"],\"network_interface_name\":\"eth0\"},\"user_entry_point\":\"train.py\"}\u001b[0m\n",
      "\u001b[34mSM_OUTPUT_DATA_DIR=/opt/ml/output/data\u001b[0m\n",
      "\u001b[34mSM_OUTPUT_INTERMEDIATE_DIR=/opt/ml/output/intermediate\u001b[0m\n",
      "\u001b[34mSM_OUTPUT_DIR=/opt/ml/output\u001b[0m\n",
      "\u001b[34mSM_NETWORK_INTERFACE_NAME=eth0\u001b[0m\n",
      "\u001b[34mSM_CURRENT_HOST=algo-1\u001b[0m\n",
      "\u001b[34mSM_HP_EPOCHS=10\u001b[0m\n",
      "\u001b[34mSM_INPUT_CONFIG_DIR=/opt/ml/input/config\u001b[0m\n",
      "\u001b[34mSM_CHANNEL_TRAINING=/opt/ml/input/data/training\u001b[0m\n",
      "\u001b[34mSM_MODULE_DIR=s3://sagemaker-us-east-2-863125154910/sagemaker-pytorch-2021-08-02-11-41-18-995/source/sourcedir.tar.gz\u001b[0m\n",
      "\u001b[34mSM_USER_ARGS=[\"--epochs\",\"10\",\"--hidden_dim\",\"200\"]\u001b[0m\n",
      "\u001b[34mSM_INPUT_DATA_CONFIG={\"training\":{\"RecordWrapperType\":\"None\",\"S3DistributionType\":\"FullyReplicated\",\"TrainingInputMode\":\"File\"}}\u001b[0m\n",
      "\u001b[34mSM_FRAMEWORK_PARAMS={}\u001b[0m\n",
      "\u001b[34mSM_NUM_GPUS=1\u001b[0m\n",
      "\u001b[34mSM_LOG_LEVEL=20\u001b[0m\n",
      "\u001b[34mSM_NUM_CPUS=4\n",
      "\u001b[0m\n",
      "\u001b[34mInvoking script with the following command:\n",
      "\u001b[0m\n",
      "\u001b[34m/usr/bin/python -m train --epochs 10 --hidden_dim 200\n",
      "\n",
      "\u001b[0m\n",
      "\u001b[34mUsing device cuda.\u001b[0m\n",
      "\u001b[34mGet train data loader.\u001b[0m\n",
      "\u001b[34mModel loaded with embedding_dim 32, hidden_dim 200, vocab_size 5000.\u001b[0m\n",
      "\u001b[34mEpoch: 1, BCELoss: 0.6665926587824919\u001b[0m\n",
      "\u001b[34mEpoch: 2, BCELoss: 0.575857268304241\u001b[0m\n",
      "\u001b[34mEpoch: 3, BCELoss: 0.5975121800996819\u001b[0m\n",
      "\u001b[34mEpoch: 4, BCELoss: 0.5146504798713996\u001b[0m\n",
      "\u001b[34mEpoch: 5, BCELoss: 0.4186392767088754\u001b[0m\n",
      "\u001b[34mEpoch: 6, BCELoss: 0.3852632039663743\u001b[0m\n",
      "\u001b[34mEpoch: 7, BCELoss: 0.35100460234953434\u001b[0m\n",
      "\u001b[34mEpoch: 8, BCELoss: 0.3149538107064305\u001b[0m\n",
      "\u001b[34mEpoch: 9, BCELoss: 0.30278307564404544\u001b[0m\n",
      "\u001b[34mEpoch: 10, BCELoss: 0.29424700323416264\u001b[0m\n",
      "\u001b[34m2021-08-02 11:48:27,796 sagemaker-containers INFO     Reporting training SUCCESS\u001b[0m\n",
      "\n",
      "2021-08-02 11:48:39 Uploading - Uploading generated training model\n",
      "2021-08-02 11:48:39 Completed - Training job completed\n",
      "Training seconds: 282\n",
      "Billable seconds: 282\n"
     ]
    }
   ],
   "source": [
    "estimator.fit({'training': input_data})"
   ]
  },
  {
   "cell_type": "markdown",
   "metadata": {},
   "source": [
    "## Step 5: Testing the model\n",
    "\n",
    "As mentioned at the top of this notebook, we will be testing this model by first deploying it and then sending the testing data to the deployed endpoint. We will do this so that we can make sure that the deployed model is working correctly.\n",
    "\n",
    "## Step 6: Deploy the model for testing\n",
    "\n",
    "Now that we have trained our model, we would like to test it to see how it performs. Currently our model takes input of the form `review_length, review[500]` where `review[500]` is a sequence of `500` integers which describe the words present in the review, encoded using `word_dict`. Fortunately for us, SageMaker provides built-in inference code for models with simple inputs such as this.\n",
    "\n",
    "There is one thing that we need to provide, however, and that is a function which loads the saved model. This function must be called `model_fn()` and takes as its only parameter a path to the directory where the model artifacts are stored. This function must also be present in the python file which we specified as the entry point. In our case the model loading function has been provided and so no changes need to be made.\n",
    "\n",
    "**NOTE**: When the built-in inference code is run it must import the `model_fn()` method from the `train.py` file. This is why the training code is wrapped in a main guard ( ie, `if __name__ == '__main__':` )\n",
    "\n",
    "Since we don't need to change anything in the code that was uploaded during training, we can simply deploy the current model as-is.\n",
    "\n",
    "**NOTE:** When deploying a model you are asking SageMaker to launch an compute instance that will wait for data to be sent to it. As a result, this compute instance will continue to run until *you* shut it down. This is important to know since the cost of a deployed endpoint depends on how long it has been running for.\n",
    "\n",
    "In other words **If you are no longer using a deployed endpoint, shut it down!**\n",
    "\n",
    "**TODO:** Deploy the trained model."
   ]
  },
  {
   "cell_type": "code",
   "execution_count": 47,
   "metadata": {},
   "outputs": [
    {
     "name": "stderr",
     "output_type": "stream",
     "text": [
      "Parameter image will be renamed to image_uri in SageMaker Python SDK v2.\n",
      "'create_image_uri' will be deprecated in favor of 'ImageURIProvider' class in SageMaker Python SDK v2.\n",
      "Using already existing model: sagemaker-pytorch-2021-08-02-11-41-18-995\n"
     ]
    },
    {
     "name": "stdout",
     "output_type": "stream",
     "text": [
      "---------------!"
     ]
    }
   ],
   "source": [
    "# TODO: Deploy the trained model\n",
    "predictor = estimator.deploy(initial_instance_count=1, instance_type='ml.m4.xlarge')"
   ]
  },
  {
   "cell_type": "code",
   "execution_count": 48,
   "metadata": {},
   "outputs": [
    {
     "data": {
      "text/plain": [
       "'sagemaker-pytorch-2021-08-02-11-41-18-995'"
      ]
     },
     "execution_count": 48,
     "metadata": {},
     "output_type": "execute_result"
    }
   ],
   "source": [
    "predictor.endpoint"
   ]
  },
  {
   "cell_type": "markdown",
   "metadata": {},
   "source": [
    "## Step 7 - Use the model for testing\n",
    "\n",
    "Once deployed, we can read in the test data and send it off to our deployed model to get some results. Once we collect all of the results we can determine how accurate our model is."
   ]
  },
  {
   "cell_type": "code",
   "execution_count": 49,
   "metadata": {},
   "outputs": [],
   "source": [
    "test_X = pd.concat([pd.DataFrame(test_X_len), pd.DataFrame(test_X)], axis=1)"
   ]
  },
  {
   "cell_type": "code",
   "execution_count": 50,
   "metadata": {},
   "outputs": [],
   "source": [
    "# We split the data into chunks and send each chunk seperately, accumulating the results.\n",
    "\n",
    "def predict(data, rows=512):\n",
    "    split_array = np.array_split(data, int(data.shape[0] / float(rows) + 1))\n",
    "    predictions = np.array([])\n",
    "    for array in split_array:\n",
    "        predictions = np.append(predictions, predictor.predict(array))\n",
    "    \n",
    "    return predictions"
   ]
  },
  {
   "cell_type": "code",
   "execution_count": 51,
   "metadata": {},
   "outputs": [],
   "source": [
    "predictions = predict(test_X.values)\n",
    "predictions = [round(num) for num in predictions]"
   ]
  },
  {
   "cell_type": "code",
   "execution_count": 52,
   "metadata": {},
   "outputs": [
    {
     "data": {
      "text/plain": [
       "0.84432"
      ]
     },
     "execution_count": 52,
     "metadata": {},
     "output_type": "execute_result"
    }
   ],
   "source": [
    "from sklearn.metrics import accuracy_score\n",
    "accuracy_score(test_y, predictions)"
   ]
  },
  {
   "cell_type": "markdown",
   "metadata": {},
   "source": [
    "**Question:** How does this model compare to the XGBoost model you created earlier? Why might these two models perform differently on this dataset? Which do *you* think is better for sentiment analysis?"
   ]
  },
  {
   "cell_type": "markdown",
   "metadata": {},
   "source": [
    "**Answer:**\n",
    "I think this model performs better than the XGBoost model, but both have a nice accuracy"
   ]
  },
  {
   "cell_type": "markdown",
   "metadata": {},
   "source": [
    "### (TODO) More testing\n",
    "\n",
    "We now have a trained model which has been deployed and which we can send processed reviews to and which returns the predicted sentiment. However, ultimately we would like to be able to send our model an unprocessed review. That is, we would like to send the review itself as a string. For example, suppose we wish to send the following review to our model."
   ]
  },
  {
   "cell_type": "code",
   "execution_count": 53,
   "metadata": {},
   "outputs": [],
   "source": [
    "test_review = 'The simplest pleasures in life are the best, and this film is one of them. Combining a rather basic storyline of love and adventure this movie transcends the usual weekend fair with wit and unmitigated charm.'"
   ]
  },
  {
   "cell_type": "markdown",
   "metadata": {},
   "source": [
    "The question we now need to answer is, how do we send this review to our model?\n",
    "\n",
    "Recall in the first section of this notebook we did a bunch of data processing to the IMDb dataset. In particular, we did two specific things to the provided reviews.\n",
    " - Removed any html tags and stemmed the input\n",
    " - Encoded the review as a sequence of integers using `word_dict`\n",
    " \n",
    "In order process the review we will need to repeat these two steps.\n",
    "\n",
    "**TODO**: Using the `review_to_words` and `convert_and_pad` methods from section one, convert `test_review` into a numpy array `test_data` suitable to send to our model. Remember that our model expects input of the form `review_length, review[500]`."
   ]
  },
  {
   "cell_type": "code",
   "execution_count": 54,
   "metadata": {},
   "outputs": [],
   "source": [
    "# TODO: Convert test_review into a form usable by the model and save the results in test_data\n",
    "test_data = review_to_words(test_review)\n",
    "test_data = [np.array(convert_and_pad(word_dict, test_data)[0])]"
   ]
  },
  {
   "cell_type": "markdown",
   "metadata": {},
   "source": [
    "Now that we have processed the review, we can send the resulting array to our model to predict the sentiment of the review."
   ]
  },
  {
   "cell_type": "code",
   "execution_count": 55,
   "metadata": {},
   "outputs": [
    {
     "data": {
      "text/plain": [
       "array(0.69049865, dtype=float32)"
      ]
     },
     "execution_count": 55,
     "metadata": {},
     "output_type": "execute_result"
    }
   ],
   "source": [
    "predictor.predict(test_data)"
   ]
  },
  {
   "cell_type": "markdown",
   "metadata": {},
   "source": [
    "Since the return value of our model is close to `1`, we can be certain that the review we submitted is positive."
   ]
  },
  {
   "cell_type": "markdown",
   "metadata": {},
   "source": [
    "### Delete the endpoint\n",
    "\n",
    "Of course, just like in the XGBoost notebook, once we've deployed an endpoint it continues to run until we tell it to shut down. Since we are done using our endpoint for now, we can delete it."
   ]
  },
  {
   "cell_type": "code",
   "execution_count": 56,
   "metadata": {},
   "outputs": [
    {
     "name": "stderr",
     "output_type": "stream",
     "text": [
      "estimator.delete_endpoint() will be deprecated in SageMaker Python SDK v2. Please use the delete_endpoint() function on your predictor instead.\n"
     ]
    }
   ],
   "source": [
    "estimator.delete_endpoint()"
   ]
  },
  {
   "cell_type": "markdown",
   "metadata": {},
   "source": [
    "## Step 6 (again) - Deploy the model for the web app\n",
    "\n",
    "Now that we know that our model is working, it's time to create some custom inference code so that we can send the model a review which has not been processed and have it determine the sentiment of the review.\n",
    "\n",
    "As we saw above, by default the estimator which we created, when deployed, will use the entry script and directory which we provided when creating the model. However, since we now wish to accept a string as input and our model expects a processed review, we need to write some custom inference code.\n",
    "\n",
    "We will store the code that we write in the `serve` directory. Provided in this directory is the `model.py` file that we used to construct our model, a `utils.py` file which contains the `review_to_words` and `convert_and_pad` pre-processing functions which we used during the initial data processing, and `predict.py`, the file which will contain our custom inference code. Note also that `requirements.txt` is present which will tell SageMaker what Python libraries are required by our custom inference code.\n",
    "\n",
    "When deploying a PyTorch model in SageMaker, you are expected to provide four functions which the SageMaker inference container will use.\n",
    " - `model_fn`: This function is the same function that we used in the training script and it tells SageMaker how to load our model.\n",
    " - `input_fn`: This function receives the raw serialized input that has been sent to the model's endpoint and its job is to de-serialize and make the input available for the inference code.\n",
    " - `output_fn`: This function takes the output of the inference code and its job is to serialize this output and return it to the caller of the model's endpoint.\n",
    " - `predict_fn`: The heart of the inference script, this is where the actual prediction is done and is the function which you will need to complete.\n",
    "\n",
    "For the simple website that we are constructing during this project, the `input_fn` and `output_fn` methods are relatively straightforward. We only require being able to accept a string as input and we expect to return a single value as output. You might imagine though that in a more complex application the input or output may be image data or some other binary data which would require some effort to serialize.\n",
    "\n",
    "### (TODO) Writing inference code\n",
    "\n",
    "Before writing our custom inference code, we will begin by taking a look at the code which has been provided."
   ]
  },
  {
   "cell_type": "code",
   "execution_count": 57,
   "metadata": {},
   "outputs": [
    {
     "name": "stdout",
     "output_type": "stream",
     "text": [
      "\u001b[34mimport\u001b[39;49;00m \u001b[04m\u001b[36margparse\u001b[39;49;00m\r\n",
      "\u001b[34mimport\u001b[39;49;00m \u001b[04m\u001b[36mjson\u001b[39;49;00m\r\n",
      "\u001b[34mimport\u001b[39;49;00m \u001b[04m\u001b[36mos\u001b[39;49;00m\r\n",
      "\u001b[34mimport\u001b[39;49;00m \u001b[04m\u001b[36mpickle\u001b[39;49;00m\r\n",
      "\u001b[34mimport\u001b[39;49;00m \u001b[04m\u001b[36msys\u001b[39;49;00m\r\n",
      "\u001b[34mimport\u001b[39;49;00m \u001b[04m\u001b[36msagemaker_containers\u001b[39;49;00m\r\n",
      "\u001b[34mimport\u001b[39;49;00m \u001b[04m\u001b[36mpandas\u001b[39;49;00m \u001b[34mas\u001b[39;49;00m \u001b[04m\u001b[36mpd\u001b[39;49;00m\r\n",
      "\u001b[34mimport\u001b[39;49;00m \u001b[04m\u001b[36mnumpy\u001b[39;49;00m \u001b[34mas\u001b[39;49;00m \u001b[04m\u001b[36mnp\u001b[39;49;00m\r\n",
      "\u001b[34mimport\u001b[39;49;00m \u001b[04m\u001b[36mtorch\u001b[39;49;00m\r\n",
      "\u001b[34mimport\u001b[39;49;00m \u001b[04m\u001b[36mtorch\u001b[39;49;00m\u001b[04m\u001b[36m.\u001b[39;49;00m\u001b[04m\u001b[36mnn\u001b[39;49;00m \u001b[34mas\u001b[39;49;00m \u001b[04m\u001b[36mnn\u001b[39;49;00m\r\n",
      "\u001b[34mimport\u001b[39;49;00m \u001b[04m\u001b[36mtorch\u001b[39;49;00m\u001b[04m\u001b[36m.\u001b[39;49;00m\u001b[04m\u001b[36moptim\u001b[39;49;00m \u001b[34mas\u001b[39;49;00m \u001b[04m\u001b[36moptim\u001b[39;49;00m\r\n",
      "\u001b[34mimport\u001b[39;49;00m \u001b[04m\u001b[36mtorch\u001b[39;49;00m\u001b[04m\u001b[36m.\u001b[39;49;00m\u001b[04m\u001b[36mutils\u001b[39;49;00m\u001b[04m\u001b[36m.\u001b[39;49;00m\u001b[04m\u001b[36mdata\u001b[39;49;00m\r\n",
      "\r\n",
      "\u001b[34mfrom\u001b[39;49;00m \u001b[04m\u001b[36mmodel\u001b[39;49;00m \u001b[34mimport\u001b[39;49;00m LSTMClassifier\r\n",
      "\r\n",
      "\u001b[34mfrom\u001b[39;49;00m \u001b[04m\u001b[36mutils\u001b[39;49;00m \u001b[34mimport\u001b[39;49;00m review_to_words, convert_and_pad\r\n",
      "\r\n",
      "\u001b[34mdef\u001b[39;49;00m \u001b[32mmodel_fn\u001b[39;49;00m(model_dir):\r\n",
      "    \u001b[33m\"\"\"Load the PyTorch model from the `model_dir` directory.\"\"\"\u001b[39;49;00m\r\n",
      "    \u001b[36mprint\u001b[39;49;00m(\u001b[33m\"\u001b[39;49;00m\u001b[33mLoading model.\u001b[39;49;00m\u001b[33m\"\u001b[39;49;00m)\r\n",
      "\r\n",
      "    \u001b[37m# First, load the parameters used to create the model.\u001b[39;49;00m\r\n",
      "    model_info = {}\r\n",
      "    model_info_path = os.path.join(model_dir, \u001b[33m'\u001b[39;49;00m\u001b[33mmodel_info.pth\u001b[39;49;00m\u001b[33m'\u001b[39;49;00m)\r\n",
      "    \u001b[34mwith\u001b[39;49;00m \u001b[36mopen\u001b[39;49;00m(model_info_path, \u001b[33m'\u001b[39;49;00m\u001b[33mrb\u001b[39;49;00m\u001b[33m'\u001b[39;49;00m) \u001b[34mas\u001b[39;49;00m f:\r\n",
      "        model_info = torch.load(f)\r\n",
      "\r\n",
      "    \u001b[36mprint\u001b[39;49;00m(\u001b[33m\"\u001b[39;49;00m\u001b[33mmodel_info: \u001b[39;49;00m\u001b[33m{}\u001b[39;49;00m\u001b[33m\"\u001b[39;49;00m.format(model_info))\r\n",
      "\r\n",
      "    \u001b[37m# Determine the device and construct the model.\u001b[39;49;00m\r\n",
      "    device = torch.device(\u001b[33m\"\u001b[39;49;00m\u001b[33mcuda\u001b[39;49;00m\u001b[33m\"\u001b[39;49;00m \u001b[34mif\u001b[39;49;00m torch.cuda.is_available() \u001b[34melse\u001b[39;49;00m \u001b[33m\"\u001b[39;49;00m\u001b[33mcpu\u001b[39;49;00m\u001b[33m\"\u001b[39;49;00m)\r\n",
      "    model = LSTMClassifier(model_info[\u001b[33m'\u001b[39;49;00m\u001b[33membedding_dim\u001b[39;49;00m\u001b[33m'\u001b[39;49;00m], model_info[\u001b[33m'\u001b[39;49;00m\u001b[33mhidden_dim\u001b[39;49;00m\u001b[33m'\u001b[39;49;00m], model_info[\u001b[33m'\u001b[39;49;00m\u001b[33mvocab_size\u001b[39;49;00m\u001b[33m'\u001b[39;49;00m])\r\n",
      "\r\n",
      "    \u001b[37m# Load the store model parameters.\u001b[39;49;00m\r\n",
      "    model_path = os.path.join(model_dir, \u001b[33m'\u001b[39;49;00m\u001b[33mmodel.pth\u001b[39;49;00m\u001b[33m'\u001b[39;49;00m)\r\n",
      "    \u001b[34mwith\u001b[39;49;00m \u001b[36mopen\u001b[39;49;00m(model_path, \u001b[33m'\u001b[39;49;00m\u001b[33mrb\u001b[39;49;00m\u001b[33m'\u001b[39;49;00m) \u001b[34mas\u001b[39;49;00m f:\r\n",
      "        model.load_state_dict(torch.load(f))\r\n",
      "\r\n",
      "    \u001b[37m# Load the saved word_dict.\u001b[39;49;00m\r\n",
      "    word_dict_path = os.path.join(model_dir, \u001b[33m'\u001b[39;49;00m\u001b[33mword_dict.pkl\u001b[39;49;00m\u001b[33m'\u001b[39;49;00m)\r\n",
      "    \u001b[34mwith\u001b[39;49;00m \u001b[36mopen\u001b[39;49;00m(word_dict_path, \u001b[33m'\u001b[39;49;00m\u001b[33mrb\u001b[39;49;00m\u001b[33m'\u001b[39;49;00m) \u001b[34mas\u001b[39;49;00m f:\r\n",
      "        model.word_dict = pickle.load(f)\r\n",
      "\r\n",
      "    model.to(device).eval()\r\n",
      "\r\n",
      "    \u001b[36mprint\u001b[39;49;00m(\u001b[33m\"\u001b[39;49;00m\u001b[33mDone loading model.\u001b[39;49;00m\u001b[33m\"\u001b[39;49;00m)\r\n",
      "    \u001b[34mreturn\u001b[39;49;00m model\r\n",
      "\r\n",
      "\u001b[34mdef\u001b[39;49;00m \u001b[32minput_fn\u001b[39;49;00m(serialized_input_data, content_type):\r\n",
      "    \u001b[36mprint\u001b[39;49;00m(\u001b[33m'\u001b[39;49;00m\u001b[33mDeserializing the input data.\u001b[39;49;00m\u001b[33m'\u001b[39;49;00m)\r\n",
      "    \u001b[34mif\u001b[39;49;00m content_type == \u001b[33m'\u001b[39;49;00m\u001b[33mtext/plain\u001b[39;49;00m\u001b[33m'\u001b[39;49;00m:\r\n",
      "        data = serialized_input_data.decode(\u001b[33m'\u001b[39;49;00m\u001b[33mutf-8\u001b[39;49;00m\u001b[33m'\u001b[39;49;00m)\r\n",
      "        \u001b[34mreturn\u001b[39;49;00m data\r\n",
      "    \u001b[34mraise\u001b[39;49;00m \u001b[36mException\u001b[39;49;00m(\u001b[33m'\u001b[39;49;00m\u001b[33mRequested unsupported ContentType in content_type: \u001b[39;49;00m\u001b[33m'\u001b[39;49;00m + content_type)\r\n",
      "\r\n",
      "\u001b[34mdef\u001b[39;49;00m \u001b[32moutput_fn\u001b[39;49;00m(prediction_output, accept):\r\n",
      "    \u001b[36mprint\u001b[39;49;00m(\u001b[33m'\u001b[39;49;00m\u001b[33mSerializing the generated output.\u001b[39;49;00m\u001b[33m'\u001b[39;49;00m)\r\n",
      "    \u001b[34mreturn\u001b[39;49;00m \u001b[36mstr\u001b[39;49;00m(prediction_output)\r\n",
      "\r\n",
      "\u001b[34mdef\u001b[39;49;00m \u001b[32mpredict_fn\u001b[39;49;00m(input_data, model):\r\n",
      "    \u001b[36mprint\u001b[39;49;00m(\u001b[33m'\u001b[39;49;00m\u001b[33mInferring sentiment of input data.\u001b[39;49;00m\u001b[33m'\u001b[39;49;00m)\r\n",
      "\r\n",
      "    device = torch.device(\u001b[33m\"\u001b[39;49;00m\u001b[33mcuda\u001b[39;49;00m\u001b[33m\"\u001b[39;49;00m \u001b[34mif\u001b[39;49;00m torch.cuda.is_available() \u001b[34melse\u001b[39;49;00m \u001b[33m\"\u001b[39;49;00m\u001b[33mcpu\u001b[39;49;00m\u001b[33m\"\u001b[39;49;00m)\r\n",
      "    \r\n",
      "    \u001b[34mif\u001b[39;49;00m model.word_dict \u001b[35mis\u001b[39;49;00m \u001b[34mNone\u001b[39;49;00m:\r\n",
      "        \u001b[34mraise\u001b[39;49;00m \u001b[36mException\u001b[39;49;00m(\u001b[33m'\u001b[39;49;00m\u001b[33mModel has not been loaded properly, no word_dict.\u001b[39;49;00m\u001b[33m'\u001b[39;49;00m)\r\n",
      "    \r\n",
      "    \u001b[37m# TODO: Process input_data so that it is ready to be sent to our model.\u001b[39;49;00m\r\n",
      "    \u001b[37m#       You should produce two variables:\u001b[39;49;00m\r\n",
      "    \u001b[37m#         data_X   - A sequence of length 500 which represents the converted review\u001b[39;49;00m\r\n",
      "    \u001b[37m#         data_len - The length of the review\u001b[39;49;00m\r\n",
      "\r\n",
      "    data_X, data_len = convert_and_pad(model.word_dict, review_to_words(input_data))\r\n",
      "\r\n",
      "    \u001b[37m# Using data_X and data_len we construct an appropriate input tensor. Remember\u001b[39;49;00m\r\n",
      "    \u001b[37m# that our model expects input data of the form 'len, review[500]'.\u001b[39;49;00m\r\n",
      "    data_pack = np.hstack((data_len, data_X))\r\n",
      "    data_pack = data_pack.reshape(\u001b[34m1\u001b[39;49;00m, -\u001b[34m1\u001b[39;49;00m)\r\n",
      "    \r\n",
      "    data = torch.from_numpy(data_pack)\r\n",
      "    data = data.to(device)\r\n",
      "\r\n",
      "    \u001b[37m# Make sure to put the model into evaluation mode\u001b[39;49;00m\r\n",
      "    model.eval()\r\n",
      "\r\n",
      "    \u001b[37m# TODO: Compute the result of applying the model to the input data. The variable `result` should\u001b[39;49;00m\r\n",
      "    \u001b[37m#       be a numpy array which contains a single integer which is either 1 or 0\u001b[39;49;00m\r\n",
      "\r\n",
      "    \u001b[34mwith\u001b[39;49;00m torch.no_grad():\r\n",
      "        output = model.forward(data)\r\n",
      "        \r\n",
      "    result = np.round(output.numpy())\r\n",
      "\r\n",
      "    \u001b[34mreturn\u001b[39;49;00m result\r\n"
     ]
    }
   ],
   "source": [
    "!pygmentize serve/predict.py"
   ]
  },
  {
   "cell_type": "markdown",
   "metadata": {},
   "source": [
    "As mentioned earlier, the `model_fn` method is the same as the one provided in the training code and the `input_fn` and `output_fn` methods are very simple and your task will be to complete the `predict_fn` method. Make sure that you save the completed file as `predict.py` in the `serve` directory.\n",
    "\n",
    "**TODO**: Complete the `predict_fn()` method in the `serve/predict.py` file."
   ]
  },
  {
   "cell_type": "markdown",
   "metadata": {},
   "source": [
    "### Deploying the model\n",
    "\n",
    "Now that the custom inference code has been written, we will create and deploy our model. To begin with, we need to construct a new PyTorchModel object which points to the model artifacts created during training and also points to the inference code that we wish to use. Then we can call the deploy method to launch the deployment container.\n",
    "\n",
    "**NOTE**: The default behaviour for a deployed PyTorch model is to assume that any input passed to the predictor is a `numpy` array. In our case we want to send a string so we need to construct a simple wrapper around the `RealTimePredictor` class to accomodate simple strings. In a more complicated situation you may want to provide a serialization object, for example if you wanted to sent image data."
   ]
  },
  {
   "cell_type": "code",
   "execution_count": 58,
   "metadata": {},
   "outputs": [
    {
     "name": "stderr",
     "output_type": "stream",
     "text": [
      "Parameter image will be renamed to image_uri in SageMaker Python SDK v2.\n",
      "'create_image_uri' will be deprecated in favor of 'ImageURIProvider' class in SageMaker Python SDK v2.\n"
     ]
    },
    {
     "name": "stdout",
     "output_type": "stream",
     "text": [
      "------!"
     ]
    }
   ],
   "source": [
    "from sagemaker.predictor import RealTimePredictor\n",
    "from sagemaker.pytorch import PyTorchModel\n",
    "\n",
    "class StringPredictor(RealTimePredictor):\n",
    "    def __init__(self, endpoint_name, sagemaker_session):\n",
    "        super(StringPredictor, self).__init__(endpoint_name, sagemaker_session, content_type='text/plain')\n",
    "\n",
    "model = PyTorchModel(model_data=estimator.model_data,\n",
    "                     role = role,\n",
    "                     framework_version='0.4.0',\n",
    "                     entry_point='predict.py',\n",
    "                     source_dir='serve',\n",
    "                     predictor_cls=StringPredictor)\n",
    "predictor = model.deploy(initial_instance_count=1, instance_type='ml.m4.xlarge')"
   ]
  },
  {
   "cell_type": "markdown",
   "metadata": {},
   "source": [
    "### Testing the model\n",
    "\n",
    "Now that we have deployed our model with the custom inference code, we should test to see if everything is working. Here we test our model by loading the first `250` positive and negative reviews and send them to the endpoint, then collect the results. The reason for only sending some of the data is that the amount of time it takes for our model to process the input and then perform inference is quite long and so testing the entire data set would be prohibitive."
   ]
  },
  {
   "cell_type": "code",
   "execution_count": 59,
   "metadata": {},
   "outputs": [],
   "source": [
    "import glob\n",
    "\n",
    "def test_reviews(data_dir='../data/aclImdb', stop=250):\n",
    "    \n",
    "    results = []\n",
    "    ground = []\n",
    "    \n",
    "    # We make sure to test both positive and negative reviews    \n",
    "    for sentiment in ['pos', 'neg']:\n",
    "        \n",
    "        path = os.path.join(data_dir, 'test', sentiment, '*.txt')\n",
    "        files = glob.glob(path)\n",
    "        \n",
    "        files_read = 0\n",
    "        \n",
    "        print('Starting ', sentiment, ' files')\n",
    "        \n",
    "        # Iterate through the files and send them to the predictor\n",
    "        for f in files:\n",
    "            with open(f) as review:\n",
    "                # First, we store the ground truth (was the review positive or negative)\n",
    "                if sentiment == 'pos':\n",
    "                    ground.append(1)\n",
    "                else:\n",
    "                    ground.append(0)\n",
    "                # Read in the review and convert to 'utf-8' for transmission via HTTP\n",
    "                review_input = review.read().encode('utf-8')\n",
    "                # Send the review to the predictor and store the results\n",
    "                results.append(float(predictor.predict(review_input)))\n",
    "                \n",
    "            # Sending reviews to our endpoint one at a time takes a while so we\n",
    "            # only send a small number of reviews\n",
    "            files_read += 1\n",
    "            if files_read == stop:\n",
    "                break\n",
    "            \n",
    "    return ground, results"
   ]
  },
  {
   "cell_type": "code",
   "execution_count": 60,
   "metadata": {},
   "outputs": [
    {
     "name": "stdout",
     "output_type": "stream",
     "text": [
      "Starting  pos  files\n",
      "Starting  neg  files\n"
     ]
    }
   ],
   "source": [
    "ground, results = test_reviews()"
   ]
  },
  {
   "cell_type": "code",
   "execution_count": 61,
   "metadata": {},
   "outputs": [
    {
     "data": {
      "text/plain": [
       "0.82"
      ]
     },
     "execution_count": 61,
     "metadata": {},
     "output_type": "execute_result"
    }
   ],
   "source": [
    "from sklearn.metrics import accuracy_score\n",
    "accuracy_score(ground, results)"
   ]
  },
  {
   "cell_type": "markdown",
   "metadata": {},
   "source": [
    "As an additional test, we can try sending the `test_review` that we looked at earlier."
   ]
  },
  {
   "cell_type": "code",
   "execution_count": 62,
   "metadata": {},
   "outputs": [
    {
     "data": {
      "text/plain": [
       "b'1.0'"
      ]
     },
     "execution_count": 62,
     "metadata": {},
     "output_type": "execute_result"
    }
   ],
   "source": [
    "predictor.predict(test_review)"
   ]
  },
  {
   "cell_type": "markdown",
   "metadata": {},
   "source": [
    "Now that we know our endpoint is working as expected, we can set up the web page that will interact with it. If you don't have time to finish the project now, make sure to skip down to the end of this notebook and shut down your endpoint. You can deploy it again when you come back."
   ]
  },
  {
   "cell_type": "markdown",
   "metadata": {},
   "source": [
    "## Step 7 (again): Use the model for the web app\n",
    "\n",
    "> **TODO:** This entire section and the next contain tasks for you to complete, mostly using the AWS console.\n",
    "\n",
    "So far we have been accessing our model endpoint by constructing a predictor object which uses the endpoint and then just using the predictor object to perform inference. What if we wanted to create a web app which accessed our model? The way things are set up currently makes that not possible since in order to access a SageMaker endpoint the app would first have to authenticate with AWS using an IAM role which included access to SageMaker endpoints. However, there is an easier way! We just need to use some additional AWS services.\n",
    "\n",
    "<img src=\"Web App Diagram.svg\">\n",
    "\n",
    "The diagram above gives an overview of how the various services will work together. On the far right is the model which we trained above and which is deployed using SageMaker. On the far left is our web app that collects a user's movie review, sends it off and expects a positive or negative sentiment in return.\n",
    "\n",
    "In the middle is where some of the magic happens. We will construct a Lambda function, which you can think of as a straightforward Python function that can be executed whenever a specified event occurs. We will give this function permission to send and recieve data from a SageMaker endpoint.\n",
    "\n",
    "Lastly, the method we will use to execute the Lambda function is a new endpoint that we will create using API Gateway. This endpoint will be a url that listens for data to be sent to it. Once it gets some data it will pass that data on to the Lambda function and then return whatever the Lambda function returns. Essentially it will act as an interface that lets our web app communicate with the Lambda function.\n",
    "\n",
    "### Setting up a Lambda function\n",
    "\n",
    "The first thing we are going to do is set up a Lambda function. This Lambda function will be executed whenever our public API has data sent to it. When it is executed it will receive the data, perform any sort of processing that is required, send the data (the review) to the SageMaker endpoint we've created and then return the result.\n",
    "\n",
    "#### Part A: Create an IAM Role for the Lambda function\n",
    "\n",
    "Since we want the Lambda function to call a SageMaker endpoint, we need to make sure that it has permission to do so. To do this, we will construct a role that we can later give the Lambda function.\n",
    "\n",
    "Using the AWS Console, navigate to the **IAM** page and click on **Roles**. Then, click on **Create role**. Make sure that the **AWS service** is the type of trusted entity selected and choose **Lambda** as the service that will use this role, then click **Next: Permissions**.\n",
    "\n",
    "In the search box type `sagemaker` and select the check box next to the **AmazonSageMakerFullAccess** policy. Then, click on **Next: Review**.\n",
    "\n",
    "Lastly, give this role a name. Make sure you use a name that you will remember later on, for example `LambdaSageMakerRole`. Then, click on **Create role**.\n",
    "\n",
    "#### Part B: Create a Lambda function\n",
    "\n",
    "Now it is time to actually create the Lambda function.\n",
    "\n",
    "Using the AWS Console, navigate to the AWS Lambda page and click on **Create a function**. When you get to the next page, make sure that **Author from scratch** is selected. Now, name your Lambda function, using a name that you will remember later on, for example `sentiment_analysis_func`. Make sure that the **Python 3.6** runtime is selected and then choose the role that you created in the previous part. Then, click on **Create Function**.\n",
    "\n",
    "On the next page you will see some information about the Lambda function you've just created. If you scroll down you should see an editor in which you can write the code that will be executed when your Lambda function is triggered. In our example, we will use the code below. \n",
    "\n",
    "```python\n",
    "# We need to use the low-level library to interact with SageMaker since the SageMaker API\n",
    "# is not available natively through Lambda.\n",
    "import boto3\n",
    "\n",
    "def lambda_handler(event, context):\n",
    "\n",
    "    # The SageMaker runtime is what allows us to invoke the endpoint that we've created.\n",
    "    runtime = boto3.Session().client('sagemaker-runtime')\n",
    "\n",
    "    # Now we use the SageMaker runtime to invoke our endpoint, sending the review we were given\n",
    "    response = runtime.invoke_endpoint(EndpointName = '**ENDPOINT NAME HERE**',    # The name of the endpoint we created\n",
    "                                       ContentType = 'text/plain',                 # The data format that is expected\n",
    "                                       Body = event['body'])                       # The actual review\n",
    "\n",
    "    # The response is an HTTP response whose body contains the result of our inference\n",
    "    result = response['Body'].read().decode('utf-8')\n",
    "\n",
    "    return {\n",
    "        'statusCode' : 200,\n",
    "        'headers' : { 'Content-Type' : 'text/plain', 'Access-Control-Allow-Origin' : '*' },\n",
    "        'body' : result\n",
    "    }\n",
    "```\n",
    "\n",
    "Once you have copy and pasted the code above into the Lambda code editor, replace the `**ENDPOINT NAME HERE**` portion with the name of the endpoint that we deployed earlier. You can determine the name of the endpoint using the code cell below."
   ]
  },
  {
   "cell_type": "code",
   "execution_count": 63,
   "metadata": {},
   "outputs": [
    {
     "data": {
      "text/plain": [
       "'sagemaker-pytorch-2021-08-02-13-49-53-397'"
      ]
     },
     "execution_count": 63,
     "metadata": {},
     "output_type": "execute_result"
    }
   ],
   "source": [
    "predictor.endpoint"
   ]
  },
  {
   "cell_type": "markdown",
   "metadata": {},
   "source": [
    "Once you have added the endpoint name to the Lambda function, click on **Save**. Your Lambda function is now up and running. Next we need to create a way for our web app to execute the Lambda function.\n",
    "\n",
    "### Setting up API Gateway\n",
    "\n",
    "Now that our Lambda function is set up, it is time to create a new API using API Gateway that will trigger the Lambda function we have just created.\n",
    "\n",
    "Using AWS Console, navigate to **Amazon API Gateway** and then click on **Get started**.\n",
    "\n",
    "On the next page, make sure that **New API** is selected and give the new api a name, for example, `sentiment_analysis_api`. Then, click on **Create API**.\n",
    "\n",
    "Now we have created an API, however it doesn't currently do anything. What we want it to do is to trigger the Lambda function that we created earlier.\n",
    "\n",
    "Select the **Actions** dropdown menu and click **Create Method**. A new blank method will be created, select its dropdown menu and select **POST**, then click on the check mark beside it.\n",
    "\n",
    "For the integration point, make sure that **Lambda Function** is selected and click on the **Use Lambda Proxy integration**. This option makes sure that the data that is sent to the API is then sent directly to the Lambda function with no processing. It also means that the return value must be a proper response object as it will also not be processed by API Gateway.\n",
    "\n",
    "Type the name of the Lambda function you created earlier into the **Lambda Function** text entry box and then click on **Save**. Click on **OK** in the pop-up box that then appears, giving permission to API Gateway to invoke the Lambda function you created.\n",
    "\n",
    "The last step in creating the API Gateway is to select the **Actions** dropdown and click on **Deploy API**. You will need to create a new Deployment stage and name it anything you like, for example `prod`.\n",
    "\n",
    "You have now successfully set up a public API to access your SageMaker model. Make sure to copy or write down the URL provided to invoke your newly created public API as this will be needed in the next step. This URL can be found at the top of the page, highlighted in blue next to the text **Invoke URL**."
   ]
  },
  {
   "cell_type": "markdown",
   "metadata": {},
   "source": [
    "## Step 4: Deploying our web app\n",
    "\n",
    "Now that we have a publicly available API, we can start using it in a web app. For our purposes, we have provided a simple static html file which can make use of the public api you created earlier.\n",
    "\n",
    "In the `website` folder there should be a file called `index.html`. Download the file to your computer and open that file up in a text editor of your choice. There should be a line which contains **\\*\\*REPLACE WITH PUBLIC API URL\\*\\***. Replace this string with the url that you wrote down in the last step and then save the file.\n",
    "\n",
    "Now, if you open `index.html` on your local computer, your browser will behave as a local web server and you can use the provided site to interact with your SageMaker model.\n",
    "\n",
    "If you'd like to go further, you can host this html file anywhere you'd like, for example using github or hosting a static site on Amazon's S3. Once you have done this you can share the link with anyone you'd like and have them play with it too!\n",
    "\n",
    "> **Important Note** In order for the web app to communicate with the SageMaker endpoint, the endpoint has to actually be deployed and running. This means that you are paying for it. Make sure that the endpoint is running when you want to use the web app but that you shut it down when you don't need it, otherwise you will end up with a surprisingly large AWS bill.\n",
    "\n",
    "**TODO:** Make sure that you include the edited `index.html` file in your project submission."
   ]
  },
  {
   "cell_type": "markdown",
   "metadata": {},
   "source": [
    "Now that your web app is working, trying playing around with it and see how well it works.\n",
    "\n",
    "**Question**: Give an example of a review that you entered into your web app. What was the predicted sentiment of your example review?"
   ]
  },
  {
   "cell_type": "markdown",
   "metadata": {},
   "source": [
    "**Answer:**\n",
    "Review: \"I enjoyed and LOVED this film so much!!!!! The story is always unique and fun, the theme about love and support of your child passion and letting them what they want to do, and the effects. I'm loving everything and I mean EVERYTHING about this film.\"\n",
    "Response: \"Positive !\"\n",
    "\n",
    "Review: \"The biggest disappointment ever, if you've seen the trailers you've basically seen the movie.\"\n",
    "Response: \"Negative !\""
   ]
  },
  {
   "cell_type": "markdown",
   "metadata": {},
   "source": [
    "### Delete the endpoint\n",
    "\n",
    "Remember to always shut down your endpoint if you are no longer using it. You are charged for the length of time that the endpoint is running so if you forget and leave it on you could end up with an unexpectedly large bill."
   ]
  },
  {
   "cell_type": "code",
   "execution_count": 64,
   "metadata": {},
   "outputs": [],
   "source": [
    "predictor.delete_endpoint()"
   ]
  },
  {
   "cell_type": "code",
   "execution_count": null,
   "metadata": {},
   "outputs": [],
   "source": []
  }
 ],
 "metadata": {
  "kernelspec": {
   "display_name": "conda_pytorch_p36",
   "language": "python",
   "name": "conda_pytorch_p36"
  },
  "language_info": {
   "codemirror_mode": {
    "name": "ipython",
    "version": 3
   },
   "file_extension": ".py",
   "mimetype": "text/x-python",
   "name": "python",
   "nbconvert_exporter": "python",
   "pygments_lexer": "ipython3",
   "version": "3.6.13"
  }
 },
 "nbformat": 4,
 "nbformat_minor": 2
}
